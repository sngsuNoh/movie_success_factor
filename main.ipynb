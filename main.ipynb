{
 "cells": [
  {
   "cell_type": "markdown",
   "metadata": {},
   "source": [
    "## Movie_Success_Factor\n",
    "###### 영화 및 TV프로그램 데이터베이스 기업인 tmdb의 영화 데이터를 활용했습니다\n",
    "###### 예산 대비 수익이 높은 영화의 특징을 중심으로 분석해 보겠습니다"
   ]
  },
  {
   "cell_type": "markdown",
   "metadata": {},
   "source": [
    "#### EDA"
   ]
  },
  {
   "cell_type": "code",
   "execution_count": 2,
   "metadata": {},
   "outputs": [],
   "source": [
    "import pandas as pd\n",
    "pd.set_option('display.max_rows', 10)\n",
    "pd.set_option('display.max_columns', 10)"
   ]
  },
  {
   "cell_type": "code",
   "execution_count": 3,
   "metadata": {},
   "outputs": [
    {
     "data": {
      "text/html": [
       "<div>\n",
       "<style scoped>\n",
       "    .dataframe tbody tr th:only-of-type {\n",
       "        vertical-align: middle;\n",
       "    }\n",
       "\n",
       "    .dataframe tbody tr th {\n",
       "        vertical-align: top;\n",
       "    }\n",
       "\n",
       "    .dataframe thead th {\n",
       "        text-align: right;\n",
       "    }\n",
       "</style>\n",
       "<table border=\"1\" class=\"dataframe\">\n",
       "  <thead>\n",
       "    <tr style=\"text-align: right;\">\n",
       "      <th></th>\n",
       "      <th>budget</th>\n",
       "      <th>genres</th>\n",
       "      <th>homepage</th>\n",
       "      <th>id</th>\n",
       "      <th>keywords</th>\n",
       "      <th>...</th>\n",
       "      <th>status</th>\n",
       "      <th>tagline</th>\n",
       "      <th>title</th>\n",
       "      <th>vote_average</th>\n",
       "      <th>vote_count</th>\n",
       "    </tr>\n",
       "  </thead>\n",
       "  <tbody>\n",
       "    <tr>\n",
       "      <th>0</th>\n",
       "      <td>237000000</td>\n",
       "      <td>[{\"id\": 28, \"name\": \"Action\"}, {\"id\": 12, \"nam...</td>\n",
       "      <td>http://www.avatarmovie.com/</td>\n",
       "      <td>19995</td>\n",
       "      <td>[{\"id\": 1463, \"name\": \"culture clash\"}, {\"id\":...</td>\n",
       "      <td>...</td>\n",
       "      <td>Released</td>\n",
       "      <td>Enter the World of Pandora.</td>\n",
       "      <td>Avatar</td>\n",
       "      <td>7.2</td>\n",
       "      <td>11800</td>\n",
       "    </tr>\n",
       "    <tr>\n",
       "      <th>1</th>\n",
       "      <td>300000000</td>\n",
       "      <td>[{\"id\": 12, \"name\": \"Adventure\"}, {\"id\": 14, \"...</td>\n",
       "      <td>http://disney.go.com/disneypictures/pirates/</td>\n",
       "      <td>285</td>\n",
       "      <td>[{\"id\": 270, \"name\": \"ocean\"}, {\"id\": 726, \"na...</td>\n",
       "      <td>...</td>\n",
       "      <td>Released</td>\n",
       "      <td>At the end of the world, the adventure begins.</td>\n",
       "      <td>Pirates of the Caribbean: At World's End</td>\n",
       "      <td>6.9</td>\n",
       "      <td>4500</td>\n",
       "    </tr>\n",
       "  </tbody>\n",
       "</table>\n",
       "<p>2 rows × 20 columns</p>\n",
       "</div>"
      ],
      "text/plain": [
       "      budget                                             genres  \\\n",
       "0  237000000  [{\"id\": 28, \"name\": \"Action\"}, {\"id\": 12, \"nam...   \n",
       "1  300000000  [{\"id\": 12, \"name\": \"Adventure\"}, {\"id\": 14, \"...   \n",
       "\n",
       "                                       homepage     id  \\\n",
       "0                   http://www.avatarmovie.com/  19995   \n",
       "1  http://disney.go.com/disneypictures/pirates/    285   \n",
       "\n",
       "                                            keywords  ...    status  \\\n",
       "0  [{\"id\": 1463, \"name\": \"culture clash\"}, {\"id\":...  ...  Released   \n",
       "1  [{\"id\": 270, \"name\": \"ocean\"}, {\"id\": 726, \"na...  ...  Released   \n",
       "\n",
       "                                          tagline  \\\n",
       "0                     Enter the World of Pandora.   \n",
       "1  At the end of the world, the adventure begins.   \n",
       "\n",
       "                                      title  vote_average vote_count  \n",
       "0                                    Avatar           7.2      11800  \n",
       "1  Pirates of the Caribbean: At World's End           6.9       4500  \n",
       "\n",
       "[2 rows x 20 columns]"
      ]
     },
     "execution_count": 3,
     "metadata": {},
     "output_type": "execute_result"
    }
   ],
   "source": [
    "movies = pd.read_csv('tmdb_5000_movies.csv')\n",
    "movies.head(2)"
   ]
  },
  {
   "cell_type": "code",
   "execution_count": 4,
   "metadata": {},
   "outputs": [
    {
     "data": {
      "text/html": [
       "<div>\n",
       "<style scoped>\n",
       "    .dataframe tbody tr th:only-of-type {\n",
       "        vertical-align: middle;\n",
       "    }\n",
       "\n",
       "    .dataframe tbody tr th {\n",
       "        vertical-align: top;\n",
       "    }\n",
       "\n",
       "    .dataframe thead th {\n",
       "        text-align: right;\n",
       "    }\n",
       "</style>\n",
       "<table border=\"1\" class=\"dataframe\">\n",
       "  <thead>\n",
       "    <tr style=\"text-align: right;\">\n",
       "      <th></th>\n",
       "      <th>movie_id</th>\n",
       "      <th>title</th>\n",
       "      <th>cast</th>\n",
       "      <th>crew</th>\n",
       "    </tr>\n",
       "  </thead>\n",
       "  <tbody>\n",
       "    <tr>\n",
       "      <th>0</th>\n",
       "      <td>19995</td>\n",
       "      <td>Avatar</td>\n",
       "      <td>[{\"cast_id\": 242, \"character\": \"Jake Sully\", \"...</td>\n",
       "      <td>[{\"credit_id\": \"52fe48009251416c750aca23\", \"de...</td>\n",
       "    </tr>\n",
       "    <tr>\n",
       "      <th>1</th>\n",
       "      <td>285</td>\n",
       "      <td>Pirates of the Caribbean: At World's End</td>\n",
       "      <td>[{\"cast_id\": 4, \"character\": \"Captain Jack Spa...</td>\n",
       "      <td>[{\"credit_id\": \"52fe4232c3a36847f800b579\", \"de...</td>\n",
       "    </tr>\n",
       "  </tbody>\n",
       "</table>\n",
       "</div>"
      ],
      "text/plain": [
       "   movie_id                                     title  \\\n",
       "0     19995                                    Avatar   \n",
       "1       285  Pirates of the Caribbean: At World's End   \n",
       "\n",
       "                                                cast  \\\n",
       "0  [{\"cast_id\": 242, \"character\": \"Jake Sully\", \"...   \n",
       "1  [{\"cast_id\": 4, \"character\": \"Captain Jack Spa...   \n",
       "\n",
       "                                                crew  \n",
       "0  [{\"credit_id\": \"52fe48009251416c750aca23\", \"de...  \n",
       "1  [{\"credit_id\": \"52fe4232c3a36847f800b579\", \"de...  "
      ]
     },
     "execution_count": 4,
     "metadata": {},
     "output_type": "execute_result"
    }
   ],
   "source": [
    "credits = pd.read_csv('tmdb_5000_credits.csv')\n",
    "credits.head(2)"
   ]
  },
  {
   "cell_type": "code",
   "execution_count": 5,
   "metadata": {},
   "outputs": [
    {
     "name": "stdout",
     "output_type": "stream",
     "text": [
      "<class 'pandas.core.frame.DataFrame'>\n",
      "RangeIndex: 4803 entries, 0 to 4802\n",
      "Data columns (total 20 columns):\n",
      " #   Column                Non-Null Count  Dtype  \n",
      "---  ------                --------------  -----  \n",
      " 0   budget                4803 non-null   int64  \n",
      " 1   genres                4803 non-null   object \n",
      " 2   homepage              1712 non-null   object \n",
      " 3   id                    4803 non-null   int64  \n",
      " 4   keywords              4803 non-null   object \n",
      " 5   original_language     4803 non-null   object \n",
      " 6   original_title        4803 non-null   object \n",
      " 7   overview              4800 non-null   object \n",
      " 8   popularity            4803 non-null   float64\n",
      " 9   production_companies  4803 non-null   object \n",
      " 10  production_countries  4803 non-null   object \n",
      " 11  release_date          4802 non-null   object \n",
      " 12  revenue               4803 non-null   int64  \n",
      " 13  runtime               4801 non-null   float64\n",
      " 14  spoken_languages      4803 non-null   object \n",
      " 15  status                4803 non-null   object \n",
      " 16  tagline               3959 non-null   object \n",
      " 17  title                 4803 non-null   object \n",
      " 18  vote_average          4803 non-null   float64\n",
      " 19  vote_count            4803 non-null   int64  \n",
      "dtypes: float64(3), int64(4), object(13)\n",
      "memory usage: 750.6+ KB\n"
     ]
    }
   ],
   "source": [
    "movies.info()"
   ]
  },
  {
   "cell_type": "code",
   "execution_count": 6,
   "metadata": {},
   "outputs": [
    {
     "name": "stdout",
     "output_type": "stream",
     "text": [
      "<class 'pandas.core.frame.DataFrame'>\n",
      "RangeIndex: 4803 entries, 0 to 4802\n",
      "Data columns (total 4 columns):\n",
      " #   Column    Non-Null Count  Dtype \n",
      "---  ------    --------------  ----- \n",
      " 0   movie_id  4803 non-null   int64 \n",
      " 1   title     4803 non-null   object\n",
      " 2   cast      4803 non-null   object\n",
      " 3   crew      4803 non-null   object\n",
      "dtypes: int64(1), object(3)\n",
      "memory usage: 150.2+ KB\n"
     ]
    }
   ],
   "source": [
    "credits.info()"
   ]
  },
  {
   "cell_type": "markdown",
   "metadata": {},
   "source": [
    "#### Preprocessing"
   ]
  },
  {
   "cell_type": "code",
   "execution_count": 7,
   "metadata": {},
   "outputs": [],
   "source": [
    "og_movies = movies.copy()\n",
    "og_credits = credits.copy()\n",
    "movies = movies[['id', 'budget', 'genres', 'title', 'release_date', 'revenue', 'vote_average', 'vote_count']]\n",
    "credits = credits[['movie_id', 'crew', 'cast']]"
   ]
  },
  {
   "cell_type": "code",
   "execution_count": 8,
   "metadata": {},
   "outputs": [
    {
     "data": {
      "text/html": [
       "<div>\n",
       "<style scoped>\n",
       "    .dataframe tbody tr th:only-of-type {\n",
       "        vertical-align: middle;\n",
       "    }\n",
       "\n",
       "    .dataframe tbody tr th {\n",
       "        vertical-align: top;\n",
       "    }\n",
       "\n",
       "    .dataframe thead th {\n",
       "        text-align: right;\n",
       "    }\n",
       "</style>\n",
       "<table border=\"1\" class=\"dataframe\">\n",
       "  <thead>\n",
       "    <tr style=\"text-align: right;\">\n",
       "      <th></th>\n",
       "      <th>id</th>\n",
       "      <th>budget</th>\n",
       "      <th>genres</th>\n",
       "      <th>title</th>\n",
       "      <th>release_date</th>\n",
       "      <th>revenue</th>\n",
       "      <th>vote_average</th>\n",
       "      <th>vote_count</th>\n",
       "      <th>crew</th>\n",
       "      <th>cast</th>\n",
       "    </tr>\n",
       "  </thead>\n",
       "  <tbody>\n",
       "    <tr>\n",
       "      <th>0</th>\n",
       "      <td>19995</td>\n",
       "      <td>237000000</td>\n",
       "      <td>[{\"id\": 28, \"name\": \"Action\"}, {\"id\": 12, \"nam...</td>\n",
       "      <td>Avatar</td>\n",
       "      <td>2009-12-10</td>\n",
       "      <td>2787965087</td>\n",
       "      <td>7.2</td>\n",
       "      <td>11800</td>\n",
       "      <td>[{\"credit_id\": \"52fe48009251416c750aca23\", \"de...</td>\n",
       "      <td>[{\"cast_id\": 242, \"character\": \"Jake Sully\", \"...</td>\n",
       "    </tr>\n",
       "    <tr>\n",
       "      <th>1</th>\n",
       "      <td>285</td>\n",
       "      <td>300000000</td>\n",
       "      <td>[{\"id\": 12, \"name\": \"Adventure\"}, {\"id\": 14, \"...</td>\n",
       "      <td>Pirates of the Caribbean: At World's End</td>\n",
       "      <td>2007-05-19</td>\n",
       "      <td>961000000</td>\n",
       "      <td>6.9</td>\n",
       "      <td>4500</td>\n",
       "      <td>[{\"credit_id\": \"52fe4232c3a36847f800b579\", \"de...</td>\n",
       "      <td>[{\"cast_id\": 4, \"character\": \"Captain Jack Spa...</td>\n",
       "    </tr>\n",
       "  </tbody>\n",
       "</table>\n",
       "</div>"
      ],
      "text/plain": [
       "      id     budget                                             genres  \\\n",
       "0  19995  237000000  [{\"id\": 28, \"name\": \"Action\"}, {\"id\": 12, \"nam...   \n",
       "1    285  300000000  [{\"id\": 12, \"name\": \"Adventure\"}, {\"id\": 14, \"...   \n",
       "\n",
       "                                      title release_date     revenue  \\\n",
       "0                                    Avatar   2009-12-10  2787965087   \n",
       "1  Pirates of the Caribbean: At World's End   2007-05-19   961000000   \n",
       "\n",
       "   vote_average  vote_count  \\\n",
       "0           7.2       11800   \n",
       "1           6.9        4500   \n",
       "\n",
       "                                                crew  \\\n",
       "0  [{\"credit_id\": \"52fe48009251416c750aca23\", \"de...   \n",
       "1  [{\"credit_id\": \"52fe4232c3a36847f800b579\", \"de...   \n",
       "\n",
       "                                                cast  \n",
       "0  [{\"cast_id\": 242, \"character\": \"Jake Sully\", \"...  \n",
       "1  [{\"cast_id\": 4, \"character\": \"Captain Jack Spa...  "
      ]
     },
     "execution_count": 8,
     "metadata": {},
     "output_type": "execute_result"
    }
   ],
   "source": [
    "# movies와 credits 데이터를 한 dataframe에서 보기 위해 movies.id = credits.movie_id로 join\n",
    "df = pd.merge(movies, credits, left_on='id', right_on='movie_id').drop('movie_id', axis=1)\n",
    "df.head(2)"
   ]
  },
  {
   "cell_type": "code",
   "execution_count": 9,
   "metadata": {},
   "outputs": [
    {
     "data": {
      "text/html": [
       "<div>\n",
       "<style scoped>\n",
       "    .dataframe tbody tr th:only-of-type {\n",
       "        vertical-align: middle;\n",
       "    }\n",
       "\n",
       "    .dataframe tbody tr th {\n",
       "        vertical-align: top;\n",
       "    }\n",
       "\n",
       "    .dataframe thead th {\n",
       "        text-align: right;\n",
       "    }\n",
       "</style>\n",
       "<table border=\"1\" class=\"dataframe\">\n",
       "  <thead>\n",
       "    <tr style=\"text-align: right;\">\n",
       "      <th></th>\n",
       "      <th>id</th>\n",
       "      <th>budget</th>\n",
       "      <th>genres</th>\n",
       "      <th>title</th>\n",
       "      <th>release_date</th>\n",
       "      <th>...</th>\n",
       "      <th>vote_average</th>\n",
       "      <th>vote_count</th>\n",
       "      <th>crew</th>\n",
       "      <th>cast</th>\n",
       "      <th>roi</th>\n",
       "    </tr>\n",
       "  </thead>\n",
       "  <tbody>\n",
       "    <tr>\n",
       "      <th>0</th>\n",
       "      <td>19995</td>\n",
       "      <td>237000000</td>\n",
       "      <td>[{\"id\": 28, \"name\": \"Action\"}, {\"id\": 12, \"nam...</td>\n",
       "      <td>Avatar</td>\n",
       "      <td>2009-12-10</td>\n",
       "      <td>...</td>\n",
       "      <td>7.2</td>\n",
       "      <td>11800</td>\n",
       "      <td>[{\"credit_id\": \"52fe48009251416c750aca23\", \"de...</td>\n",
       "      <td>[{\"cast_id\": 242, \"character\": \"Jake Sully\", \"...</td>\n",
       "      <td>11.763566</td>\n",
       "    </tr>\n",
       "    <tr>\n",
       "      <th>1</th>\n",
       "      <td>285</td>\n",
       "      <td>300000000</td>\n",
       "      <td>[{\"id\": 12, \"name\": \"Adventure\"}, {\"id\": 14, \"...</td>\n",
       "      <td>Pirates of the Caribbean: At World's End</td>\n",
       "      <td>2007-05-19</td>\n",
       "      <td>...</td>\n",
       "      <td>6.9</td>\n",
       "      <td>4500</td>\n",
       "      <td>[{\"credit_id\": \"52fe4232c3a36847f800b579\", \"de...</td>\n",
       "      <td>[{\"cast_id\": 4, \"character\": \"Captain Jack Spa...</td>\n",
       "      <td>3.203333</td>\n",
       "    </tr>\n",
       "  </tbody>\n",
       "</table>\n",
       "<p>2 rows × 11 columns</p>\n",
       "</div>"
      ],
      "text/plain": [
       "      id     budget                                             genres  \\\n",
       "0  19995  237000000  [{\"id\": 28, \"name\": \"Action\"}, {\"id\": 12, \"nam...   \n",
       "1    285  300000000  [{\"id\": 12, \"name\": \"Adventure\"}, {\"id\": 14, \"...   \n",
       "\n",
       "                                      title release_date  ...  vote_average  \\\n",
       "0                                    Avatar   2009-12-10  ...           7.2   \n",
       "1  Pirates of the Caribbean: At World's End   2007-05-19  ...           6.9   \n",
       "\n",
       "   vote_count                                               crew  \\\n",
       "0       11800  [{\"credit_id\": \"52fe48009251416c750aca23\", \"de...   \n",
       "1        4500  [{\"credit_id\": \"52fe4232c3a36847f800b579\", \"de...   \n",
       "\n",
       "                                                cast        roi  \n",
       "0  [{\"cast_id\": 242, \"character\": \"Jake Sully\", \"...  11.763566  \n",
       "1  [{\"cast_id\": 4, \"character\": \"Captain Jack Spa...   3.203333  \n",
       "\n",
       "[2 rows x 11 columns]"
      ]
     },
     "execution_count": 9,
     "metadata": {},
     "output_type": "execute_result"
    }
   ],
   "source": [
    "# 영화 수익률을 보기 위해 roi 컬럼을 추가\n",
    "df['roi'] = df['revenue'] / df['budget']\n",
    "df.head(2)"
   ]
  },
  {
   "cell_type": "code",
   "execution_count": 10,
   "metadata": {},
   "outputs": [
    {
     "data": {
      "text/plain": [
       "'[{\"credit_id\": \"52fe48009251416c750aca23\", \"department\": \"Editing\", \"gender\": 0, \"id\": 1721, \"job\": \"Editor\", \"name\": \"Stephen E. Rivkin\"}, {\"credit_id\": \"539c47ecc3a36810e3001f87\", \"department\": \"Art\", \"gender\": 2, \"id\": 496, \"job\": \"Production Design\", \"name\": \"Rick Carter\"}, {\"credit_id\": \"54491c89c3a3680fb4001cf7\", \"department\": \"Sound\", \"gender\": 0, \"id\": 900, \"job\": \"Sound Designer\", \"name\": \"Christopher Boyes\"}, {\"credit_id\": \"54491cb70e0a267480001bd0\", \"department\": \"Sound\", \"gender\": 0, \"id\": 900, \"job\": \"Supervising Sound Editor\", \"name\": \"Christopher Boyes\"}, {\"credit_id\": \"539c4a4cc3a36810c9002101\", \"department\": \"Production\", \"gender\": 1, \"id\": 1262, \"job\": \"Casting\", \"name\": \"Mali Finn\"}, {\"credit_id\": \"5544ee3b925141499f0008fc\", \"department\": \"Sound\", \"gender\": 2, \"id\": 1729, \"job\": \"Original Music Composer\", \"name\": \"James Horner\"}, {\"credit_id\": \"52fe48009251416c750ac9c3\", \"department\": \"Directing\", \"gender\": 2, \"id\": 2710, \"job\": \"Director\", \"name\": \"James Cameron\"}, {\"credit_id\": \"52fe48009251416c750ac9d9\", \"department\": \"Writing\", \"gender\": 2, \"id\": 2710, \"job\": \"Writer\", \"name\": \"James Cameron\"}, {\"credit_id\": \"52fe48009251416c750aca17\", \"department\": \"Editing\", \"gender\": 2, \"id\": 2710, \"job\": \"Editor\", \"name\": \"James Cameron\"}, {\"credit_id\": \"52fe48009251416c750aca29\", \"department\": \"Production\", \"gender\": 2, \"id\": 2710, \"job\": \"Producer\", \"name\": \"James Cameron\"}, {\"credit_id\": \"52fe48009251416c750aca3f\", \"department\": \"Writing\", \"gender\": 2, \"id\": 2710, \"job\": \"Screenplay\", \"name\": \"James Cameron\"}, {\"credit_id\": \"539c4987c3a36810ba0021a4\", \"department\": \"Art\", \"gender\": 2, \"id\": 7236, \"job\": \"Art Direction\", \"name\": \"Andrew Menzies\"}, {\"credit_id\": \"549598c3c3a3686ae9004383\", \"department\": \"Visual Effects\", \"gender\": 0, \"id\": 6690, \"job\": \"Visual Effects Producer\", \"name\": \"Jill Brooks\"}, {\"credit_id\": \"52fe48009251416c750aca4b\", \"department\": \"Production\", \"gender\": 1, \"id\": 6347, \"job\": \"Casting\", \"name\": \"Margery Simkin\"}, {\"credit_id\": \"570b6f419251417da70032fe\", \"department\": \"Art\", \"gender\": 2, \"id\": 6878, \"job\": \"Supervising Art Director\", \"name\": \"Kevin Ishioka\"}, {\"credit_id\": \"5495a0fac3a3686ae9004468\", \"department\": \"Sound\", \"gender\": 0, \"id\": 6883, \"job\": \"Music Editor\", \"name\": \"Dick Bernstein\"}, {\"credit_id\": \"54959706c3a3686af3003e81\", \"department\": \"Sound\", \"gender\": 0, \"id\": 8159, \"job\": \"Sound Effects Editor\", \"name\": \"Shannon Mills\"}, {\"credit_id\": \"54491d58c3a3680fb1001ccb\", \"department\": \"Sound\", \"gender\": 0, \"id\": 8160, \"job\": \"Foley\", \"name\": \"Dennie Thorpe\"}, {\"credit_id\": \"54491d6cc3a3680fa5001b2c\", \"department\": \"Sound\", \"gender\": 0, \"id\": 8163, \"job\": \"Foley\", \"name\": \"Jana Vance\"}, {\"credit_id\": \"52fe48009251416c750aca57\", \"department\": \"Costume & Make-Up\", \"gender\": 1, \"id\": 8527, \"job\": \"Costume Design\", \"name\": \"Deborah Lynn Scott\"}, {\"credit_id\": \"52fe48009251416c750aca2f\", \"department\": \"Production\", \"gender\": 2, \"id\": 8529, \"job\": \"Producer\", \"name\": \"Jon Landau\"}, {\"credit_id\": \"539c4937c3a36810ba002194\", \"department\": \"Art\", \"gender\": 0, \"id\": 9618, \"job\": \"Art Direction\", \"name\": \"Sean Haworth\"}, {\"credit_id\": \"539c49b6c3a36810c10020e6\", \"department\": \"Art\", \"gender\": 1, \"id\": 12653, \"job\": \"Set Decoration\", \"name\": \"Kim Sinclair\"}, {\"credit_id\": \"570b6f2f9251413a0e00020d\", \"department\": \"Art\", \"gender\": 1, \"id\": 12653, \"job\": \"Supervising Art Director\", \"name\": \"Kim Sinclair\"}, {\"credit_id\": \"54491a6c0e0a26748c001b19\", \"department\": \"Art\", \"gender\": 2, \"id\": 14350, \"job\": \"Set Designer\", \"name\": \"Richard F. Mays\"}, {\"credit_id\": \"56928cf4c3a3684cff0025c4\", \"department\": \"Production\", \"gender\": 1, \"id\": 20294, \"job\": \"Executive Producer\", \"name\": \"Laeta Kalogridis\"}, {\"credit_id\": \"52fe48009251416c750aca51\", \"department\": \"Costume & Make-Up\", \"gender\": 0, \"id\": 17675, \"job\": \"Costume Design\", \"name\": \"Mayes C. Rubeo\"}, {\"credit_id\": \"52fe48009251416c750aca11\", \"department\": \"Camera\", \"gender\": 2, \"id\": 18265, \"job\": \"Director of Photography\", \"name\": \"Mauro Fiore\"}, {\"credit_id\": \"5449194d0e0a26748f001b39\", \"department\": \"Art\", \"gender\": 0, \"id\": 42281, \"job\": \"Set Designer\", \"name\": \"Scott Herbertson\"}, {\"credit_id\": \"52fe48009251416c750aca05\", \"department\": \"Crew\", \"gender\": 0, \"id\": 42288, \"job\": \"Stunts\", \"name\": \"Woody Schultz\"}, {\"credit_id\": \"5592aefb92514152de0010f5\", \"department\": \"Costume & Make-Up\", \"gender\": 0, \"id\": 29067, \"job\": \"Makeup Artist\", \"name\": \"Linda DeVetta\"}, {\"credit_id\": \"5592afa492514152de00112c\", \"department\": \"Costume & Make-Up\", \"gender\": 0, \"id\": 29067, \"job\": \"Hairstylist\", \"name\": \"Linda DeVetta\"}, {\"credit_id\": \"54959ed592514130fc002e5d\", \"department\": \"Camera\", \"gender\": 2, \"id\": 33302, \"job\": \"Camera Operator\", \"name\": \"Richard Bluck\"}, {\"credit_id\": \"539c4891c3a36810ba002147\", \"department\": \"Art\", \"gender\": 2, \"id\": 33303, \"job\": \"Art Direction\", \"name\": \"Simon Bright\"}, {\"credit_id\": \"54959c069251417a81001f3a\", \"department\": \"Visual Effects\", \"gender\": 0, \"id\": 113145, \"job\": \"Visual Effects Supervisor\", \"name\": \"Richard Martin\"}, {\"credit_id\": \"54959a0dc3a3680ff5002c8d\", \"department\": \"Crew\", \"gender\": 2, \"id\": 58188, \"job\": \"Visual Effects Editor\", \"name\": \"Steve R. Moore\"}, {\"credit_id\": \"52fe48009251416c750aca1d\", \"department\": \"Editing\", \"gender\": 2, \"id\": 58871, \"job\": \"Editor\", \"name\": \"John Refoua\"}, {\"credit_id\": \"54491a4dc3a3680fc30018ca\", \"department\": \"Art\", \"gender\": 0, \"id\": 92359, \"job\": \"Set Designer\", \"name\": \"Karl J. Martin\"}, {\"credit_id\": \"52fe48009251416c750aca35\", \"department\": \"Camera\", \"gender\": 1, \"id\": 72201, \"job\": \"Director of Photography\", \"name\": \"Chiling Lin\"}, {\"credit_id\": \"52fe48009251416c750ac9ff\", \"department\": \"Crew\", \"gender\": 0, \"id\": 89714, \"job\": \"Stunts\", \"name\": \"Ilram Choi\"}, {\"credit_id\": \"54959c529251416e2b004394\", \"department\": \"Visual Effects\", \"gender\": 2, \"id\": 93214, \"job\": \"Visual Effects Supervisor\", \"name\": \"Steven Quale\"}, {\"credit_id\": \"54491edf0e0a267489001c37\", \"department\": \"Crew\", \"gender\": 1, \"id\": 122607, \"job\": \"Dialect Coach\", \"name\": \"Carla Meyer\"}, {\"credit_id\": \"539c485bc3a368653d001a3a\", \"department\": \"Art\", \"gender\": 2, \"id\": 132585, \"job\": \"Art Direction\", \"name\": \"Nick Bassett\"}, {\"credit_id\": \"539c4903c3a368653d001a74\", \"department\": \"Art\", \"gender\": 0, \"id\": 132596, \"job\": \"Art Direction\", \"name\": \"Jill Cormack\"}, {\"credit_id\": \"539c4967c3a368653d001a94\", \"department\": \"Art\", \"gender\": 0, \"id\": 132604, \"job\": \"Art Direction\", \"name\": \"Andy McLaren\"}, {\"credit_id\": \"52fe48009251416c750aca45\", \"department\": \"Crew\", \"gender\": 0, \"id\": 236696, \"job\": \"Motion Capture Artist\", \"name\": \"Terry Notary\"}, {\"credit_id\": \"54959e02c3a3680fc60027d2\", \"department\": \"Crew\", \"gender\": 2, \"id\": 956198, \"job\": \"Stunt Coordinator\", \"name\": \"Garrett Warren\"}, {\"credit_id\": \"54959ca3c3a3686ae300438c\", \"department\": \"Visual Effects\", \"gender\": 2, \"id\": 957874, \"job\": \"Visual Effects Supervisor\", \"name\": \"Jonathan Rothbart\"}, {\"credit_id\": \"570b6f519251412c74001b2f\", \"department\": \"Art\", \"gender\": 0, \"id\": 957889, \"job\": \"Supervising Art Director\", \"name\": \"Stefan Dechant\"}, {\"credit_id\": \"570b6f62c3a3680b77007460\", \"department\": \"Art\", \"gender\": 2, \"id\": 959555, \"job\": \"Supervising Art Director\", \"name\": \"Todd Cherniawsky\"}, {\"credit_id\": \"539c4a3ac3a36810da0021cc\", \"department\": \"Production\", \"gender\": 0, \"id\": 1016177, \"job\": \"Casting\", \"name\": \"Miranda Rivers\"}, {\"credit_id\": \"539c482cc3a36810c1002062\", \"department\": \"Art\", \"gender\": 0, \"id\": 1032536, \"job\": \"Production Design\", \"name\": \"Robert Stromberg\"}, {\"credit_id\": \"539c4b65c3a36810c9002125\", \"department\": \"Costume & Make-Up\", \"gender\": 2, \"id\": 1071680, \"job\": \"Costume Design\", \"name\": \"John Harding\"}, {\"credit_id\": \"54959e6692514130fc002e4e\", \"department\": \"Camera\", \"gender\": 0, \"id\": 1177364, \"job\": \"Steadicam Operator\", \"name\": \"Roberto De Angelis\"}, {\"credit_id\": \"539c49f1c3a368653d001aac\", \"department\": \"Costume & Make-Up\", \"gender\": 2, \"id\": 1202850, \"job\": \"Makeup Department Head\", \"name\": \"Mike Smithson\"}, {\"credit_id\": \"5495999ec3a3686ae100460c\", \"department\": \"Visual Effects\", \"gender\": 0, \"id\": 1204668, \"job\": \"Visual Effects Producer\", \"name\": \"Alain Lalanne\"}, {\"credit_id\": \"54959cdfc3a3681153002729\", \"department\": \"Visual Effects\", \"gender\": 0, \"id\": 1206410, \"job\": \"Visual Effects Supervisor\", \"name\": \"Lucas Salton\"}, {\"credit_id\": \"549596239251417a81001eae\", \"department\": \"Crew\", \"gender\": 0, \"id\": 1234266, \"job\": \"Post Production Supervisor\", \"name\": \"Janace Tashjian\"}, {\"credit_id\": \"54959c859251416e1e003efe\", \"department\": \"Visual Effects\", \"gender\": 0, \"id\": 1271932, \"job\": \"Visual Effects Supervisor\", \"name\": \"Stephen Rosenbaum\"}, {\"credit_id\": \"5592af28c3a368775a00105f\", \"department\": \"Costume & Make-Up\", \"gender\": 0, \"id\": 1310064, \"job\": \"Makeup Artist\", \"name\": \"Frankie Karena\"}, {\"credit_id\": \"539c4adfc3a36810e300203b\", \"department\": \"Costume & Make-Up\", \"gender\": 1, \"id\": 1319844, \"job\": \"Costume Supervisor\", \"name\": \"Lisa Lovaas\"}, {\"credit_id\": \"54959b579251416e2b004371\", \"department\": \"Visual Effects\", \"gender\": 0, \"id\": 1327028, \"job\": \"Visual Effects Supervisor\", \"name\": \"Jonathan Fawkner\"}, {\"credit_id\": \"539c48a7c3a36810b5001fa7\", \"department\": \"Art\", \"gender\": 0, \"id\": 1330561, \"job\": \"Art Direction\", \"name\": \"Robert Bavin\"}, {\"credit_id\": \"539c4a71c3a36810da0021e0\", \"department\": \"Costume & Make-Up\", \"gender\": 0, \"id\": 1330567, \"job\": \"Costume Supervisor\", \"name\": \"Anthony Almaraz\"}, {\"credit_id\": \"539c4a8ac3a36810ba0021e4\", \"department\": \"Costume & Make-Up\", \"gender\": 0, \"id\": 1330570, \"job\": \"Costume Supervisor\", \"name\": \"Carolyn M. Fenton\"}, {\"credit_id\": \"539c4ab6c3a36810da0021f0\", \"department\": \"Costume & Make-Up\", \"gender\": 0, \"id\": 1330574, \"job\": \"Costume Supervisor\", \"name\": \"Beth Koenigsberg\"}, {\"credit_id\": \"54491ab70e0a267480001ba2\", \"department\": \"Art\", \"gender\": 0, \"id\": 1336191, \"job\": \"Set Designer\", \"name\": \"Sam Page\"}, {\"credit_id\": \"544919d9c3a3680fc30018bd\", \"department\": \"Art\", \"gender\": 0, \"id\": 1339441, \"job\": \"Set Designer\", \"name\": \"Tex Kadonaga\"}, {\"credit_id\": \"54491cf50e0a267483001b0c\", \"department\": \"Editing\", \"gender\": 0, \"id\": 1352422, \"job\": \"Dialogue Editor\", \"name\": \"Kim Foscato\"}, {\"credit_id\": \"544919f40e0a26748c001b09\", \"department\": \"Art\", \"gender\": 0, \"id\": 1352962, \"job\": \"Set Designer\", \"name\": \"Tammy S. Lee\"}, {\"credit_id\": \"5495a115c3a3680ff5002d71\", \"department\": \"Crew\", \"gender\": 0, \"id\": 1357070, \"job\": \"Transportation Coordinator\", \"name\": \"Denny Caira\"}, {\"credit_id\": \"5495a12f92514130fc002e94\", \"department\": \"Crew\", \"gender\": 0, \"id\": 1357071, \"job\": \"Transportation Coordinator\", \"name\": \"James Waitkus\"}, {\"credit_id\": \"5495976fc3a36811530026b0\", \"department\": \"Sound\", \"gender\": 0, \"id\": 1360103, \"job\": \"Supervising Sound Editor\", \"name\": \"Addison Teague\"}, {\"credit_id\": \"54491837c3a3680fb1001c5a\", \"department\": \"Art\", \"gender\": 2, \"id\": 1376887, \"job\": \"Set Designer\", \"name\": \"C. Scott Baker\"}, {\"credit_id\": \"54491878c3a3680fb4001c9d\", \"department\": \"Art\", \"gender\": 0, \"id\": 1376888, \"job\": \"Set Designer\", \"name\": \"Luke Caska\"}, {\"credit_id\": \"544918dac3a3680fa5001ae0\", \"department\": \"Art\", \"gender\": 0, \"id\": 1376889, \"job\": \"Set Designer\", \"name\": \"David Chow\"}, {\"credit_id\": \"544919110e0a267486001b68\", \"department\": \"Art\", \"gender\": 0, \"id\": 1376890, \"job\": \"Set Designer\", \"name\": \"Jonathan Dyer\"}, {\"credit_id\": \"54491967c3a3680faa001b5e\", \"department\": \"Art\", \"gender\": 0, \"id\": 1376891, \"job\": \"Set Designer\", \"name\": \"Joseph Hiura\"}, {\"credit_id\": \"54491997c3a3680fb1001c8a\", \"department\": \"Art\", \"gender\": 0, \"id\": 1376892, \"job\": \"Art Department Coordinator\", \"name\": \"Rebecca Jellie\"}, {\"credit_id\": \"544919ba0e0a26748f001b42\", \"department\": \"Art\", \"gender\": 0, \"id\": 1376893, \"job\": \"Set Designer\", \"name\": \"Robert Andrew Johnson\"}, {\"credit_id\": \"54491b1dc3a3680faa001b8c\", \"department\": \"Art\", \"gender\": 0, \"id\": 1376895, \"job\": \"Assistant Art Director\", \"name\": \"Mike Stassi\"}, {\"credit_id\": \"54491b79c3a3680fbb001826\", \"department\": \"Art\", \"gender\": 0, \"id\": 1376897, \"job\": \"Construction Coordinator\", \"name\": \"John Villarino\"}, {\"credit_id\": \"54491baec3a3680fb4001ce6\", \"department\": \"Art\", \"gender\": 2, \"id\": 1376898, \"job\": \"Assistant Art Director\", \"name\": \"Jeffrey Wisniewski\"}, {\"credit_id\": \"54491d2fc3a3680fb4001d07\", \"department\": \"Editing\", \"gender\": 0, \"id\": 1376899, \"job\": \"Dialogue Editor\", \"name\": \"Cheryl Nardi\"}, {\"credit_id\": \"54491d86c3a3680fa5001b2f\", \"department\": \"Editing\", \"gender\": 0, \"id\": 1376901, \"job\": \"Dialogue Editor\", \"name\": \"Marshall Winn\"}, {\"credit_id\": \"54491d9dc3a3680faa001bb0\", \"department\": \"Sound\", \"gender\": 0, \"id\": 1376902, \"job\": \"Supervising Sound Editor\", \"name\": \"Gwendolyn Yates Whittle\"}, {\"credit_id\": \"54491dc10e0a267486001bce\", \"department\": \"Sound\", \"gender\": 0, \"id\": 1376903, \"job\": \"Sound Re-Recording Mixer\", \"name\": \"William Stein\"}, {\"credit_id\": \"54491f500e0a26747c001c07\", \"department\": \"Crew\", \"gender\": 0, \"id\": 1376909, \"job\": \"Choreographer\", \"name\": \"Lula Washington\"}, {\"credit_id\": \"549599239251412c4e002a2e\", \"department\": \"Visual Effects\", \"gender\": 0, \"id\": 1391692, \"job\": \"Visual Effects Producer\", \"name\": \"Chris Del Conte\"}, {\"credit_id\": \"54959d54c3a36831b8001d9a\", \"department\": \"Visual Effects\", \"gender\": 2, \"id\": 1391695, \"job\": \"Visual Effects Supervisor\", \"name\": \"R. Christopher White\"}, {\"credit_id\": \"54959bdf9251412c4e002a66\", \"department\": \"Visual Effects\", \"gender\": 0, \"id\": 1394070, \"job\": \"Visual Effects Supervisor\", \"name\": \"Dan Lemmon\"}, {\"credit_id\": \"5495971d92514132ed002922\", \"department\": \"Sound\", \"gender\": 0, \"id\": 1394129, \"job\": \"Sound Effects Editor\", \"name\": \"Tim Nielsen\"}, {\"credit_id\": \"5592b25792514152cc0011aa\", \"department\": \"Crew\", \"gender\": 0, \"id\": 1394286, \"job\": \"CG Supervisor\", \"name\": \"Michael Mulholland\"}, {\"credit_id\": \"54959a329251416e2b004355\", \"department\": \"Crew\", \"gender\": 0, \"id\": 1394750, \"job\": \"Visual Effects Editor\", \"name\": \"Thomas Nittmann\"}, {\"credit_id\": \"54959d6dc3a3686ae9004401\", \"department\": \"Visual Effects\", \"gender\": 0, \"id\": 1394755, \"job\": \"Visual Effects Supervisor\", \"name\": \"Edson Williams\"}, {\"credit_id\": \"5495a08fc3a3686ae300441c\", \"department\": \"Editing\", \"gender\": 0, \"id\": 1394953, \"job\": \"Digital Intermediate\", \"name\": \"Christine Carr\"}, {\"credit_id\": \"55402d659251413d6d000249\", \"department\": \"Visual Effects\", \"gender\": 0, \"id\": 1395269, \"job\": \"Visual Effects Supervisor\", \"name\": \"John Bruno\"}, {\"credit_id\": \"54959e7b9251416e1e003f3e\", \"department\": \"Camera\", \"gender\": 0, \"id\": 1398970, \"job\": \"Steadicam Operator\", \"name\": \"David Emmerichs\"}, {\"credit_id\": \"54959734c3a3686ae10045e0\", \"department\": \"Sound\", \"gender\": 0, \"id\": 1400906, \"job\": \"Sound Effects Editor\", \"name\": \"Christopher Scarabosio\"}, {\"credit_id\": \"549595dd92514130fc002d79\", \"department\": \"Production\", \"gender\": 0, \"id\": 1401784, \"job\": \"Production Supervisor\", \"name\": \"Jennifer Teves\"}, {\"credit_id\": \"549596009251413af70028cc\", \"department\": \"Production\", \"gender\": 0, \"id\": 1401785, \"job\": \"Production Manager\", \"name\": \"Brigitte Yorke\"}, {\"credit_id\": \"549596e892514130fc002d99\", \"department\": \"Sound\", \"gender\": 0, \"id\": 1401786, \"job\": \"Sound Effects Editor\", \"name\": \"Ken Fischer\"}, {\"credit_id\": \"549598229251412c4e002a1c\", \"department\": \"Crew\", \"gender\": 0, \"id\": 1401787, \"job\": \"Special Effects Coordinator\", \"name\": \"Iain Hutton\"}, {\"credit_id\": \"549598349251416e2b00432b\", \"department\": \"Crew\", \"gender\": 0, \"id\": 1401788, \"job\": \"Special Effects Coordinator\", \"name\": \"Steve Ingram\"}, {\"credit_id\": \"54959905c3a3686ae3004324\", \"department\": \"Visual Effects\", \"gender\": 0, \"id\": 1401789, \"job\": \"Visual Effects Producer\", \"name\": \"Joyce Cox\"}, {\"credit_id\": \"5495994b92514132ed002951\", \"department\": \"Visual Effects\", \"gender\": 0, \"id\": 1401790, \"job\": \"Visual Effects Producer\", \"name\": \"Jenny Foster\"}, {\"credit_id\": \"549599cbc3a3686ae1004613\", \"department\": \"Crew\", \"gender\": 0, \"id\": 1401791, \"job\": \"Visual Effects Editor\", \"name\": \"Christopher Marino\"}, {\"credit_id\": \"549599f2c3a3686ae100461e\", \"department\": \"Crew\", \"gender\": 0, \"id\": 1401792, \"job\": \"Visual Effects Editor\", \"name\": \"Jim Milton\"}, {\"credit_id\": \"54959a51c3a3686af3003eb5\", \"department\": \"Visual Effects\", \"gender\": 0, \"id\": 1401793, \"job\": \"Visual Effects Producer\", \"name\": \"Cyndi Ochs\"}, {\"credit_id\": \"54959a7cc3a36811530026f4\", \"department\": \"Crew\", \"gender\": 0, \"id\": 1401794, \"job\": \"Visual Effects Editor\", \"name\": \"Lucas Putnam\"}, {\"credit_id\": \"54959b91c3a3680ff5002cb4\", \"department\": \"Visual Effects\", \"gender\": 0, \"id\": 1401795, \"job\": \"Visual Effects Supervisor\", \"name\": \"Anthony \\'Max\\' Ivins\"}, {\"credit_id\": \"54959bb69251412c4e002a5f\", \"department\": \"Visual Effects\", \"gender\": 0, \"id\": 1401796, \"job\": \"Visual Effects Supervisor\", \"name\": \"John Knoll\"}, {\"credit_id\": \"54959cbbc3a3686ae3004391\", \"department\": \"Visual Effects\", \"gender\": 2, \"id\": 1401799, \"job\": \"Visual Effects Supervisor\", \"name\": \"Eric Saindon\"}, {\"credit_id\": \"54959d06c3a3686ae90043f6\", \"department\": \"Visual Effects\", \"gender\": 0, \"id\": 1401800, \"job\": \"Visual Effects Supervisor\", \"name\": \"Wayne Stables\"}, {\"credit_id\": \"54959d259251416e1e003f11\", \"department\": \"Visual Effects\", \"gender\": 0, \"id\": 1401801, \"job\": \"Visual Effects Supervisor\", \"name\": \"David Stinnett\"}, {\"credit_id\": \"54959db49251413af7002975\", \"department\": \"Visual Effects\", \"gender\": 0, \"id\": 1401803, \"job\": \"Visual Effects Supervisor\", \"name\": \"Guy Williams\"}, {\"credit_id\": \"54959de4c3a3681153002750\", \"department\": \"Crew\", \"gender\": 0, \"id\": 1401804, \"job\": \"Stunt Coordinator\", \"name\": \"Stuart Thorp\"}, {\"credit_id\": \"54959ef2c3a3680fc60027f2\", \"department\": \"Lighting\", \"gender\": 0, \"id\": 1401805, \"job\": \"Best Boy Electric\", \"name\": \"Giles Coburn\"}, {\"credit_id\": \"54959f07c3a3680fc60027f9\", \"department\": \"Camera\", \"gender\": 2, \"id\": 1401806, \"job\": \"Still Photographer\", \"name\": \"Mark Fellman\"}, {\"credit_id\": \"54959f47c3a3681153002774\", \"department\": \"Lighting\", \"gender\": 0, \"id\": 1401807, \"job\": \"Lighting Technician\", \"name\": \"Scott Sprague\"}, {\"credit_id\": \"54959f8cc3a36831b8001df2\", \"department\": \"Visual Effects\", \"gender\": 0, \"id\": 1401808, \"job\": \"Animation Director\", \"name\": \"Jeremy Hollobon\"}, {\"credit_id\": \"54959fa0c3a36831b8001dfb\", \"department\": \"Visual Effects\", \"gender\": 0, \"id\": 1401809, \"job\": \"Animation Director\", \"name\": \"Orlando Meunier\"}, {\"credit_id\": \"54959fb6c3a3686af3003f54\", \"department\": \"Visual Effects\", \"gender\": 0, \"id\": 1401810, \"job\": \"Animation Director\", \"name\": \"Taisuke Tanimura\"}, {\"credit_id\": \"54959fd2c3a36831b8001e02\", \"department\": \"Costume & Make-Up\", \"gender\": 0, \"id\": 1401812, \"job\": \"Set Costumer\", \"name\": \"Lilia Mishel Acevedo\"}, {\"credit_id\": \"54959ff9c3a3686ae300440c\", \"department\": \"Costume & Make-Up\", \"gender\": 0, \"id\": 1401814, \"job\": \"Set Costumer\", \"name\": \"Alejandro M. Hernandez\"}, {\"credit_id\": \"5495a0ddc3a3686ae10046fe\", \"department\": \"Editing\", \"gender\": 0, \"id\": 1401815, \"job\": \"Digital Intermediate\", \"name\": \"Marvin Hall\"}, {\"credit_id\": \"5495a1f7c3a3686ae3004443\", \"department\": \"Production\", \"gender\": 0, \"id\": 1401816, \"job\": \"Publicist\", \"name\": \"Judy Alley\"}, {\"credit_id\": \"5592b29fc3a36869d100002f\", \"department\": \"Crew\", \"gender\": 0, \"id\": 1418381, \"job\": \"CG Supervisor\", \"name\": \"Mike Perry\"}, {\"credit_id\": \"5592b23a9251415df8001081\", \"department\": \"Crew\", \"gender\": 0, \"id\": 1426854, \"job\": \"CG Supervisor\", \"name\": \"Andrew Morley\"}, {\"credit_id\": \"55491e1192514104c40002d8\", \"department\": \"Art\", \"gender\": 0, \"id\": 1438901, \"job\": \"Conceptual Design\", \"name\": \"Seth Engstrom\"}, {\"credit_id\": \"5525d5809251417276002b06\", \"department\": \"Crew\", \"gender\": 0, \"id\": 1447362, \"job\": \"Visual Effects Art Director\", \"name\": \"Eric Oliver\"}, {\"credit_id\": \"554427ca925141586500312a\", \"department\": \"Visual Effects\", \"gender\": 0, \"id\": 1447503, \"job\": \"Modeling\", \"name\": \"Matsune Suzuki\"}, {\"credit_id\": \"551906889251415aab001c88\", \"department\": \"Art\", \"gender\": 0, \"id\": 1447524, \"job\": \"Art Department Manager\", \"name\": \"Paul Tobin\"}, {\"credit_id\": \"5592af8492514152cc0010de\", \"department\": \"Costume & Make-Up\", \"gender\": 0, \"id\": 1452643, \"job\": \"Hairstylist\", \"name\": \"Roxane Griffin\"}, {\"credit_id\": \"553d3c109251415852001318\", \"department\": \"Lighting\", \"gender\": 0, \"id\": 1453938, \"job\": \"Lighting Artist\", \"name\": \"Arun Ram-Mohan\"}, {\"credit_id\": \"5592af4692514152d5001355\", \"department\": \"Costume & Make-Up\", \"gender\": 0, \"id\": 1457305, \"job\": \"Makeup Artist\", \"name\": \"Georgia Lockhart-Adams\"}, {\"credit_id\": \"5592b2eac3a36877470012a5\", \"department\": \"Crew\", \"gender\": 0, \"id\": 1466035, \"job\": \"CG Supervisor\", \"name\": \"Thrain Shadbolt\"}, {\"credit_id\": \"5592b032c3a36877450015f1\", \"department\": \"Crew\", \"gender\": 0, \"id\": 1483220, \"job\": \"CG Supervisor\", \"name\": \"Brad Alexander\"}, {\"credit_id\": \"5592b05592514152d80012f6\", \"department\": \"Crew\", \"gender\": 0, \"id\": 1483221, \"job\": \"CG Supervisor\", \"name\": \"Shadi Almassizadeh\"}, {\"credit_id\": \"5592b090c3a36877570010b5\", \"department\": \"Crew\", \"gender\": 0, \"id\": 1483222, \"job\": \"CG Supervisor\", \"name\": \"Simon Clutterbuck\"}, {\"credit_id\": \"5592b0dbc3a368774b00112c\", \"department\": \"Crew\", \"gender\": 0, \"id\": 1483223, \"job\": \"CG Supervisor\", \"name\": \"Graeme Demmocks\"}, {\"credit_id\": \"5592b0fe92514152db0010c1\", \"department\": \"Crew\", \"gender\": 0, \"id\": 1483224, \"job\": \"CG Supervisor\", \"name\": \"Adrian Fernandes\"}, {\"credit_id\": \"5592b11f9251415df8001059\", \"department\": \"Crew\", \"gender\": 0, \"id\": 1483225, \"job\": \"CG Supervisor\", \"name\": \"Mitch Gates\"}, {\"credit_id\": \"5592b15dc3a3687745001645\", \"department\": \"Crew\", \"gender\": 0, \"id\": 1483226, \"job\": \"CG Supervisor\", \"name\": \"Jerry Kung\"}, {\"credit_id\": \"5592b18e925141645a0004ae\", \"department\": \"Crew\", \"gender\": 0, \"id\": 1483227, \"job\": \"CG Supervisor\", \"name\": \"Andy Lomas\"}, {\"credit_id\": \"5592b1bfc3a368775d0010e7\", \"department\": \"Crew\", \"gender\": 0, \"id\": 1483228, \"job\": \"CG Supervisor\", \"name\": \"Sebastian Marino\"}, {\"credit_id\": \"5592b2049251415df8001078\", \"department\": \"Crew\", \"gender\": 0, \"id\": 1483229, \"job\": \"CG Supervisor\", \"name\": \"Matthias Menz\"}, {\"credit_id\": \"5592b27b92514152d800136a\", \"department\": \"Crew\", \"gender\": 0, \"id\": 1483230, \"job\": \"CG Supervisor\", \"name\": \"Sergei Nevshupov\"}, {\"credit_id\": \"5592b2c3c3a36869e800003c\", \"department\": \"Crew\", \"gender\": 0, \"id\": 1483231, \"job\": \"CG Supervisor\", \"name\": \"Philippe Rebours\"}, {\"credit_id\": \"5592b317c3a36877470012af\", \"department\": \"Crew\", \"gender\": 0, \"id\": 1483232, \"job\": \"CG Supervisor\", \"name\": \"Michael Takarangi\"}, {\"credit_id\": \"5592b345c3a36877470012bb\", \"department\": \"Crew\", \"gender\": 0, \"id\": 1483233, \"job\": \"CG Supervisor\", \"name\": \"David Weitzberg\"}, {\"credit_id\": \"5592b37cc3a368775100113b\", \"department\": \"Crew\", \"gender\": 0, \"id\": 1483234, \"job\": \"CG Supervisor\", \"name\": \"Ben White\"}, {\"credit_id\": \"573c8e2f9251413f5d000094\", \"department\": \"Crew\", \"gender\": 1, \"id\": 1621932, \"job\": \"Stunts\", \"name\": \"Min Windle\"}]'"
      ]
     },
     "execution_count": 10,
     "metadata": {},
     "output_type": "execute_result"
    }
   ],
   "source": [
    "# crew(제작진) 컬럼 내용 중 감독 정보만 보기 위한 작업\n",
    "df['crew'][0]"
   ]
  },
  {
   "cell_type": "code",
   "execution_count": 11,
   "metadata": {},
   "outputs": [],
   "source": [
    "import ast"
   ]
  },
  {
   "cell_type": "code",
   "execution_count": 12,
   "metadata": {},
   "outputs": [
    {
     "name": "stdout",
     "output_type": "stream",
     "text": [
      "[{'credit_id': '52fe48009251416c750aca23', 'department': 'Editing', 'gender': 0, 'id': 1721, 'job': 'Editor', 'name': 'Stephen E. Rivkin'}, {'credit_id': '539c47ecc3a36810e3001f87', 'department': 'Art', 'gender': 2, 'id': 496, 'job': 'Production Design', 'name': 'Rick Carter'}, {'credit_id': '54491c89c3a3680fb4001cf7', 'department': 'Sound', 'gender': 0, 'id': 900, 'job': 'Sound Designer', 'name': 'Christopher Boyes'}, {'credit_id': '54491cb70e0a267480001bd0', 'department': 'Sound', 'gender': 0, 'id': 900, 'job': 'Supervising Sound Editor', 'name': 'Christopher Boyes'}, {'credit_id': '539c4a4cc3a36810c9002101', 'department': 'Production', 'gender': 1, 'id': 1262, 'job': 'Casting', 'name': 'Mali Finn'}, {'credit_id': '5544ee3b925141499f0008fc', 'department': 'Sound', 'gender': 2, 'id': 1729, 'job': 'Original Music Composer', 'name': 'James Horner'}, {'credit_id': '52fe48009251416c750ac9c3', 'department': 'Directing', 'gender': 2, 'id': 2710, 'job': 'Director', 'name': 'James Cameron'}, {'credit_id': '52fe48009251416c750ac9d9', 'department': 'Writing', 'gender': 2, 'id': 2710, 'job': 'Writer', 'name': 'James Cameron'}, {'credit_id': '52fe48009251416c750aca17', 'department': 'Editing', 'gender': 2, 'id': 2710, 'job': 'Editor', 'name': 'James Cameron'}, {'credit_id': '52fe48009251416c750aca29', 'department': 'Production', 'gender': 2, 'id': 2710, 'job': 'Producer', 'name': 'James Cameron'}, {'credit_id': '52fe48009251416c750aca3f', 'department': 'Writing', 'gender': 2, 'id': 2710, 'job': 'Screenplay', 'name': 'James Cameron'}, {'credit_id': '539c4987c3a36810ba0021a4', 'department': 'Art', 'gender': 2, 'id': 7236, 'job': 'Art Direction', 'name': 'Andrew Menzies'}, {'credit_id': '549598c3c3a3686ae9004383', 'department': 'Visual Effects', 'gender': 0, 'id': 6690, 'job': 'Visual Effects Producer', 'name': 'Jill Brooks'}, {'credit_id': '52fe48009251416c750aca4b', 'department': 'Production', 'gender': 1, 'id': 6347, 'job': 'Casting', 'name': 'Margery Simkin'}, {'credit_id': '570b6f419251417da70032fe', 'department': 'Art', 'gender': 2, 'id': 6878, 'job': 'Supervising Art Director', 'name': 'Kevin Ishioka'}, {'credit_id': '5495a0fac3a3686ae9004468', 'department': 'Sound', 'gender': 0, 'id': 6883, 'job': 'Music Editor', 'name': 'Dick Bernstein'}, {'credit_id': '54959706c3a3686af3003e81', 'department': 'Sound', 'gender': 0, 'id': 8159, 'job': 'Sound Effects Editor', 'name': 'Shannon Mills'}, {'credit_id': '54491d58c3a3680fb1001ccb', 'department': 'Sound', 'gender': 0, 'id': 8160, 'job': 'Foley', 'name': 'Dennie Thorpe'}, {'credit_id': '54491d6cc3a3680fa5001b2c', 'department': 'Sound', 'gender': 0, 'id': 8163, 'job': 'Foley', 'name': 'Jana Vance'}, {'credit_id': '52fe48009251416c750aca57', 'department': 'Costume & Make-Up', 'gender': 1, 'id': 8527, 'job': 'Costume Design', 'name': 'Deborah Lynn Scott'}, {'credit_id': '52fe48009251416c750aca2f', 'department': 'Production', 'gender': 2, 'id': 8529, 'job': 'Producer', 'name': 'Jon Landau'}, {'credit_id': '539c4937c3a36810ba002194', 'department': 'Art', 'gender': 0, 'id': 9618, 'job': 'Art Direction', 'name': 'Sean Haworth'}, {'credit_id': '539c49b6c3a36810c10020e6', 'department': 'Art', 'gender': 1, 'id': 12653, 'job': 'Set Decoration', 'name': 'Kim Sinclair'}, {'credit_id': '570b6f2f9251413a0e00020d', 'department': 'Art', 'gender': 1, 'id': 12653, 'job': 'Supervising Art Director', 'name': 'Kim Sinclair'}, {'credit_id': '54491a6c0e0a26748c001b19', 'department': 'Art', 'gender': 2, 'id': 14350, 'job': 'Set Designer', 'name': 'Richard F. Mays'}, {'credit_id': '56928cf4c3a3684cff0025c4', 'department': 'Production', 'gender': 1, 'id': 20294, 'job': 'Executive Producer', 'name': 'Laeta Kalogridis'}, {'credit_id': '52fe48009251416c750aca51', 'department': 'Costume & Make-Up', 'gender': 0, 'id': 17675, 'job': 'Costume Design', 'name': 'Mayes C. Rubeo'}, {'credit_id': '52fe48009251416c750aca11', 'department': 'Camera', 'gender': 2, 'id': 18265, 'job': 'Director of Photography', 'name': 'Mauro Fiore'}, {'credit_id': '5449194d0e0a26748f001b39', 'department': 'Art', 'gender': 0, 'id': 42281, 'job': 'Set Designer', 'name': 'Scott Herbertson'}, {'credit_id': '52fe48009251416c750aca05', 'department': 'Crew', 'gender': 0, 'id': 42288, 'job': 'Stunts', 'name': 'Woody Schultz'}, {'credit_id': '5592aefb92514152de0010f5', 'department': 'Costume & Make-Up', 'gender': 0, 'id': 29067, 'job': 'Makeup Artist', 'name': 'Linda DeVetta'}, {'credit_id': '5592afa492514152de00112c', 'department': 'Costume & Make-Up', 'gender': 0, 'id': 29067, 'job': 'Hairstylist', 'name': 'Linda DeVetta'}, {'credit_id': '54959ed592514130fc002e5d', 'department': 'Camera', 'gender': 2, 'id': 33302, 'job': 'Camera Operator', 'name': 'Richard Bluck'}, {'credit_id': '539c4891c3a36810ba002147', 'department': 'Art', 'gender': 2, 'id': 33303, 'job': 'Art Direction', 'name': 'Simon Bright'}, {'credit_id': '54959c069251417a81001f3a', 'department': 'Visual Effects', 'gender': 0, 'id': 113145, 'job': 'Visual Effects Supervisor', 'name': 'Richard Martin'}, {'credit_id': '54959a0dc3a3680ff5002c8d', 'department': 'Crew', 'gender': 2, 'id': 58188, 'job': 'Visual Effects Editor', 'name': 'Steve R. Moore'}, {'credit_id': '52fe48009251416c750aca1d', 'department': 'Editing', 'gender': 2, 'id': 58871, 'job': 'Editor', 'name': 'John Refoua'}, {'credit_id': '54491a4dc3a3680fc30018ca', 'department': 'Art', 'gender': 0, 'id': 92359, 'job': 'Set Designer', 'name': 'Karl J. Martin'}, {'credit_id': '52fe48009251416c750aca35', 'department': 'Camera', 'gender': 1, 'id': 72201, 'job': 'Director of Photography', 'name': 'Chiling Lin'}, {'credit_id': '52fe48009251416c750ac9ff', 'department': 'Crew', 'gender': 0, 'id': 89714, 'job': 'Stunts', 'name': 'Ilram Choi'}, {'credit_id': '54959c529251416e2b004394', 'department': 'Visual Effects', 'gender': 2, 'id': 93214, 'job': 'Visual Effects Supervisor', 'name': 'Steven Quale'}, {'credit_id': '54491edf0e0a267489001c37', 'department': 'Crew', 'gender': 1, 'id': 122607, 'job': 'Dialect Coach', 'name': 'Carla Meyer'}, {'credit_id': '539c485bc3a368653d001a3a', 'department': 'Art', 'gender': 2, 'id': 132585, 'job': 'Art Direction', 'name': 'Nick Bassett'}, {'credit_id': '539c4903c3a368653d001a74', 'department': 'Art', 'gender': 0, 'id': 132596, 'job': 'Art Direction', 'name': 'Jill Cormack'}, {'credit_id': '539c4967c3a368653d001a94', 'department': 'Art', 'gender': 0, 'id': 132604, 'job': 'Art Direction', 'name': 'Andy McLaren'}, {'credit_id': '52fe48009251416c750aca45', 'department': 'Crew', 'gender': 0, 'id': 236696, 'job': 'Motion Capture Artist', 'name': 'Terry Notary'}, {'credit_id': '54959e02c3a3680fc60027d2', 'department': 'Crew', 'gender': 2, 'id': 956198, 'job': 'Stunt Coordinator', 'name': 'Garrett Warren'}, {'credit_id': '54959ca3c3a3686ae300438c', 'department': 'Visual Effects', 'gender': 2, 'id': 957874, 'job': 'Visual Effects Supervisor', 'name': 'Jonathan Rothbart'}, {'credit_id': '570b6f519251412c74001b2f', 'department': 'Art', 'gender': 0, 'id': 957889, 'job': 'Supervising Art Director', 'name': 'Stefan Dechant'}, {'credit_id': '570b6f62c3a3680b77007460', 'department': 'Art', 'gender': 2, 'id': 959555, 'job': 'Supervising Art Director', 'name': 'Todd Cherniawsky'}, {'credit_id': '539c4a3ac3a36810da0021cc', 'department': 'Production', 'gender': 0, 'id': 1016177, 'job': 'Casting', 'name': 'Miranda Rivers'}, {'credit_id': '539c482cc3a36810c1002062', 'department': 'Art', 'gender': 0, 'id': 1032536, 'job': 'Production Design', 'name': 'Robert Stromberg'}, {'credit_id': '539c4b65c3a36810c9002125', 'department': 'Costume & Make-Up', 'gender': 2, 'id': 1071680, 'job': 'Costume Design', 'name': 'John Harding'}, {'credit_id': '54959e6692514130fc002e4e', 'department': 'Camera', 'gender': 0, 'id': 1177364, 'job': 'Steadicam Operator', 'name': 'Roberto De Angelis'}, {'credit_id': '539c49f1c3a368653d001aac', 'department': 'Costume & Make-Up', 'gender': 2, 'id': 1202850, 'job': 'Makeup Department Head', 'name': 'Mike Smithson'}, {'credit_id': '5495999ec3a3686ae100460c', 'department': 'Visual Effects', 'gender': 0, 'id': 1204668, 'job': 'Visual Effects Producer', 'name': 'Alain Lalanne'}, {'credit_id': '54959cdfc3a3681153002729', 'department': 'Visual Effects', 'gender': 0, 'id': 1206410, 'job': 'Visual Effects Supervisor', 'name': 'Lucas Salton'}, {'credit_id': '549596239251417a81001eae', 'department': 'Crew', 'gender': 0, 'id': 1234266, 'job': 'Post Production Supervisor', 'name': 'Janace Tashjian'}, {'credit_id': '54959c859251416e1e003efe', 'department': 'Visual Effects', 'gender': 0, 'id': 1271932, 'job': 'Visual Effects Supervisor', 'name': 'Stephen Rosenbaum'}, {'credit_id': '5592af28c3a368775a00105f', 'department': 'Costume & Make-Up', 'gender': 0, 'id': 1310064, 'job': 'Makeup Artist', 'name': 'Frankie Karena'}, {'credit_id': '539c4adfc3a36810e300203b', 'department': 'Costume & Make-Up', 'gender': 1, 'id': 1319844, 'job': 'Costume Supervisor', 'name': 'Lisa Lovaas'}, {'credit_id': '54959b579251416e2b004371', 'department': 'Visual Effects', 'gender': 0, 'id': 1327028, 'job': 'Visual Effects Supervisor', 'name': 'Jonathan Fawkner'}, {'credit_id': '539c48a7c3a36810b5001fa7', 'department': 'Art', 'gender': 0, 'id': 1330561, 'job': 'Art Direction', 'name': 'Robert Bavin'}, {'credit_id': '539c4a71c3a36810da0021e0', 'department': 'Costume & Make-Up', 'gender': 0, 'id': 1330567, 'job': 'Costume Supervisor', 'name': 'Anthony Almaraz'}, {'credit_id': '539c4a8ac3a36810ba0021e4', 'department': 'Costume & Make-Up', 'gender': 0, 'id': 1330570, 'job': 'Costume Supervisor', 'name': 'Carolyn M. Fenton'}, {'credit_id': '539c4ab6c3a36810da0021f0', 'department': 'Costume & Make-Up', 'gender': 0, 'id': 1330574, 'job': 'Costume Supervisor', 'name': 'Beth Koenigsberg'}, {'credit_id': '54491ab70e0a267480001ba2', 'department': 'Art', 'gender': 0, 'id': 1336191, 'job': 'Set Designer', 'name': 'Sam Page'}, {'credit_id': '544919d9c3a3680fc30018bd', 'department': 'Art', 'gender': 0, 'id': 1339441, 'job': 'Set Designer', 'name': 'Tex Kadonaga'}, {'credit_id': '54491cf50e0a267483001b0c', 'department': 'Editing', 'gender': 0, 'id': 1352422, 'job': 'Dialogue Editor', 'name': 'Kim Foscato'}, {'credit_id': '544919f40e0a26748c001b09', 'department': 'Art', 'gender': 0, 'id': 1352962, 'job': 'Set Designer', 'name': 'Tammy S. Lee'}, {'credit_id': '5495a115c3a3680ff5002d71', 'department': 'Crew', 'gender': 0, 'id': 1357070, 'job': 'Transportation Coordinator', 'name': 'Denny Caira'}, {'credit_id': '5495a12f92514130fc002e94', 'department': 'Crew', 'gender': 0, 'id': 1357071, 'job': 'Transportation Coordinator', 'name': 'James Waitkus'}, {'credit_id': '5495976fc3a36811530026b0', 'department': 'Sound', 'gender': 0, 'id': 1360103, 'job': 'Supervising Sound Editor', 'name': 'Addison Teague'}, {'credit_id': '54491837c3a3680fb1001c5a', 'department': 'Art', 'gender': 2, 'id': 1376887, 'job': 'Set Designer', 'name': 'C. Scott Baker'}, {'credit_id': '54491878c3a3680fb4001c9d', 'department': 'Art', 'gender': 0, 'id': 1376888, 'job': 'Set Designer', 'name': 'Luke Caska'}, {'credit_id': '544918dac3a3680fa5001ae0', 'department': 'Art', 'gender': 0, 'id': 1376889, 'job': 'Set Designer', 'name': 'David Chow'}, {'credit_id': '544919110e0a267486001b68', 'department': 'Art', 'gender': 0, 'id': 1376890, 'job': 'Set Designer', 'name': 'Jonathan Dyer'}, {'credit_id': '54491967c3a3680faa001b5e', 'department': 'Art', 'gender': 0, 'id': 1376891, 'job': 'Set Designer', 'name': 'Joseph Hiura'}, {'credit_id': '54491997c3a3680fb1001c8a', 'department': 'Art', 'gender': 0, 'id': 1376892, 'job': 'Art Department Coordinator', 'name': 'Rebecca Jellie'}, {'credit_id': '544919ba0e0a26748f001b42', 'department': 'Art', 'gender': 0, 'id': 1376893, 'job': 'Set Designer', 'name': 'Robert Andrew Johnson'}, {'credit_id': '54491b1dc3a3680faa001b8c', 'department': 'Art', 'gender': 0, 'id': 1376895, 'job': 'Assistant Art Director', 'name': 'Mike Stassi'}, {'credit_id': '54491b79c3a3680fbb001826', 'department': 'Art', 'gender': 0, 'id': 1376897, 'job': 'Construction Coordinator', 'name': 'John Villarino'}, {'credit_id': '54491baec3a3680fb4001ce6', 'department': 'Art', 'gender': 2, 'id': 1376898, 'job': 'Assistant Art Director', 'name': 'Jeffrey Wisniewski'}, {'credit_id': '54491d2fc3a3680fb4001d07', 'department': 'Editing', 'gender': 0, 'id': 1376899, 'job': 'Dialogue Editor', 'name': 'Cheryl Nardi'}, {'credit_id': '54491d86c3a3680fa5001b2f', 'department': 'Editing', 'gender': 0, 'id': 1376901, 'job': 'Dialogue Editor', 'name': 'Marshall Winn'}, {'credit_id': '54491d9dc3a3680faa001bb0', 'department': 'Sound', 'gender': 0, 'id': 1376902, 'job': 'Supervising Sound Editor', 'name': 'Gwendolyn Yates Whittle'}, {'credit_id': '54491dc10e0a267486001bce', 'department': 'Sound', 'gender': 0, 'id': 1376903, 'job': 'Sound Re-Recording Mixer', 'name': 'William Stein'}, {'credit_id': '54491f500e0a26747c001c07', 'department': 'Crew', 'gender': 0, 'id': 1376909, 'job': 'Choreographer', 'name': 'Lula Washington'}, {'credit_id': '549599239251412c4e002a2e', 'department': 'Visual Effects', 'gender': 0, 'id': 1391692, 'job': 'Visual Effects Producer', 'name': 'Chris Del Conte'}, {'credit_id': '54959d54c3a36831b8001d9a', 'department': 'Visual Effects', 'gender': 2, 'id': 1391695, 'job': 'Visual Effects Supervisor', 'name': 'R. Christopher White'}, {'credit_id': '54959bdf9251412c4e002a66', 'department': 'Visual Effects', 'gender': 0, 'id': 1394070, 'job': 'Visual Effects Supervisor', 'name': 'Dan Lemmon'}, {'credit_id': '5495971d92514132ed002922', 'department': 'Sound', 'gender': 0, 'id': 1394129, 'job': 'Sound Effects Editor', 'name': 'Tim Nielsen'}, {'credit_id': '5592b25792514152cc0011aa', 'department': 'Crew', 'gender': 0, 'id': 1394286, 'job': 'CG Supervisor', 'name': 'Michael Mulholland'}, {'credit_id': '54959a329251416e2b004355', 'department': 'Crew', 'gender': 0, 'id': 1394750, 'job': 'Visual Effects Editor', 'name': 'Thomas Nittmann'}, {'credit_id': '54959d6dc3a3686ae9004401', 'department': 'Visual Effects', 'gender': 0, 'id': 1394755, 'job': 'Visual Effects Supervisor', 'name': 'Edson Williams'}, {'credit_id': '5495a08fc3a3686ae300441c', 'department': 'Editing', 'gender': 0, 'id': 1394953, 'job': 'Digital Intermediate', 'name': 'Christine Carr'}, {'credit_id': '55402d659251413d6d000249', 'department': 'Visual Effects', 'gender': 0, 'id': 1395269, 'job': 'Visual Effects Supervisor', 'name': 'John Bruno'}, {'credit_id': '54959e7b9251416e1e003f3e', 'department': 'Camera', 'gender': 0, 'id': 1398970, 'job': 'Steadicam Operator', 'name': 'David Emmerichs'}, {'credit_id': '54959734c3a3686ae10045e0', 'department': 'Sound', 'gender': 0, 'id': 1400906, 'job': 'Sound Effects Editor', 'name': 'Christopher Scarabosio'}, {'credit_id': '549595dd92514130fc002d79', 'department': 'Production', 'gender': 0, 'id': 1401784, 'job': 'Production Supervisor', 'name': 'Jennifer Teves'}, {'credit_id': '549596009251413af70028cc', 'department': 'Production', 'gender': 0, 'id': 1401785, 'job': 'Production Manager', 'name': 'Brigitte Yorke'}, {'credit_id': '549596e892514130fc002d99', 'department': 'Sound', 'gender': 0, 'id': 1401786, 'job': 'Sound Effects Editor', 'name': 'Ken Fischer'}, {'credit_id': '549598229251412c4e002a1c', 'department': 'Crew', 'gender': 0, 'id': 1401787, 'job': 'Special Effects Coordinator', 'name': 'Iain Hutton'}, {'credit_id': '549598349251416e2b00432b', 'department': 'Crew', 'gender': 0, 'id': 1401788, 'job': 'Special Effects Coordinator', 'name': 'Steve Ingram'}, {'credit_id': '54959905c3a3686ae3004324', 'department': 'Visual Effects', 'gender': 0, 'id': 1401789, 'job': 'Visual Effects Producer', 'name': 'Joyce Cox'}, {'credit_id': '5495994b92514132ed002951', 'department': 'Visual Effects', 'gender': 0, 'id': 1401790, 'job': 'Visual Effects Producer', 'name': 'Jenny Foster'}, {'credit_id': '549599cbc3a3686ae1004613', 'department': 'Crew', 'gender': 0, 'id': 1401791, 'job': 'Visual Effects Editor', 'name': 'Christopher Marino'}, {'credit_id': '549599f2c3a3686ae100461e', 'department': 'Crew', 'gender': 0, 'id': 1401792, 'job': 'Visual Effects Editor', 'name': 'Jim Milton'}, {'credit_id': '54959a51c3a3686af3003eb5', 'department': 'Visual Effects', 'gender': 0, 'id': 1401793, 'job': 'Visual Effects Producer', 'name': 'Cyndi Ochs'}, {'credit_id': '54959a7cc3a36811530026f4', 'department': 'Crew', 'gender': 0, 'id': 1401794, 'job': 'Visual Effects Editor', 'name': 'Lucas Putnam'}, {'credit_id': '54959b91c3a3680ff5002cb4', 'department': 'Visual Effects', 'gender': 0, 'id': 1401795, 'job': 'Visual Effects Supervisor', 'name': \"Anthony 'Max' Ivins\"}, {'credit_id': '54959bb69251412c4e002a5f', 'department': 'Visual Effects', 'gender': 0, 'id': 1401796, 'job': 'Visual Effects Supervisor', 'name': 'John Knoll'}, {'credit_id': '54959cbbc3a3686ae3004391', 'department': 'Visual Effects', 'gender': 2, 'id': 1401799, 'job': 'Visual Effects Supervisor', 'name': 'Eric Saindon'}, {'credit_id': '54959d06c3a3686ae90043f6', 'department': 'Visual Effects', 'gender': 0, 'id': 1401800, 'job': 'Visual Effects Supervisor', 'name': 'Wayne Stables'}, {'credit_id': '54959d259251416e1e003f11', 'department': 'Visual Effects', 'gender': 0, 'id': 1401801, 'job': 'Visual Effects Supervisor', 'name': 'David Stinnett'}, {'credit_id': '54959db49251413af7002975', 'department': 'Visual Effects', 'gender': 0, 'id': 1401803, 'job': 'Visual Effects Supervisor', 'name': 'Guy Williams'}, {'credit_id': '54959de4c3a3681153002750', 'department': 'Crew', 'gender': 0, 'id': 1401804, 'job': 'Stunt Coordinator', 'name': 'Stuart Thorp'}, {'credit_id': '54959ef2c3a3680fc60027f2', 'department': 'Lighting', 'gender': 0, 'id': 1401805, 'job': 'Best Boy Electric', 'name': 'Giles Coburn'}, {'credit_id': '54959f07c3a3680fc60027f9', 'department': 'Camera', 'gender': 2, 'id': 1401806, 'job': 'Still Photographer', 'name': 'Mark Fellman'}, {'credit_id': '54959f47c3a3681153002774', 'department': 'Lighting', 'gender': 0, 'id': 1401807, 'job': 'Lighting Technician', 'name': 'Scott Sprague'}, {'credit_id': '54959f8cc3a36831b8001df2', 'department': 'Visual Effects', 'gender': 0, 'id': 1401808, 'job': 'Animation Director', 'name': 'Jeremy Hollobon'}, {'credit_id': '54959fa0c3a36831b8001dfb', 'department': 'Visual Effects', 'gender': 0, 'id': 1401809, 'job': 'Animation Director', 'name': 'Orlando Meunier'}, {'credit_id': '54959fb6c3a3686af3003f54', 'department': 'Visual Effects', 'gender': 0, 'id': 1401810, 'job': 'Animation Director', 'name': 'Taisuke Tanimura'}, {'credit_id': '54959fd2c3a36831b8001e02', 'department': 'Costume & Make-Up', 'gender': 0, 'id': 1401812, 'job': 'Set Costumer', 'name': 'Lilia Mishel Acevedo'}, {'credit_id': '54959ff9c3a3686ae300440c', 'department': 'Costume & Make-Up', 'gender': 0, 'id': 1401814, 'job': 'Set Costumer', 'name': 'Alejandro M. Hernandez'}, {'credit_id': '5495a0ddc3a3686ae10046fe', 'department': 'Editing', 'gender': 0, 'id': 1401815, 'job': 'Digital Intermediate', 'name': 'Marvin Hall'}, {'credit_id': '5495a1f7c3a3686ae3004443', 'department': 'Production', 'gender': 0, 'id': 1401816, 'job': 'Publicist', 'name': 'Judy Alley'}, {'credit_id': '5592b29fc3a36869d100002f', 'department': 'Crew', 'gender': 0, 'id': 1418381, 'job': 'CG Supervisor', 'name': 'Mike Perry'}, {'credit_id': '5592b23a9251415df8001081', 'department': 'Crew', 'gender': 0, 'id': 1426854, 'job': 'CG Supervisor', 'name': 'Andrew Morley'}, {'credit_id': '55491e1192514104c40002d8', 'department': 'Art', 'gender': 0, 'id': 1438901, 'job': 'Conceptual Design', 'name': 'Seth Engstrom'}, {'credit_id': '5525d5809251417276002b06', 'department': 'Crew', 'gender': 0, 'id': 1447362, 'job': 'Visual Effects Art Director', 'name': 'Eric Oliver'}, {'credit_id': '554427ca925141586500312a', 'department': 'Visual Effects', 'gender': 0, 'id': 1447503, 'job': 'Modeling', 'name': 'Matsune Suzuki'}, {'credit_id': '551906889251415aab001c88', 'department': 'Art', 'gender': 0, 'id': 1447524, 'job': 'Art Department Manager', 'name': 'Paul Tobin'}, {'credit_id': '5592af8492514152cc0010de', 'department': 'Costume & Make-Up', 'gender': 0, 'id': 1452643, 'job': 'Hairstylist', 'name': 'Roxane Griffin'}, {'credit_id': '553d3c109251415852001318', 'department': 'Lighting', 'gender': 0, 'id': 1453938, 'job': 'Lighting Artist', 'name': 'Arun Ram-Mohan'}, {'credit_id': '5592af4692514152d5001355', 'department': 'Costume & Make-Up', 'gender': 0, 'id': 1457305, 'job': 'Makeup Artist', 'name': 'Georgia Lockhart-Adams'}, {'credit_id': '5592b2eac3a36877470012a5', 'department': 'Crew', 'gender': 0, 'id': 1466035, 'job': 'CG Supervisor', 'name': 'Thrain Shadbolt'}, {'credit_id': '5592b032c3a36877450015f1', 'department': 'Crew', 'gender': 0, 'id': 1483220, 'job': 'CG Supervisor', 'name': 'Brad Alexander'}, {'credit_id': '5592b05592514152d80012f6', 'department': 'Crew', 'gender': 0, 'id': 1483221, 'job': 'CG Supervisor', 'name': 'Shadi Almassizadeh'}, {'credit_id': '5592b090c3a36877570010b5', 'department': 'Crew', 'gender': 0, 'id': 1483222, 'job': 'CG Supervisor', 'name': 'Simon Clutterbuck'}, {'credit_id': '5592b0dbc3a368774b00112c', 'department': 'Crew', 'gender': 0, 'id': 1483223, 'job': 'CG Supervisor', 'name': 'Graeme Demmocks'}, {'credit_id': '5592b0fe92514152db0010c1', 'department': 'Crew', 'gender': 0, 'id': 1483224, 'job': 'CG Supervisor', 'name': 'Adrian Fernandes'}, {'credit_id': '5592b11f9251415df8001059', 'department': 'Crew', 'gender': 0, 'id': 1483225, 'job': 'CG Supervisor', 'name': 'Mitch Gates'}, {'credit_id': '5592b15dc3a3687745001645', 'department': 'Crew', 'gender': 0, 'id': 1483226, 'job': 'CG Supervisor', 'name': 'Jerry Kung'}, {'credit_id': '5592b18e925141645a0004ae', 'department': 'Crew', 'gender': 0, 'id': 1483227, 'job': 'CG Supervisor', 'name': 'Andy Lomas'}, {'credit_id': '5592b1bfc3a368775d0010e7', 'department': 'Crew', 'gender': 0, 'id': 1483228, 'job': 'CG Supervisor', 'name': 'Sebastian Marino'}, {'credit_id': '5592b2049251415df8001078', 'department': 'Crew', 'gender': 0, 'id': 1483229, 'job': 'CG Supervisor', 'name': 'Matthias Menz'}, {'credit_id': '5592b27b92514152d800136a', 'department': 'Crew', 'gender': 0, 'id': 1483230, 'job': 'CG Supervisor', 'name': 'Sergei Nevshupov'}, {'credit_id': '5592b2c3c3a36869e800003c', 'department': 'Crew', 'gender': 0, 'id': 1483231, 'job': 'CG Supervisor', 'name': 'Philippe Rebours'}, {'credit_id': '5592b317c3a36877470012af', 'department': 'Crew', 'gender': 0, 'id': 1483232, 'job': 'CG Supervisor', 'name': 'Michael Takarangi'}, {'credit_id': '5592b345c3a36877470012bb', 'department': 'Crew', 'gender': 0, 'id': 1483233, 'job': 'CG Supervisor', 'name': 'David Weitzberg'}, {'credit_id': '5592b37cc3a368775100113b', 'department': 'Crew', 'gender': 0, 'id': 1483234, 'job': 'CG Supervisor', 'name': 'Ben White'}, {'credit_id': '573c8e2f9251413f5d000094', 'department': 'Crew', 'gender': 1, 'id': 1621932, 'job': 'Stunts', 'name': 'Min Windle'}]\n"
     ]
    }
   ],
   "source": [
    "# ast.literal_eval 함수 사용 시 딕셔너리로 잘 변환되는지 확인\n",
    "print(ast.literal_eval(df['crew'][0]))"
   ]
  },
  {
   "cell_type": "code",
   "execution_count": 13,
   "metadata": {},
   "outputs": [],
   "source": [
    "df['crew'] = df['crew'].apply(ast.literal_eval)"
   ]
  },
  {
   "cell_type": "code",
   "execution_count": 14,
   "metadata": {},
   "outputs": [],
   "source": [
    "def get_director(x):\n",
    "    for i in x:\n",
    "        if i['job'] == 'Director': return i['name']"
   ]
  },
  {
   "cell_type": "code",
   "execution_count": 15,
   "metadata": {},
   "outputs": [],
   "source": [
    "# 제작진 중 감독 정보만 확인하기 위해 director 컬럼 추가\n",
    "df['director'] = df['crew'].apply(get_director)"
   ]
  },
  {
   "cell_type": "code",
   "execution_count": 16,
   "metadata": {},
   "outputs": [
    {
     "data": {
      "text/html": [
       "<div>\n",
       "<style scoped>\n",
       "    .dataframe tbody tr th:only-of-type {\n",
       "        vertical-align: middle;\n",
       "    }\n",
       "\n",
       "    .dataframe tbody tr th {\n",
       "        vertical-align: top;\n",
       "    }\n",
       "\n",
       "    .dataframe thead th {\n",
       "        text-align: right;\n",
       "    }\n",
       "</style>\n",
       "<table border=\"1\" class=\"dataframe\">\n",
       "  <thead>\n",
       "    <tr style=\"text-align: right;\">\n",
       "      <th></th>\n",
       "      <th>id</th>\n",
       "      <th>budget</th>\n",
       "      <th>genres</th>\n",
       "      <th>title</th>\n",
       "      <th>release_date</th>\n",
       "      <th>...</th>\n",
       "      <th>vote_count</th>\n",
       "      <th>crew</th>\n",
       "      <th>cast</th>\n",
       "      <th>roi</th>\n",
       "      <th>director</th>\n",
       "    </tr>\n",
       "  </thead>\n",
       "  <tbody>\n",
       "    <tr>\n",
       "      <th>0</th>\n",
       "      <td>19995</td>\n",
       "      <td>237000000</td>\n",
       "      <td>[{\"id\": 28, \"name\": \"Action\"}, {\"id\": 12, \"nam...</td>\n",
       "      <td>Avatar</td>\n",
       "      <td>2009-12-10</td>\n",
       "      <td>...</td>\n",
       "      <td>11800</td>\n",
       "      <td>[{'credit_id': '52fe48009251416c750aca23', 'de...</td>\n",
       "      <td>[{\"cast_id\": 242, \"character\": \"Jake Sully\", \"...</td>\n",
       "      <td>11.763566</td>\n",
       "      <td>James Cameron</td>\n",
       "    </tr>\n",
       "    <tr>\n",
       "      <th>1</th>\n",
       "      <td>285</td>\n",
       "      <td>300000000</td>\n",
       "      <td>[{\"id\": 12, \"name\": \"Adventure\"}, {\"id\": 14, \"...</td>\n",
       "      <td>Pirates of the Caribbean: At World's End</td>\n",
       "      <td>2007-05-19</td>\n",
       "      <td>...</td>\n",
       "      <td>4500</td>\n",
       "      <td>[{'credit_id': '52fe4232c3a36847f800b579', 'de...</td>\n",
       "      <td>[{\"cast_id\": 4, \"character\": \"Captain Jack Spa...</td>\n",
       "      <td>3.203333</td>\n",
       "      <td>Gore Verbinski</td>\n",
       "    </tr>\n",
       "  </tbody>\n",
       "</table>\n",
       "<p>2 rows × 12 columns</p>\n",
       "</div>"
      ],
      "text/plain": [
       "      id     budget                                             genres  \\\n",
       "0  19995  237000000  [{\"id\": 28, \"name\": \"Action\"}, {\"id\": 12, \"nam...   \n",
       "1    285  300000000  [{\"id\": 12, \"name\": \"Adventure\"}, {\"id\": 14, \"...   \n",
       "\n",
       "                                      title release_date  ...  vote_count  \\\n",
       "0                                    Avatar   2009-12-10  ...       11800   \n",
       "1  Pirates of the Caribbean: At World's End   2007-05-19  ...        4500   \n",
       "\n",
       "                                                crew  \\\n",
       "0  [{'credit_id': '52fe48009251416c750aca23', 'de...   \n",
       "1  [{'credit_id': '52fe4232c3a36847f800b579', 'de...   \n",
       "\n",
       "                                                cast        roi  \\\n",
       "0  [{\"cast_id\": 242, \"character\": \"Jake Sully\", \"...  11.763566   \n",
       "1  [{\"cast_id\": 4, \"character\": \"Captain Jack Spa...   3.203333   \n",
       "\n",
       "         director  \n",
       "0   James Cameron  \n",
       "1  Gore Verbinski  \n",
       "\n",
       "[2 rows x 12 columns]"
      ]
     },
     "execution_count": 16,
     "metadata": {},
     "output_type": "execute_result"
    }
   ],
   "source": [
    "df.head(2)"
   ]
  },
  {
   "cell_type": "code",
   "execution_count": 17,
   "metadata": {},
   "outputs": [
    {
     "data": {
      "text/plain": [
       "'[{\"cast_id\": 242, \"character\": \"Jake Sully\", \"credit_id\": \"5602a8a7c3a3685532001c9a\", \"gender\": 2, \"id\": 65731, \"name\": \"Sam Worthington\", \"order\": 0}, {\"cast_id\": 3, \"character\": \"Neytiri\", \"credit_id\": \"52fe48009251416c750ac9cb\", \"gender\": 1, \"id\": 8691, \"name\": \"Zoe Saldana\", \"order\": 1}, {\"cast_id\": 25, \"character\": \"Dr. Grace Augustine\", \"credit_id\": \"52fe48009251416c750aca39\", \"gender\": 1, \"id\": 10205, \"name\": \"Sigourney Weaver\", \"order\": 2}, {\"cast_id\": 4, \"character\": \"Col. Quaritch\", \"credit_id\": \"52fe48009251416c750ac9cf\", \"gender\": 2, \"id\": 32747, \"name\": \"Stephen Lang\", \"order\": 3}, {\"cast_id\": 5, \"character\": \"Trudy Chacon\", \"credit_id\": \"52fe48009251416c750ac9d3\", \"gender\": 1, \"id\": 17647, \"name\": \"Michelle Rodriguez\", \"order\": 4}, {\"cast_id\": 8, \"character\": \"Selfridge\", \"credit_id\": \"52fe48009251416c750ac9e1\", \"gender\": 2, \"id\": 1771, \"name\": \"Giovanni Ribisi\", \"order\": 5}, {\"cast_id\": 7, \"character\": \"Norm Spellman\", \"credit_id\": \"52fe48009251416c750ac9dd\", \"gender\": 2, \"id\": 59231, \"name\": \"Joel David Moore\", \"order\": 6}, {\"cast_id\": 9, \"character\": \"Moat\", \"credit_id\": \"52fe48009251416c750ac9e5\", \"gender\": 1, \"id\": 30485, \"name\": \"CCH Pounder\", \"order\": 7}, {\"cast_id\": 11, \"character\": \"Eytukan\", \"credit_id\": \"52fe48009251416c750ac9ed\", \"gender\": 2, \"id\": 15853, \"name\": \"Wes Studi\", \"order\": 8}, {\"cast_id\": 10, \"character\": \"Tsu\\'Tey\", \"credit_id\": \"52fe48009251416c750ac9e9\", \"gender\": 2, \"id\": 10964, \"name\": \"Laz Alonso\", \"order\": 9}, {\"cast_id\": 12, \"character\": \"Dr. Max Patel\", \"credit_id\": \"52fe48009251416c750ac9f1\", \"gender\": 2, \"id\": 95697, \"name\": \"Dileep Rao\", \"order\": 10}, {\"cast_id\": 13, \"character\": \"Lyle Wainfleet\", \"credit_id\": \"52fe48009251416c750ac9f5\", \"gender\": 2, \"id\": 98215, \"name\": \"Matt Gerald\", \"order\": 11}, {\"cast_id\": 32, \"character\": \"Private Fike\", \"credit_id\": \"52fe48009251416c750aca5b\", \"gender\": 2, \"id\": 154153, \"name\": \"Sean Anthony Moran\", \"order\": 12}, {\"cast_id\": 33, \"character\": \"Cryo Vault Med Tech\", \"credit_id\": \"52fe48009251416c750aca5f\", \"gender\": 2, \"id\": 397312, \"name\": \"Jason Whyte\", \"order\": 13}, {\"cast_id\": 34, \"character\": \"Venture Star Crew Chief\", \"credit_id\": \"52fe48009251416c750aca63\", \"gender\": 2, \"id\": 42317, \"name\": \"Scott Lawrence\", \"order\": 14}, {\"cast_id\": 35, \"character\": \"Lock Up Trooper\", \"credit_id\": \"52fe48009251416c750aca67\", \"gender\": 2, \"id\": 986734, \"name\": \"Kelly Kilgour\", \"order\": 15}, {\"cast_id\": 36, \"character\": \"Shuttle Pilot\", \"credit_id\": \"52fe48009251416c750aca6b\", \"gender\": 0, \"id\": 1207227, \"name\": \"James Patrick Pitt\", \"order\": 16}, {\"cast_id\": 37, \"character\": \"Shuttle Co-Pilot\", \"credit_id\": \"52fe48009251416c750aca6f\", \"gender\": 0, \"id\": 1180936, \"name\": \"Sean Patrick Murphy\", \"order\": 17}, {\"cast_id\": 38, \"character\": \"Shuttle Crew Chief\", \"credit_id\": \"52fe48009251416c750aca73\", \"gender\": 2, \"id\": 1019578, \"name\": \"Peter Dillon\", \"order\": 18}, {\"cast_id\": 39, \"character\": \"Tractor Operator / Troupe\", \"credit_id\": \"52fe48009251416c750aca77\", \"gender\": 0, \"id\": 91443, \"name\": \"Kevin Dorman\", \"order\": 19}, {\"cast_id\": 40, \"character\": \"Dragon Gunship Pilot\", \"credit_id\": \"52fe48009251416c750aca7b\", \"gender\": 2, \"id\": 173391, \"name\": \"Kelson Henderson\", \"order\": 20}, {\"cast_id\": 41, \"character\": \"Dragon Gunship Gunner\", \"credit_id\": \"52fe48009251416c750aca7f\", \"gender\": 0, \"id\": 1207236, \"name\": \"David Van Horn\", \"order\": 21}, {\"cast_id\": 42, \"character\": \"Dragon Gunship Navigator\", \"credit_id\": \"52fe48009251416c750aca83\", \"gender\": 0, \"id\": 215913, \"name\": \"Jacob Tomuri\", \"order\": 22}, {\"cast_id\": 43, \"character\": \"Suit #1\", \"credit_id\": \"52fe48009251416c750aca87\", \"gender\": 0, \"id\": 143206, \"name\": \"Michael Blain-Rozgay\", \"order\": 23}, {\"cast_id\": 44, \"character\": \"Suit #2\", \"credit_id\": \"52fe48009251416c750aca8b\", \"gender\": 2, \"id\": 169676, \"name\": \"Jon Curry\", \"order\": 24}, {\"cast_id\": 46, \"character\": \"Ambient Room Tech\", \"credit_id\": \"52fe48009251416c750aca8f\", \"gender\": 0, \"id\": 1048610, \"name\": \"Luke Hawker\", \"order\": 25}, {\"cast_id\": 47, \"character\": \"Ambient Room Tech / Troupe\", \"credit_id\": \"52fe48009251416c750aca93\", \"gender\": 0, \"id\": 42288, \"name\": \"Woody Schultz\", \"order\": 26}, {\"cast_id\": 48, \"character\": \"Horse Clan Leader\", \"credit_id\": \"52fe48009251416c750aca97\", \"gender\": 2, \"id\": 68278, \"name\": \"Peter Mensah\", \"order\": 27}, {\"cast_id\": 49, \"character\": \"Link Room Tech\", \"credit_id\": \"52fe48009251416c750aca9b\", \"gender\": 0, \"id\": 1207247, \"name\": \"Sonia Yee\", \"order\": 28}, {\"cast_id\": 50, \"character\": \"Basketball Avatar / Troupe\", \"credit_id\": \"52fe48009251416c750aca9f\", \"gender\": 1, \"id\": 1207248, \"name\": \"Jahnel Curfman\", \"order\": 29}, {\"cast_id\": 51, \"character\": \"Basketball Avatar\", \"credit_id\": \"52fe48009251416c750acaa3\", \"gender\": 0, \"id\": 89714, \"name\": \"Ilram Choi\", \"order\": 30}, {\"cast_id\": 52, \"character\": \"Na\\'vi Child\", \"credit_id\": \"52fe48009251416c750acaa7\", \"gender\": 0, \"id\": 1207249, \"name\": \"Kyla Warren\", \"order\": 31}, {\"cast_id\": 53, \"character\": \"Troupe\", \"credit_id\": \"52fe48009251416c750acaab\", \"gender\": 0, \"id\": 1207250, \"name\": \"Lisa Roumain\", \"order\": 32}, {\"cast_id\": 54, \"character\": \"Troupe\", \"credit_id\": \"52fe48009251416c750acaaf\", \"gender\": 1, \"id\": 83105, \"name\": \"Debra Wilson\", \"order\": 33}, {\"cast_id\": 57, \"character\": \"Troupe\", \"credit_id\": \"52fe48009251416c750acabb\", \"gender\": 0, \"id\": 1207253, \"name\": \"Chris Mala\", \"order\": 34}, {\"cast_id\": 55, \"character\": \"Troupe\", \"credit_id\": \"52fe48009251416c750acab3\", \"gender\": 0, \"id\": 1207251, \"name\": \"Taylor Kibby\", \"order\": 35}, {\"cast_id\": 56, \"character\": \"Troupe\", \"credit_id\": \"52fe48009251416c750acab7\", \"gender\": 0, \"id\": 1207252, \"name\": \"Jodie Landau\", \"order\": 36}, {\"cast_id\": 58, \"character\": \"Troupe\", \"credit_id\": \"52fe48009251416c750acabf\", \"gender\": 0, \"id\": 1207254, \"name\": \"Julie Lamm\", \"order\": 37}, {\"cast_id\": 59, \"character\": \"Troupe\", \"credit_id\": \"52fe48009251416c750acac3\", \"gender\": 0, \"id\": 1207257, \"name\": \"Cullen B. Madden\", \"order\": 38}, {\"cast_id\": 60, \"character\": \"Troupe\", \"credit_id\": \"52fe48009251416c750acac7\", \"gender\": 0, \"id\": 1207259, \"name\": \"Joseph Brady Madden\", \"order\": 39}, {\"cast_id\": 61, \"character\": \"Troupe\", \"credit_id\": \"52fe48009251416c750acacb\", \"gender\": 0, \"id\": 1207262, \"name\": \"Frankie Torres\", \"order\": 40}, {\"cast_id\": 62, \"character\": \"Troupe\", \"credit_id\": \"52fe48009251416c750acacf\", \"gender\": 1, \"id\": 1158600, \"name\": \"Austin Wilson\", \"order\": 41}, {\"cast_id\": 63, \"character\": \"Troupe\", \"credit_id\": \"52fe48019251416c750acad3\", \"gender\": 1, \"id\": 983705, \"name\": \"Sara Wilson\", \"order\": 42}, {\"cast_id\": 64, \"character\": \"Troupe\", \"credit_id\": \"52fe48019251416c750acad7\", \"gender\": 0, \"id\": 1207263, \"name\": \"Tamica Washington-Miller\", \"order\": 43}, {\"cast_id\": 65, \"character\": \"Op Center Staff\", \"credit_id\": \"52fe48019251416c750acadb\", \"gender\": 1, \"id\": 1145098, \"name\": \"Lucy Briant\", \"order\": 44}, {\"cast_id\": 66, \"character\": \"Op Center Staff\", \"credit_id\": \"52fe48019251416c750acadf\", \"gender\": 2, \"id\": 33305, \"name\": \"Nathan Meister\", \"order\": 45}, {\"cast_id\": 67, \"character\": \"Op Center Staff\", \"credit_id\": \"52fe48019251416c750acae3\", \"gender\": 0, \"id\": 1207264, \"name\": \"Gerry Blair\", \"order\": 46}, {\"cast_id\": 68, \"character\": \"Op Center Staff\", \"credit_id\": \"52fe48019251416c750acae7\", \"gender\": 2, \"id\": 33311, \"name\": \"Matthew Chamberlain\", \"order\": 47}, {\"cast_id\": 69, \"character\": \"Op Center Staff\", \"credit_id\": \"52fe48019251416c750acaeb\", \"gender\": 0, \"id\": 1207265, \"name\": \"Paul Yates\", \"order\": 48}, {\"cast_id\": 70, \"character\": \"Op Center Duty Officer\", \"credit_id\": \"52fe48019251416c750acaef\", \"gender\": 0, \"id\": 1207266, \"name\": \"Wray Wilson\", \"order\": 49}, {\"cast_id\": 71, \"character\": \"Op Center Staff\", \"credit_id\": \"52fe48019251416c750acaf3\", \"gender\": 2, \"id\": 54492, \"name\": \"James Gaylyn\", \"order\": 50}, {\"cast_id\": 72, \"character\": \"Dancer\", \"credit_id\": \"52fe48019251416c750acaf7\", \"gender\": 0, \"id\": 1207267, \"name\": \"Melvin Leno Clark III\", \"order\": 51}, {\"cast_id\": 73, \"character\": \"Dancer\", \"credit_id\": \"52fe48019251416c750acafb\", \"gender\": 0, \"id\": 1207268, \"name\": \"Carvon Futrell\", \"order\": 52}, {\"cast_id\": 74, \"character\": \"Dancer\", \"credit_id\": \"52fe48019251416c750acaff\", \"gender\": 0, \"id\": 1207269, \"name\": \"Brandon Jelkes\", \"order\": 53}, {\"cast_id\": 75, \"character\": \"Dancer\", \"credit_id\": \"52fe48019251416c750acb03\", \"gender\": 0, \"id\": 1207270, \"name\": \"Micah Moch\", \"order\": 54}, {\"cast_id\": 76, \"character\": \"Dancer\", \"credit_id\": \"52fe48019251416c750acb07\", \"gender\": 0, \"id\": 1207271, \"name\": \"Hanniyah Muhammad\", \"order\": 55}, {\"cast_id\": 77, \"character\": \"Dancer\", \"credit_id\": \"52fe48019251416c750acb0b\", \"gender\": 0, \"id\": 1207272, \"name\": \"Christopher Nolen\", \"order\": 56}, {\"cast_id\": 78, \"character\": \"Dancer\", \"credit_id\": \"52fe48019251416c750acb0f\", \"gender\": 0, \"id\": 1207273, \"name\": \"Christa Oliver\", \"order\": 57}, {\"cast_id\": 79, \"character\": \"Dancer\", \"credit_id\": \"52fe48019251416c750acb13\", \"gender\": 0, \"id\": 1207274, \"name\": \"April Marie Thomas\", \"order\": 58}, {\"cast_id\": 80, \"character\": \"Dancer\", \"credit_id\": \"52fe48019251416c750acb17\", \"gender\": 0, \"id\": 1207275, \"name\": \"Bravita A. Threatt\", \"order\": 59}, {\"cast_id\": 81, \"character\": \"Mining Chief (uncredited)\", \"credit_id\": \"52fe48019251416c750acb1b\", \"gender\": 0, \"id\": 1207276, \"name\": \"Colin Bleasdale\", \"order\": 60}, {\"cast_id\": 82, \"character\": \"Veteran Miner (uncredited)\", \"credit_id\": \"52fe48019251416c750acb1f\", \"gender\": 0, \"id\": 107969, \"name\": \"Mike Bodnar\", \"order\": 61}, {\"cast_id\": 83, \"character\": \"Richard (uncredited)\", \"credit_id\": \"52fe48019251416c750acb23\", \"gender\": 0, \"id\": 1207278, \"name\": \"Matt Clayton\", \"order\": 62}, {\"cast_id\": 84, \"character\": \"Nav\\'i (uncredited)\", \"credit_id\": \"52fe48019251416c750acb27\", \"gender\": 1, \"id\": 147898, \"name\": \"Nicole Dionne\", \"order\": 63}, {\"cast_id\": 85, \"character\": \"Trooper (uncredited)\", \"credit_id\": \"52fe48019251416c750acb2b\", \"gender\": 0, \"id\": 1207280, \"name\": \"Jamie Harrison\", \"order\": 64}, {\"cast_id\": 86, \"character\": \"Trooper (uncredited)\", \"credit_id\": \"52fe48019251416c750acb2f\", \"gender\": 0, \"id\": 1207281, \"name\": \"Allan Henry\", \"order\": 65}, {\"cast_id\": 87, \"character\": \"Ground Technician (uncredited)\", \"credit_id\": \"52fe48019251416c750acb33\", \"gender\": 2, \"id\": 1207282, \"name\": \"Anthony Ingruber\", \"order\": 66}, {\"cast_id\": 88, \"character\": \"Flight Crew Mechanic (uncredited)\", \"credit_id\": \"52fe48019251416c750acb37\", \"gender\": 0, \"id\": 1207283, \"name\": \"Ashley Jeffery\", \"order\": 67}, {\"cast_id\": 14, \"character\": \"Samson Pilot\", \"credit_id\": \"52fe48009251416c750ac9f9\", \"gender\": 0, \"id\": 98216, \"name\": \"Dean Knowsley\", \"order\": 68}, {\"cast_id\": 89, \"character\": \"Trooper (uncredited)\", \"credit_id\": \"52fe48019251416c750acb3b\", \"gender\": 0, \"id\": 1201399, \"name\": \"Joseph Mika-Hunt\", \"order\": 69}, {\"cast_id\": 90, \"character\": \"Banshee (uncredited)\", \"credit_id\": \"52fe48019251416c750acb3f\", \"gender\": 0, \"id\": 236696, \"name\": \"Terry Notary\", \"order\": 70}, {\"cast_id\": 91, \"character\": \"Soldier (uncredited)\", \"credit_id\": \"52fe48019251416c750acb43\", \"gender\": 0, \"id\": 1207287, \"name\": \"Kai Pantano\", \"order\": 71}, {\"cast_id\": 92, \"character\": \"Blast Technician (uncredited)\", \"credit_id\": \"52fe48019251416c750acb47\", \"gender\": 0, \"id\": 1207288, \"name\": \"Logan Pithyou\", \"order\": 72}, {\"cast_id\": 93, \"character\": \"Vindum Raah (uncredited)\", \"credit_id\": \"52fe48019251416c750acb4b\", \"gender\": 0, \"id\": 1207289, \"name\": \"Stuart Pollock\", \"order\": 73}, {\"cast_id\": 94, \"character\": \"Hero (uncredited)\", \"credit_id\": \"52fe48019251416c750acb4f\", \"gender\": 0, \"id\": 584868, \"name\": \"Raja\", \"order\": 74}, {\"cast_id\": 95, \"character\": \"Ops Centreworker (uncredited)\", \"credit_id\": \"52fe48019251416c750acb53\", \"gender\": 0, \"id\": 1207290, \"name\": \"Gareth Ruck\", \"order\": 75}, {\"cast_id\": 96, \"character\": \"Engineer (uncredited)\", \"credit_id\": \"52fe48019251416c750acb57\", \"gender\": 0, \"id\": 1062463, \"name\": \"Rhian Sheehan\", \"order\": 76}, {\"cast_id\": 97, \"character\": \"Col. Quaritch\\'s Mech Suit (uncredited)\", \"credit_id\": \"52fe48019251416c750acb5b\", \"gender\": 0, \"id\": 60656, \"name\": \"T. J. Storm\", \"order\": 77}, {\"cast_id\": 98, \"character\": \"Female Marine (uncredited)\", \"credit_id\": \"52fe48019251416c750acb5f\", \"gender\": 0, \"id\": 1207291, \"name\": \"Jodie Taylor\", \"order\": 78}, {\"cast_id\": 99, \"character\": \"Ikran Clan Leader (uncredited)\", \"credit_id\": \"52fe48019251416c750acb63\", \"gender\": 1, \"id\": 1186027, \"name\": \"Alicia Vela-Bailey\", \"order\": 79}, {\"cast_id\": 100, \"character\": \"Geologist (uncredited)\", \"credit_id\": \"52fe48019251416c750acb67\", \"gender\": 0, \"id\": 1207292, \"name\": \"Richard Whiteside\", \"order\": 80}, {\"cast_id\": 101, \"character\": \"Na\\'vi (uncredited)\", \"credit_id\": \"52fe48019251416c750acb6b\", \"gender\": 0, \"id\": 103259, \"name\": \"Nikie Zambo\", \"order\": 81}, {\"cast_id\": 102, \"character\": \"Ambient Room Tech / Troupe\", \"credit_id\": \"52fe48019251416c750acb6f\", \"gender\": 1, \"id\": 42286, \"name\": \"Julene Renee\", \"order\": 82}]'"
      ]
     },
     "execution_count": 17,
     "metadata": {},
     "output_type": "execute_result"
    }
   ],
   "source": [
    "# 마찬가지로 출연진 컬럼의 내용 확인 \n",
    "df['cast'][0]"
   ]
  },
  {
   "cell_type": "code",
   "execution_count": 18,
   "metadata": {},
   "outputs": [
    {
     "data": {
      "text/html": [
       "<div>\n",
       "<style scoped>\n",
       "    .dataframe tbody tr th:only-of-type {\n",
       "        vertical-align: middle;\n",
       "    }\n",
       "\n",
       "    .dataframe tbody tr th {\n",
       "        vertical-align: top;\n",
       "    }\n",
       "\n",
       "    .dataframe thead th {\n",
       "        text-align: right;\n",
       "    }\n",
       "</style>\n",
       "<table border=\"1\" class=\"dataframe\">\n",
       "  <thead>\n",
       "    <tr style=\"text-align: right;\">\n",
       "      <th></th>\n",
       "      <th>id</th>\n",
       "      <th>budget</th>\n",
       "      <th>genres</th>\n",
       "      <th>title</th>\n",
       "      <th>release_date</th>\n",
       "      <th>...</th>\n",
       "      <th>crew</th>\n",
       "      <th>cast</th>\n",
       "      <th>roi</th>\n",
       "      <th>director</th>\n",
       "      <th>cast_name</th>\n",
       "    </tr>\n",
       "  </thead>\n",
       "  <tbody>\n",
       "    <tr>\n",
       "      <th>0</th>\n",
       "      <td>19995</td>\n",
       "      <td>237000000</td>\n",
       "      <td>[{\"id\": 28, \"name\": \"Action\"}, {\"id\": 12, \"nam...</td>\n",
       "      <td>Avatar</td>\n",
       "      <td>2009-12-10</td>\n",
       "      <td>...</td>\n",
       "      <td>[{'credit_id': '52fe48009251416c750aca23', 'de...</td>\n",
       "      <td>[{\"cast_id\": 242, \"character\": \"Jake Sully\", \"...</td>\n",
       "      <td>11.763566</td>\n",
       "      <td>James Cameron</td>\n",
       "      <td>[Sam Worthington, Zoe Saldana, Sigourney Weave...</td>\n",
       "    </tr>\n",
       "    <tr>\n",
       "      <th>1</th>\n",
       "      <td>285</td>\n",
       "      <td>300000000</td>\n",
       "      <td>[{\"id\": 12, \"name\": \"Adventure\"}, {\"id\": 14, \"...</td>\n",
       "      <td>Pirates of the Caribbean: At World's End</td>\n",
       "      <td>2007-05-19</td>\n",
       "      <td>...</td>\n",
       "      <td>[{'credit_id': '52fe4232c3a36847f800b579', 'de...</td>\n",
       "      <td>[{\"cast_id\": 4, \"character\": \"Captain Jack Spa...</td>\n",
       "      <td>3.203333</td>\n",
       "      <td>Gore Verbinski</td>\n",
       "      <td>[Johnny Depp, Orlando Bloom, Keira Knightley, ...</td>\n",
       "    </tr>\n",
       "  </tbody>\n",
       "</table>\n",
       "<p>2 rows × 13 columns</p>\n",
       "</div>"
      ],
      "text/plain": [
       "      id     budget                                             genres  \\\n",
       "0  19995  237000000  [{\"id\": 28, \"name\": \"Action\"}, {\"id\": 12, \"nam...   \n",
       "1    285  300000000  [{\"id\": 12, \"name\": \"Adventure\"}, {\"id\": 14, \"...   \n",
       "\n",
       "                                      title release_date  ...  \\\n",
       "0                                    Avatar   2009-12-10  ...   \n",
       "1  Pirates of the Caribbean: At World's End   2007-05-19  ...   \n",
       "\n",
       "                                                crew  \\\n",
       "0  [{'credit_id': '52fe48009251416c750aca23', 'de...   \n",
       "1  [{'credit_id': '52fe4232c3a36847f800b579', 'de...   \n",
       "\n",
       "                                                cast        roi  \\\n",
       "0  [{\"cast_id\": 242, \"character\": \"Jake Sully\", \"...  11.763566   \n",
       "1  [{\"cast_id\": 4, \"character\": \"Captain Jack Spa...   3.203333   \n",
       "\n",
       "         director                                          cast_name  \n",
       "0   James Cameron  [Sam Worthington, Zoe Saldana, Sigourney Weave...  \n",
       "1  Gore Verbinski  [Johnny Depp, Orlando Bloom, Keira Knightley, ...  \n",
       "\n",
       "[2 rows x 13 columns]"
      ]
     },
     "execution_count": 18,
     "metadata": {},
     "output_type": "execute_result"
    }
   ],
   "source": [
    "# 감독과 달리 주연배우만 추출이 어려우니 배우들 이름을 확인하는 cast_name 컬럼 생성 \n",
    "df['cast_name'] = df['cast'].apply(lambda x: [i['name'] for i in ast.literal_eval(x)])\n",
    "df.head(2)"
   ]
  },
  {
   "cell_type": "code",
   "execution_count": 19,
   "metadata": {},
   "outputs": [
    {
     "data": {
      "text/plain": [
       "'[{\"id\": 28, \"name\": \"Action\"}, {\"id\": 12, \"name\": \"Adventure\"}, {\"id\": 14, \"name\": \"Fantasy\"}, {\"id\": 878, \"name\": \"Science Fiction\"}]'"
      ]
     },
     "execution_count": 19,
     "metadata": {},
     "output_type": "execute_result"
    }
   ],
   "source": [
    "# 장르도 복수 개의 장르가 표기된 경우가 많으므로 하나의 장르만 뽑아봅시다 \n",
    "df['genres'][0]"
   ]
  },
  {
   "cell_type": "code",
   "execution_count": 20,
   "metadata": {},
   "outputs": [],
   "source": [
    "df['genres'] = df['genres'].apply(ast.literal_eval)"
   ]
  },
  {
   "cell_type": "code",
   "execution_count": 21,
   "metadata": {},
   "outputs": [],
   "source": [
    "def get_genres(x):\n",
    "    if len(x) > 0: return x[0]['name']"
   ]
  },
  {
   "cell_type": "code",
   "execution_count": 22,
   "metadata": {},
   "outputs": [
    {
     "data": {
      "text/html": [
       "<div>\n",
       "<style scoped>\n",
       "    .dataframe tbody tr th:only-of-type {\n",
       "        vertical-align: middle;\n",
       "    }\n",
       "\n",
       "    .dataframe tbody tr th {\n",
       "        vertical-align: top;\n",
       "    }\n",
       "\n",
       "    .dataframe thead th {\n",
       "        text-align: right;\n",
       "    }\n",
       "</style>\n",
       "<table border=\"1\" class=\"dataframe\">\n",
       "  <thead>\n",
       "    <tr style=\"text-align: right;\">\n",
       "      <th></th>\n",
       "      <th>id</th>\n",
       "      <th>budget</th>\n",
       "      <th>genres</th>\n",
       "      <th>title</th>\n",
       "      <th>release_date</th>\n",
       "      <th>...</th>\n",
       "      <th>cast</th>\n",
       "      <th>roi</th>\n",
       "      <th>director</th>\n",
       "      <th>cast_name</th>\n",
       "      <th>main_genre</th>\n",
       "    </tr>\n",
       "  </thead>\n",
       "  <tbody>\n",
       "    <tr>\n",
       "      <th>0</th>\n",
       "      <td>19995</td>\n",
       "      <td>237000000</td>\n",
       "      <td>[{'id': 28, 'name': 'Action'}, {'id': 12, 'nam...</td>\n",
       "      <td>Avatar</td>\n",
       "      <td>2009-12-10</td>\n",
       "      <td>...</td>\n",
       "      <td>[{\"cast_id\": 242, \"character\": \"Jake Sully\", \"...</td>\n",
       "      <td>11.763566</td>\n",
       "      <td>James Cameron</td>\n",
       "      <td>[Sam Worthington, Zoe Saldana, Sigourney Weave...</td>\n",
       "      <td>Action</td>\n",
       "    </tr>\n",
       "    <tr>\n",
       "      <th>1</th>\n",
       "      <td>285</td>\n",
       "      <td>300000000</td>\n",
       "      <td>[{'id': 12, 'name': 'Adventure'}, {'id': 14, '...</td>\n",
       "      <td>Pirates of the Caribbean: At World's End</td>\n",
       "      <td>2007-05-19</td>\n",
       "      <td>...</td>\n",
       "      <td>[{\"cast_id\": 4, \"character\": \"Captain Jack Spa...</td>\n",
       "      <td>3.203333</td>\n",
       "      <td>Gore Verbinski</td>\n",
       "      <td>[Johnny Depp, Orlando Bloom, Keira Knightley, ...</td>\n",
       "      <td>Adventure</td>\n",
       "    </tr>\n",
       "  </tbody>\n",
       "</table>\n",
       "<p>2 rows × 14 columns</p>\n",
       "</div>"
      ],
      "text/plain": [
       "      id     budget                                             genres  \\\n",
       "0  19995  237000000  [{'id': 28, 'name': 'Action'}, {'id': 12, 'nam...   \n",
       "1    285  300000000  [{'id': 12, 'name': 'Adventure'}, {'id': 14, '...   \n",
       "\n",
       "                                      title release_date  ...  \\\n",
       "0                                    Avatar   2009-12-10  ...   \n",
       "1  Pirates of the Caribbean: At World's End   2007-05-19  ...   \n",
       "\n",
       "                                                cast        roi  \\\n",
       "0  [{\"cast_id\": 242, \"character\": \"Jake Sully\", \"...  11.763566   \n",
       "1  [{\"cast_id\": 4, \"character\": \"Captain Jack Spa...   3.203333   \n",
       "\n",
       "         director                                          cast_name  \\\n",
       "0   James Cameron  [Sam Worthington, Zoe Saldana, Sigourney Weave...   \n",
       "1  Gore Verbinski  [Johnny Depp, Orlando Bloom, Keira Knightley, ...   \n",
       "\n",
       "  main_genre  \n",
       "0     Action  \n",
       "1  Adventure  \n",
       "\n",
       "[2 rows x 14 columns]"
      ]
     },
     "execution_count": 22,
     "metadata": {},
     "output_type": "execute_result"
    }
   ],
   "source": [
    "# 가장 앞의 장르를 메인 장르로 판단하고 main_genre 컬럼 생성 \n",
    "df['main_genre'] = df['genres'].apply(get_genres)\n",
    "df.head(2)"
   ]
  },
  {
   "cell_type": "code",
   "execution_count": 23,
   "metadata": {},
   "outputs": [
    {
     "name": "stdout",
     "output_type": "stream",
     "text": [
      "<class 'pandas.core.frame.DataFrame'>\n",
      "RangeIndex: 4803 entries, 0 to 4802\n",
      "Data columns (total 14 columns):\n",
      " #   Column        Non-Null Count  Dtype  \n",
      "---  ------        --------------  -----  \n",
      " 0   id            4803 non-null   int64  \n",
      " 1   budget        4803 non-null   int64  \n",
      " 2   genres        4803 non-null   object \n",
      " 3   title         4803 non-null   object \n",
      " 4   release_date  4802 non-null   object \n",
      " 5   revenue       4803 non-null   int64  \n",
      " 6   vote_average  4803 non-null   float64\n",
      " 7   vote_count    4803 non-null   int64  \n",
      " 8   crew          4803 non-null   object \n",
      " 9   cast          4803 non-null   object \n",
      " 10  roi           3913 non-null   float64\n",
      " 11  director      4773 non-null   object \n",
      " 12  cast_name     4803 non-null   object \n",
      " 13  main_genre    4775 non-null   object \n",
      "dtypes: float64(2), int64(4), object(8)\n",
      "memory usage: 525.5+ KB\n"
     ]
    }
   ],
   "source": [
    "# 그 외에 형변환 작업 필요한 컬럼 확인 \n",
    "df.info()"
   ]
  },
  {
   "cell_type": "code",
   "execution_count": 24,
   "metadata": {},
   "outputs": [],
   "source": [
    "# release_date 컬럼의 데이터가 형태는 제대로 들어가 있지만(%Y-%m-%D) object 형태임을 확인\n",
    "# 날짜형태로 형변환 \n",
    "df['release_date'] = pd.to_datetime(df['release_date'])\n",
    "df['id'] = df['id'].astype(str)"
   ]
  },
  {
   "cell_type": "code",
   "execution_count": 25,
   "metadata": {},
   "outputs": [
    {
     "name": "stdout",
     "output_type": "stream",
     "text": [
      "<class 'pandas.core.frame.DataFrame'>\n",
      "RangeIndex: 4803 entries, 0 to 4802\n",
      "Data columns (total 14 columns):\n",
      " #   Column        Non-Null Count  Dtype         \n",
      "---  ------        --------------  -----         \n",
      " 0   id            4803 non-null   object        \n",
      " 1   budget        4803 non-null   int64         \n",
      " 2   genres        4803 non-null   object        \n",
      " 3   title         4803 non-null   object        \n",
      " 4   release_date  4802 non-null   datetime64[ns]\n",
      " 5   revenue       4803 non-null   int64         \n",
      " 6   vote_average  4803 non-null   float64       \n",
      " 7   vote_count    4803 non-null   int64         \n",
      " 8   crew          4803 non-null   object        \n",
      " 9   cast          4803 non-null   object        \n",
      " 10  roi           3913 non-null   float64       \n",
      " 11  director      4773 non-null   object        \n",
      " 12  cast_name     4803 non-null   object        \n",
      " 13  main_genre    4775 non-null   object        \n",
      "dtypes: datetime64[ns](1), float64(2), int64(3), object(8)\n",
      "memory usage: 525.5+ KB\n"
     ]
    }
   ],
   "source": [
    "df.info()"
   ]
  },
  {
   "cell_type": "code",
   "execution_count": 26,
   "metadata": {},
   "outputs": [
    {
     "data": {
      "text/html": [
       "<div>\n",
       "<style scoped>\n",
       "    .dataframe tbody tr th:only-of-type {\n",
       "        vertical-align: middle;\n",
       "    }\n",
       "\n",
       "    .dataframe tbody tr th {\n",
       "        vertical-align: top;\n",
       "    }\n",
       "\n",
       "    .dataframe thead th {\n",
       "        text-align: right;\n",
       "    }\n",
       "</style>\n",
       "<table border=\"1\" class=\"dataframe\">\n",
       "  <thead>\n",
       "    <tr style=\"text-align: right;\">\n",
       "      <th></th>\n",
       "      <th>id</th>\n",
       "      <th>budget</th>\n",
       "      <th>genres</th>\n",
       "      <th>title</th>\n",
       "      <th>release_date</th>\n",
       "      <th>...</th>\n",
       "      <th>director</th>\n",
       "      <th>cast_name</th>\n",
       "      <th>main_genre</th>\n",
       "      <th>year</th>\n",
       "      <th>month</th>\n",
       "    </tr>\n",
       "  </thead>\n",
       "  <tbody>\n",
       "    <tr>\n",
       "      <th>0</th>\n",
       "      <td>19995</td>\n",
       "      <td>237000000</td>\n",
       "      <td>[{'id': 28, 'name': 'Action'}, {'id': 12, 'nam...</td>\n",
       "      <td>Avatar</td>\n",
       "      <td>2009-12-10</td>\n",
       "      <td>...</td>\n",
       "      <td>James Cameron</td>\n",
       "      <td>[Sam Worthington, Zoe Saldana, Sigourney Weave...</td>\n",
       "      <td>Action</td>\n",
       "      <td>2009.0</td>\n",
       "      <td>12.0</td>\n",
       "    </tr>\n",
       "    <tr>\n",
       "      <th>1</th>\n",
       "      <td>285</td>\n",
       "      <td>300000000</td>\n",
       "      <td>[{'id': 12, 'name': 'Adventure'}, {'id': 14, '...</td>\n",
       "      <td>Pirates of the Caribbean: At World's End</td>\n",
       "      <td>2007-05-19</td>\n",
       "      <td>...</td>\n",
       "      <td>Gore Verbinski</td>\n",
       "      <td>[Johnny Depp, Orlando Bloom, Keira Knightley, ...</td>\n",
       "      <td>Adventure</td>\n",
       "      <td>2007.0</td>\n",
       "      <td>5.0</td>\n",
       "    </tr>\n",
       "  </tbody>\n",
       "</table>\n",
       "<p>2 rows × 16 columns</p>\n",
       "</div>"
      ],
      "text/plain": [
       "      id     budget                                             genres  \\\n",
       "0  19995  237000000  [{'id': 28, 'name': 'Action'}, {'id': 12, 'nam...   \n",
       "1    285  300000000  [{'id': 12, 'name': 'Adventure'}, {'id': 14, '...   \n",
       "\n",
       "                                      title release_date  ...        director  \\\n",
       "0                                    Avatar   2009-12-10  ...   James Cameron   \n",
       "1  Pirates of the Caribbean: At World's End   2007-05-19  ...  Gore Verbinski   \n",
       "\n",
       "                                           cast_name  main_genre    year month  \n",
       "0  [Sam Worthington, Zoe Saldana, Sigourney Weave...      Action  2009.0  12.0  \n",
       "1  [Johnny Depp, Orlando Bloom, Keira Knightley, ...   Adventure  2007.0   5.0  \n",
       "\n",
       "[2 rows x 16 columns]"
      ]
     },
     "execution_count": 26,
     "metadata": {},
     "output_type": "execute_result"
    }
   ],
   "source": [
    "# 나중에 분석이 편하도록 연도와 월에 해당하는 컬럼을 생성 \n",
    "# 여기서 int64형으로 저장하려고 했으나 결측치 행이 있어 astype 함수 활용에 오류 발생 \n",
    "df['year'] = df['release_date'].dt.year\n",
    "df['month'] = df['release_date'].dt.month\n",
    "df.head(2)"
   ]
  },
  {
   "cell_type": "code",
   "execution_count": 27,
   "metadata": {},
   "outputs": [
    {
     "data": {
      "text/html": [
       "<div>\n",
       "<style scoped>\n",
       "    .dataframe tbody tr th:only-of-type {\n",
       "        vertical-align: middle;\n",
       "    }\n",
       "\n",
       "    .dataframe tbody tr th {\n",
       "        vertical-align: top;\n",
       "    }\n",
       "\n",
       "    .dataframe thead th {\n",
       "        text-align: right;\n",
       "    }\n",
       "</style>\n",
       "<table border=\"1\" class=\"dataframe\">\n",
       "  <thead>\n",
       "    <tr style=\"text-align: right;\">\n",
       "      <th></th>\n",
       "      <th>id</th>\n",
       "      <th>budget</th>\n",
       "      <th>genres</th>\n",
       "      <th>title</th>\n",
       "      <th>release_date</th>\n",
       "      <th>...</th>\n",
       "      <th>director</th>\n",
       "      <th>cast_name</th>\n",
       "      <th>main_genre</th>\n",
       "      <th>year</th>\n",
       "      <th>month</th>\n",
       "    </tr>\n",
       "  </thead>\n",
       "  <tbody>\n",
       "    <tr>\n",
       "      <th>4553</th>\n",
       "      <td>380097</td>\n",
       "      <td>0</td>\n",
       "      <td>[]</td>\n",
       "      <td>America Is Still the Place</td>\n",
       "      <td>NaT</td>\n",
       "      <td>...</td>\n",
       "      <td>None</td>\n",
       "      <td>[]</td>\n",
       "      <td>None</td>\n",
       "      <td>NaN</td>\n",
       "      <td>NaN</td>\n",
       "    </tr>\n",
       "  </tbody>\n",
       "</table>\n",
       "<p>1 rows × 16 columns</p>\n",
       "</div>"
      ],
      "text/plain": [
       "          id  budget genres                       title release_date  ...  \\\n",
       "4553  380097       0     []  America Is Still the Place          NaT  ...   \n",
       "\n",
       "      director  cast_name  main_genre year month  \n",
       "4553      None         []        None  NaN   NaN  \n",
       "\n",
       "[1 rows x 16 columns]"
      ]
     },
     "execution_count": 27,
     "metadata": {},
     "output_type": "execute_result"
    }
   ],
   "source": [
    "# 확인해보니까 해당 컬럼은 하나고 내용도 분석에 큰 의미가 없어 보입니다 \n",
    "df.loc[df['release_date'].isna(), :]"
   ]
  },
  {
   "cell_type": "code",
   "execution_count": 28,
   "metadata": {},
   "outputs": [
    {
     "data": {
      "text/plain": [
       "(4802, 16)"
      ]
     },
     "execution_count": 28,
     "metadata": {},
     "output_type": "execute_result"
    }
   ],
   "source": [
    "# 과감하게 제거 후\n",
    "df = df.dropna(subset='release_date')\n",
    "df.shape"
   ]
  },
  {
   "cell_type": "code",
   "execution_count": 29,
   "metadata": {},
   "outputs": [
    {
     "data": {
      "text/html": [
       "<div>\n",
       "<style scoped>\n",
       "    .dataframe tbody tr th:only-of-type {\n",
       "        vertical-align: middle;\n",
       "    }\n",
       "\n",
       "    .dataframe tbody tr th {\n",
       "        vertical-align: top;\n",
       "    }\n",
       "\n",
       "    .dataframe thead th {\n",
       "        text-align: right;\n",
       "    }\n",
       "</style>\n",
       "<table border=\"1\" class=\"dataframe\">\n",
       "  <thead>\n",
       "    <tr style=\"text-align: right;\">\n",
       "      <th></th>\n",
       "      <th>id</th>\n",
       "      <th>budget</th>\n",
       "      <th>genres</th>\n",
       "      <th>title</th>\n",
       "      <th>release_date</th>\n",
       "      <th>...</th>\n",
       "      <th>director</th>\n",
       "      <th>cast_name</th>\n",
       "      <th>main_genre</th>\n",
       "      <th>year</th>\n",
       "      <th>month</th>\n",
       "    </tr>\n",
       "  </thead>\n",
       "  <tbody>\n",
       "    <tr>\n",
       "      <th>0</th>\n",
       "      <td>19995</td>\n",
       "      <td>237000000</td>\n",
       "      <td>[{'id': 28, 'name': 'Action'}, {'id': 12, 'nam...</td>\n",
       "      <td>Avatar</td>\n",
       "      <td>2009-12-10</td>\n",
       "      <td>...</td>\n",
       "      <td>James Cameron</td>\n",
       "      <td>[Sam Worthington, Zoe Saldana, Sigourney Weave...</td>\n",
       "      <td>Action</td>\n",
       "      <td>2009</td>\n",
       "      <td>12</td>\n",
       "    </tr>\n",
       "    <tr>\n",
       "      <th>1</th>\n",
       "      <td>285</td>\n",
       "      <td>300000000</td>\n",
       "      <td>[{'id': 12, 'name': 'Adventure'}, {'id': 14, '...</td>\n",
       "      <td>Pirates of the Caribbean: At World's End</td>\n",
       "      <td>2007-05-19</td>\n",
       "      <td>...</td>\n",
       "      <td>Gore Verbinski</td>\n",
       "      <td>[Johnny Depp, Orlando Bloom, Keira Knightley, ...</td>\n",
       "      <td>Adventure</td>\n",
       "      <td>2007</td>\n",
       "      <td>5</td>\n",
       "    </tr>\n",
       "  </tbody>\n",
       "</table>\n",
       "<p>2 rows × 16 columns</p>\n",
       "</div>"
      ],
      "text/plain": [
       "      id     budget                                             genres  \\\n",
       "0  19995  237000000  [{'id': 28, 'name': 'Action'}, {'id': 12, 'nam...   \n",
       "1    285  300000000  [{'id': 12, 'name': 'Adventure'}, {'id': 14, '...   \n",
       "\n",
       "                                      title release_date  ...        director  \\\n",
       "0                                    Avatar   2009-12-10  ...   James Cameron   \n",
       "1  Pirates of the Caribbean: At World's End   2007-05-19  ...  Gore Verbinski   \n",
       "\n",
       "                                           cast_name  main_genre  year month  \n",
       "0  [Sam Worthington, Zoe Saldana, Sigourney Weave...      Action  2009    12  \n",
       "1  [Johnny Depp, Orlando Bloom, Keira Knightley, ...   Adventure  2007     5  \n",
       "\n",
       "[2 rows x 16 columns]"
      ]
     },
     "execution_count": 29,
     "metadata": {},
     "output_type": "execute_result"
    }
   ],
   "source": [
    "# 나머지 컬럼들은 연도와 월을 정수로 변환 \n",
    "df['year'] = df['year'].astype('int64')\n",
    "df['month'] = df['month'].astype('int64')\n",
    "df.head(2)"
   ]
  },
  {
   "cell_type": "code",
   "execution_count": 30,
   "metadata": {},
   "outputs": [
    {
     "name": "stdout",
     "output_type": "stream",
     "text": [
      "<class 'pandas.core.frame.DataFrame'>\n",
      "Index: 4802 entries, 0 to 4802\n",
      "Data columns (total 16 columns):\n",
      " #   Column        Non-Null Count  Dtype         \n",
      "---  ------        --------------  -----         \n",
      " 0   id            4802 non-null   object        \n",
      " 1   budget        4802 non-null   int64         \n",
      " 2   genres        4802 non-null   object        \n",
      " 3   title         4802 non-null   object        \n",
      " 4   release_date  4802 non-null   datetime64[ns]\n",
      " 5   revenue       4802 non-null   int64         \n",
      " 6   vote_average  4802 non-null   float64       \n",
      " 7   vote_count    4802 non-null   int64         \n",
      " 8   crew          4802 non-null   object        \n",
      " 9   cast          4802 non-null   object        \n",
      " 10  roi           3913 non-null   float64       \n",
      " 11  director      4773 non-null   object        \n",
      " 12  cast_name     4802 non-null   object        \n",
      " 13  main_genre    4775 non-null   object        \n",
      " 14  year          4802 non-null   int64         \n",
      " 15  month         4802 non-null   int64         \n",
      "dtypes: datetime64[ns](1), float64(2), int64(5), object(8)\n",
      "memory usage: 637.8+ KB\n"
     ]
    }
   ],
   "source": [
    "df.info()"
   ]
  },
  {
   "cell_type": "code",
   "execution_count": 31,
   "metadata": {},
   "outputs": [
    {
     "data": {
      "text/plain": [
       "id              0.000000\n",
       "budget          0.000000\n",
       "genres          0.000000\n",
       "title           0.000000\n",
       "release_date    0.000000\n",
       "                  ...   \n",
       "director        0.006039\n",
       "cast_name       0.000000\n",
       "main_genre      0.005623\n",
       "year            0.000000\n",
       "month           0.000000\n",
       "Length: 16, dtype: float64"
      ]
     },
     "execution_count": 31,
     "metadata": {},
     "output_type": "execute_result"
    }
   ],
   "source": [
    "df.isna().sum() / df.shape[0]"
   ]
  },
  {
   "cell_type": "code",
   "execution_count": 32,
   "metadata": {},
   "outputs": [],
   "source": [
    "# release_date 컬럼 결측치 제거 후에도 roi, main_genre 컬럼에 결측치가 존재함을 확인\n",
    "# 메인 장르는 결측치 비율이 매우 낮고 roi가 결측치인 경우 흥행 요인 분석 자체가 어렵습니다 \n",
    "# 따라서 이번 분석에서는 모든 결측치를 단순 제거하기로 결정\n",
    "df.dropna(inplace=True)"
   ]
  },
  {
   "cell_type": "code",
   "execution_count": 33,
   "metadata": {},
   "outputs": [
    {
     "name": "stdout",
     "output_type": "stream",
     "text": [
      "<class 'pandas.core.frame.DataFrame'>\n",
      "Index: 3905 entries, 0 to 4799\n",
      "Data columns (total 16 columns):\n",
      " #   Column        Non-Null Count  Dtype         \n",
      "---  ------        --------------  -----         \n",
      " 0   id            3905 non-null   object        \n",
      " 1   budget        3905 non-null   int64         \n",
      " 2   genres        3905 non-null   object        \n",
      " 3   title         3905 non-null   object        \n",
      " 4   release_date  3905 non-null   datetime64[ns]\n",
      " 5   revenue       3905 non-null   int64         \n",
      " 6   vote_average  3905 non-null   float64       \n",
      " 7   vote_count    3905 non-null   int64         \n",
      " 8   crew          3905 non-null   object        \n",
      " 9   cast          3905 non-null   object        \n",
      " 10  roi           3905 non-null   float64       \n",
      " 11  director      3905 non-null   object        \n",
      " 12  cast_name     3905 non-null   object        \n",
      " 13  main_genre    3905 non-null   object        \n",
      " 14  year          3905 non-null   int64         \n",
      " 15  month         3905 non-null   int64         \n",
      "dtypes: datetime64[ns](1), float64(2), int64(5), object(8)\n",
      "memory usage: 518.6+ KB\n"
     ]
    }
   ],
   "source": [
    "df.info()"
   ]
  },
  {
   "cell_type": "markdown",
   "metadata": {},
   "source": [
    "#### 분석 1: 연도별 흥행 수익 확인하기"
   ]
  },
  {
   "cell_type": "code",
   "execution_count": 34,
   "metadata": {},
   "outputs": [],
   "source": [
    "# 시각화를 활용해 연도별 흥행 수익의 전체적인 추세를 보겠습니다 \n",
    "import plotly.express as px"
   ]
  },
  {
   "cell_type": "code",
   "execution_count": 35,
   "metadata": {},
   "outputs": [],
   "source": [
    "revenue_by_year = df.groupby('year')[['revenue']].sum().reset_index()"
   ]
  },
  {
   "cell_type": "code",
   "execution_count": 36,
   "metadata": {},
   "outputs": [
    {
     "data": {
      "application/vnd.plotly.v1+json": {
       "config": {
        "plotlyServerURL": "https://plot.ly"
       },
       "data": [
        {
         "hovertemplate": "year=%{x}<br>revenue=%{y}<extra></extra>",
         "legendgroup": "",
         "line": {
          "color": "#636efa",
          "dash": "solid"
         },
         "marker": {
          "symbol": "circle"
         },
         "mode": "lines",
         "name": "",
         "orientation": "v",
         "showlegend": false,
         "type": "scatter",
         "x": [
          1916,
          1925,
          1927,
          1929,
          1930,
          1932,
          1933,
          1934,
          1935,
          1936,
          1937,
          1938,
          1939,
          1940,
          1941,
          1942,
          1944,
          1945,
          1946,
          1947,
          1948,
          1949,
          1950,
          1951,
          1952,
          1953,
          1954,
          1955,
          1956,
          1957,
          1958,
          1959,
          1960,
          1961,
          1962,
          1963,
          1964,
          1965,
          1966,
          1967,
          1968,
          1969,
          1970,
          1971,
          1972,
          1973,
          1974,
          1975,
          1976,
          1977,
          1978,
          1979,
          1980,
          1981,
          1982,
          1983,
          1984,
          1985,
          1986,
          1987,
          1988,
          1989,
          1990,
          1991,
          1992,
          1993,
          1994,
          1995,
          1996,
          1997,
          1998,
          1999,
          2000,
          2001,
          2002,
          2003,
          2004,
          2005,
          2006,
          2007,
          2008,
          2009,
          2010,
          2011,
          2012,
          2013,
          2014,
          2015,
          2016
         ],
         "xaxis": "x",
         "y": [
          8394751,
          22000000,
          650422,
          4358000,
          8000000,
          25,
          4481000,
          4500000,
          3202000,
          11236000,
          184925486,
          11433101,
          443531426,
          182792000,
          6000000,
          277909650,
          12255000,
          27132000,
          53694124,
          7800000,
          11968000,
          13200000,
          8000000,
          49000000,
          51200000,
          80000000,
          53071841,
          7000000,
          33800000,
          34300000,
          17570324,
          50000000,
          67400000,
          74456822,
          210075231,
          285843236,
          347014460,
          554756513,
          59350000,
          127792338,
          187554477,
          314385854,
          248016789,
          296241798,
          291382701,
          959589632,
          386167174,
          654497570,
          298333870,
          1460158920,
          959516811,
          989752891,
          1290982451,
          1314928566,
          1852238694,
          1573451743,
          1753708180,
          1498825345,
          1501892986,
          1557331169,
          1933137768,
          2686871601,
          3863771854,
          2664107492,
          3756905404,
          3881952707,
          5928752504,
          6207143123,
          6808007511,
          9634746300,
          8223101034,
          10332740909,
          10952218337,
          13269869789,
          14609857556,
          14211646728,
          16278686567,
          14931589218,
          16635892750,
          16491621655,
          18145379803,
          21072651506,
          20348574768,
          20516921160,
          24141710246,
          23411493295,
          24120490589,
          22775024221,
          14461156948
         ],
         "yaxis": "y"
        }
       ],
       "layout": {
        "legend": {
         "tracegroupgap": 0
        },
        "template": {
         "data": {
          "bar": [
           {
            "error_x": {
             "color": "#2a3f5f"
            },
            "error_y": {
             "color": "#2a3f5f"
            },
            "marker": {
             "line": {
              "color": "#E5ECF6",
              "width": 0.5
             },
             "pattern": {
              "fillmode": "overlay",
              "size": 10,
              "solidity": 0.2
             }
            },
            "type": "bar"
           }
          ],
          "barpolar": [
           {
            "marker": {
             "line": {
              "color": "#E5ECF6",
              "width": 0.5
             },
             "pattern": {
              "fillmode": "overlay",
              "size": 10,
              "solidity": 0.2
             }
            },
            "type": "barpolar"
           }
          ],
          "carpet": [
           {
            "aaxis": {
             "endlinecolor": "#2a3f5f",
             "gridcolor": "white",
             "linecolor": "white",
             "minorgridcolor": "white",
             "startlinecolor": "#2a3f5f"
            },
            "baxis": {
             "endlinecolor": "#2a3f5f",
             "gridcolor": "white",
             "linecolor": "white",
             "minorgridcolor": "white",
             "startlinecolor": "#2a3f5f"
            },
            "type": "carpet"
           }
          ],
          "choropleth": [
           {
            "colorbar": {
             "outlinewidth": 0,
             "ticks": ""
            },
            "type": "choropleth"
           }
          ],
          "contour": [
           {
            "colorbar": {
             "outlinewidth": 0,
             "ticks": ""
            },
            "colorscale": [
             [
              0,
              "#0d0887"
             ],
             [
              0.1111111111111111,
              "#46039f"
             ],
             [
              0.2222222222222222,
              "#7201a8"
             ],
             [
              0.3333333333333333,
              "#9c179e"
             ],
             [
              0.4444444444444444,
              "#bd3786"
             ],
             [
              0.5555555555555556,
              "#d8576b"
             ],
             [
              0.6666666666666666,
              "#ed7953"
             ],
             [
              0.7777777777777778,
              "#fb9f3a"
             ],
             [
              0.8888888888888888,
              "#fdca26"
             ],
             [
              1,
              "#f0f921"
             ]
            ],
            "type": "contour"
           }
          ],
          "contourcarpet": [
           {
            "colorbar": {
             "outlinewidth": 0,
             "ticks": ""
            },
            "type": "contourcarpet"
           }
          ],
          "heatmap": [
           {
            "colorbar": {
             "outlinewidth": 0,
             "ticks": ""
            },
            "colorscale": [
             [
              0,
              "#0d0887"
             ],
             [
              0.1111111111111111,
              "#46039f"
             ],
             [
              0.2222222222222222,
              "#7201a8"
             ],
             [
              0.3333333333333333,
              "#9c179e"
             ],
             [
              0.4444444444444444,
              "#bd3786"
             ],
             [
              0.5555555555555556,
              "#d8576b"
             ],
             [
              0.6666666666666666,
              "#ed7953"
             ],
             [
              0.7777777777777778,
              "#fb9f3a"
             ],
             [
              0.8888888888888888,
              "#fdca26"
             ],
             [
              1,
              "#f0f921"
             ]
            ],
            "type": "heatmap"
           }
          ],
          "heatmapgl": [
           {
            "colorbar": {
             "outlinewidth": 0,
             "ticks": ""
            },
            "colorscale": [
             [
              0,
              "#0d0887"
             ],
             [
              0.1111111111111111,
              "#46039f"
             ],
             [
              0.2222222222222222,
              "#7201a8"
             ],
             [
              0.3333333333333333,
              "#9c179e"
             ],
             [
              0.4444444444444444,
              "#bd3786"
             ],
             [
              0.5555555555555556,
              "#d8576b"
             ],
             [
              0.6666666666666666,
              "#ed7953"
             ],
             [
              0.7777777777777778,
              "#fb9f3a"
             ],
             [
              0.8888888888888888,
              "#fdca26"
             ],
             [
              1,
              "#f0f921"
             ]
            ],
            "type": "heatmapgl"
           }
          ],
          "histogram": [
           {
            "marker": {
             "pattern": {
              "fillmode": "overlay",
              "size": 10,
              "solidity": 0.2
             }
            },
            "type": "histogram"
           }
          ],
          "histogram2d": [
           {
            "colorbar": {
             "outlinewidth": 0,
             "ticks": ""
            },
            "colorscale": [
             [
              0,
              "#0d0887"
             ],
             [
              0.1111111111111111,
              "#46039f"
             ],
             [
              0.2222222222222222,
              "#7201a8"
             ],
             [
              0.3333333333333333,
              "#9c179e"
             ],
             [
              0.4444444444444444,
              "#bd3786"
             ],
             [
              0.5555555555555556,
              "#d8576b"
             ],
             [
              0.6666666666666666,
              "#ed7953"
             ],
             [
              0.7777777777777778,
              "#fb9f3a"
             ],
             [
              0.8888888888888888,
              "#fdca26"
             ],
             [
              1,
              "#f0f921"
             ]
            ],
            "type": "histogram2d"
           }
          ],
          "histogram2dcontour": [
           {
            "colorbar": {
             "outlinewidth": 0,
             "ticks": ""
            },
            "colorscale": [
             [
              0,
              "#0d0887"
             ],
             [
              0.1111111111111111,
              "#46039f"
             ],
             [
              0.2222222222222222,
              "#7201a8"
             ],
             [
              0.3333333333333333,
              "#9c179e"
             ],
             [
              0.4444444444444444,
              "#bd3786"
             ],
             [
              0.5555555555555556,
              "#d8576b"
             ],
             [
              0.6666666666666666,
              "#ed7953"
             ],
             [
              0.7777777777777778,
              "#fb9f3a"
             ],
             [
              0.8888888888888888,
              "#fdca26"
             ],
             [
              1,
              "#f0f921"
             ]
            ],
            "type": "histogram2dcontour"
           }
          ],
          "mesh3d": [
           {
            "colorbar": {
             "outlinewidth": 0,
             "ticks": ""
            },
            "type": "mesh3d"
           }
          ],
          "parcoords": [
           {
            "line": {
             "colorbar": {
              "outlinewidth": 0,
              "ticks": ""
             }
            },
            "type": "parcoords"
           }
          ],
          "pie": [
           {
            "automargin": true,
            "type": "pie"
           }
          ],
          "scatter": [
           {
            "fillpattern": {
             "fillmode": "overlay",
             "size": 10,
             "solidity": 0.2
            },
            "type": "scatter"
           }
          ],
          "scatter3d": [
           {
            "line": {
             "colorbar": {
              "outlinewidth": 0,
              "ticks": ""
             }
            },
            "marker": {
             "colorbar": {
              "outlinewidth": 0,
              "ticks": ""
             }
            },
            "type": "scatter3d"
           }
          ],
          "scattercarpet": [
           {
            "marker": {
             "colorbar": {
              "outlinewidth": 0,
              "ticks": ""
             }
            },
            "type": "scattercarpet"
           }
          ],
          "scattergeo": [
           {
            "marker": {
             "colorbar": {
              "outlinewidth": 0,
              "ticks": ""
             }
            },
            "type": "scattergeo"
           }
          ],
          "scattergl": [
           {
            "marker": {
             "colorbar": {
              "outlinewidth": 0,
              "ticks": ""
             }
            },
            "type": "scattergl"
           }
          ],
          "scattermapbox": [
           {
            "marker": {
             "colorbar": {
              "outlinewidth": 0,
              "ticks": ""
             }
            },
            "type": "scattermapbox"
           }
          ],
          "scatterpolar": [
           {
            "marker": {
             "colorbar": {
              "outlinewidth": 0,
              "ticks": ""
             }
            },
            "type": "scatterpolar"
           }
          ],
          "scatterpolargl": [
           {
            "marker": {
             "colorbar": {
              "outlinewidth": 0,
              "ticks": ""
             }
            },
            "type": "scatterpolargl"
           }
          ],
          "scatterternary": [
           {
            "marker": {
             "colorbar": {
              "outlinewidth": 0,
              "ticks": ""
             }
            },
            "type": "scatterternary"
           }
          ],
          "surface": [
           {
            "colorbar": {
             "outlinewidth": 0,
             "ticks": ""
            },
            "colorscale": [
             [
              0,
              "#0d0887"
             ],
             [
              0.1111111111111111,
              "#46039f"
             ],
             [
              0.2222222222222222,
              "#7201a8"
             ],
             [
              0.3333333333333333,
              "#9c179e"
             ],
             [
              0.4444444444444444,
              "#bd3786"
             ],
             [
              0.5555555555555556,
              "#d8576b"
             ],
             [
              0.6666666666666666,
              "#ed7953"
             ],
             [
              0.7777777777777778,
              "#fb9f3a"
             ],
             [
              0.8888888888888888,
              "#fdca26"
             ],
             [
              1,
              "#f0f921"
             ]
            ],
            "type": "surface"
           }
          ],
          "table": [
           {
            "cells": {
             "fill": {
              "color": "#EBF0F8"
             },
             "line": {
              "color": "white"
             }
            },
            "header": {
             "fill": {
              "color": "#C8D4E3"
             },
             "line": {
              "color": "white"
             }
            },
            "type": "table"
           }
          ]
         },
         "layout": {
          "annotationdefaults": {
           "arrowcolor": "#2a3f5f",
           "arrowhead": 0,
           "arrowwidth": 1
          },
          "autotypenumbers": "strict",
          "coloraxis": {
           "colorbar": {
            "outlinewidth": 0,
            "ticks": ""
           }
          },
          "colorscale": {
           "diverging": [
            [
             0,
             "#8e0152"
            ],
            [
             0.1,
             "#c51b7d"
            ],
            [
             0.2,
             "#de77ae"
            ],
            [
             0.3,
             "#f1b6da"
            ],
            [
             0.4,
             "#fde0ef"
            ],
            [
             0.5,
             "#f7f7f7"
            ],
            [
             0.6,
             "#e6f5d0"
            ],
            [
             0.7,
             "#b8e186"
            ],
            [
             0.8,
             "#7fbc41"
            ],
            [
             0.9,
             "#4d9221"
            ],
            [
             1,
             "#276419"
            ]
           ],
           "sequential": [
            [
             0,
             "#0d0887"
            ],
            [
             0.1111111111111111,
             "#46039f"
            ],
            [
             0.2222222222222222,
             "#7201a8"
            ],
            [
             0.3333333333333333,
             "#9c179e"
            ],
            [
             0.4444444444444444,
             "#bd3786"
            ],
            [
             0.5555555555555556,
             "#d8576b"
            ],
            [
             0.6666666666666666,
             "#ed7953"
            ],
            [
             0.7777777777777778,
             "#fb9f3a"
            ],
            [
             0.8888888888888888,
             "#fdca26"
            ],
            [
             1,
             "#f0f921"
            ]
           ],
           "sequentialminus": [
            [
             0,
             "#0d0887"
            ],
            [
             0.1111111111111111,
             "#46039f"
            ],
            [
             0.2222222222222222,
             "#7201a8"
            ],
            [
             0.3333333333333333,
             "#9c179e"
            ],
            [
             0.4444444444444444,
             "#bd3786"
            ],
            [
             0.5555555555555556,
             "#d8576b"
            ],
            [
             0.6666666666666666,
             "#ed7953"
            ],
            [
             0.7777777777777778,
             "#fb9f3a"
            ],
            [
             0.8888888888888888,
             "#fdca26"
            ],
            [
             1,
             "#f0f921"
            ]
           ]
          },
          "colorway": [
           "#636efa",
           "#EF553B",
           "#00cc96",
           "#ab63fa",
           "#FFA15A",
           "#19d3f3",
           "#FF6692",
           "#B6E880",
           "#FF97FF",
           "#FECB52"
          ],
          "font": {
           "color": "#2a3f5f"
          },
          "geo": {
           "bgcolor": "white",
           "lakecolor": "white",
           "landcolor": "#E5ECF6",
           "showlakes": true,
           "showland": true,
           "subunitcolor": "white"
          },
          "hoverlabel": {
           "align": "left"
          },
          "hovermode": "closest",
          "mapbox": {
           "style": "light"
          },
          "paper_bgcolor": "white",
          "plot_bgcolor": "#E5ECF6",
          "polar": {
           "angularaxis": {
            "gridcolor": "white",
            "linecolor": "white",
            "ticks": ""
           },
           "bgcolor": "#E5ECF6",
           "radialaxis": {
            "gridcolor": "white",
            "linecolor": "white",
            "ticks": ""
           }
          },
          "scene": {
           "xaxis": {
            "backgroundcolor": "#E5ECF6",
            "gridcolor": "white",
            "gridwidth": 2,
            "linecolor": "white",
            "showbackground": true,
            "ticks": "",
            "zerolinecolor": "white"
           },
           "yaxis": {
            "backgroundcolor": "#E5ECF6",
            "gridcolor": "white",
            "gridwidth": 2,
            "linecolor": "white",
            "showbackground": true,
            "ticks": "",
            "zerolinecolor": "white"
           },
           "zaxis": {
            "backgroundcolor": "#E5ECF6",
            "gridcolor": "white",
            "gridwidth": 2,
            "linecolor": "white",
            "showbackground": true,
            "ticks": "",
            "zerolinecolor": "white"
           }
          },
          "shapedefaults": {
           "line": {
            "color": "#2a3f5f"
           }
          },
          "ternary": {
           "aaxis": {
            "gridcolor": "white",
            "linecolor": "white",
            "ticks": ""
           },
           "baxis": {
            "gridcolor": "white",
            "linecolor": "white",
            "ticks": ""
           },
           "bgcolor": "#E5ECF6",
           "caxis": {
            "gridcolor": "white",
            "linecolor": "white",
            "ticks": ""
           }
          },
          "title": {
           "x": 0.05
          },
          "xaxis": {
           "automargin": true,
           "gridcolor": "white",
           "linecolor": "white",
           "ticks": "",
           "title": {
            "standoff": 15
           },
           "zerolinecolor": "white",
           "zerolinewidth": 2
          },
          "yaxis": {
           "automargin": true,
           "gridcolor": "white",
           "linecolor": "white",
           "ticks": "",
           "title": {
            "standoff": 15
           },
           "zerolinecolor": "white",
           "zerolinewidth": 2
          }
         }
        },
        "title": {
         "text": "연도별 영화 흥행 수익"
        },
        "xaxis": {
         "anchor": "y",
         "domain": [
          0,
          1
         ],
         "title": {
          "text": "year"
         }
        },
        "yaxis": {
         "anchor": "x",
         "domain": [
          0,
          1
         ],
         "title": {
          "text": "revenue"
         }
        }
       }
      }
     },
     "metadata": {},
     "output_type": "display_data"
    }
   ],
   "source": [
    "fig = px.line(data_frame=revenue_by_year, x='year', y='revenue', title='연도별 영화 흥행 수익')\n",
    "fig.show()"
   ]
  },
  {
   "cell_type": "markdown",
   "metadata": {},
   "source": [
    "###### 영화 흥행 수익의 빠른 발전을 확인할 수 있고, 2010년대 들어 급격한 상승도 눈에 띕니다. "
   ]
  },
  {
   "cell_type": "code",
   "execution_count": 37,
   "metadata": {},
   "outputs": [
    {
     "data": {
      "text/plain": [
       "count    3905.000000\n",
       "mean     2002.206146\n",
       "std        12.750332\n",
       "min      1916.000000\n",
       "25%      1999.000000\n",
       "50%      2005.000000\n",
       "75%      2011.000000\n",
       "max      2016.000000\n",
       "Name: year, dtype: float64"
      ]
     },
     "execution_count": 37,
     "metadata": {},
     "output_type": "execute_result"
    }
   ],
   "source": [
    "df['year'].describe()"
   ]
  },
  {
   "cell_type": "code",
   "execution_count": 38,
   "metadata": {},
   "outputs": [
    {
     "data": {
      "text/plain": [
       "Timestamp('2016-09-16 00:00:00')"
      ]
     },
     "execution_count": 38,
     "metadata": {},
     "output_type": "execute_result"
    }
   ],
   "source": [
    "df['release_date'].max()"
   ]
  },
  {
   "cell_type": "markdown",
   "metadata": {},
   "source": [
    "###### 2015 -> 2016년 사이의 급격한 하락세는 해당 데이터셋이 2016년 9월 개봉작까지의 데이터이고 \n",
    "###### 따라서 아직 벌어들일 수익이 남은 2016년 영화들의 roi가 확정되지 않았기 때문으로 보입니다. "
   ]
  },
  {
   "cell_type": "markdown",
   "metadata": {},
   "source": [
    "#### 분석 2: 가장 흥행한 10개의 영화들"
   ]
  },
  {
   "cell_type": "code",
   "execution_count": 39,
   "metadata": {},
   "outputs": [
    {
     "data": {
      "application/vnd.plotly.v1+json": {
       "config": {
        "plotlyServerURL": "https://plot.ly"
       },
       "data": [
        {
         "alignmentgroup": "True",
         "hovertemplate": "title=%{x}<br>revenue=%{y}<extra></extra>",
         "legendgroup": "",
         "marker": {
          "color": "#636efa",
          "pattern": {
           "shape": ""
          }
         },
         "name": "",
         "offsetgroup": "",
         "orientation": "v",
         "showlegend": false,
         "textposition": "auto",
         "type": "bar",
         "x": [
          "Avatar",
          "Titanic",
          "The Avengers",
          "Jurassic World",
          "Furious 7",
          "Avengers: Age of Ultron",
          "Frozen",
          "Iron Man 3",
          "Minions",
          "Captain America: Civil War"
         ],
         "xaxis": "x",
         "y": [
          2787965087,
          1845034188,
          1519557910,
          1513528810,
          1506249360,
          1405403694,
          1274219009,
          1215439994,
          1156730962,
          1153304495
         ],
         "yaxis": "y"
        }
       ],
       "layout": {
        "barmode": "relative",
        "legend": {
         "tracegroupgap": 0
        },
        "template": {
         "data": {
          "bar": [
           {
            "error_x": {
             "color": "#2a3f5f"
            },
            "error_y": {
             "color": "#2a3f5f"
            },
            "marker": {
             "line": {
              "color": "#E5ECF6",
              "width": 0.5
             },
             "pattern": {
              "fillmode": "overlay",
              "size": 10,
              "solidity": 0.2
             }
            },
            "type": "bar"
           }
          ],
          "barpolar": [
           {
            "marker": {
             "line": {
              "color": "#E5ECF6",
              "width": 0.5
             },
             "pattern": {
              "fillmode": "overlay",
              "size": 10,
              "solidity": 0.2
             }
            },
            "type": "barpolar"
           }
          ],
          "carpet": [
           {
            "aaxis": {
             "endlinecolor": "#2a3f5f",
             "gridcolor": "white",
             "linecolor": "white",
             "minorgridcolor": "white",
             "startlinecolor": "#2a3f5f"
            },
            "baxis": {
             "endlinecolor": "#2a3f5f",
             "gridcolor": "white",
             "linecolor": "white",
             "minorgridcolor": "white",
             "startlinecolor": "#2a3f5f"
            },
            "type": "carpet"
           }
          ],
          "choropleth": [
           {
            "colorbar": {
             "outlinewidth": 0,
             "ticks": ""
            },
            "type": "choropleth"
           }
          ],
          "contour": [
           {
            "colorbar": {
             "outlinewidth": 0,
             "ticks": ""
            },
            "colorscale": [
             [
              0,
              "#0d0887"
             ],
             [
              0.1111111111111111,
              "#46039f"
             ],
             [
              0.2222222222222222,
              "#7201a8"
             ],
             [
              0.3333333333333333,
              "#9c179e"
             ],
             [
              0.4444444444444444,
              "#bd3786"
             ],
             [
              0.5555555555555556,
              "#d8576b"
             ],
             [
              0.6666666666666666,
              "#ed7953"
             ],
             [
              0.7777777777777778,
              "#fb9f3a"
             ],
             [
              0.8888888888888888,
              "#fdca26"
             ],
             [
              1,
              "#f0f921"
             ]
            ],
            "type": "contour"
           }
          ],
          "contourcarpet": [
           {
            "colorbar": {
             "outlinewidth": 0,
             "ticks": ""
            },
            "type": "contourcarpet"
           }
          ],
          "heatmap": [
           {
            "colorbar": {
             "outlinewidth": 0,
             "ticks": ""
            },
            "colorscale": [
             [
              0,
              "#0d0887"
             ],
             [
              0.1111111111111111,
              "#46039f"
             ],
             [
              0.2222222222222222,
              "#7201a8"
             ],
             [
              0.3333333333333333,
              "#9c179e"
             ],
             [
              0.4444444444444444,
              "#bd3786"
             ],
             [
              0.5555555555555556,
              "#d8576b"
             ],
             [
              0.6666666666666666,
              "#ed7953"
             ],
             [
              0.7777777777777778,
              "#fb9f3a"
             ],
             [
              0.8888888888888888,
              "#fdca26"
             ],
             [
              1,
              "#f0f921"
             ]
            ],
            "type": "heatmap"
           }
          ],
          "heatmapgl": [
           {
            "colorbar": {
             "outlinewidth": 0,
             "ticks": ""
            },
            "colorscale": [
             [
              0,
              "#0d0887"
             ],
             [
              0.1111111111111111,
              "#46039f"
             ],
             [
              0.2222222222222222,
              "#7201a8"
             ],
             [
              0.3333333333333333,
              "#9c179e"
             ],
             [
              0.4444444444444444,
              "#bd3786"
             ],
             [
              0.5555555555555556,
              "#d8576b"
             ],
             [
              0.6666666666666666,
              "#ed7953"
             ],
             [
              0.7777777777777778,
              "#fb9f3a"
             ],
             [
              0.8888888888888888,
              "#fdca26"
             ],
             [
              1,
              "#f0f921"
             ]
            ],
            "type": "heatmapgl"
           }
          ],
          "histogram": [
           {
            "marker": {
             "pattern": {
              "fillmode": "overlay",
              "size": 10,
              "solidity": 0.2
             }
            },
            "type": "histogram"
           }
          ],
          "histogram2d": [
           {
            "colorbar": {
             "outlinewidth": 0,
             "ticks": ""
            },
            "colorscale": [
             [
              0,
              "#0d0887"
             ],
             [
              0.1111111111111111,
              "#46039f"
             ],
             [
              0.2222222222222222,
              "#7201a8"
             ],
             [
              0.3333333333333333,
              "#9c179e"
             ],
             [
              0.4444444444444444,
              "#bd3786"
             ],
             [
              0.5555555555555556,
              "#d8576b"
             ],
             [
              0.6666666666666666,
              "#ed7953"
             ],
             [
              0.7777777777777778,
              "#fb9f3a"
             ],
             [
              0.8888888888888888,
              "#fdca26"
             ],
             [
              1,
              "#f0f921"
             ]
            ],
            "type": "histogram2d"
           }
          ],
          "histogram2dcontour": [
           {
            "colorbar": {
             "outlinewidth": 0,
             "ticks": ""
            },
            "colorscale": [
             [
              0,
              "#0d0887"
             ],
             [
              0.1111111111111111,
              "#46039f"
             ],
             [
              0.2222222222222222,
              "#7201a8"
             ],
             [
              0.3333333333333333,
              "#9c179e"
             ],
             [
              0.4444444444444444,
              "#bd3786"
             ],
             [
              0.5555555555555556,
              "#d8576b"
             ],
             [
              0.6666666666666666,
              "#ed7953"
             ],
             [
              0.7777777777777778,
              "#fb9f3a"
             ],
             [
              0.8888888888888888,
              "#fdca26"
             ],
             [
              1,
              "#f0f921"
             ]
            ],
            "type": "histogram2dcontour"
           }
          ],
          "mesh3d": [
           {
            "colorbar": {
             "outlinewidth": 0,
             "ticks": ""
            },
            "type": "mesh3d"
           }
          ],
          "parcoords": [
           {
            "line": {
             "colorbar": {
              "outlinewidth": 0,
              "ticks": ""
             }
            },
            "type": "parcoords"
           }
          ],
          "pie": [
           {
            "automargin": true,
            "type": "pie"
           }
          ],
          "scatter": [
           {
            "fillpattern": {
             "fillmode": "overlay",
             "size": 10,
             "solidity": 0.2
            },
            "type": "scatter"
           }
          ],
          "scatter3d": [
           {
            "line": {
             "colorbar": {
              "outlinewidth": 0,
              "ticks": ""
             }
            },
            "marker": {
             "colorbar": {
              "outlinewidth": 0,
              "ticks": ""
             }
            },
            "type": "scatter3d"
           }
          ],
          "scattercarpet": [
           {
            "marker": {
             "colorbar": {
              "outlinewidth": 0,
              "ticks": ""
             }
            },
            "type": "scattercarpet"
           }
          ],
          "scattergeo": [
           {
            "marker": {
             "colorbar": {
              "outlinewidth": 0,
              "ticks": ""
             }
            },
            "type": "scattergeo"
           }
          ],
          "scattergl": [
           {
            "marker": {
             "colorbar": {
              "outlinewidth": 0,
              "ticks": ""
             }
            },
            "type": "scattergl"
           }
          ],
          "scattermapbox": [
           {
            "marker": {
             "colorbar": {
              "outlinewidth": 0,
              "ticks": ""
             }
            },
            "type": "scattermapbox"
           }
          ],
          "scatterpolar": [
           {
            "marker": {
             "colorbar": {
              "outlinewidth": 0,
              "ticks": ""
             }
            },
            "type": "scatterpolar"
           }
          ],
          "scatterpolargl": [
           {
            "marker": {
             "colorbar": {
              "outlinewidth": 0,
              "ticks": ""
             }
            },
            "type": "scatterpolargl"
           }
          ],
          "scatterternary": [
           {
            "marker": {
             "colorbar": {
              "outlinewidth": 0,
              "ticks": ""
             }
            },
            "type": "scatterternary"
           }
          ],
          "surface": [
           {
            "colorbar": {
             "outlinewidth": 0,
             "ticks": ""
            },
            "colorscale": [
             [
              0,
              "#0d0887"
             ],
             [
              0.1111111111111111,
              "#46039f"
             ],
             [
              0.2222222222222222,
              "#7201a8"
             ],
             [
              0.3333333333333333,
              "#9c179e"
             ],
             [
              0.4444444444444444,
              "#bd3786"
             ],
             [
              0.5555555555555556,
              "#d8576b"
             ],
             [
              0.6666666666666666,
              "#ed7953"
             ],
             [
              0.7777777777777778,
              "#fb9f3a"
             ],
             [
              0.8888888888888888,
              "#fdca26"
             ],
             [
              1,
              "#f0f921"
             ]
            ],
            "type": "surface"
           }
          ],
          "table": [
           {
            "cells": {
             "fill": {
              "color": "#EBF0F8"
             },
             "line": {
              "color": "white"
             }
            },
            "header": {
             "fill": {
              "color": "#C8D4E3"
             },
             "line": {
              "color": "white"
             }
            },
            "type": "table"
           }
          ]
         },
         "layout": {
          "annotationdefaults": {
           "arrowcolor": "#2a3f5f",
           "arrowhead": 0,
           "arrowwidth": 1
          },
          "autotypenumbers": "strict",
          "coloraxis": {
           "colorbar": {
            "outlinewidth": 0,
            "ticks": ""
           }
          },
          "colorscale": {
           "diverging": [
            [
             0,
             "#8e0152"
            ],
            [
             0.1,
             "#c51b7d"
            ],
            [
             0.2,
             "#de77ae"
            ],
            [
             0.3,
             "#f1b6da"
            ],
            [
             0.4,
             "#fde0ef"
            ],
            [
             0.5,
             "#f7f7f7"
            ],
            [
             0.6,
             "#e6f5d0"
            ],
            [
             0.7,
             "#b8e186"
            ],
            [
             0.8,
             "#7fbc41"
            ],
            [
             0.9,
             "#4d9221"
            ],
            [
             1,
             "#276419"
            ]
           ],
           "sequential": [
            [
             0,
             "#0d0887"
            ],
            [
             0.1111111111111111,
             "#46039f"
            ],
            [
             0.2222222222222222,
             "#7201a8"
            ],
            [
             0.3333333333333333,
             "#9c179e"
            ],
            [
             0.4444444444444444,
             "#bd3786"
            ],
            [
             0.5555555555555556,
             "#d8576b"
            ],
            [
             0.6666666666666666,
             "#ed7953"
            ],
            [
             0.7777777777777778,
             "#fb9f3a"
            ],
            [
             0.8888888888888888,
             "#fdca26"
            ],
            [
             1,
             "#f0f921"
            ]
           ],
           "sequentialminus": [
            [
             0,
             "#0d0887"
            ],
            [
             0.1111111111111111,
             "#46039f"
            ],
            [
             0.2222222222222222,
             "#7201a8"
            ],
            [
             0.3333333333333333,
             "#9c179e"
            ],
            [
             0.4444444444444444,
             "#bd3786"
            ],
            [
             0.5555555555555556,
             "#d8576b"
            ],
            [
             0.6666666666666666,
             "#ed7953"
            ],
            [
             0.7777777777777778,
             "#fb9f3a"
            ],
            [
             0.8888888888888888,
             "#fdca26"
            ],
            [
             1,
             "#f0f921"
            ]
           ]
          },
          "colorway": [
           "#636efa",
           "#EF553B",
           "#00cc96",
           "#ab63fa",
           "#FFA15A",
           "#19d3f3",
           "#FF6692",
           "#B6E880",
           "#FF97FF",
           "#FECB52"
          ],
          "font": {
           "color": "#2a3f5f"
          },
          "geo": {
           "bgcolor": "white",
           "lakecolor": "white",
           "landcolor": "#E5ECF6",
           "showlakes": true,
           "showland": true,
           "subunitcolor": "white"
          },
          "hoverlabel": {
           "align": "left"
          },
          "hovermode": "closest",
          "mapbox": {
           "style": "light"
          },
          "paper_bgcolor": "white",
          "plot_bgcolor": "#E5ECF6",
          "polar": {
           "angularaxis": {
            "gridcolor": "white",
            "linecolor": "white",
            "ticks": ""
           },
           "bgcolor": "#E5ECF6",
           "radialaxis": {
            "gridcolor": "white",
            "linecolor": "white",
            "ticks": ""
           }
          },
          "scene": {
           "xaxis": {
            "backgroundcolor": "#E5ECF6",
            "gridcolor": "white",
            "gridwidth": 2,
            "linecolor": "white",
            "showbackground": true,
            "ticks": "",
            "zerolinecolor": "white"
           },
           "yaxis": {
            "backgroundcolor": "#E5ECF6",
            "gridcolor": "white",
            "gridwidth": 2,
            "linecolor": "white",
            "showbackground": true,
            "ticks": "",
            "zerolinecolor": "white"
           },
           "zaxis": {
            "backgroundcolor": "#E5ECF6",
            "gridcolor": "white",
            "gridwidth": 2,
            "linecolor": "white",
            "showbackground": true,
            "ticks": "",
            "zerolinecolor": "white"
           }
          },
          "shapedefaults": {
           "line": {
            "color": "#2a3f5f"
           }
          },
          "ternary": {
           "aaxis": {
            "gridcolor": "white",
            "linecolor": "white",
            "ticks": ""
           },
           "baxis": {
            "gridcolor": "white",
            "linecolor": "white",
            "ticks": ""
           },
           "bgcolor": "#E5ECF6",
           "caxis": {
            "gridcolor": "white",
            "linecolor": "white",
            "ticks": ""
           }
          },
          "title": {
           "x": 0.05
          },
          "xaxis": {
           "automargin": true,
           "gridcolor": "white",
           "linecolor": "white",
           "ticks": "",
           "title": {
            "standoff": 15
           },
           "zerolinecolor": "white",
           "zerolinewidth": 2
          },
          "yaxis": {
           "automargin": true,
           "gridcolor": "white",
           "linecolor": "white",
           "ticks": "",
           "title": {
            "standoff": 15
           },
           "zerolinecolor": "white",
           "zerolinewidth": 2
          }
         }
        },
        "title": {
         "text": "최고 흥행수익 영화"
        },
        "xaxis": {
         "anchor": "y",
         "domain": [
          0,
          1
         ],
         "title": {
          "text": "title"
         }
        },
        "yaxis": {
         "anchor": "x",
         "domain": [
          0,
          1
         ],
         "title": {
          "text": "revenue"
         }
        }
       }
      }
     },
     "metadata": {},
     "output_type": "display_data"
    }
   ],
   "source": [
    "# 가장 높은 수익을 낸 10개 영화의 수익을 시각화해 보겠습니다.\n",
    "top10 = df.groupby('title')[['revenue', 'year']].sum().reset_index().sort_values(by='revenue', ascending=False).head(10)\n",
    "fig = px.bar(data_frame=top10, x='title', y='revenue', title='최고 흥행수익 영화')\n",
    "fig.show()"
   ]
  },
  {
   "cell_type": "code",
   "execution_count": 40,
   "metadata": {},
   "outputs": [
    {
     "data": {
      "text/html": [
       "<div>\n",
       "<style scoped>\n",
       "    .dataframe tbody tr th:only-of-type {\n",
       "        vertical-align: middle;\n",
       "    }\n",
       "\n",
       "    .dataframe tbody tr th {\n",
       "        vertical-align: top;\n",
       "    }\n",
       "\n",
       "    .dataframe thead th {\n",
       "        text-align: right;\n",
       "    }\n",
       "</style>\n",
       "<table border=\"1\" class=\"dataframe\">\n",
       "  <thead>\n",
       "    <tr style=\"text-align: right;\">\n",
       "      <th></th>\n",
       "      <th>title</th>\n",
       "      <th>revenue</th>\n",
       "      <th>year</th>\n",
       "    </tr>\n",
       "  </thead>\n",
       "  <tbody>\n",
       "    <tr>\n",
       "      <th>310</th>\n",
       "      <td>Avatar</td>\n",
       "      <td>2787965087</td>\n",
       "      <td>2009</td>\n",
       "    </tr>\n",
       "    <tr>\n",
       "      <th>3591</th>\n",
       "      <td>Titanic</td>\n",
       "      <td>1845034188</td>\n",
       "      <td>1997</td>\n",
       "    </tr>\n",
       "    <tr>\n",
       "      <th>2806</th>\n",
       "      <td>The Avengers</td>\n",
       "      <td>1519557910</td>\n",
       "      <td>2012</td>\n",
       "    </tr>\n",
       "    <tr>\n",
       "      <th>1569</th>\n",
       "      <td>Jurassic World</td>\n",
       "      <td>1513528810</td>\n",
       "      <td>2015</td>\n",
       "    </tr>\n",
       "    <tr>\n",
       "      <th>1136</th>\n",
       "      <td>Furious 7</td>\n",
       "      <td>1506249360</td>\n",
       "      <td>2015</td>\n",
       "    </tr>\n",
       "    <tr>\n",
       "      <th>311</th>\n",
       "      <td>Avengers: Age of Ultron</td>\n",
       "      <td>1405403694</td>\n",
       "      <td>2015</td>\n",
       "    </tr>\n",
       "    <tr>\n",
       "      <th>1127</th>\n",
       "      <td>Frozen</td>\n",
       "      <td>1274219009</td>\n",
       "      <td>2013</td>\n",
       "    </tr>\n",
       "    <tr>\n",
       "      <th>1500</th>\n",
       "      <td>Iron Man 3</td>\n",
       "      <td>1215439994</td>\n",
       "      <td>2013</td>\n",
       "    </tr>\n",
       "    <tr>\n",
       "      <th>1847</th>\n",
       "      <td>Minions</td>\n",
       "      <td>1156730962</td>\n",
       "      <td>2015</td>\n",
       "    </tr>\n",
       "    <tr>\n",
       "      <th>553</th>\n",
       "      <td>Captain America: Civil War</td>\n",
       "      <td>1153304495</td>\n",
       "      <td>2016</td>\n",
       "    </tr>\n",
       "  </tbody>\n",
       "</table>\n",
       "</div>"
      ],
      "text/plain": [
       "                           title     revenue  year\n",
       "310                       Avatar  2787965087  2009\n",
       "3591                     Titanic  1845034188  1997\n",
       "2806                The Avengers  1519557910  2012\n",
       "1569              Jurassic World  1513528810  2015\n",
       "1136                   Furious 7  1506249360  2015\n",
       "311      Avengers: Age of Ultron  1405403694  2015\n",
       "1127                      Frozen  1274219009  2013\n",
       "1500                  Iron Man 3  1215439994  2013\n",
       "1847                     Minions  1156730962  2015\n",
       "553   Captain America: Civil War  1153304495  2016"
      ]
     },
     "execution_count": 40,
     "metadata": {},
     "output_type": "execute_result"
    }
   ],
   "source": [
    "top10"
   ]
  },
  {
   "cell_type": "markdown",
   "metadata": {},
   "source": [
    "###### 마블 영화들이 다수 눈에 띄는 가운데 압도적인 수익의 아바타, 1997년작 타이타닉의 선전도 인상적입니다. "
   ]
  },
  {
   "cell_type": "code",
   "execution_count": 41,
   "metadata": {},
   "outputs": [
    {
     "data": {
      "text/html": [
       "<div>\n",
       "<style scoped>\n",
       "    .dataframe tbody tr th:only-of-type {\n",
       "        vertical-align: middle;\n",
       "    }\n",
       "\n",
       "    .dataframe tbody tr th {\n",
       "        vertical-align: top;\n",
       "    }\n",
       "\n",
       "    .dataframe thead th {\n",
       "        text-align: right;\n",
       "    }\n",
       "</style>\n",
       "<table border=\"1\" class=\"dataframe\">\n",
       "  <thead>\n",
       "    <tr style=\"text-align: right;\">\n",
       "      <th></th>\n",
       "      <th>title</th>\n",
       "      <th>roi</th>\n",
       "    </tr>\n",
       "  </thead>\n",
       "  <tbody>\n",
       "    <tr>\n",
       "      <th>1791</th>\n",
       "      <td>Modern Times</td>\n",
       "      <td>8.500000e+06</td>\n",
       "    </tr>\n",
       "    <tr>\n",
       "      <th>1930</th>\n",
       "      <td>Nurse 3-D</td>\n",
       "      <td>1.000000e+06</td>\n",
       "    </tr>\n",
       "    <tr>\n",
       "      <th>2009</th>\n",
       "      <td>Paranormal Activity</td>\n",
       "      <td>1.289039e+04</td>\n",
       "    </tr>\n",
       "    <tr>\n",
       "      <th>2632</th>\n",
       "      <td>Tarnation</td>\n",
       "      <td>5.330339e+03</td>\n",
       "    </tr>\n",
       "    <tr>\n",
       "      <th>2730</th>\n",
       "      <td>The Blair Witch Project</td>\n",
       "      <td>4.133333e+03</td>\n",
       "    </tr>\n",
       "    <tr>\n",
       "      <th>915</th>\n",
       "      <td>Eraserhead</td>\n",
       "      <td>7.000000e+02</td>\n",
       "    </tr>\n",
       "    <tr>\n",
       "      <th>2050</th>\n",
       "      <td>Pink Flamingos</td>\n",
       "      <td>5.000000e+02</td>\n",
       "    </tr>\n",
       "    <tr>\n",
       "      <th>2585</th>\n",
       "      <td>Super Size Me</td>\n",
       "      <td>4.396166e+02</td>\n",
       "    </tr>\n",
       "    <tr>\n",
       "      <th>2896</th>\n",
       "      <td>The Gallows</td>\n",
       "      <td>4.266441e+02</td>\n",
       "    </tr>\n",
       "    <tr>\n",
       "      <th>1974</th>\n",
       "      <td>Open Water</td>\n",
       "      <td>4.205227e+02</td>\n",
       "    </tr>\n",
       "  </tbody>\n",
       "</table>\n",
       "</div>"
      ],
      "text/plain": [
       "                        title           roi\n",
       "1791             Modern Times  8.500000e+06\n",
       "1930                Nurse 3-D  1.000000e+06\n",
       "2009      Paranormal Activity  1.289039e+04\n",
       "2632                Tarnation  5.330339e+03\n",
       "2730  The Blair Witch Project  4.133333e+03\n",
       "915                Eraserhead  7.000000e+02\n",
       "2050           Pink Flamingos  5.000000e+02\n",
       "2585            Super Size Me  4.396166e+02\n",
       "2896              The Gallows  4.266441e+02\n",
       "1974               Open Water  4.205227e+02"
      ]
     },
     "execution_count": 41,
     "metadata": {},
     "output_type": "execute_result"
    }
   ],
   "source": [
    "# 최고 수익률 영화들도 살펴보려 했으나 예산 데이터가 0이라 수익률이 무한대로 산출된 영화들이 다수 발견됩니다 \n",
    "# 수치로만 살펴본 결과 극단적인 수익률의 경우 큰 의미가 없는 것 같습니다.\n",
    "top10_roi = df.loc[df['budget'] != 0, :].groupby('title')['roi'].sum().reset_index().sort_values(by='roi', ascending=False).head(10)\n",
    "# fig = px.bar(data_frame=top10_roi, x='title', y='roi', title='최고 수익률 영화')\n",
    "# fig.show()\n",
    "top10_roi"
   ]
  },
  {
   "cell_type": "code",
   "execution_count": 42,
   "metadata": {},
   "outputs": [
    {
     "data": {
      "application/vnd.plotly.v1+json": {
       "config": {
        "plotlyServerURL": "https://plot.ly"
       },
       "data": [
        {
         "alignmentgroup": "True",
         "hovertemplate": "title=%{x}<br>budget=%{y}<extra></extra>",
         "legendgroup": "",
         "marker": {
          "color": "#636efa",
          "pattern": {
           "shape": ""
          }
         },
         "name": "",
         "offsetgroup": "",
         "orientation": "v",
         "showlegend": false,
         "textposition": "auto",
         "type": "bar",
         "x": [
          "Pirates of the Caribbean: On Stranger Tides",
          "Pirates of the Caribbean: At World's End",
          "Avengers: Age of Ultron",
          "Superman Returns",
          "Tangled",
          "John Carter",
          "Spider-Man 3",
          "The Lone Ranger",
          "The Hobbit: An Unexpected Journey",
          "The Hobbit: The Desolation of Smaug"
         ],
         "xaxis": "x",
         "y": [
          380000000,
          300000000,
          280000000,
          270000000,
          260000000,
          260000000,
          258000000,
          255000000,
          250000000,
          250000000
         ],
         "yaxis": "y"
        }
       ],
       "layout": {
        "barmode": "relative",
        "legend": {
         "tracegroupgap": 0
        },
        "template": {
         "data": {
          "bar": [
           {
            "error_x": {
             "color": "#2a3f5f"
            },
            "error_y": {
             "color": "#2a3f5f"
            },
            "marker": {
             "line": {
              "color": "#E5ECF6",
              "width": 0.5
             },
             "pattern": {
              "fillmode": "overlay",
              "size": 10,
              "solidity": 0.2
             }
            },
            "type": "bar"
           }
          ],
          "barpolar": [
           {
            "marker": {
             "line": {
              "color": "#E5ECF6",
              "width": 0.5
             },
             "pattern": {
              "fillmode": "overlay",
              "size": 10,
              "solidity": 0.2
             }
            },
            "type": "barpolar"
           }
          ],
          "carpet": [
           {
            "aaxis": {
             "endlinecolor": "#2a3f5f",
             "gridcolor": "white",
             "linecolor": "white",
             "minorgridcolor": "white",
             "startlinecolor": "#2a3f5f"
            },
            "baxis": {
             "endlinecolor": "#2a3f5f",
             "gridcolor": "white",
             "linecolor": "white",
             "minorgridcolor": "white",
             "startlinecolor": "#2a3f5f"
            },
            "type": "carpet"
           }
          ],
          "choropleth": [
           {
            "colorbar": {
             "outlinewidth": 0,
             "ticks": ""
            },
            "type": "choropleth"
           }
          ],
          "contour": [
           {
            "colorbar": {
             "outlinewidth": 0,
             "ticks": ""
            },
            "colorscale": [
             [
              0,
              "#0d0887"
             ],
             [
              0.1111111111111111,
              "#46039f"
             ],
             [
              0.2222222222222222,
              "#7201a8"
             ],
             [
              0.3333333333333333,
              "#9c179e"
             ],
             [
              0.4444444444444444,
              "#bd3786"
             ],
             [
              0.5555555555555556,
              "#d8576b"
             ],
             [
              0.6666666666666666,
              "#ed7953"
             ],
             [
              0.7777777777777778,
              "#fb9f3a"
             ],
             [
              0.8888888888888888,
              "#fdca26"
             ],
             [
              1,
              "#f0f921"
             ]
            ],
            "type": "contour"
           }
          ],
          "contourcarpet": [
           {
            "colorbar": {
             "outlinewidth": 0,
             "ticks": ""
            },
            "type": "contourcarpet"
           }
          ],
          "heatmap": [
           {
            "colorbar": {
             "outlinewidth": 0,
             "ticks": ""
            },
            "colorscale": [
             [
              0,
              "#0d0887"
             ],
             [
              0.1111111111111111,
              "#46039f"
             ],
             [
              0.2222222222222222,
              "#7201a8"
             ],
             [
              0.3333333333333333,
              "#9c179e"
             ],
             [
              0.4444444444444444,
              "#bd3786"
             ],
             [
              0.5555555555555556,
              "#d8576b"
             ],
             [
              0.6666666666666666,
              "#ed7953"
             ],
             [
              0.7777777777777778,
              "#fb9f3a"
             ],
             [
              0.8888888888888888,
              "#fdca26"
             ],
             [
              1,
              "#f0f921"
             ]
            ],
            "type": "heatmap"
           }
          ],
          "heatmapgl": [
           {
            "colorbar": {
             "outlinewidth": 0,
             "ticks": ""
            },
            "colorscale": [
             [
              0,
              "#0d0887"
             ],
             [
              0.1111111111111111,
              "#46039f"
             ],
             [
              0.2222222222222222,
              "#7201a8"
             ],
             [
              0.3333333333333333,
              "#9c179e"
             ],
             [
              0.4444444444444444,
              "#bd3786"
             ],
             [
              0.5555555555555556,
              "#d8576b"
             ],
             [
              0.6666666666666666,
              "#ed7953"
             ],
             [
              0.7777777777777778,
              "#fb9f3a"
             ],
             [
              0.8888888888888888,
              "#fdca26"
             ],
             [
              1,
              "#f0f921"
             ]
            ],
            "type": "heatmapgl"
           }
          ],
          "histogram": [
           {
            "marker": {
             "pattern": {
              "fillmode": "overlay",
              "size": 10,
              "solidity": 0.2
             }
            },
            "type": "histogram"
           }
          ],
          "histogram2d": [
           {
            "colorbar": {
             "outlinewidth": 0,
             "ticks": ""
            },
            "colorscale": [
             [
              0,
              "#0d0887"
             ],
             [
              0.1111111111111111,
              "#46039f"
             ],
             [
              0.2222222222222222,
              "#7201a8"
             ],
             [
              0.3333333333333333,
              "#9c179e"
             ],
             [
              0.4444444444444444,
              "#bd3786"
             ],
             [
              0.5555555555555556,
              "#d8576b"
             ],
             [
              0.6666666666666666,
              "#ed7953"
             ],
             [
              0.7777777777777778,
              "#fb9f3a"
             ],
             [
              0.8888888888888888,
              "#fdca26"
             ],
             [
              1,
              "#f0f921"
             ]
            ],
            "type": "histogram2d"
           }
          ],
          "histogram2dcontour": [
           {
            "colorbar": {
             "outlinewidth": 0,
             "ticks": ""
            },
            "colorscale": [
             [
              0,
              "#0d0887"
             ],
             [
              0.1111111111111111,
              "#46039f"
             ],
             [
              0.2222222222222222,
              "#7201a8"
             ],
             [
              0.3333333333333333,
              "#9c179e"
             ],
             [
              0.4444444444444444,
              "#bd3786"
             ],
             [
              0.5555555555555556,
              "#d8576b"
             ],
             [
              0.6666666666666666,
              "#ed7953"
             ],
             [
              0.7777777777777778,
              "#fb9f3a"
             ],
             [
              0.8888888888888888,
              "#fdca26"
             ],
             [
              1,
              "#f0f921"
             ]
            ],
            "type": "histogram2dcontour"
           }
          ],
          "mesh3d": [
           {
            "colorbar": {
             "outlinewidth": 0,
             "ticks": ""
            },
            "type": "mesh3d"
           }
          ],
          "parcoords": [
           {
            "line": {
             "colorbar": {
              "outlinewidth": 0,
              "ticks": ""
             }
            },
            "type": "parcoords"
           }
          ],
          "pie": [
           {
            "automargin": true,
            "type": "pie"
           }
          ],
          "scatter": [
           {
            "fillpattern": {
             "fillmode": "overlay",
             "size": 10,
             "solidity": 0.2
            },
            "type": "scatter"
           }
          ],
          "scatter3d": [
           {
            "line": {
             "colorbar": {
              "outlinewidth": 0,
              "ticks": ""
             }
            },
            "marker": {
             "colorbar": {
              "outlinewidth": 0,
              "ticks": ""
             }
            },
            "type": "scatter3d"
           }
          ],
          "scattercarpet": [
           {
            "marker": {
             "colorbar": {
              "outlinewidth": 0,
              "ticks": ""
             }
            },
            "type": "scattercarpet"
           }
          ],
          "scattergeo": [
           {
            "marker": {
             "colorbar": {
              "outlinewidth": 0,
              "ticks": ""
             }
            },
            "type": "scattergeo"
           }
          ],
          "scattergl": [
           {
            "marker": {
             "colorbar": {
              "outlinewidth": 0,
              "ticks": ""
             }
            },
            "type": "scattergl"
           }
          ],
          "scattermapbox": [
           {
            "marker": {
             "colorbar": {
              "outlinewidth": 0,
              "ticks": ""
             }
            },
            "type": "scattermapbox"
           }
          ],
          "scatterpolar": [
           {
            "marker": {
             "colorbar": {
              "outlinewidth": 0,
              "ticks": ""
             }
            },
            "type": "scatterpolar"
           }
          ],
          "scatterpolargl": [
           {
            "marker": {
             "colorbar": {
              "outlinewidth": 0,
              "ticks": ""
             }
            },
            "type": "scatterpolargl"
           }
          ],
          "scatterternary": [
           {
            "marker": {
             "colorbar": {
              "outlinewidth": 0,
              "ticks": ""
             }
            },
            "type": "scatterternary"
           }
          ],
          "surface": [
           {
            "colorbar": {
             "outlinewidth": 0,
             "ticks": ""
            },
            "colorscale": [
             [
              0,
              "#0d0887"
             ],
             [
              0.1111111111111111,
              "#46039f"
             ],
             [
              0.2222222222222222,
              "#7201a8"
             ],
             [
              0.3333333333333333,
              "#9c179e"
             ],
             [
              0.4444444444444444,
              "#bd3786"
             ],
             [
              0.5555555555555556,
              "#d8576b"
             ],
             [
              0.6666666666666666,
              "#ed7953"
             ],
             [
              0.7777777777777778,
              "#fb9f3a"
             ],
             [
              0.8888888888888888,
              "#fdca26"
             ],
             [
              1,
              "#f0f921"
             ]
            ],
            "type": "surface"
           }
          ],
          "table": [
           {
            "cells": {
             "fill": {
              "color": "#EBF0F8"
             },
             "line": {
              "color": "white"
             }
            },
            "header": {
             "fill": {
              "color": "#C8D4E3"
             },
             "line": {
              "color": "white"
             }
            },
            "type": "table"
           }
          ]
         },
         "layout": {
          "annotationdefaults": {
           "arrowcolor": "#2a3f5f",
           "arrowhead": 0,
           "arrowwidth": 1
          },
          "autotypenumbers": "strict",
          "coloraxis": {
           "colorbar": {
            "outlinewidth": 0,
            "ticks": ""
           }
          },
          "colorscale": {
           "diverging": [
            [
             0,
             "#8e0152"
            ],
            [
             0.1,
             "#c51b7d"
            ],
            [
             0.2,
             "#de77ae"
            ],
            [
             0.3,
             "#f1b6da"
            ],
            [
             0.4,
             "#fde0ef"
            ],
            [
             0.5,
             "#f7f7f7"
            ],
            [
             0.6,
             "#e6f5d0"
            ],
            [
             0.7,
             "#b8e186"
            ],
            [
             0.8,
             "#7fbc41"
            ],
            [
             0.9,
             "#4d9221"
            ],
            [
             1,
             "#276419"
            ]
           ],
           "sequential": [
            [
             0,
             "#0d0887"
            ],
            [
             0.1111111111111111,
             "#46039f"
            ],
            [
             0.2222222222222222,
             "#7201a8"
            ],
            [
             0.3333333333333333,
             "#9c179e"
            ],
            [
             0.4444444444444444,
             "#bd3786"
            ],
            [
             0.5555555555555556,
             "#d8576b"
            ],
            [
             0.6666666666666666,
             "#ed7953"
            ],
            [
             0.7777777777777778,
             "#fb9f3a"
            ],
            [
             0.8888888888888888,
             "#fdca26"
            ],
            [
             1,
             "#f0f921"
            ]
           ],
           "sequentialminus": [
            [
             0,
             "#0d0887"
            ],
            [
             0.1111111111111111,
             "#46039f"
            ],
            [
             0.2222222222222222,
             "#7201a8"
            ],
            [
             0.3333333333333333,
             "#9c179e"
            ],
            [
             0.4444444444444444,
             "#bd3786"
            ],
            [
             0.5555555555555556,
             "#d8576b"
            ],
            [
             0.6666666666666666,
             "#ed7953"
            ],
            [
             0.7777777777777778,
             "#fb9f3a"
            ],
            [
             0.8888888888888888,
             "#fdca26"
            ],
            [
             1,
             "#f0f921"
            ]
           ]
          },
          "colorway": [
           "#636efa",
           "#EF553B",
           "#00cc96",
           "#ab63fa",
           "#FFA15A",
           "#19d3f3",
           "#FF6692",
           "#B6E880",
           "#FF97FF",
           "#FECB52"
          ],
          "font": {
           "color": "#2a3f5f"
          },
          "geo": {
           "bgcolor": "white",
           "lakecolor": "white",
           "landcolor": "#E5ECF6",
           "showlakes": true,
           "showland": true,
           "subunitcolor": "white"
          },
          "hoverlabel": {
           "align": "left"
          },
          "hovermode": "closest",
          "mapbox": {
           "style": "light"
          },
          "paper_bgcolor": "white",
          "plot_bgcolor": "#E5ECF6",
          "polar": {
           "angularaxis": {
            "gridcolor": "white",
            "linecolor": "white",
            "ticks": ""
           },
           "bgcolor": "#E5ECF6",
           "radialaxis": {
            "gridcolor": "white",
            "linecolor": "white",
            "ticks": ""
           }
          },
          "scene": {
           "xaxis": {
            "backgroundcolor": "#E5ECF6",
            "gridcolor": "white",
            "gridwidth": 2,
            "linecolor": "white",
            "showbackground": true,
            "ticks": "",
            "zerolinecolor": "white"
           },
           "yaxis": {
            "backgroundcolor": "#E5ECF6",
            "gridcolor": "white",
            "gridwidth": 2,
            "linecolor": "white",
            "showbackground": true,
            "ticks": "",
            "zerolinecolor": "white"
           },
           "zaxis": {
            "backgroundcolor": "#E5ECF6",
            "gridcolor": "white",
            "gridwidth": 2,
            "linecolor": "white",
            "showbackground": true,
            "ticks": "",
            "zerolinecolor": "white"
           }
          },
          "shapedefaults": {
           "line": {
            "color": "#2a3f5f"
           }
          },
          "ternary": {
           "aaxis": {
            "gridcolor": "white",
            "linecolor": "white",
            "ticks": ""
           },
           "baxis": {
            "gridcolor": "white",
            "linecolor": "white",
            "ticks": ""
           },
           "bgcolor": "#E5ECF6",
           "caxis": {
            "gridcolor": "white",
            "linecolor": "white",
            "ticks": ""
           }
          },
          "title": {
           "x": 0.05
          },
          "xaxis": {
           "automargin": true,
           "gridcolor": "white",
           "linecolor": "white",
           "ticks": "",
           "title": {
            "standoff": 15
           },
           "zerolinecolor": "white",
           "zerolinewidth": 2
          },
          "yaxis": {
           "automargin": true,
           "gridcolor": "white",
           "linecolor": "white",
           "ticks": "",
           "title": {
            "standoff": 15
           },
           "zerolinecolor": "white",
           "zerolinewidth": 2
          }
         }
        },
        "title": {
         "text": "최고 제작비 영화"
        },
        "xaxis": {
         "anchor": "y",
         "domain": [
          0,
          1
         ],
         "title": {
          "text": "title"
         }
        },
        "yaxis": {
         "anchor": "x",
         "domain": [
          0,
          1
         ],
         "title": {
          "text": "budget"
         }
        }
       }
      }
     },
     "metadata": {},
     "output_type": "display_data"
    }
   ],
   "source": [
    "# 예산, 투표수 부문 최고 영화들을 살펴보겠습니다. \n",
    "# 투표수는 TMDB 사이트의 리뷰 수에 해당하는 것으로 보이며, 흥행 수준 판단단에 유의미한 지표로 해석할 수 있습니다. \n",
    "top10_budget = df.groupby('title')[['budget']].sum().reset_index().sort_values(by='budget', ascending=False).head(10)\n",
    "fig = px.bar(data_frame=top10_budget, x='title', y='budget', title='최고 제작비 영화')\n",
    "fig.show()"
   ]
  },
  {
   "cell_type": "code",
   "execution_count": 43,
   "metadata": {},
   "outputs": [
    {
     "data": {
      "application/vnd.plotly.v1+json": {
       "config": {
        "plotlyServerURL": "https://plot.ly"
       },
       "data": [
        {
         "alignmentgroup": "True",
         "hovertemplate": "title=%{x}<br>review=%{y}<extra></extra>",
         "legendgroup": "",
         "marker": {
          "color": "#636efa",
          "pattern": {
           "shape": ""
          }
         },
         "name": "",
         "offsetgroup": "",
         "orientation": "v",
         "showlegend": false,
         "textposition": "auto",
         "type": "bar",
         "x": [
          "Inception",
          "The Dark Knight",
          "Avatar",
          "The Avengers",
          "Deadpool",
          "Interstellar",
          "Django Unchained",
          "Guardians of the Galaxy",
          "The Hunger Games",
          "Mad Max: Fury Road"
         ],
         "xaxis": "x",
         "y": [
          13752,
          12002,
          11800,
          11776,
          10995,
          10867,
          10099,
          9742,
          9455,
          9427
         ],
         "yaxis": "y"
        }
       ],
       "layout": {
        "barmode": "relative",
        "legend": {
         "tracegroupgap": 0
        },
        "template": {
         "data": {
          "bar": [
           {
            "error_x": {
             "color": "#2a3f5f"
            },
            "error_y": {
             "color": "#2a3f5f"
            },
            "marker": {
             "line": {
              "color": "#E5ECF6",
              "width": 0.5
             },
             "pattern": {
              "fillmode": "overlay",
              "size": 10,
              "solidity": 0.2
             }
            },
            "type": "bar"
           }
          ],
          "barpolar": [
           {
            "marker": {
             "line": {
              "color": "#E5ECF6",
              "width": 0.5
             },
             "pattern": {
              "fillmode": "overlay",
              "size": 10,
              "solidity": 0.2
             }
            },
            "type": "barpolar"
           }
          ],
          "carpet": [
           {
            "aaxis": {
             "endlinecolor": "#2a3f5f",
             "gridcolor": "white",
             "linecolor": "white",
             "minorgridcolor": "white",
             "startlinecolor": "#2a3f5f"
            },
            "baxis": {
             "endlinecolor": "#2a3f5f",
             "gridcolor": "white",
             "linecolor": "white",
             "minorgridcolor": "white",
             "startlinecolor": "#2a3f5f"
            },
            "type": "carpet"
           }
          ],
          "choropleth": [
           {
            "colorbar": {
             "outlinewidth": 0,
             "ticks": ""
            },
            "type": "choropleth"
           }
          ],
          "contour": [
           {
            "colorbar": {
             "outlinewidth": 0,
             "ticks": ""
            },
            "colorscale": [
             [
              0,
              "#0d0887"
             ],
             [
              0.1111111111111111,
              "#46039f"
             ],
             [
              0.2222222222222222,
              "#7201a8"
             ],
             [
              0.3333333333333333,
              "#9c179e"
             ],
             [
              0.4444444444444444,
              "#bd3786"
             ],
             [
              0.5555555555555556,
              "#d8576b"
             ],
             [
              0.6666666666666666,
              "#ed7953"
             ],
             [
              0.7777777777777778,
              "#fb9f3a"
             ],
             [
              0.8888888888888888,
              "#fdca26"
             ],
             [
              1,
              "#f0f921"
             ]
            ],
            "type": "contour"
           }
          ],
          "contourcarpet": [
           {
            "colorbar": {
             "outlinewidth": 0,
             "ticks": ""
            },
            "type": "contourcarpet"
           }
          ],
          "heatmap": [
           {
            "colorbar": {
             "outlinewidth": 0,
             "ticks": ""
            },
            "colorscale": [
             [
              0,
              "#0d0887"
             ],
             [
              0.1111111111111111,
              "#46039f"
             ],
             [
              0.2222222222222222,
              "#7201a8"
             ],
             [
              0.3333333333333333,
              "#9c179e"
             ],
             [
              0.4444444444444444,
              "#bd3786"
             ],
             [
              0.5555555555555556,
              "#d8576b"
             ],
             [
              0.6666666666666666,
              "#ed7953"
             ],
             [
              0.7777777777777778,
              "#fb9f3a"
             ],
             [
              0.8888888888888888,
              "#fdca26"
             ],
             [
              1,
              "#f0f921"
             ]
            ],
            "type": "heatmap"
           }
          ],
          "heatmapgl": [
           {
            "colorbar": {
             "outlinewidth": 0,
             "ticks": ""
            },
            "colorscale": [
             [
              0,
              "#0d0887"
             ],
             [
              0.1111111111111111,
              "#46039f"
             ],
             [
              0.2222222222222222,
              "#7201a8"
             ],
             [
              0.3333333333333333,
              "#9c179e"
             ],
             [
              0.4444444444444444,
              "#bd3786"
             ],
             [
              0.5555555555555556,
              "#d8576b"
             ],
             [
              0.6666666666666666,
              "#ed7953"
             ],
             [
              0.7777777777777778,
              "#fb9f3a"
             ],
             [
              0.8888888888888888,
              "#fdca26"
             ],
             [
              1,
              "#f0f921"
             ]
            ],
            "type": "heatmapgl"
           }
          ],
          "histogram": [
           {
            "marker": {
             "pattern": {
              "fillmode": "overlay",
              "size": 10,
              "solidity": 0.2
             }
            },
            "type": "histogram"
           }
          ],
          "histogram2d": [
           {
            "colorbar": {
             "outlinewidth": 0,
             "ticks": ""
            },
            "colorscale": [
             [
              0,
              "#0d0887"
             ],
             [
              0.1111111111111111,
              "#46039f"
             ],
             [
              0.2222222222222222,
              "#7201a8"
             ],
             [
              0.3333333333333333,
              "#9c179e"
             ],
             [
              0.4444444444444444,
              "#bd3786"
             ],
             [
              0.5555555555555556,
              "#d8576b"
             ],
             [
              0.6666666666666666,
              "#ed7953"
             ],
             [
              0.7777777777777778,
              "#fb9f3a"
             ],
             [
              0.8888888888888888,
              "#fdca26"
             ],
             [
              1,
              "#f0f921"
             ]
            ],
            "type": "histogram2d"
           }
          ],
          "histogram2dcontour": [
           {
            "colorbar": {
             "outlinewidth": 0,
             "ticks": ""
            },
            "colorscale": [
             [
              0,
              "#0d0887"
             ],
             [
              0.1111111111111111,
              "#46039f"
             ],
             [
              0.2222222222222222,
              "#7201a8"
             ],
             [
              0.3333333333333333,
              "#9c179e"
             ],
             [
              0.4444444444444444,
              "#bd3786"
             ],
             [
              0.5555555555555556,
              "#d8576b"
             ],
             [
              0.6666666666666666,
              "#ed7953"
             ],
             [
              0.7777777777777778,
              "#fb9f3a"
             ],
             [
              0.8888888888888888,
              "#fdca26"
             ],
             [
              1,
              "#f0f921"
             ]
            ],
            "type": "histogram2dcontour"
           }
          ],
          "mesh3d": [
           {
            "colorbar": {
             "outlinewidth": 0,
             "ticks": ""
            },
            "type": "mesh3d"
           }
          ],
          "parcoords": [
           {
            "line": {
             "colorbar": {
              "outlinewidth": 0,
              "ticks": ""
             }
            },
            "type": "parcoords"
           }
          ],
          "pie": [
           {
            "automargin": true,
            "type": "pie"
           }
          ],
          "scatter": [
           {
            "fillpattern": {
             "fillmode": "overlay",
             "size": 10,
             "solidity": 0.2
            },
            "type": "scatter"
           }
          ],
          "scatter3d": [
           {
            "line": {
             "colorbar": {
              "outlinewidth": 0,
              "ticks": ""
             }
            },
            "marker": {
             "colorbar": {
              "outlinewidth": 0,
              "ticks": ""
             }
            },
            "type": "scatter3d"
           }
          ],
          "scattercarpet": [
           {
            "marker": {
             "colorbar": {
              "outlinewidth": 0,
              "ticks": ""
             }
            },
            "type": "scattercarpet"
           }
          ],
          "scattergeo": [
           {
            "marker": {
             "colorbar": {
              "outlinewidth": 0,
              "ticks": ""
             }
            },
            "type": "scattergeo"
           }
          ],
          "scattergl": [
           {
            "marker": {
             "colorbar": {
              "outlinewidth": 0,
              "ticks": ""
             }
            },
            "type": "scattergl"
           }
          ],
          "scattermapbox": [
           {
            "marker": {
             "colorbar": {
              "outlinewidth": 0,
              "ticks": ""
             }
            },
            "type": "scattermapbox"
           }
          ],
          "scatterpolar": [
           {
            "marker": {
             "colorbar": {
              "outlinewidth": 0,
              "ticks": ""
             }
            },
            "type": "scatterpolar"
           }
          ],
          "scatterpolargl": [
           {
            "marker": {
             "colorbar": {
              "outlinewidth": 0,
              "ticks": ""
             }
            },
            "type": "scatterpolargl"
           }
          ],
          "scatterternary": [
           {
            "marker": {
             "colorbar": {
              "outlinewidth": 0,
              "ticks": ""
             }
            },
            "type": "scatterternary"
           }
          ],
          "surface": [
           {
            "colorbar": {
             "outlinewidth": 0,
             "ticks": ""
            },
            "colorscale": [
             [
              0,
              "#0d0887"
             ],
             [
              0.1111111111111111,
              "#46039f"
             ],
             [
              0.2222222222222222,
              "#7201a8"
             ],
             [
              0.3333333333333333,
              "#9c179e"
             ],
             [
              0.4444444444444444,
              "#bd3786"
             ],
             [
              0.5555555555555556,
              "#d8576b"
             ],
             [
              0.6666666666666666,
              "#ed7953"
             ],
             [
              0.7777777777777778,
              "#fb9f3a"
             ],
             [
              0.8888888888888888,
              "#fdca26"
             ],
             [
              1,
              "#f0f921"
             ]
            ],
            "type": "surface"
           }
          ],
          "table": [
           {
            "cells": {
             "fill": {
              "color": "#EBF0F8"
             },
             "line": {
              "color": "white"
             }
            },
            "header": {
             "fill": {
              "color": "#C8D4E3"
             },
             "line": {
              "color": "white"
             }
            },
            "type": "table"
           }
          ]
         },
         "layout": {
          "annotationdefaults": {
           "arrowcolor": "#2a3f5f",
           "arrowhead": 0,
           "arrowwidth": 1
          },
          "autotypenumbers": "strict",
          "coloraxis": {
           "colorbar": {
            "outlinewidth": 0,
            "ticks": ""
           }
          },
          "colorscale": {
           "diverging": [
            [
             0,
             "#8e0152"
            ],
            [
             0.1,
             "#c51b7d"
            ],
            [
             0.2,
             "#de77ae"
            ],
            [
             0.3,
             "#f1b6da"
            ],
            [
             0.4,
             "#fde0ef"
            ],
            [
             0.5,
             "#f7f7f7"
            ],
            [
             0.6,
             "#e6f5d0"
            ],
            [
             0.7,
             "#b8e186"
            ],
            [
             0.8,
             "#7fbc41"
            ],
            [
             0.9,
             "#4d9221"
            ],
            [
             1,
             "#276419"
            ]
           ],
           "sequential": [
            [
             0,
             "#0d0887"
            ],
            [
             0.1111111111111111,
             "#46039f"
            ],
            [
             0.2222222222222222,
             "#7201a8"
            ],
            [
             0.3333333333333333,
             "#9c179e"
            ],
            [
             0.4444444444444444,
             "#bd3786"
            ],
            [
             0.5555555555555556,
             "#d8576b"
            ],
            [
             0.6666666666666666,
             "#ed7953"
            ],
            [
             0.7777777777777778,
             "#fb9f3a"
            ],
            [
             0.8888888888888888,
             "#fdca26"
            ],
            [
             1,
             "#f0f921"
            ]
           ],
           "sequentialminus": [
            [
             0,
             "#0d0887"
            ],
            [
             0.1111111111111111,
             "#46039f"
            ],
            [
             0.2222222222222222,
             "#7201a8"
            ],
            [
             0.3333333333333333,
             "#9c179e"
            ],
            [
             0.4444444444444444,
             "#bd3786"
            ],
            [
             0.5555555555555556,
             "#d8576b"
            ],
            [
             0.6666666666666666,
             "#ed7953"
            ],
            [
             0.7777777777777778,
             "#fb9f3a"
            ],
            [
             0.8888888888888888,
             "#fdca26"
            ],
            [
             1,
             "#f0f921"
            ]
           ]
          },
          "colorway": [
           "#636efa",
           "#EF553B",
           "#00cc96",
           "#ab63fa",
           "#FFA15A",
           "#19d3f3",
           "#FF6692",
           "#B6E880",
           "#FF97FF",
           "#FECB52"
          ],
          "font": {
           "color": "#2a3f5f"
          },
          "geo": {
           "bgcolor": "white",
           "lakecolor": "white",
           "landcolor": "#E5ECF6",
           "showlakes": true,
           "showland": true,
           "subunitcolor": "white"
          },
          "hoverlabel": {
           "align": "left"
          },
          "hovermode": "closest",
          "mapbox": {
           "style": "light"
          },
          "paper_bgcolor": "white",
          "plot_bgcolor": "#E5ECF6",
          "polar": {
           "angularaxis": {
            "gridcolor": "white",
            "linecolor": "white",
            "ticks": ""
           },
           "bgcolor": "#E5ECF6",
           "radialaxis": {
            "gridcolor": "white",
            "linecolor": "white",
            "ticks": ""
           }
          },
          "scene": {
           "xaxis": {
            "backgroundcolor": "#E5ECF6",
            "gridcolor": "white",
            "gridwidth": 2,
            "linecolor": "white",
            "showbackground": true,
            "ticks": "",
            "zerolinecolor": "white"
           },
           "yaxis": {
            "backgroundcolor": "#E5ECF6",
            "gridcolor": "white",
            "gridwidth": 2,
            "linecolor": "white",
            "showbackground": true,
            "ticks": "",
            "zerolinecolor": "white"
           },
           "zaxis": {
            "backgroundcolor": "#E5ECF6",
            "gridcolor": "white",
            "gridwidth": 2,
            "linecolor": "white",
            "showbackground": true,
            "ticks": "",
            "zerolinecolor": "white"
           }
          },
          "shapedefaults": {
           "line": {
            "color": "#2a3f5f"
           }
          },
          "ternary": {
           "aaxis": {
            "gridcolor": "white",
            "linecolor": "white",
            "ticks": ""
           },
           "baxis": {
            "gridcolor": "white",
            "linecolor": "white",
            "ticks": ""
           },
           "bgcolor": "#E5ECF6",
           "caxis": {
            "gridcolor": "white",
            "linecolor": "white",
            "ticks": ""
           }
          },
          "title": {
           "x": 0.05
          },
          "xaxis": {
           "automargin": true,
           "gridcolor": "white",
           "linecolor": "white",
           "ticks": "",
           "title": {
            "standoff": 15
           },
           "zerolinecolor": "white",
           "zerolinewidth": 2
          },
          "yaxis": {
           "automargin": true,
           "gridcolor": "white",
           "linecolor": "white",
           "ticks": "",
           "title": {
            "standoff": 15
           },
           "zerolinecolor": "white",
           "zerolinewidth": 2
          }
         }
        },
        "title": {
         "text": "최고 리뷰수 영화"
        },
        "xaxis": {
         "anchor": "y",
         "domain": [
          0,
          1
         ],
         "title": {
          "text": "title"
         }
        },
        "yaxis": {
         "anchor": "x",
         "domain": [
          0,
          1
         ],
         "title": {
          "text": "review"
         }
        }
       }
      }
     },
     "metadata": {},
     "output_type": "display_data"
    }
   ],
   "source": [
    "top10_vote = df.groupby('title')[['vote_count']].sum().reset_index().sort_values(by='vote_count', ascending=False).head(10)\n",
    "fig = px.bar(data_frame=top10_vote, x='title', y='vote_count', title='최고 리뷰수 영화', labels=dict(title='title', vote_count='review'))\n",
    "fig.show()"
   ]
  },
  {
   "cell_type": "markdown",
   "metadata": {},
   "source": [
    "###### 예산이 높을수록, 리뷰가 많을수록 흥행 수익도 높은 것으로 보이나 뚜렷한 관계가 존재한다고 단정짓기는 어렵습니다. \n",
    "###### 이후에 상관관계 분석을 진행하면 더 자세히 알아볼 수 있을 것 같습니다. "
   ]
  },
  {
   "cell_type": "markdown",
   "metadata": {},
   "source": [
    "#### 분석 3: 흥행에 가장 성공한 감독과 배우"
   ]
  },
  {
   "cell_type": "code",
   "execution_count": 44,
   "metadata": {},
   "outputs": [
    {
     "data": {
      "application/vnd.plotly.v1+json": {
       "config": {
        "plotlyServerURL": "https://plot.ly"
       },
       "data": [
        {
         "alignmentgroup": "True",
         "hovertemplate": "director=%{x}<br>revenue=%{y}<extra></extra>",
         "legendgroup": "",
         "marker": {
          "color": "#636efa",
          "pattern": {
           "shape": ""
          }
         },
         "name": "",
         "offsetgroup": "",
         "orientation": "v",
         "showlegend": false,
         "textposition": "auto",
         "type": "bar",
         "x": [
          "Steven Spielberg",
          "Peter Jackson",
          "James Cameron",
          "Michael Bay",
          "Christopher Nolan",
          "Chris Columbus",
          "Robert Zemeckis",
          "George Lucas",
          "Tim Burton",
          "Ridley Scott"
         ],
         "xaxis": "x",
         "y": [
          9147393164,
          6498642820,
          5883569439,
          5832524638,
          4227483234,
          3725631503,
          3590622002,
          3339113893,
          3337418241,
          3189557997
         ],
         "yaxis": "y"
        }
       ],
       "layout": {
        "barmode": "relative",
        "legend": {
         "tracegroupgap": 0
        },
        "template": {
         "data": {
          "bar": [
           {
            "error_x": {
             "color": "#2a3f5f"
            },
            "error_y": {
             "color": "#2a3f5f"
            },
            "marker": {
             "line": {
              "color": "#E5ECF6",
              "width": 0.5
             },
             "pattern": {
              "fillmode": "overlay",
              "size": 10,
              "solidity": 0.2
             }
            },
            "type": "bar"
           }
          ],
          "barpolar": [
           {
            "marker": {
             "line": {
              "color": "#E5ECF6",
              "width": 0.5
             },
             "pattern": {
              "fillmode": "overlay",
              "size": 10,
              "solidity": 0.2
             }
            },
            "type": "barpolar"
           }
          ],
          "carpet": [
           {
            "aaxis": {
             "endlinecolor": "#2a3f5f",
             "gridcolor": "white",
             "linecolor": "white",
             "minorgridcolor": "white",
             "startlinecolor": "#2a3f5f"
            },
            "baxis": {
             "endlinecolor": "#2a3f5f",
             "gridcolor": "white",
             "linecolor": "white",
             "minorgridcolor": "white",
             "startlinecolor": "#2a3f5f"
            },
            "type": "carpet"
           }
          ],
          "choropleth": [
           {
            "colorbar": {
             "outlinewidth": 0,
             "ticks": ""
            },
            "type": "choropleth"
           }
          ],
          "contour": [
           {
            "colorbar": {
             "outlinewidth": 0,
             "ticks": ""
            },
            "colorscale": [
             [
              0,
              "#0d0887"
             ],
             [
              0.1111111111111111,
              "#46039f"
             ],
             [
              0.2222222222222222,
              "#7201a8"
             ],
             [
              0.3333333333333333,
              "#9c179e"
             ],
             [
              0.4444444444444444,
              "#bd3786"
             ],
             [
              0.5555555555555556,
              "#d8576b"
             ],
             [
              0.6666666666666666,
              "#ed7953"
             ],
             [
              0.7777777777777778,
              "#fb9f3a"
             ],
             [
              0.8888888888888888,
              "#fdca26"
             ],
             [
              1,
              "#f0f921"
             ]
            ],
            "type": "contour"
           }
          ],
          "contourcarpet": [
           {
            "colorbar": {
             "outlinewidth": 0,
             "ticks": ""
            },
            "type": "contourcarpet"
           }
          ],
          "heatmap": [
           {
            "colorbar": {
             "outlinewidth": 0,
             "ticks": ""
            },
            "colorscale": [
             [
              0,
              "#0d0887"
             ],
             [
              0.1111111111111111,
              "#46039f"
             ],
             [
              0.2222222222222222,
              "#7201a8"
             ],
             [
              0.3333333333333333,
              "#9c179e"
             ],
             [
              0.4444444444444444,
              "#bd3786"
             ],
             [
              0.5555555555555556,
              "#d8576b"
             ],
             [
              0.6666666666666666,
              "#ed7953"
             ],
             [
              0.7777777777777778,
              "#fb9f3a"
             ],
             [
              0.8888888888888888,
              "#fdca26"
             ],
             [
              1,
              "#f0f921"
             ]
            ],
            "type": "heatmap"
           }
          ],
          "heatmapgl": [
           {
            "colorbar": {
             "outlinewidth": 0,
             "ticks": ""
            },
            "colorscale": [
             [
              0,
              "#0d0887"
             ],
             [
              0.1111111111111111,
              "#46039f"
             ],
             [
              0.2222222222222222,
              "#7201a8"
             ],
             [
              0.3333333333333333,
              "#9c179e"
             ],
             [
              0.4444444444444444,
              "#bd3786"
             ],
             [
              0.5555555555555556,
              "#d8576b"
             ],
             [
              0.6666666666666666,
              "#ed7953"
             ],
             [
              0.7777777777777778,
              "#fb9f3a"
             ],
             [
              0.8888888888888888,
              "#fdca26"
             ],
             [
              1,
              "#f0f921"
             ]
            ],
            "type": "heatmapgl"
           }
          ],
          "histogram": [
           {
            "marker": {
             "pattern": {
              "fillmode": "overlay",
              "size": 10,
              "solidity": 0.2
             }
            },
            "type": "histogram"
           }
          ],
          "histogram2d": [
           {
            "colorbar": {
             "outlinewidth": 0,
             "ticks": ""
            },
            "colorscale": [
             [
              0,
              "#0d0887"
             ],
             [
              0.1111111111111111,
              "#46039f"
             ],
             [
              0.2222222222222222,
              "#7201a8"
             ],
             [
              0.3333333333333333,
              "#9c179e"
             ],
             [
              0.4444444444444444,
              "#bd3786"
             ],
             [
              0.5555555555555556,
              "#d8576b"
             ],
             [
              0.6666666666666666,
              "#ed7953"
             ],
             [
              0.7777777777777778,
              "#fb9f3a"
             ],
             [
              0.8888888888888888,
              "#fdca26"
             ],
             [
              1,
              "#f0f921"
             ]
            ],
            "type": "histogram2d"
           }
          ],
          "histogram2dcontour": [
           {
            "colorbar": {
             "outlinewidth": 0,
             "ticks": ""
            },
            "colorscale": [
             [
              0,
              "#0d0887"
             ],
             [
              0.1111111111111111,
              "#46039f"
             ],
             [
              0.2222222222222222,
              "#7201a8"
             ],
             [
              0.3333333333333333,
              "#9c179e"
             ],
             [
              0.4444444444444444,
              "#bd3786"
             ],
             [
              0.5555555555555556,
              "#d8576b"
             ],
             [
              0.6666666666666666,
              "#ed7953"
             ],
             [
              0.7777777777777778,
              "#fb9f3a"
             ],
             [
              0.8888888888888888,
              "#fdca26"
             ],
             [
              1,
              "#f0f921"
             ]
            ],
            "type": "histogram2dcontour"
           }
          ],
          "mesh3d": [
           {
            "colorbar": {
             "outlinewidth": 0,
             "ticks": ""
            },
            "type": "mesh3d"
           }
          ],
          "parcoords": [
           {
            "line": {
             "colorbar": {
              "outlinewidth": 0,
              "ticks": ""
             }
            },
            "type": "parcoords"
           }
          ],
          "pie": [
           {
            "automargin": true,
            "type": "pie"
           }
          ],
          "scatter": [
           {
            "fillpattern": {
             "fillmode": "overlay",
             "size": 10,
             "solidity": 0.2
            },
            "type": "scatter"
           }
          ],
          "scatter3d": [
           {
            "line": {
             "colorbar": {
              "outlinewidth": 0,
              "ticks": ""
             }
            },
            "marker": {
             "colorbar": {
              "outlinewidth": 0,
              "ticks": ""
             }
            },
            "type": "scatter3d"
           }
          ],
          "scattercarpet": [
           {
            "marker": {
             "colorbar": {
              "outlinewidth": 0,
              "ticks": ""
             }
            },
            "type": "scattercarpet"
           }
          ],
          "scattergeo": [
           {
            "marker": {
             "colorbar": {
              "outlinewidth": 0,
              "ticks": ""
             }
            },
            "type": "scattergeo"
           }
          ],
          "scattergl": [
           {
            "marker": {
             "colorbar": {
              "outlinewidth": 0,
              "ticks": ""
             }
            },
            "type": "scattergl"
           }
          ],
          "scattermapbox": [
           {
            "marker": {
             "colorbar": {
              "outlinewidth": 0,
              "ticks": ""
             }
            },
            "type": "scattermapbox"
           }
          ],
          "scatterpolar": [
           {
            "marker": {
             "colorbar": {
              "outlinewidth": 0,
              "ticks": ""
             }
            },
            "type": "scatterpolar"
           }
          ],
          "scatterpolargl": [
           {
            "marker": {
             "colorbar": {
              "outlinewidth": 0,
              "ticks": ""
             }
            },
            "type": "scatterpolargl"
           }
          ],
          "scatterternary": [
           {
            "marker": {
             "colorbar": {
              "outlinewidth": 0,
              "ticks": ""
             }
            },
            "type": "scatterternary"
           }
          ],
          "surface": [
           {
            "colorbar": {
             "outlinewidth": 0,
             "ticks": ""
            },
            "colorscale": [
             [
              0,
              "#0d0887"
             ],
             [
              0.1111111111111111,
              "#46039f"
             ],
             [
              0.2222222222222222,
              "#7201a8"
             ],
             [
              0.3333333333333333,
              "#9c179e"
             ],
             [
              0.4444444444444444,
              "#bd3786"
             ],
             [
              0.5555555555555556,
              "#d8576b"
             ],
             [
              0.6666666666666666,
              "#ed7953"
             ],
             [
              0.7777777777777778,
              "#fb9f3a"
             ],
             [
              0.8888888888888888,
              "#fdca26"
             ],
             [
              1,
              "#f0f921"
             ]
            ],
            "type": "surface"
           }
          ],
          "table": [
           {
            "cells": {
             "fill": {
              "color": "#EBF0F8"
             },
             "line": {
              "color": "white"
             }
            },
            "header": {
             "fill": {
              "color": "#C8D4E3"
             },
             "line": {
              "color": "white"
             }
            },
            "type": "table"
           }
          ]
         },
         "layout": {
          "annotationdefaults": {
           "arrowcolor": "#2a3f5f",
           "arrowhead": 0,
           "arrowwidth": 1
          },
          "autotypenumbers": "strict",
          "coloraxis": {
           "colorbar": {
            "outlinewidth": 0,
            "ticks": ""
           }
          },
          "colorscale": {
           "diverging": [
            [
             0,
             "#8e0152"
            ],
            [
             0.1,
             "#c51b7d"
            ],
            [
             0.2,
             "#de77ae"
            ],
            [
             0.3,
             "#f1b6da"
            ],
            [
             0.4,
             "#fde0ef"
            ],
            [
             0.5,
             "#f7f7f7"
            ],
            [
             0.6,
             "#e6f5d0"
            ],
            [
             0.7,
             "#b8e186"
            ],
            [
             0.8,
             "#7fbc41"
            ],
            [
             0.9,
             "#4d9221"
            ],
            [
             1,
             "#276419"
            ]
           ],
           "sequential": [
            [
             0,
             "#0d0887"
            ],
            [
             0.1111111111111111,
             "#46039f"
            ],
            [
             0.2222222222222222,
             "#7201a8"
            ],
            [
             0.3333333333333333,
             "#9c179e"
            ],
            [
             0.4444444444444444,
             "#bd3786"
            ],
            [
             0.5555555555555556,
             "#d8576b"
            ],
            [
             0.6666666666666666,
             "#ed7953"
            ],
            [
             0.7777777777777778,
             "#fb9f3a"
            ],
            [
             0.8888888888888888,
             "#fdca26"
            ],
            [
             1,
             "#f0f921"
            ]
           ],
           "sequentialminus": [
            [
             0,
             "#0d0887"
            ],
            [
             0.1111111111111111,
             "#46039f"
            ],
            [
             0.2222222222222222,
             "#7201a8"
            ],
            [
             0.3333333333333333,
             "#9c179e"
            ],
            [
             0.4444444444444444,
             "#bd3786"
            ],
            [
             0.5555555555555556,
             "#d8576b"
            ],
            [
             0.6666666666666666,
             "#ed7953"
            ],
            [
             0.7777777777777778,
             "#fb9f3a"
            ],
            [
             0.8888888888888888,
             "#fdca26"
            ],
            [
             1,
             "#f0f921"
            ]
           ]
          },
          "colorway": [
           "#636efa",
           "#EF553B",
           "#00cc96",
           "#ab63fa",
           "#FFA15A",
           "#19d3f3",
           "#FF6692",
           "#B6E880",
           "#FF97FF",
           "#FECB52"
          ],
          "font": {
           "color": "#2a3f5f"
          },
          "geo": {
           "bgcolor": "white",
           "lakecolor": "white",
           "landcolor": "#E5ECF6",
           "showlakes": true,
           "showland": true,
           "subunitcolor": "white"
          },
          "hoverlabel": {
           "align": "left"
          },
          "hovermode": "closest",
          "mapbox": {
           "style": "light"
          },
          "paper_bgcolor": "white",
          "plot_bgcolor": "#E5ECF6",
          "polar": {
           "angularaxis": {
            "gridcolor": "white",
            "linecolor": "white",
            "ticks": ""
           },
           "bgcolor": "#E5ECF6",
           "radialaxis": {
            "gridcolor": "white",
            "linecolor": "white",
            "ticks": ""
           }
          },
          "scene": {
           "xaxis": {
            "backgroundcolor": "#E5ECF6",
            "gridcolor": "white",
            "gridwidth": 2,
            "linecolor": "white",
            "showbackground": true,
            "ticks": "",
            "zerolinecolor": "white"
           },
           "yaxis": {
            "backgroundcolor": "#E5ECF6",
            "gridcolor": "white",
            "gridwidth": 2,
            "linecolor": "white",
            "showbackground": true,
            "ticks": "",
            "zerolinecolor": "white"
           },
           "zaxis": {
            "backgroundcolor": "#E5ECF6",
            "gridcolor": "white",
            "gridwidth": 2,
            "linecolor": "white",
            "showbackground": true,
            "ticks": "",
            "zerolinecolor": "white"
           }
          },
          "shapedefaults": {
           "line": {
            "color": "#2a3f5f"
           }
          },
          "ternary": {
           "aaxis": {
            "gridcolor": "white",
            "linecolor": "white",
            "ticks": ""
           },
           "baxis": {
            "gridcolor": "white",
            "linecolor": "white",
            "ticks": ""
           },
           "bgcolor": "#E5ECF6",
           "caxis": {
            "gridcolor": "white",
            "linecolor": "white",
            "ticks": ""
           }
          },
          "title": {
           "x": 0.05
          },
          "xaxis": {
           "automargin": true,
           "gridcolor": "white",
           "linecolor": "white",
           "ticks": "",
           "title": {
            "standoff": 15
           },
           "zerolinecolor": "white",
           "zerolinewidth": 2
          },
          "yaxis": {
           "automargin": true,
           "gridcolor": "white",
           "linecolor": "white",
           "ticks": "",
           "title": {
            "standoff": 15
           },
           "zerolinecolor": "white",
           "zerolinewidth": 2
          }
         }
        },
        "title": {
         "text": "최고 흥행수익 감독"
        },
        "xaxis": {
         "anchor": "y",
         "domain": [
          0,
          1
         ],
         "title": {
          "text": "director"
         }
        },
        "yaxis": {
         "anchor": "x",
         "domain": [
          0,
          1
         ],
         "title": {
          "text": "revenue"
         }
        }
       }
      }
     },
     "metadata": {},
     "output_type": "display_data"
    }
   ],
   "source": [
    "# 최고 흥행 수익을 기록한 감독 10명의 수익을 시각화해 보겠습니다. \n",
    "top10_director = df.groupby('director')[['revenue']].sum().reset_index().sort_values(by='revenue', ascending=False).head(10)\n",
    "fig = px.bar(data_frame=top10_director, x='director', y='revenue', title='최고 흥행수익 감독')\n",
    "fig.show()"
   ]
  },
  {
   "cell_type": "code",
   "execution_count": 45,
   "metadata": {},
   "outputs": [
    {
     "data": {
      "text/html": [
       "<div>\n",
       "<style scoped>\n",
       "    .dataframe tbody tr th:only-of-type {\n",
       "        vertical-align: middle;\n",
       "    }\n",
       "\n",
       "    .dataframe tbody tr th {\n",
       "        vertical-align: top;\n",
       "    }\n",
       "\n",
       "    .dataframe thead th {\n",
       "        text-align: right;\n",
       "    }\n",
       "</style>\n",
       "<table border=\"1\" class=\"dataframe\">\n",
       "  <thead>\n",
       "    <tr style=\"text-align: right;\">\n",
       "      <th></th>\n",
       "      <th>director</th>\n",
       "      <th>revenue</th>\n",
       "      <th>ratio</th>\n",
       "    </tr>\n",
       "  </thead>\n",
       "  <tbody>\n",
       "    <tr>\n",
       "      <th>1605</th>\n",
       "      <td>Steven Spielberg</td>\n",
       "      <td>9147393164</td>\n",
       "      <td>0.023152</td>\n",
       "    </tr>\n",
       "    <tr>\n",
       "      <th>1317</th>\n",
       "      <td>Peter Jackson</td>\n",
       "      <td>6498642820</td>\n",
       "      <td>0.016448</td>\n",
       "    </tr>\n",
       "    <tr>\n",
       "      <th>680</th>\n",
       "      <td>James Cameron</td>\n",
       "      <td>5883569439</td>\n",
       "      <td>0.014892</td>\n",
       "    </tr>\n",
       "    <tr>\n",
       "      <th>1122</th>\n",
       "      <td>Michael Bay</td>\n",
       "      <td>5832524638</td>\n",
       "      <td>0.014762</td>\n",
       "    </tr>\n",
       "    <tr>\n",
       "      <th>274</th>\n",
       "      <td>Christopher Nolan</td>\n",
       "      <td>4227483234</td>\n",
       "      <td>0.010700</td>\n",
       "    </tr>\n",
       "    <tr>\n",
       "      <th>242</th>\n",
       "      <td>Chris Columbus</td>\n",
       "      <td>3725631503</td>\n",
       "      <td>0.009430</td>\n",
       "    </tr>\n",
       "    <tr>\n",
       "      <th>1444</th>\n",
       "      <td>Robert Zemeckis</td>\n",
       "      <td>3590622002</td>\n",
       "      <td>0.009088</td>\n",
       "    </tr>\n",
       "    <tr>\n",
       "      <th>567</th>\n",
       "      <td>George Lucas</td>\n",
       "      <td>3339113893</td>\n",
       "      <td>0.008451</td>\n",
       "    </tr>\n",
       "    <tr>\n",
       "      <th>1657</th>\n",
       "      <td>Tim Burton</td>\n",
       "      <td>3337418241</td>\n",
       "      <td>0.008447</td>\n",
       "    </tr>\n",
       "    <tr>\n",
       "      <th>1402</th>\n",
       "      <td>Ridley Scott</td>\n",
       "      <td>3189557997</td>\n",
       "      <td>0.008073</td>\n",
       "    </tr>\n",
       "  </tbody>\n",
       "</table>\n",
       "</div>"
      ],
      "text/plain": [
       "               director     revenue     ratio\n",
       "1605   Steven Spielberg  9147393164  0.023152\n",
       "1317      Peter Jackson  6498642820  0.016448\n",
       "680       James Cameron  5883569439  0.014892\n",
       "1122        Michael Bay  5832524638  0.014762\n",
       "274   Christopher Nolan  4227483234  0.010700\n",
       "242      Chris Columbus  3725631503  0.009430\n",
       "1444    Robert Zemeckis  3590622002  0.009088\n",
       "567        George Lucas  3339113893  0.008451\n",
       "1657         Tim Burton  3337418241  0.008447\n",
       "1402       Ridley Scott  3189557997  0.008073"
      ]
     },
     "execution_count": 45,
     "metadata": {},
     "output_type": "execute_result"
    }
   ],
   "source": [
    "# 10명의 영화 감독이 전체 영화 흥행 수익의 약 12%에 해당하는 성과를 거두었습니다.\n",
    "# 전체 영화감독 중 10명은 약 0.6%에 해당하는 수치입니다. \n",
    "top10_director['ratio'] = top10_director['revenue'] / df['revenue'].sum()\n",
    "top10_director"
   ]
  },
  {
   "cell_type": "code",
   "execution_count": 46,
   "metadata": {},
   "outputs": [
    {
     "data": {
      "text/html": [
       "<div>\n",
       "<style scoped>\n",
       "    .dataframe tbody tr th:only-of-type {\n",
       "        vertical-align: middle;\n",
       "    }\n",
       "\n",
       "    .dataframe tbody tr th {\n",
       "        vertical-align: top;\n",
       "    }\n",
       "\n",
       "    .dataframe thead th {\n",
       "        text-align: right;\n",
       "    }\n",
       "</style>\n",
       "<table border=\"1\" class=\"dataframe\">\n",
       "  <thead>\n",
       "    <tr style=\"text-align: right;\">\n",
       "      <th></th>\n",
       "      <th>revenue</th>\n",
       "      <th>cast_name</th>\n",
       "    </tr>\n",
       "  </thead>\n",
       "  <tbody>\n",
       "    <tr>\n",
       "      <th>0</th>\n",
       "      <td>2787965087</td>\n",
       "      <td>Sam Worthington</td>\n",
       "    </tr>\n",
       "    <tr>\n",
       "      <th>0</th>\n",
       "      <td>2787965087</td>\n",
       "      <td>Zoe Saldana</td>\n",
       "    </tr>\n",
       "  </tbody>\n",
       "</table>\n",
       "</div>"
      ],
      "text/plain": [
       "      revenue        cast_name\n",
       "0  2787965087  Sam Worthington\n",
       "0  2787965087      Zoe Saldana"
      ]
     },
     "execution_count": 46,
     "metadata": {},
     "output_type": "execute_result"
    }
   ],
   "source": [
    "# 같은 방식으로 최고 흥행 수익을 기록한 배우의 수익도 보겠습니다.\n",
    "# 현재 df의 cast_name 컬럼이이 배우들의 명단 형태로 저장되어 있으므로 explode를 통해 풀어줍니다. \n",
    "temp_cast = df[['revenue', 'cast_name']].explode('cast_name')\n",
    "temp_cast.head(2)"
   ]
  },
  {
   "cell_type": "code",
   "execution_count": 47,
   "metadata": {},
   "outputs": [
    {
     "data": {
      "application/vnd.plotly.v1+json": {
       "config": {
        "plotlyServerURL": "https://plot.ly"
       },
       "data": [
        {
         "alignmentgroup": "True",
         "hovertemplate": "cast_name=%{x}<br>revenue=%{y}<extra></extra>",
         "legendgroup": "",
         "marker": {
          "color": "#636efa",
          "pattern": {
           "shape": ""
          }
         },
         "name": "",
         "offsetgroup": "",
         "orientation": "v",
         "showlegend": false,
         "textposition": "auto",
         "type": "bar",
         "x": [
          "Stan Lee",
          "Samuel L. Jackson",
          "Frank Welker",
          "John Ratzenberger",
          "Hugo Weaving",
          "Cate Blanchett",
          "Ian McKellen",
          "Jess Harnell",
          "Morgan Freeman",
          "Tom Cruise"
         ],
         "xaxis": "x",
         "y": [
          17364063582,
          14806065788,
          11614837160,
          11038044745,
          10822190781,
          9726416776,
          9710670395,
          9633458775,
          9275477679,
          8993387534
         ],
         "yaxis": "y"
        }
       ],
       "layout": {
        "barmode": "relative",
        "legend": {
         "tracegroupgap": 0
        },
        "template": {
         "data": {
          "bar": [
           {
            "error_x": {
             "color": "#2a3f5f"
            },
            "error_y": {
             "color": "#2a3f5f"
            },
            "marker": {
             "line": {
              "color": "#E5ECF6",
              "width": 0.5
             },
             "pattern": {
              "fillmode": "overlay",
              "size": 10,
              "solidity": 0.2
             }
            },
            "type": "bar"
           }
          ],
          "barpolar": [
           {
            "marker": {
             "line": {
              "color": "#E5ECF6",
              "width": 0.5
             },
             "pattern": {
              "fillmode": "overlay",
              "size": 10,
              "solidity": 0.2
             }
            },
            "type": "barpolar"
           }
          ],
          "carpet": [
           {
            "aaxis": {
             "endlinecolor": "#2a3f5f",
             "gridcolor": "white",
             "linecolor": "white",
             "minorgridcolor": "white",
             "startlinecolor": "#2a3f5f"
            },
            "baxis": {
             "endlinecolor": "#2a3f5f",
             "gridcolor": "white",
             "linecolor": "white",
             "minorgridcolor": "white",
             "startlinecolor": "#2a3f5f"
            },
            "type": "carpet"
           }
          ],
          "choropleth": [
           {
            "colorbar": {
             "outlinewidth": 0,
             "ticks": ""
            },
            "type": "choropleth"
           }
          ],
          "contour": [
           {
            "colorbar": {
             "outlinewidth": 0,
             "ticks": ""
            },
            "colorscale": [
             [
              0,
              "#0d0887"
             ],
             [
              0.1111111111111111,
              "#46039f"
             ],
             [
              0.2222222222222222,
              "#7201a8"
             ],
             [
              0.3333333333333333,
              "#9c179e"
             ],
             [
              0.4444444444444444,
              "#bd3786"
             ],
             [
              0.5555555555555556,
              "#d8576b"
             ],
             [
              0.6666666666666666,
              "#ed7953"
             ],
             [
              0.7777777777777778,
              "#fb9f3a"
             ],
             [
              0.8888888888888888,
              "#fdca26"
             ],
             [
              1,
              "#f0f921"
             ]
            ],
            "type": "contour"
           }
          ],
          "contourcarpet": [
           {
            "colorbar": {
             "outlinewidth": 0,
             "ticks": ""
            },
            "type": "contourcarpet"
           }
          ],
          "heatmap": [
           {
            "colorbar": {
             "outlinewidth": 0,
             "ticks": ""
            },
            "colorscale": [
             [
              0,
              "#0d0887"
             ],
             [
              0.1111111111111111,
              "#46039f"
             ],
             [
              0.2222222222222222,
              "#7201a8"
             ],
             [
              0.3333333333333333,
              "#9c179e"
             ],
             [
              0.4444444444444444,
              "#bd3786"
             ],
             [
              0.5555555555555556,
              "#d8576b"
             ],
             [
              0.6666666666666666,
              "#ed7953"
             ],
             [
              0.7777777777777778,
              "#fb9f3a"
             ],
             [
              0.8888888888888888,
              "#fdca26"
             ],
             [
              1,
              "#f0f921"
             ]
            ],
            "type": "heatmap"
           }
          ],
          "heatmapgl": [
           {
            "colorbar": {
             "outlinewidth": 0,
             "ticks": ""
            },
            "colorscale": [
             [
              0,
              "#0d0887"
             ],
             [
              0.1111111111111111,
              "#46039f"
             ],
             [
              0.2222222222222222,
              "#7201a8"
             ],
             [
              0.3333333333333333,
              "#9c179e"
             ],
             [
              0.4444444444444444,
              "#bd3786"
             ],
             [
              0.5555555555555556,
              "#d8576b"
             ],
             [
              0.6666666666666666,
              "#ed7953"
             ],
             [
              0.7777777777777778,
              "#fb9f3a"
             ],
             [
              0.8888888888888888,
              "#fdca26"
             ],
             [
              1,
              "#f0f921"
             ]
            ],
            "type": "heatmapgl"
           }
          ],
          "histogram": [
           {
            "marker": {
             "pattern": {
              "fillmode": "overlay",
              "size": 10,
              "solidity": 0.2
             }
            },
            "type": "histogram"
           }
          ],
          "histogram2d": [
           {
            "colorbar": {
             "outlinewidth": 0,
             "ticks": ""
            },
            "colorscale": [
             [
              0,
              "#0d0887"
             ],
             [
              0.1111111111111111,
              "#46039f"
             ],
             [
              0.2222222222222222,
              "#7201a8"
             ],
             [
              0.3333333333333333,
              "#9c179e"
             ],
             [
              0.4444444444444444,
              "#bd3786"
             ],
             [
              0.5555555555555556,
              "#d8576b"
             ],
             [
              0.6666666666666666,
              "#ed7953"
             ],
             [
              0.7777777777777778,
              "#fb9f3a"
             ],
             [
              0.8888888888888888,
              "#fdca26"
             ],
             [
              1,
              "#f0f921"
             ]
            ],
            "type": "histogram2d"
           }
          ],
          "histogram2dcontour": [
           {
            "colorbar": {
             "outlinewidth": 0,
             "ticks": ""
            },
            "colorscale": [
             [
              0,
              "#0d0887"
             ],
             [
              0.1111111111111111,
              "#46039f"
             ],
             [
              0.2222222222222222,
              "#7201a8"
             ],
             [
              0.3333333333333333,
              "#9c179e"
             ],
             [
              0.4444444444444444,
              "#bd3786"
             ],
             [
              0.5555555555555556,
              "#d8576b"
             ],
             [
              0.6666666666666666,
              "#ed7953"
             ],
             [
              0.7777777777777778,
              "#fb9f3a"
             ],
             [
              0.8888888888888888,
              "#fdca26"
             ],
             [
              1,
              "#f0f921"
             ]
            ],
            "type": "histogram2dcontour"
           }
          ],
          "mesh3d": [
           {
            "colorbar": {
             "outlinewidth": 0,
             "ticks": ""
            },
            "type": "mesh3d"
           }
          ],
          "parcoords": [
           {
            "line": {
             "colorbar": {
              "outlinewidth": 0,
              "ticks": ""
             }
            },
            "type": "parcoords"
           }
          ],
          "pie": [
           {
            "automargin": true,
            "type": "pie"
           }
          ],
          "scatter": [
           {
            "fillpattern": {
             "fillmode": "overlay",
             "size": 10,
             "solidity": 0.2
            },
            "type": "scatter"
           }
          ],
          "scatter3d": [
           {
            "line": {
             "colorbar": {
              "outlinewidth": 0,
              "ticks": ""
             }
            },
            "marker": {
             "colorbar": {
              "outlinewidth": 0,
              "ticks": ""
             }
            },
            "type": "scatter3d"
           }
          ],
          "scattercarpet": [
           {
            "marker": {
             "colorbar": {
              "outlinewidth": 0,
              "ticks": ""
             }
            },
            "type": "scattercarpet"
           }
          ],
          "scattergeo": [
           {
            "marker": {
             "colorbar": {
              "outlinewidth": 0,
              "ticks": ""
             }
            },
            "type": "scattergeo"
           }
          ],
          "scattergl": [
           {
            "marker": {
             "colorbar": {
              "outlinewidth": 0,
              "ticks": ""
             }
            },
            "type": "scattergl"
           }
          ],
          "scattermapbox": [
           {
            "marker": {
             "colorbar": {
              "outlinewidth": 0,
              "ticks": ""
             }
            },
            "type": "scattermapbox"
           }
          ],
          "scatterpolar": [
           {
            "marker": {
             "colorbar": {
              "outlinewidth": 0,
              "ticks": ""
             }
            },
            "type": "scatterpolar"
           }
          ],
          "scatterpolargl": [
           {
            "marker": {
             "colorbar": {
              "outlinewidth": 0,
              "ticks": ""
             }
            },
            "type": "scatterpolargl"
           }
          ],
          "scatterternary": [
           {
            "marker": {
             "colorbar": {
              "outlinewidth": 0,
              "ticks": ""
             }
            },
            "type": "scatterternary"
           }
          ],
          "surface": [
           {
            "colorbar": {
             "outlinewidth": 0,
             "ticks": ""
            },
            "colorscale": [
             [
              0,
              "#0d0887"
             ],
             [
              0.1111111111111111,
              "#46039f"
             ],
             [
              0.2222222222222222,
              "#7201a8"
             ],
             [
              0.3333333333333333,
              "#9c179e"
             ],
             [
              0.4444444444444444,
              "#bd3786"
             ],
             [
              0.5555555555555556,
              "#d8576b"
             ],
             [
              0.6666666666666666,
              "#ed7953"
             ],
             [
              0.7777777777777778,
              "#fb9f3a"
             ],
             [
              0.8888888888888888,
              "#fdca26"
             ],
             [
              1,
              "#f0f921"
             ]
            ],
            "type": "surface"
           }
          ],
          "table": [
           {
            "cells": {
             "fill": {
              "color": "#EBF0F8"
             },
             "line": {
              "color": "white"
             }
            },
            "header": {
             "fill": {
              "color": "#C8D4E3"
             },
             "line": {
              "color": "white"
             }
            },
            "type": "table"
           }
          ]
         },
         "layout": {
          "annotationdefaults": {
           "arrowcolor": "#2a3f5f",
           "arrowhead": 0,
           "arrowwidth": 1
          },
          "autotypenumbers": "strict",
          "coloraxis": {
           "colorbar": {
            "outlinewidth": 0,
            "ticks": ""
           }
          },
          "colorscale": {
           "diverging": [
            [
             0,
             "#8e0152"
            ],
            [
             0.1,
             "#c51b7d"
            ],
            [
             0.2,
             "#de77ae"
            ],
            [
             0.3,
             "#f1b6da"
            ],
            [
             0.4,
             "#fde0ef"
            ],
            [
             0.5,
             "#f7f7f7"
            ],
            [
             0.6,
             "#e6f5d0"
            ],
            [
             0.7,
             "#b8e186"
            ],
            [
             0.8,
             "#7fbc41"
            ],
            [
             0.9,
             "#4d9221"
            ],
            [
             1,
             "#276419"
            ]
           ],
           "sequential": [
            [
             0,
             "#0d0887"
            ],
            [
             0.1111111111111111,
             "#46039f"
            ],
            [
             0.2222222222222222,
             "#7201a8"
            ],
            [
             0.3333333333333333,
             "#9c179e"
            ],
            [
             0.4444444444444444,
             "#bd3786"
            ],
            [
             0.5555555555555556,
             "#d8576b"
            ],
            [
             0.6666666666666666,
             "#ed7953"
            ],
            [
             0.7777777777777778,
             "#fb9f3a"
            ],
            [
             0.8888888888888888,
             "#fdca26"
            ],
            [
             1,
             "#f0f921"
            ]
           ],
           "sequentialminus": [
            [
             0,
             "#0d0887"
            ],
            [
             0.1111111111111111,
             "#46039f"
            ],
            [
             0.2222222222222222,
             "#7201a8"
            ],
            [
             0.3333333333333333,
             "#9c179e"
            ],
            [
             0.4444444444444444,
             "#bd3786"
            ],
            [
             0.5555555555555556,
             "#d8576b"
            ],
            [
             0.6666666666666666,
             "#ed7953"
            ],
            [
             0.7777777777777778,
             "#fb9f3a"
            ],
            [
             0.8888888888888888,
             "#fdca26"
            ],
            [
             1,
             "#f0f921"
            ]
           ]
          },
          "colorway": [
           "#636efa",
           "#EF553B",
           "#00cc96",
           "#ab63fa",
           "#FFA15A",
           "#19d3f3",
           "#FF6692",
           "#B6E880",
           "#FF97FF",
           "#FECB52"
          ],
          "font": {
           "color": "#2a3f5f"
          },
          "geo": {
           "bgcolor": "white",
           "lakecolor": "white",
           "landcolor": "#E5ECF6",
           "showlakes": true,
           "showland": true,
           "subunitcolor": "white"
          },
          "hoverlabel": {
           "align": "left"
          },
          "hovermode": "closest",
          "mapbox": {
           "style": "light"
          },
          "paper_bgcolor": "white",
          "plot_bgcolor": "#E5ECF6",
          "polar": {
           "angularaxis": {
            "gridcolor": "white",
            "linecolor": "white",
            "ticks": ""
           },
           "bgcolor": "#E5ECF6",
           "radialaxis": {
            "gridcolor": "white",
            "linecolor": "white",
            "ticks": ""
           }
          },
          "scene": {
           "xaxis": {
            "backgroundcolor": "#E5ECF6",
            "gridcolor": "white",
            "gridwidth": 2,
            "linecolor": "white",
            "showbackground": true,
            "ticks": "",
            "zerolinecolor": "white"
           },
           "yaxis": {
            "backgroundcolor": "#E5ECF6",
            "gridcolor": "white",
            "gridwidth": 2,
            "linecolor": "white",
            "showbackground": true,
            "ticks": "",
            "zerolinecolor": "white"
           },
           "zaxis": {
            "backgroundcolor": "#E5ECF6",
            "gridcolor": "white",
            "gridwidth": 2,
            "linecolor": "white",
            "showbackground": true,
            "ticks": "",
            "zerolinecolor": "white"
           }
          },
          "shapedefaults": {
           "line": {
            "color": "#2a3f5f"
           }
          },
          "ternary": {
           "aaxis": {
            "gridcolor": "white",
            "linecolor": "white",
            "ticks": ""
           },
           "baxis": {
            "gridcolor": "white",
            "linecolor": "white",
            "ticks": ""
           },
           "bgcolor": "#E5ECF6",
           "caxis": {
            "gridcolor": "white",
            "linecolor": "white",
            "ticks": ""
           }
          },
          "title": {
           "x": 0.05
          },
          "xaxis": {
           "automargin": true,
           "gridcolor": "white",
           "linecolor": "white",
           "ticks": "",
           "title": {
            "standoff": 15
           },
           "zerolinecolor": "white",
           "zerolinewidth": 2
          },
          "yaxis": {
           "automargin": true,
           "gridcolor": "white",
           "linecolor": "white",
           "ticks": "",
           "title": {
            "standoff": 15
           },
           "zerolinecolor": "white",
           "zerolinewidth": 2
          }
         }
        },
        "title": {
         "text": "최고 흥행수익 배우"
        },
        "xaxis": {
         "anchor": "y",
         "domain": [
          0,
          1
         ],
         "title": {
          "text": "cast_name"
         }
        },
        "yaxis": {
         "anchor": "x",
         "domain": [
          0,
          1
         ],
         "title": {
          "text": "revenue"
         }
        }
       }
      }
     },
     "metadata": {},
     "output_type": "display_data"
    }
   ],
   "source": [
    "top10_cast = temp_cast.groupby('cast_name')[['revenue']].sum().reset_index().sort_values('revenue', ascending=False).head(10)\n",
    "fig = px.bar(data_frame=top10_cast, x='cast_name', y='revenue', title='최고 흥행수익 배우')\n",
    "fig.show()"
   ]
  },
  {
   "cell_type": "code",
   "execution_count": 48,
   "metadata": {},
   "outputs": [],
   "source": [
    "# 영화 한 편에는 감독이 한 명이지만, 여러 명의 배우가 출연합니다. \n",
    "# 따라서 전체 영화 흥행수익 대비 배우의 비중을 정량적 지표로 보기에는 무리가 있습니다. \n",
    "# 영화 산업에서 배우의 상대적인 영향력을 확인할 수는 있을 것 같습니다. \n",
    "top10_cast['ratio'] = top10_cast['revenue'] / df['revenue'].sum()"
   ]
  },
  {
   "cell_type": "code",
   "execution_count": 49,
   "metadata": {},
   "outputs": [
    {
     "data": {
      "text/html": [
       "<div>\n",
       "<style scoped>\n",
       "    .dataframe tbody tr th:only-of-type {\n",
       "        vertical-align: middle;\n",
       "    }\n",
       "\n",
       "    .dataframe tbody tr th {\n",
       "        vertical-align: top;\n",
       "    }\n",
       "\n",
       "    .dataframe thead th {\n",
       "        text-align: right;\n",
       "    }\n",
       "</style>\n",
       "<table border=\"1\" class=\"dataframe\">\n",
       "  <thead>\n",
       "    <tr style=\"text-align: right;\">\n",
       "      <th></th>\n",
       "      <th>cast_name</th>\n",
       "      <th>revenue</th>\n",
       "      <th>ratio</th>\n",
       "      <th>films</th>\n",
       "      <th>revenue_per_film</th>\n",
       "    </tr>\n",
       "  </thead>\n",
       "  <tbody>\n",
       "    <tr>\n",
       "      <th>43931</th>\n",
       "      <td>Stan Lee</td>\n",
       "      <td>17364063582</td>\n",
       "      <td>0.043949</td>\n",
       "      <td>27</td>\n",
       "      <td>643113466</td>\n",
       "    </tr>\n",
       "    <tr>\n",
       "      <th>21875</th>\n",
       "      <td>Jess Harnell</td>\n",
       "      <td>9633458775</td>\n",
       "      <td>0.024383</td>\n",
       "      <td>16</td>\n",
       "      <td>602091173</td>\n",
       "    </tr>\n",
       "    <tr>\n",
       "      <th>18754</th>\n",
       "      <td>Ian McKellen</td>\n",
       "      <td>9710670395</td>\n",
       "      <td>0.024578</td>\n",
       "      <td>18</td>\n",
       "      <td>539481688</td>\n",
       "    </tr>\n",
       "    <tr>\n",
       "      <th>18636</th>\n",
       "      <td>Hugo Weaving</td>\n",
       "      <td>10822190781</td>\n",
       "      <td>0.027391</td>\n",
       "      <td>21</td>\n",
       "      <td>515342418</td>\n",
       "    </tr>\n",
       "    <tr>\n",
       "      <th>23547</th>\n",
       "      <td>John Ratzenberger</td>\n",
       "      <td>11038044745</td>\n",
       "      <td>0.027938</td>\n",
       "      <td>22</td>\n",
       "      <td>501729306</td>\n",
       "    </tr>\n",
       "    <tr>\n",
       "      <th>15620</th>\n",
       "      <td>Frank Welker</td>\n",
       "      <td>11614837160</td>\n",
       "      <td>0.029398</td>\n",
       "      <td>33</td>\n",
       "      <td>351964762</td>\n",
       "    </tr>\n",
       "    <tr>\n",
       "      <th>7235</th>\n",
       "      <td>Cate Blanchett</td>\n",
       "      <td>9726416776</td>\n",
       "      <td>0.024618</td>\n",
       "      <td>29</td>\n",
       "      <td>335393681</td>\n",
       "    </tr>\n",
       "    <tr>\n",
       "      <th>46582</th>\n",
       "      <td>Tom Cruise</td>\n",
       "      <td>8993387534</td>\n",
       "      <td>0.022763</td>\n",
       "      <td>33</td>\n",
       "      <td>272526894</td>\n",
       "    </tr>\n",
       "    <tr>\n",
       "      <th>41822</th>\n",
       "      <td>Samuel L. Jackson</td>\n",
       "      <td>14806065788</td>\n",
       "      <td>0.037475</td>\n",
       "      <td>58</td>\n",
       "      <td>255276996</td>\n",
       "    </tr>\n",
       "    <tr>\n",
       "      <th>34423</th>\n",
       "      <td>Morgan Freeman</td>\n",
       "      <td>9275477679</td>\n",
       "      <td>0.023477</td>\n",
       "      <td>46</td>\n",
       "      <td>201640819</td>\n",
       "    </tr>\n",
       "  </tbody>\n",
       "</table>\n",
       "</div>"
      ],
      "text/plain": [
       "               cast_name      revenue     ratio films  revenue_per_film\n",
       "43931           Stan Lee  17364063582  0.043949    27         643113466\n",
       "21875       Jess Harnell   9633458775  0.024383    16         602091173\n",
       "18754       Ian McKellen   9710670395  0.024578    18         539481688\n",
       "18636       Hugo Weaving  10822190781  0.027391    21         515342418\n",
       "23547  John Ratzenberger  11038044745  0.027938    22         501729306\n",
       "15620       Frank Welker  11614837160  0.029398    33         351964762\n",
       "7235      Cate Blanchett   9726416776  0.024618    29         335393681\n",
       "46582         Tom Cruise   8993387534  0.022763    33         272526894\n",
       "41822  Samuel L. Jackson  14806065788  0.037475    58         255276996\n",
       "34423     Morgan Freeman   9275477679  0.023477    46         201640819"
      ]
     },
     "execution_count": 49,
     "metadata": {},
     "output_type": "execute_result"
    }
   ],
   "source": [
    "# 또한 많은 작품에 출연한 배우가 이 분석에서 유리하기 때문에 출연작 당 평균 수입도 살펴볼 수 있습니다. \n",
    "# 출연작 당 평균 수입이 높은 배우일수록 이른바 '흥행 보증 수표'에 해당합니다. \n",
    "from collections import Counter\n",
    "top10_cast['films'] = pd.Series()\n",
    "for cast in top10_cast['cast_name']:\n",
    "    top10_cast.loc[top10_cast['cast_name'] == cast, 'films'] = Counter(temp_cast['cast_name'])[cast]\n",
    "top10_cast['revenue_per_film'] = (top10_cast['revenue'] / top10_cast['films']).astype('int64')\n",
    "top10_cast.sort_values(by='revenue_per_film', ascending=False)"
   ]
  },
  {
   "cell_type": "markdown",
   "metadata": {},
   "source": [
    "###### 일부 유명한 감독과 배우들이 차지하는 흥행 수익의 비중이 높습니다. \n",
    "###### 해당 데이터셋이 100년 간 영화들의 데이터에 해당하므로 특정 감독이나 배우의 영향력을 판단하기 위해서는\n",
    "###### 해당 인물의 활동 기간에 개봉한 영화들을 추출해서 살펴볼 수 있습니다. "
   ]
  },
  {
   "cell_type": "markdown",
   "metadata": {},
   "source": [
    "#### 분석 4: 장르와 흥행 수익의 관계"
   ]
  },
  {
   "cell_type": "code",
   "execution_count": 50,
   "metadata": {},
   "outputs": [
    {
     "data": {
      "application/vnd.plotly.v1+json": {
       "config": {
        "plotlyServerURL": "https://plot.ly"
       },
       "data": [
        {
         "alignmentgroup": "True",
         "hovertemplate": "<b>%{hovertext}</b><br><br>revenue=%{x}<br>main_genre=%{y}<extra></extra>",
         "hovertext": [
          "Avatar",
          "Pirates of the Caribbean: At World's End",
          "Spectre",
          "The Dark Knight Rises",
          "John Carter",
          "Spider-Man 3",
          "Tangled",
          "Avengers: Age of Ultron",
          "Harry Potter and the Half-Blood Prince",
          "Batman v Superman: Dawn of Justice",
          "Superman Returns",
          "Quantum of Solace",
          "Pirates of the Caribbean: Dead Man's Chest",
          "The Lone Ranger",
          "Man of Steel",
          "The Chronicles of Narnia: Prince Caspian",
          "The Avengers",
          "Pirates of the Caribbean: On Stranger Tides",
          "Men in Black 3",
          "The Hobbit: The Battle of the Five Armies",
          "The Amazing Spider-Man",
          "Robin Hood",
          "The Hobbit: The Desolation of Smaug",
          "The Golden Compass",
          "King Kong",
          "Titanic",
          "Captain America: Civil War",
          "Battleship",
          "Jurassic World",
          "Skyfall",
          "Spider-Man 2",
          "Iron Man 3",
          "Alice in Wonderland",
          "X-Men: The Last Stand",
          "Monsters University",
          "Transformers: Revenge of the Fallen",
          "Transformers: Age of Extinction",
          "Oz: The Great and Powerful",
          "The Amazing Spider-Man 2",
          "TRON: Legacy",
          "Cars 2",
          "Green Lantern",
          "Toy Story 3",
          "Terminator Salvation",
          "Furious 7",
          "World War Z",
          "X-Men: Days of Future Past",
          "Star Trek Into Darkness",
          "Jack the Giant Slayer",
          "The Great Gatsby",
          "Prince of Persia: The Sands of Time",
          "Pacific Rim",
          "Transformers: Dark of the Moon",
          "Indiana Jones and the Kingdom of the Crystal Skull",
          "The Good Dinosaur",
          "Brave",
          "Star Trek Beyond",
          "WALL·E",
          "Rush Hour 3",
          "2012",
          "A Christmas Carol",
          "Jupiter Ascending",
          "The Legend of Tarzan",
          "The Chronicles of Narnia: The Lion, the Witch and the Wardrobe",
          "X-Men: Apocalypse",
          "The Dark Knight",
          "Up",
          "Monsters vs Aliens",
          "Iron Man",
          "Hugo",
          "Wild Wild West",
          "The Mummy: Tomb of the Dragon Emperor",
          "Suicide Squad",
          "Evan Almighty",
          "Edge of Tomorrow",
          "Waterworld",
          "G.I. Joe: The Rise of Cobra",
          "Inside Out",
          "The Jungle Book",
          "Iron Man 2",
          "Snow White and the Huntsman",
          "Maleficent",
          "Dawn of the Planet of the Apes",
          "The Lovers",
          "47 Ronin",
          "Captain America: The Winter Soldier",
          "Shrek Forever After",
          "Tomorrowland",
          "Big Hero 6",
          "Wreck-It Ralph",
          "The Polar Express",
          "Independence Day: Resurgence",
          "How to Train Your Dragon",
          "Terminator 3: Rise of the Machines",
          "Guardians of the Galaxy",
          "Interstellar",
          "Inception",
          "Shin Godzilla",
          "The Hobbit: An Unexpected Journey",
          "The Fast and the Furious",
          "The Curious Case of Benjamin Button",
          "X-Men: First Class",
          "The Hunger Games: Mockingjay - Part 2",
          "The Sorcerer's Apprentice",
          "Poseidon",
          "Alice Through the Looking Glass",
          "Shrek the Third",
          "Warcraft",
          "Terminator Genisys",
          "The Chronicles of Narnia: The Voyage of the Dawn Treader",
          "Pearl Harbor",
          "Transformers",
          "Alexander",
          "Harry Potter and the Order of the Phoenix",
          "Harry Potter and the Goblet of Fire",
          "Hancock",
          "I Am Legend",
          "Charlie and the Chocolate Factory",
          "Ratatouille",
          "Batman Begins",
          "Madagascar: Escape 2 Africa",
          "Night at the Museum: Battle of the Smithsonian",
          "X-Men Origins: Wolverine",
          "The Matrix Revolutions",
          "Frozen",
          "The Matrix Reloaded",
          "Thor: The Dark World",
          "Mad Max: Fury Road",
          "Angels & Demons",
          "Thor",
          "Bolt",
          "G-Force",
          "Wrath of the Titans",
          "Dark Shadows",
          "Mission: Impossible - Rogue Nation",
          "The Wolfman",
          "Bee Movie",
          "Kung Fu Panda 2",
          "The Last Airbender",
          "Mission: Impossible III",
          "White House Down",
          "Mars Needs Moms",
          "Flushed Away",
          "Pan",
          "Mr. Peabody & Sherman",
          "Troy",
          "Madagascar 3: Europe's Most Wanted",
          "Die Another Day",
          "Ghostbusters",
          "Armageddon",
          "Men in Black II",
          "Beowulf",
          "Kung Fu Panda 3",
          "Mission: Impossible - Ghost Protocol",
          "Rise of the Guardians",
          "Fun with Dick and Jane",
          "The Last Samurai",
          "Exodus: Gods and Kings",
          "Star Trek",
          "Spider-Man",
          "How to Train Your Dragon 2",
          "Gods of Egypt",
          "Stealth",
          "Watchmen",
          "Lethal Weapon 4",
          "Hulk",
          "G.I. Joe: Retaliation",
          "Sahara",
          "Final Fantasy: The Spirits Within",
          "Captain America: The First Avenger",
          "The World Is Not Enough",
          "Master and Commander: The Far Side of the World",
          "The Twilight Saga: Breaking Dawn - Part 2",
          "Happy Feet Two",
          "The Incredible Hulk",
          "The BFG",
          "The Revenant",
          "Turbo",
          "Rango",
          "Penguins of Madagascar",
          "The Bourne Ultimatum",
          "Kung Fu Panda",
          "Ant-Man",
          "The Hunger Games: Catching Fire",
          "Home",
          "War of the Worlds",
          "Bad Boys II",
          "Puss in Boots",
          "Salt",
          "Noah",
          "The Adventures of Tintin",
          "Harry Potter and the Prisoner of Azkaban",
          "Australia",
          "After Earth",
          "Dinosaur",
          "Night at the Museum: Secret of the Tomb",
          "Megamind",
          "Harry Potter and the Philosopher's Stone",
          "R.I.P.D.",
          "Pirates of the Caribbean: The Curse of the Black Pearl",
          "The Hunger Games: Mockingjay - Part 1",
          "The Da Vinci Code",
          "Rio 2",
          "X2",
          "Fast Five",
          "Sherlock Holmes: A Game of Shadows",
          "Clash of the Titans",
          "Total Recall",
          "The 13th Warrior",
          "The Bourne Legacy",
          "Batman & Robin",
          "How the Grinch Stole Christmas",
          "The Day After Tomorrow",
          "Mission: Impossible II",
          "The Perfect Storm",
          "Fantastic 4: Rise of the Silver Surfer",
          "Life of Pi",
          "Ghost Rider",
          "Jason Bourne",
          "Charlie's Angels: Full Throttle",
          "Prometheus",
          "Stuart Little 2",
          "Elysium",
          "The Chronicles of Riddick",
          "RoboCop",
          "Speed Racer",
          "How Do You Know",
          "Knight and Day",
          "Oblivion",
          "Star Wars: Episode III - Revenge of the Sith",
          "Star Wars: Episode II - Attack of the Clones",
          "Monsters, Inc.",
          "The Wolverine",
          "Star Wars: Episode I - The Phantom Menace",
          "The Croods",
          "Asterix at the Olympic Games",
          "Windtalkers",
          "The Huntsman: Winter's War",
          "Teenage Mutant Ninja Turtles",
          "Gravity",
          "Dante's Peak",
          "Teenage Mutant Ninja Turtles: Out of the Shadows",
          "Fantastic Four",
          "Night at the Museum",
          "San Andreas",
          "Tomorrow Never Dies",
          "The Patriot",
          "Ocean's Twelve",
          "Mr. & Mrs. Smith",
          "Insurgent",
          "The Aviator",
          "Gulliver's Travels",
          "The Green Hornet",
          "300: Rise of an Empire",
          "The Smurfs",
          "Home on the Range",
          "Allegiant",
          "Real Steel",
          "The Smurfs 2",
          "Speed 2: Cruise Control",
          "Ender's Game",
          "Live Free or Die Hard",
          "The Lord of the Rings: The Fellowship of the Ring",
          "Around the World in 80 Days",
          "Ali",
          "I, Robot",
          "Kingdom of Heaven",
          "Stuart Little",
          "The Princess and the Frog",
          "The Martian",
          "The Island",
          "Town & Country",
          "Gone in Sixty Seconds",
          "Gladiator",
          "Minority Report",
          "Harry Potter and the Chamber of Secrets",
          "Casino Royale",
          "Planet of the Apes",
          "Terminator 2: Judgment Day",
          "Public Enemies",
          "American Gangster",
          "True Lies",
          "The Taking of Pelham 1 2 3",
          "Little Fockers",
          "The Other Guys",
          "Eraser",
          "Django Unchained",
          "The Hunchback of Notre Dame",
          "The Emperor's New Groove",
          "The Expendables 2",
          "National Treasure",
          "Eragon",
          "Where the Wild Things Are",
          "Epic",
          "The Tourist",
          "End of Days",
          "Blood Diamond",
          "The Wolf of Wall Street",
          "Batman Forever",
          "Starship Troopers",
          "Cloud Atlas",
          "Legend of the Guardians: The Owls of Ga'Hoole",
          "Catwoman",
          "Hercules",
          "Treasure Planet",
          "Land of the Lost",
          "The Expendables 3",
          "Point Break",
          "Son of the Mask",
          "In the Heart of the Sea",
          "The Adventures of Pluto Nash",
          "Green Zone",
          "The Peanuts Movie",
          "The Spanish Prisoner",
          "The Mummy Returns",
          "Gangs of New York",
          "The Flowers of War",
          "Surf's Up",
          "The Stepford Wives",
          "Black Hawk Down",
          "The Campaign",
          "The Fifth Element",
          "Sex and the City 2",
          "The Road to El Dorado",
          "Ice Age: Continental Drift",
          "Cinderella",
          "The Lovely Bones",
          "Finding Nemo",
          "The Lord of the Rings: The Return of the King",
          "The Lord of the Rings: The Two Towers",
          "Seventh Son",
          "Lara Croft: Tomb Raider",
          "Transcendence",
          "Jurassic Park III",
          "Rise of the Planet of the Apes",
          "The Spiderwick Chronicles",
          "A Good Day to Die Hard",
          "The Alamo",
          "The Incredibles",
          "Cutthroat Island",
          "Percy Jackson & the Olympians: The Lightning Thief",
          "Men in Black",
          "Toy Story 2",
          "Unstoppable",
          "Rush Hour 2",
          "What Lies Beneath",
          "Cloudy with a Chance of Meatballs",
          "Ice Age: Dawn of the Dinosaurs",
          "The Secret Life of Walter Mitty",
          "Charlie's Angels",
          "The Departed",
          "Mulan",
          "Tropic Thunder",
          "The Girl with the Dragon Tattoo",
          "Die Hard: With a Vengeance",
          "Sherlock Holmes",
          "Ben-Hur",
          "Atlantis: The Lost Empire",
          "Alvin and the Chipmunks: The Road Chip",
          "Valkyrie",
          "You Don't Mess with the Zohan",
          "Pixels",
          "A.I. Artificial Intelligence",
          "The Haunted Mansion",
          "Contact",
          "Hollow Man",
          "The Interpreter",
          "Percy Jackson: Sea of Monsters",
          "Lara Croft Tomb Raider: The Cradle of Life",
          "Now You See Me 2",
          "The Saint",
          "Spy Game",
          "Mission to Mars",
          "Rio",
          "Bicentennial Man",
          "Volcano",
          "The Devil's Own",
          "K-19: The Widowmaker",
          "Conan the Barbarian",
          "Cinderella Man",
          "The Nutcracker: The Untold Story",
          "Seabiscuit",
          "Twister",
          "Cast Away",
          "Happy Feet",
          "The Bourne Supremacy",
          "Air Force One",
          "Ocean's Eleven",
          "The Three Musketeers",
          "Hotel Transylvania",
          "Enchanted",
          "Safe House",
          "102 Dalmatians",
          "Tower Heist",
          "The Holiday",
          "Enemy of the State",
          "It's Complicated",
          "Ocean's Thirteen",
          "Open Season",
          "Divergent",
          "Enemy at the Gates",
          "The Rundown",
          "Last Action Hero",
          "Memoirs of a Geisha",
          "The Fast and the Furious: Tokyo Drift",
          "Meet Joe Black",
          "Collateral Damage",
          "All That Jazz",
          "Mirror Mirror",
          "Scott Pilgrim vs. the World",
          "The Core",
          "Nutty Professor II: The Klumps",
          "Scooby-Doo",
          "Dredd",
          "Click",
          "Creepshow",
          "Cats & Dogs 2 : The Revenge of Kitty Galore",
          "Jumper",
          "Hellboy II: The Golden Army",
          "Zodiac",
          "The 6th Day",
          "Bruce Almighty",
          "The Expendables",
          "Mission: Impossible",
          "The Hunger Games",
          "The Hangover Part II",
          "Batman Returns",
          "Over the Hedge",
          "Lilo & Stitch",
          "Charlotte's Web",
          "Deep Impact",
          "RED 2",
          "The Longest Yard",
          "Alvin and the Chipmunks: Chipwrecked",
          "Grown Ups 2",
          "Get Smart",
          "Something's Gotta Give",
          "Shutter Island",
          "Four Christmases",
          "Robots",
          "Face/Off",
          "Bedtime Stories",
          "Road to Perdition",
          "Just Go with It",
          "Con Air",
          "Eagle Eye",
          "Cold Mountain",
          "The Book of Eli",
          "Flubber",
          "The Haunting",
          "Space Jam",
          "The Day the Earth Stood Still",
          "Conspiracy Theory",
          "Fury",
          "Six Days Seven Nights",
          "Yogi Bear",
          "Spirit: Stallion of the Cimarron",
          "Zookeeper",
          "Lost in Space",
          "The Manchurian Candidate",
          "Hotel Transylvania 2",
          "Fantasia 2000",
          "The Time Machine",
          "Mighty Joe Young",
          "Swordfish",
          "The Legend of Zorro",
          "What Dreams May Come",
          "Little Nicky",
          "The Brothers Grimm",
          "Mars Attacks!",
          "The Edge",
          "Surrogates",
          "Thirteen Days",
          "Daylight",
          "Walking With Dinosaurs",
          "Battlefield Earth",
          "Looney Tunes: Back in Action",
          "Nine",
          "Timeline",
          "The Postman",
          "Babe: Pig in the City",
          "The Last Witch Hunter",
          "Red Planet",
          "Arthur and the Invisibles",
          "Oceans",
          "A Sound of Thunder",
          "Pompeii",
          "Top Cat Begins",
          "A Beautiful Mind",
          "The Lion King",
          "Journey 2: The Mysterious Island",
          "Cloudy with a Chance of Meatballs 2",
          "Red Dragon",
          "Hidalgo",
          "Jack and Jill",
          "2 Fast 2 Furious",
          "The Little Prince",
          "The Invasion",
          "The Adventures of Rocky & Bullwinkle",
          "The Secret Life of Pets",
          "The League of Extraordinary Gentlemen",
          "Despicable Me 2",
          "Independence Day",
          "The Lost World: Jurassic Park",
          "Madagascar",
          "Children of Men",
          "X-Men",
          "Wanted",
          "The Rock",
          "Ice Age: The Meltdown",
          "50 First Dates",
          "Hairspray",
          "Exorcist: The Beginning",
          "Inspector Gadget",
          "Now You See Me",
          "Grown Ups",
          "The Terminal",
          "Hotel for Dogs",
          "Vertical Limit",
          "Charlie Wilson's War",
          "Shark Tale",
          "Dreamgirls",
          "Be Cool",
          "Munich",
          "Tears of the Sun",
          "Killers",
          "The Man from U.N.C.L.E.",
          "Spanglish",
          "Monster House",
          "Bandits",
          "First Knight",
          "Anna and the King",
          "Immortals",
          "Hostage",
          "Titan A.E.",
          "Hollywood Homicide",
          "Soldier",
          "Carriers",
          "Monkeybone",
          "Flight of the Phoenix",
          "Unbreakable",
          "Minions",
          "Sucker Punch",
          "Snake Eyes",
          "Sphere",
          "The Angry Birds Movie",
          "Fool's Gold",
          "Funny People",
          "The Kingdom",
          "Talladega Nights: The Ballad of Ricky Bobby",
          "Dr. Dolittle 2",
          "Braveheart",
          "Jarhead",
          "The Simpsons Movie",
          "The Majestic",
          "Driven",
          "Two Brothers",
          "The Village",
          "Doctor Dolittle",
          "Signs",
          "Shrek 2",
          "Cars",
          "Runaway Bride",
          "xXx",
          "The SpongeBob Movie: Sponge Out of Water",
          "Ransom",
          "Inglourious Basterds",
          "Hook",
          "Die Hard 2",
          "S.W.A.T.",
          "Vanilla Sky",
          "Lady in the Water",
          "AVP: Alien vs. Predator",
          "Alvin and the Chipmunks: The Squeakquel",
          "We Were Soldiers",
          "Olympus Has Fallen",
          "Star Trek: Insurrection",
          "Battle: Los Angeles",
          "Big Fish",
          "War Horse",
          "The Monuments Men",
          "The Abyss",
          "Wall Street: Money Never Sleeps",
          "Dracula Untold",
          "The Siege",
          "Stardust",
          "Seven Years in Tibet",
          "The Dilemma",
          "Bad Company",
          "Doom",
          "I Spy",
          "Underworld: Awakening",
          "Rock of Ages",
          "Hart's War",
          "Killer Elite",
          "Ballistic: Ecks vs. Sever",
          "Hard Rain",
          "Osmosis Jones",
          "Legends of Oz: Dorothy's Return",
          "Blackhat",
          "Sky Captain and the World of Tomorrow",
          "Basic Instinct 2",
          "Escape Plan",
          "The Legend of Hercules",
          "The Sum of All Fears",
          "The Twilight Saga: Eclipse",
          "The Score",
          "Despicable Me",
          "Money Train",
          "Ted 2",
          "Agora",
          "Mystery Men",
          "Hall Pass",
          "The Insider",
          "The Finest Hours",
          "Body of Lies",
          "Dinner for Schmucks",
          "Abraham Lincoln: Vampire Hunter",
          "Entrapment",
          "The X Files",
          "The Last Legion",
          "Saving Private Ryan",
          "Need for Speed",
          "What Women Want",
          "Ice Age",
          "Dreamcatcher",
          "Lincoln",
          "The Matrix",
          "Apollo 13",
          "The Santa Clause 2",
          "Les Misérables",
          "You've Got Mail",
          "Step Brothers",
          "The Mask of Zorro",
          "Due Date",
          "Unbroken",
          "Space Cowboys",
          "Cliffhanger",
          "Broken Arrow",
          "The Kid",
          "World Trade Center",
          "Mona Lisa Smile",
          "The Dictator",
          "Eyes Wide Shut",
          "Annie",
          "Focus",
          "This Means War",
          "Blade: Trinity",
          "Red Dawn",
          "Primary Colors",
          "Resident Evil: Retribution",
          "Death Race",
          "The Long Kiss Goodnight",
          "Proof of Life",
          "Zathura: A Space Adventure",
          "Fight Club",
          "We Are Marshall",
          "Hudson Hawk",
          "Lucky Numbers",
          "I, Frankenstein",
          "Oliver Twist",
          "Elektra",
          "Sin City: A Dame to Kill For",
          "Random Hearts",
          "Everest",
          "Perfume: The Story of a Murderer",
          "Austin Powers in Goldmember",
          "Astro Boy",
          "Jurassic Park",
          "Wyatt Earp",
          "Clear and Present Danger",
          "Dragon Blade",
          "Little Man",
          "U-571",
          "The American President",
          "The Love Guru",
          "3000 Miles to Graceland",
          "The Hateful Eight",
          "Blades of Glory",
          "Hop",
          "300",
          "Meet the Fockers",
          "Marley & Me",
          "The Green Mile",
          "Wild Hogs",
          "Chicken Little",
          "Gone Girl",
          "The Bourne Identity",
          "GoldenEye",
          "The General's Daughter",
          "The Truman Show",
          "The Prince of Egypt",
          "Daddy Day Care",
          "2 Guns",
          "Cats & Dogs",
          "The Italian Job",
          "Two Weeks Notice",
          "Antz",
          "Couples Retreat",
          "Days of Thunder",
          "Cheaper by the Dozen 2",
          "Maze Runner: The Scorch Trials",
          "Eat Pray Love",
          "The Family Man",
          "RED",
          "Any Given Sunday",
          "The Horse Whisperer",
          "Collateral",
          "The Scorpion King",
          "Ladder 49",
          "Jack Reacher",
          "Deep Blue Sea",
          "This Is It",
          "Contagion",
          "Coraline",
          "The Happening",
          "Man on Fire",
          "The Shaggy Dog",
          "Starsky & Hutch",
          "Jingle All the Way",
          "Hellboy",
          "A Civil Action",
          "ParaNorman",
          "The Jackal",
          "Paycheck",
          "Up Close & Personal",
          "The Tale of Despereaux",
          "Under Siege 2: Dark Territory",
          "Jack Ryan: Shadow Recruit",
          "Joy",
          "London Has Fallen",
          "Alien: Resurrection",
          "Shooter",
          "The Boxtrolls",
          "Practical Magic",
          "The Lego Movie",
          "Reign of Fire",
          "Gangster Squad",
          "Year One",
          "Invictus",
          "State of Play",
          "Duplicity",
          "My Favorite Martian",
          "The Sentinel",
          "Planet 51",
          "Star Trek: Nemesis",
          "Intolerable Cruelty",
          "Edge of Darkness",
          "The Relic",
          "Analyze That",
          "Righteous Kill",
          "Mercury Rising",
          "The Soloist",
          "The Legend of Bagger Vance",
          "Almost Famous",
          "Garfield: A Tail of Two Kitties",
          "xXx: State of the Union",
          "Priest",
          "Sinbad: Legend of the Seven Seas",
          "Event Horizon",
          "Dragonfly",
          "The Black Dahlia",
          "Flyboys",
          "The Last Castle",
          "Supernova",
          "Winter's Tale",
          "The Mortal Instruments: City of Bones",
          "Meet Dave",
          "Dark Water",
          "Edtv",
          "Inkheart",
          "The Spirit",
          "Mortdecai",
          "In the Name of the King: A Dungeon Siege Tale",
          "Beyond Borders",
          "The Monkey King 2",
          "The Great Raid",
          "Deadpool",
          "Holy Man",
          "American Sniper",
          "Goosebumps",
          "Just Like Heaven",
          "The Flintstones in Viva Rock Vegas",
          "Rambo III",
          "Leatherheads",
          "The Ridiculous 6",
          "Did You Hear About the Morgans?",
          "The Internship",
          "Resident Evil: Afterlife",
          "Red Tails",
          "The Devil's Advocate",
          "That's My Boy",
          "DragonHeart",
          "After the Sunset",
          "Ghost Rider: Spirit of Vengeance",
          "Captain Corelli's Mandolin",
          "The Pacifier",
          "Walking Tall",
          "Forrest Gump",
          "Alvin and the Chipmunks",
          "Meet the Parents",
          "Pocahontas",
          "Superman",
          "The Nutty Professor",
          "Hitch",
          "George of the Jungle",
          "American Wedding",
          "Captain Phillips",
          "Date Night",
          "Casper",
          "The Equalizer",
          "Maid in Manhattan",
          "Crimson Tide",
          "The Pursuit of Happyness",
          "Flightplan",
          "Disclosure",
          "City of Angels",
          "Kill Bill: Vol. 1",
          "Bowfinger",
          "Kill Bill: Vol. 2",
          "Tango & Cash",
          "Death Becomes Her",
          "Shanghai Noon",
          "Executive Decision",
          "Mr. Popper's Penguins",
          "The Forbidden Kingdom",
          "Free Birds",
          "Alien³",
          "Evita",
          "Ronin",
          "The Ghost and the Darkness",
          "Paddington",
          "The Watch",
          "The Hunted",
          "Instinct",
          "Stuck on You",
          "Semi-Pro",
          "The Pirates! In an Adventure with Scientists!",
          "Changeling",
          "Chain Reaction",
          "The Fan",
          "The Phantom of the Opera",
          "Elizabeth: The Golden Age",
          "Æon Flux",
          "Gods and Generals",
          "Turbulence",
          "Imagine That",
          "Muppets Most Wanted",
          "Thunderbirds",
          "Burlesque",
          "A Very Long Engagement",
          "Lolita",
          "D-Tox",
          "Blade II",
          "Seven Pounds",
          "Bullet to the Head",
          "The Godfather: Part III",
          "Elizabethtown",
          "You, Me and Dupree",
          "Superman II",
          "Gigli",
          "All the King's Men",
          "Shaft",
          "Anastasia",
          "Moulin Rouge!",
          "Domestic Disturbance",
          "Black Mass",
          "Flags of Our Fathers",
          "Law Abiding Citizen",
          "Grindhouse",
          "Lucky You",
          "Catch Me If You Can",
          "Zero Dark Thirty",
          "The Break-Up",
          "Mamma Mia!",
          "Valentine's Day",
          "The Dukes of Hazzard",
          "The Thin Red Line",
          "The Change-Up",
          "Man on the Moon",
          "Casino",
          "From Paris with Love",
          "Bulletproof Monk",
          "Me, Myself & Irene",
          "Barnyard",
          "Deck the Halls",
          "The Twilight Saga: New Moon",
          "Shrek",
          "The Adjustment Bureau",
          "Robin Hood: Prince of Thieves",
          "Jerry Maguire",
          "Ted",
          "As Good as It Gets",
          "Patch Adams",
          "Anchorman 2: The Legend Continues",
          "Mr. Deeds",
          "Super 8",
          "Erin Brockovich",
          "How to Lose a Guy in 10 Days",
          "22 Jump Street",
          "Interview with the Vampire",
          "Yes Man",
          "Central Intelligence",
          "Daddy's Home",
          "Into the Woods",
          "Inside Man",
          "Payback",
          "Congo",
          "We Bought a Zoo",
          "Knowing",
          "Failure to Launch",
          "The Ring Two",
          "Crazy, Stupid, Love.",
          "Garfield",
          "Christmas with the Kranks",
          "Moneyball",
          "Outbreak",
          "Non-Stop",
          "Race to Witch Mountain",
          "V for Vendetta",
          "Shanghai Knights",
          "Curious George",
          "Herbie Fully Loaded",
          "Don't Say a Word",
          "Hansel & Gretel: Witch Hunters",
          "Unfaithful",
          "I Am Number Four",
          "Syriana",
          "13 Hours: The Secret Soldiers of Benghazi",
          "The Book of Life",
          "Firewall",
          "Absolute Power",
          "G.I. Jane",
          "The Game",
          "Silent Hill",
          "American Reunion",
          "The Negotiator",
          "Into the Storm",
          "Beverly Hills Cop III",
          "Gremlins 2: The New Batch",
          "The Judge",
          "The Peacemaker",
          "Resident Evil: Apocalypse",
          "Bridget Jones: The Edge of Reason",
          "Out of Time",
          "On Deadly Ground",
          "The Adventures of Sharkboy and Lavagirl",
          "The Beach",
          "Raising Helen",
          "Ninja Assassin",
          "For Love of the Game",
          "Striptease",
          "Marmaduke",
          "Hereafter",
          "Murder by Numbers",
          "Assassins",
          "Hannibal Rising",
          "The Story of Us",
          "The Host",
          "Basic",
          "Blood Work",
          "The International",
          "Escape from L.A.",
          "The Iron Giant",
          "The Life Aquatic with Steve Zissou",
          "Free State of Jones",
          "The Life of David Gale",
          "Man of the House",
          "Run All Night",
          "Eastern Promises",
          "Into the Blue",
          "The Messenger: The Story of Joan of Arc",
          "Your Highness",
          "Dream House",
          "Mad City",
          "Baby's Day Out",
          "The Scarlet Letter",
          "Fair Game",
          "Domino",
          "Jade",
          "Gamer",
          "Beautiful Creatures",
          "Death to Smoochy",
          "Zoolander 2",
          "The Big Bounce",
          "What Planet Are You From?",
          "Drive Angry",
          "Street Fighter: The Legend of Chun-Li",
          "The One",
          "The Adventures of Ford Fairlane",
          "The Boat That Rocked",
          "Traffic",
          "Indiana Jones and the Last Crusade",
          "Anna Karenina",
          "Chappie",
          "The Bone Collector",
          "Panic Room",
          "Three Kings",
          "Child 44",
          "Rat Race",
          "K-PAX",
          "Bedazzled",
          "The Cotton Club",
          "3:10 to Yuma",
          "Taken 3",
          "Out of Sight",
          "The Cable Guy",
          "Earth",
          "Dick Tracy",
          "The Thomas Crown Affair",
          "Riding in Cars with Boys",
          "First Blood",
          "Happily N'Ever After",
          "Mary Reilly",
          "My Best Friend's Wedding",
          "Insomnia",
          "Star Trek: First Contact",
          "Jonah Hex",
          "Courage Under Fire",
          "Liar Liar",
          "The Infiltrator",
          "Inchon",
          "The Flintstones",
          "Taken 2",
          "Scary Movie 3",
          "Miss Congeniality",
          "Journey to the Center of the Earth",
          "The Princess Diaries 2: Royal Engagement",
          "The Pelican Brief",
          "The Client",
          "The Bucket List",
          "Patriot Games",
          "Monster-in-Law",
          "Prisoners",
          "Training Day",
          "Galaxy Quest",
          "Scary Movie 2",
          "The Muppets",
          "Blade",
          "Coach Carter",
          "Changing Lanes",
          "Anaconda",
          "Coyote Ugly",
          "Love Actually",
          "A Bug's Life",
          "From Hell",
          "The Specialist",
          "Tin Cup",
          "Kicking & Screaming",
          "The Hitchhiker's Guide to the Galaxy",
          "Resident Evil: Extinction",
          "Blended",
          "Last Holiday",
          "The River Wild",
          "The Indian in the Cupboard",
          "Savages",
          "Cellular",
          "Johnny English",
          "The Ant Bully",
          "Dune",
          "Revolutionary Road",
          "16 Blocks",
          "Babylon A.D.",
          "The Glimmer Man",
          "Multiplicity",
          "Aliens in the Attic",
          "The Pledge",
          "The Producers",
          "The Phantom",
          "All the Pretty Horses",
          "Nixon",
          "The Ghost Writer",
          "Deep Rising",
          "Miracle at St. Anna",
          "Curse of the Golden Flower",
          "Bangkok Dangerous",
          "Big Trouble",
          "Love in the Time of Cholera",
          "Shadow Conspiracy",
          "Johnny English Reborn",
          "Foodfight!",
          "Argo",
          "The Fugitive",
          "The Bounty Hunter",
          "Sleepers",
          "Rambo: First Blood Part II",
          "The Juror",
          "Pinocchio",
          "Heaven's Gate",
          "Underworld: Evolution",
          "Victor Frankenstein",
          "Finding Forrester",
          "28 Days",
          "Unleashed",
          "The Sweetest Thing",
          "The Firm",
          "Charlie St. Cloud",
          "The Mechanic",
          "21 Jump Street",
          "Notting Hill",
          "Chicken Run",
          "Along Came Polly",
          "Boomerang",
          "The Heat",
          "Cleopatra",
          "Here Comes the Boom",
          "High Crimes",
          "The Mirror Has Two Faces",
          "The Mothman Prophecies",
          "Brüno",
          "Licence to Kill",
          "Red Riding Hood",
          "15 Minutes",
          "Super Mario Bros.",
          "Lord of War",
          "Hero",
          "One for the Money",
          "The Interview",
          "The Warrior's Way",
          "Micmacs",
          "8 Mile",
          "A Knight's Tale",
          "The Medallion",
          "The Sixth Sense",
          "Man on a Ledge",
          "The Big Year",
          "The Karate Kid",
          "American Hustle",
          "The Proposal",
          "Double Jeopardy",
          "Back to the Future Part II",
          "Lucy",
          "Fifty Shades of Grey",
          "Spy Kids 3-D: Game Over",
          "A Time to Kill",
          "Cheaper by the Dozen",
          "Lone Survivor",
          "A League of Their Own",
          "The Conjuring 2",
          "The Social Network",
          "He's Just Not That Into You",
          "Scary Movie 4",
          "Scream 3",
          "Back to the Future Part III",
          "Get Hard",
          "Dracula",
          "Julie & Julia",
          "42",
          "The Talented Mr. Ripley",
          "Dumb and Dumber To",
          "Eight Below",
          "The Intern",
          "Ride Along 2",
          "The Last of the Mohicans",
          "Ray",
          "Sin City",
          "Vantage Point",
          "I Love You, Man",
          "Shallow Hal",
          "JFK",
          "Big Momma's House 2",
          "The Mexican",
          "17 Again",
          "The Other Woman",
          "The Final Destination",
          "Bridge of Spies",
          "Behind Enemy Lines",
          "Get Him to the Greek",
          "Shall We Dance?",
          "Small Soldiers",
          "Spawn",
          "The Count of Monte Cristo",
          "The Lincoln Lawyer",
          "Unknown",
          "The Prestige",
          "Horrible Bosses 2",
          "Escape from Planet Earth",
          "Apocalypto",
          "The Living Daylights",
          "Predators",
          "Secret Window",
          "The Lake House",
          "The Skeleton Key",
          "The Odd Life of Timothy Green",
          "Made of Honor",
          "Jersey Boys",
          "The Rainmaker",
          "Gothika",
          "Amistad",
          "Medicine Man",
          "Aliens vs Predator: Requiem",
          "Ri¢hie Ri¢h",
          "Autumn in New York",
          "Music and Lyrics",
          "Paul",
          "The Guilt Trip",
          "Scream 4",
          "8MM",
          "The Doors",
          "Sex Tape",
          "Hanging Up",
          "Final Destination 5",
          "Pay It Forward",
          "Fever Pitch",
          "Drillbit Taylor",
          "The Shadow",
          "Extremely Loud & Incredibly Close",
          "Morning Glory",
          "Get Rich or Die Tryin'",
          "The Art of War",
          "Rent",
          "Bless the Child",
          "The Out-of-Towners",
          "The Island of Dr. Moreau",
          "The Musketeer",
          "The Other Boleyn Girl",
          "Sweet November",
          "The Reaping",
          "Mean Streets",
          "Renaissance Man",
          "Colombiana",
          "Quest for Camelot",
          "City By The Sea",
          "Torque",
          "Showgirls",
          "Marie Antoinette",
          "Kiss of Death",
          "Get Carter",
          "The Impossible",
          "Ishtar",
          "Fantastic Mr. Fox",
          "Life or Something Like It",
          "Memoirs of an Invisible Man",
          "Amélie",
          "Alfie",
          "Big Miracle",
          "The Deep End of the Ocean",
          "FearDotCom",
          "Cirque du Freak: The Vampire's Assistant",
          "Duplex",
          "Universal Soldier: The Return",
          "Pandorum",
          "Impostor",
          "Extreme Ops",
          "Sunshine",
          "A Thousand Words",
          "Delgo",
          "The Gunman",
          "Stormbreaker",
          "Disturbia",
          "Hackers",
          "The Hudsucker Proxy",
          "The Warlords",
          "Nomad: The Warrior",
          "Snowpiercer",
          "A Monster in Paris",
          "The Crow",
          "Baahubali: The Beginning",
          "The Time Traveler's Wife",
          "Because I Said So",
          "Frankenweenie",
          "Serenity",
          "Against the Ropes",
          "Superman III",
          "Grudge Match",
          "Red Cliff",
          "Sweet Home Alabama",
          "The Ugly Truth",
          "Spy Kids 2: The Island of Lost Dreams",
          "Star Trek: Generations",
          "The Grandmaster",
          "Water for Elephants",
          "Dragon Nest: Warriors' Dawn",
          "The Hurricane",
          "Enough",
          "Heartbreakers",
          "Paul Blart: Mall Cop 2",
          "Angel Eyes",
          "Joe Somebody",
          "The Ninth Gate",
          "Extreme Measures",
          "Rock Star",
          "Precious",
          "White Squall",
          "The Thing",
          "Riddick",
          "Switchback",
          "City of Ember",
          "The Master",
          "Virgin Territory",
          "The Express",
          "The 5th Wave",
          "Creed",
          "The Town",
          "What to Expect When You're Expecting",
          "Burn After Reading",
          "Nim's Island",
          "Rush",
          "Magnolia",
          "Cop Out",
          "How to Be Single",
          "Dolphin Tale",
          "Twilight",
          "John Q",
          "Blue Streak",
          "We're the Millers",
          "The Inhabited Island",
          "Breakdown",
          "Never Say Never Again",
          "Hot Tub Time Machine",
          "Dolphin Tale 2",
          "Reindeer Games",
          "A Man Apart",
          "Aloha",
          "The Rite",
          "Gattaca",
          "Isn't She Great",
          "Space Chimps",
          "The Hangover",
          "Ip Man 3",
          "Austin Powers: The Spy Who Shagged Me",
          "Batman",
          "Lethal Weapon 3",
          "The Blind Side",
          "Spy Kids",
          "Horrible Bosses",
          "True Grit",
          "The Devil Wears Prada",
          "Star Trek: The Motion Picture",
          "Identity Thief",
          "Cape Fear",
          "21",
          "Trainwreck",
          "Guess Who",
          "The English Patient",
          "L.A. Confidential",
          "Sky High",
          "In & Out",
          "Species",
          "A Nightmare on Elm Street",
          "The Cell",
          "Secretariat",
          "TMNT",
          "Radio",
          "Friends with Benefits",
          "Neighbors 2: Sorority Rising",
          "Saving Mr. Banks",
          "Malcolm X",
          "This Is 40",
          "Old Dogs",
          "Underworld: Rise of the Lycans",
          "License to Wed",
          "Must Love Dogs",
          "Donnie Brasco",
          "Resident Evil",
          "Poltergeist",
          "Max Payne",
          "In Time",
          "The Back-Up Plan",
          "Something Borrowed",
          "The Bad News Bears",
          "Street Fighter",
          "The Pianist",
          "The Nativity Story",
          "House of Wax",
          "Closer",
          "J. Edgar",
          "Mirrors",
          "Queen of the Damned",
          "Predator 2",
          "Untraceable",
          "Blast from the Past",
          "Flash Gordon",
          "Jersey Girl",
          "Alex Cross",
          "Midnight in the Garden of Good and Evil",
          "Heist",
          "Nanny McPhee and the Big Bang",
          "Hoffa",
          "The X Files: I Want to Believe",
          "Ella Enchanted",
          "Concussion",
          "Abduction",
          "Valiant",
          "Wonder Boys",
          "Superhero Movie",
          "Broken City",
          "Cursed",
          "Premium Rush",
          "Hot Pursuit",
          "The Four Feathers",
          "Parker",
          "Wimbledon",
          "Furry Vengeance",
          "Bait",
          "Krull",
          "Lions for Lambs",
          "Flight of the Intruder",
          "Walk Hard: The Dewey Cox Story",
          "American Outlaws",
          "The Young Victoria",
          "Whiteout",
          "The Tree of Life",
          "Knock Off",
          "Sabotage",
          "The Order",
          "Punisher: War Zone",
          "Zoom",
          "The Walk",
          "A Good Year",
          "Radio Flyer",
          "Bound by Honor",
          "Smilla's Sense of Snow",
          "Femme Fatale",
          "Lion of the Desert",
          "The Horseman on the Roof",
          "Ride with the Devil",
          "Biutiful",
          "Bandidas",
          "The Maze Runner",
          "Unfinished Business",
          "The Age of Innocence",
          "The Fountain",
          "Chill Factor",
          "Stolen",
          "Ponyo",
          "The Longest Ride",
          "The Astronaut's Wife",
          "I Dreamed of Africa",
          "Playing for Keeps",
          "Mandela: Long Walk to Freedom",
          "Reds",
          "A Few Good Men",
          "Exit Wounds",
          "Big Momma's House",
          "Thunder and the House of Magic",
          "The Darkest Hour",
          "Step Up Revolution",
          "Snakes on a Plane",
          "The Watcher",
          "The Punisher",
          "Goal!: The Dream Begins",
          "Safe",
          "Pushing Tin",
          "Return of the Jedi",
          "Doomsday",
          "The Reader",
          "Wanderlust",
          "Elf",
          "Phenomenon",
          "Snow Dogs",
          "Scrooged",
          "Nacho Libre",
          "Bridesmaids",
          "This Is the End",
          "Stigmata",
          "Men of Honor",
          "Takers",
          "The Big Wedding",
          "Big Mommas: Like Father, Like Son",
          "Source Code",
          "Alive",
          "The Number 23",
          "The Young and Prodigious T.S. Spivet",
          "1941",
          "A History of Violence",
          "Transporter 2",
          "The Quick and the Dead",
          "Laws of Attraction",
          "Bringing Out the Dead",
          "Repo Men",
          "Dragon Wars: D-War",
          "Bogus",
          "The Incredible Burt Wonderstone",
          "Cats Don't Dance",
          "The Good German",
          "George and the Dragon",
          "Apocalypse Now",
          "Going the Distance",
          "Mr. Holland's Opus",
          "Criminal",
          "Out of Africa",
          "Flight",
          "Moonraker",
          "The Grand Budapest Hotel",
          "Hearts in Atlantis",
          "Arachnophobia",
          "Frequency",
          "Vacation",
          "Get Shorty",
          "Chicago",
          "Big Daddy",
          "American Pie 2",
          "Toy Story",
          "Speed",
          "The Vow",
          "Extraordinary Measures",
          "Remember the Titans",
          "The Hunt for Red October",
          "The Butler",
          "DodgeBall: A True Underdog Story",
          "The Addams Family",
          "Ace Ventura: When Nature Calls",
          "The Princess Diaries",
          "The First Wives Club",
          "Se7en",
          "District 9",
          "The SpongeBob SquarePants Movie",
          "Mystic River",
          "Million Dollar Baby",
          "Analyze This",
          "The Notebook",
          "27 Dresses",
          "Hannah Montana: The Movie",
          "Rugrats in Paris: The Movie",
          "The Prince of Tides",
          "Legends of the Fall",
          "Up in the Air",
          "About Schmidt",
          "Warm Bodies",
          "Looper",
          "Babe",
          "Hope Springs",
          "Forgetting Sarah Marshall",
          "Four Brothers",
          "Baby Mama",
          "Bride Wars",
          "Without a Paddle",
          "13 Going on 30",
          "Midnight in Paris",
          "Blow",
          "Message in a Bottle",
          "Star Trek V: The Final Frontier",
          "Like Mike",
          "The Naked Gun 33⅓: The Final Insult",
          "A View to a Kill",
          "The Curse of the Were-Rabbit",
          "P.S. I Love You",
          "Racing Stripes",
          "Atonement",
          "Letters to Juliet",
          "Black Rain",
          "The Three Stooges",
          "Corpse Bride",
          "Glory Road",
          "Sicario",
          "Southpaw",
          "Drag Me to Hell",
          "The Age of Adaline",
          "Step Up 3D",
          "Blue Crush",
          "Stranger Than Fiction",
          "30 Days of Night",
          "The Cabin in the Woods",
          "Meet the Spartans",
          "Midnight Run",
          "The Running Man",
          "Little Shop of Horrors",
          "Hanna",
          "Mortal Kombat: Annihilation",
          "Larry Crowne",
          "Carrie",
          "Take the Lead",
          "Gridiron Gang",
          "What's the Worst That Could Happen?",
          "9",
          "Side Effects",
          "Winnie the Pooh",
          "Dumb and Dumberer: When Harry Met Lloyd",
          "Bulworth",
          "Get on Up",
          "Virtuosity",
          "My Super Ex-Girlfriend",
          "Deliver Us from Evil",
          "Sanctum",
          "Little Black Book",
          "The Five-Year Engagement",
          "Mr. 3000",
          "The Next Three Days",
          "Ultraviolet",
          "Assault on Precinct 13",
          "The Replacement Killers",
          "Fled",
          "Love & Other Drugs",
          "88 Minutes",
          "North Country",
          "The Whole Ten Yards",
          "Splice",
          "Howard the Duck",
          "Pride and Glory",
          "The Cave",
          "Alex & Emma",
          "Wicker Park",
          "Fright Night",
          "The New World",
          "Wing Commander",
          "Dragonball Evolution",
          "The Last Stand",
          "Godsend",
          "Chasing Liberty",
          "Hoodwinked Too! Hood VS. Evil",
          "An Unfinished Life",
          "The Imaginarium of Doctor Parnassus",
          "Barney's Version",
          "Runner Runner",
          "Antitrust",
          "Glory",
          "Once Upon a Time in America",
          "Dead Man Down",
          "Supercross",
          "Miss Potter",
          "DOA: Dead or Alive",
          "The Assassination of Jesse James by the Coward Robert Ford",
          "1911",
          "Wild Card",
          "Machine Gun Preacher",
          "Goodbye Bafana",
          "United Passions",
          "Grace of Monaco",
          "Savva. Heart of the Warrior",
          "Ripley's Game",
          "Sausage Party",
          "Pitch Perfect 2",
          "Walk the Line",
          "Keeping the Faith",
          "The Borrowers",
          "Confessions of a Dangerous Mind",
          "Serving Sara",
          "The Boss",
          "Seed of Chucky",
          "The Jacket",
          "Aladdin",
          "Straight Outta Compton",
          "Indiana Jones and the Temple of Doom",
          "The Rugrats Movie",
          "Along Came a Spider",
          "Florence Foster Jenkins",
          "Once Upon a Time in Mexico",
          "Die Hard",
          "Role Models",
          "The Big Short",
          "Miracle",
          "Dawn of the Dead",
          "The Wedding Planner",
          "Space Pirate Captain Harlock",
          "The Royal Tenenbaums",
          "Identity",
          "Last Vegas",
          "For Your Eyes Only",
          "Serendipity",
          "Timecop",
          "Zoolander",
          "Safe Haven",
          "Hocus Pocus",
          "No Reservations",
          "Kick-Ass",
          "30 Minutes or Less",
          "Dracula 2000",
          "Alexander and the Terrible, Horrible, No Good, Very Bad Day",
          "Pride & Prejudice",
          "Blade Runner",
          "Rob Roy",
          "3 Days to Kill",
          "We Own the Night",
          "Winged Migration",
          "Just My Luck",
          "Mystery, Alaska",
          "The Spy Next Door",
          "A Simple Wish",
          "Ghosts of Mars",
          "Our Brand Is Crisis",
          "Pride and Prejudice and Zombies",
          "Kundun",
          "How to Lose Friends & Alienate People",
          "Kick-Ass 2",
          "Alatriste",
          "Brick Mansions",
          "Octopussy",
          "Knocked Up",
          "My Sister's Keeper",
          "Welcome Home Roscoe Jenkins",
          "A Passage to India",
          "Notes on a Scandal",
          "Rendition",
          "Star Trek VI: The Undiscovered Country",
          "Divine Secrets of the Ya-Ya Sisterhood",
          "Kiss the Girls",
          "The Blues Brothers",
          "The Sisterhood of the Traveling Pants 2",
          "About a Boy",
          "Lake Placid",
          "Lucky Number Slevin",
          "The Right Stuff",
          "Anonymous",
          "The NeverEnding Story",
          "Dark City",
          "Return to Oz",
          "The Newton Boys",
          "Case 39",
          "Suspect Zero",
          "Spy Kids: All the Time in the World",
          "Money Monster",
          "The 51st State",
          "Flawless",
          "Mindhunters",
          "What Just Happened",
          "Paul Blart: Mall Cop",
          "Freaky Friday",
          "The 40 Year Old Virgin",
          "Shakespeare in Love",
          "A Walk Among the Tombstones",
          "Kindergarten Cop",
          "Pineapple Express",
          "Ever After: A Cinderella Story",
          "Open Range",
          "Flatliners",
          "A Bridge Too Far",
          "Red Eye",
          "Final Destination 2",
          "O Brother, Where Art Thou?",
          "Legion",
          "Pain & Gain",
          "Clockstoppers",
          "Silverado",
          "Brothers",
          "Agent Cody Banks 2: Destination London",
          "New Year's Eve",
          "Original Sin",
          "The Raven",
          "Welcome to Mooseport",
          "Highlander: The Final Dimension",
          "Blood and Wine",
          "Snow White: A Tale of Terror",
          "Accidental Love",
          "Flipper",
          "Self/less",
          "The Constant Gardener",
          "The Passion of the Christ",
          "Mrs. Doubtfire",
          "Rain Man",
          "Gran Torino",
          "W.",
          "Taken",
          "The Best of Me",
          "The Bodyguard",
          "Schindler's List",
          "The Help",
          "The Fifth Estate",
          "Scooby-Doo 2: Monsters Unleashed",
          "Forbidden Kingdom",
          "Freddy vs. Jason",
          "Jimmy Neutron: Boy Genius",
          "Cloverfield",
          "Teenage Mutant Ninja Turtles II: The Secret of the Ooze",
          "The Untouchables",
          "No Country for Old Men",
          "Ride Along",
          "Bridget Jones's Diary",
          "Chocolat",
          "Legally Blonde 2: Red, White & Blonde",
          "Parental Guidance",
          "No Strings Attached",
          "Tombstone",
          "Romeo Must Die",
          "The Omen",
          "Final Destination 3",
          "The Lucky One",
          "Bridge to Terabithia",
          "Finding Neverland",
          "The Grey",
          "Hide and Seek",
          "Anchorman: The Legend of Ron Burgundy",
          "GoodFellas",
          "Agent Cody Banks",
          "Nanny McPhee",
          "Scarface",
          "Nothing to Lose",
          "The Last Emperor",
          "Contraband",
          "There Will Be Blood",
          "The Wild Thornberrys Movie",
          "Undercover Brother",
          "The Sisterhood of the Traveling Pants",
          "Kiss of the Dragon",
          "The House Bunny",
          "Beauty Shop",
          "Million Dollar Arm",
          "The Giver",
          "Jeepers Creepers 2",
          "Good Luck Chuck",
          "Cradle 2 the Grave",
          "The Hours",
          "She's the Man",
          "Mr. Bean's Holiday",
          "Anacondas: The Hunt for the Blood Orchid",
          "Blood Ties",
          "August Rush",
          "Elizabeth",
          "Bride of Chucky",
          "Tora! Tora! Tora!",
          "Spice World",
          "The Sitter",
          "The Shawshank Redemption",
          "Crocodile Dundee in Los Angeles",
          "Kingpin",
          "The Gambler",
          "August: Osage County",
          "Ice Princess",
          "A Lot Like Love",
          "Eddie the Eagle",
          "He Got Game",
          "Don Juan DeMarco",
          "Dear John",
          "The Losers",
          "Don't Be Afraid of the Dark",
          "War",
          "Punch-Drunk Love",
          "EuroTrip",
          "Half Past Dead",
          "Unaccompanied Minors",
          "The Greatest Game Ever Played",
          "The Box",
          "The Ruins",
          "The Next Best Thing",
          "My Soul to Take",
          "The Girl Next Door",
          "Maximum Risk",
          "Legend",
          "Hot Rod",
          "Shark Night",
          "Angela's Ashes",
          "Draft Day",
          "Lifeforce",
          "The Conspirator",
          "Lords of Dogtown",
          "The 33",
          "Big Trouble in Little China",
          "Warrior",
          "Michael Collins",
          "Gettysburg",
          "Stop-Loss",
          "Abandon",
          "Brokedown Palace",
          "The Possession",
          "Mrs. Winterbourne",
          "Straw Dogs",
          "The Hoax",
          "The Road",
          "Sheena",
          "Say It Isn't So",
          "The World's Fastest Indian",
          "Tank Girl",
          "Blindness",
          "BloodRayne",
          "Carnage",
          "Where the Truth Lies",
          "Cirque du Soleil: Worlds Away",
          "Without Limits",
          "Me and Orson Welles",
          "The Best Offer",
          "The Bad Lieutenant: Port of Call - New Orleans",
          "Little White Lies",
          "Space Dogs",
          "The Counselor",
          "Ironclad",
          "Waterloo",
          "Kung Fu Jungle",
          "Red Sky",
          "Dangerous Liaisons",
          "On the Road",
          "Star Trek IV: The Voyage Home",
          "Rocky Balboa",
          "Scream 2",
          "Jane Got a Gun",
          "Think Like a Man Too",
          "The Whole Nine Yards",
          "Footloose",
          "Old School",
          "The Fisher King",
          "I Still Know What You Did Last Summer",
          "Return to Me",
          "Zack and Miri Make a Porno",
          "Nurse Betty",
          "The Men Who Stare at Goats",
          "Girl, Interrupted",
          "Win a Date with Tad Hamilton!",
          "Muppets from Space",
          "The Wiz",
          "Ready to Rumble",
          "Play It to the Bone",
          "I Don't Know How She Does It",
          "Piranha 3D",
          "Beyond the Sea",
          "Meet the Deedles",
          "The Thief and the Cobbler",
          "Faster",
          "Howl's Moving Castle",
          "Zombieland",
          "The Waterboy",
          "The Empire Strikes Back",
          "Bad Boys",
          "The Naked Gun 2½: The Smell of Fear",
          "Final Destination",
          "The Ides of March",
          "Pitch Black",
          "Someone Like You...",
          "Her",
          "Joy Ride",
          "The Adventurer: The Curse of the Midas Box",
          "Anywhere But Here",
          "Haywire",
          "Jaws: The Revenge",
          "The End of the Affair",
          "Harley Davidson and the Marlboro Man",
          "In the Valley of Elah",
          "Forsaken",
          "Cheri",
          "Vanity Fair",
          "Bodyguards and Assassins",
          "1408",
          "Spaceballs",
          "The Water Diviner",
          "Ghost",
          "There's Something About Mary",
          "The Santa Clause",
          "The Rookie",
          "The Game Plan",
          "The Bridges of Madison County",
          "The Animal",
          "Gandhi",
          "The Hundred-Foot Journey",
          "The Net",
          "I Am Sam",
          "Son of God",
          "Underworld",
          "Derailed",
          "The Informant!",
          "Shadowlands",
          "Deuce Bigalow: European Gigolo",
          "Delivery Man",
          "Our Kind of Traitor",
          "Saving Silverman",
          "Diary of a Wimpy Kid: Dog Days",
          "Jay and Silent Bob Strike Back",
          "The Glass House",
          "Hail, Caesar!",
          "Josie and the Pussycats",
          "Homefront",
          "The Little Vampire",
          "I Heart Huckabees",
          "RoboCop 3",
          "Dudley Do-Right",
          "The Transporter Refueled",
          "Black Book",
          "Joyeux Noël",
          "Hit & Run",
          "Before I Go to Sleep",
          "Sorcerer",
          "Stone",
          "Out of the Furnace",
          "Michael Clayton",
          "Arlington Road",
          "Underdogs",
          "To Rome with Love",
          "Firefox",
          "South Park: Bigger, Longer & Uncut",
          "Death at a Funeral",
          "Teenage Mutant Ninja Turtles III",
          "Hardball",
          "Silver Linings Playbook",
          "Freedom Writers",
          "For Colored Girls",
          "The Transporter",
          "Never Back Down",
          "The Rage: Carrie 2",
          "Away We Go",
          "Swing Vote",
          "Moonlight Mile",
          "Tinker Tailor Soldier Spy",
          "The Beaver",
          "The Best Little Whorehouse in Texas",
          "eXistenZ",
          "Raiders of the Lost Ark",
          "Home Alone 2: Lost in New York",
          "Close Encounters of the Third Kind",
          "Pulse",
          "Beverly Hills Cop II",
          "Bringing Down the House",
          "The Silence of the Lambs",
          "Wayne's World",
          "Jackass 3D",
          "Jaws 2",
          "Beverly Hills Chihuahua",
          "The Conjuring",
          "Are We There Yet?",
          "Tammy",
          "School of Rock",
          "Mortal Kombat",
          "White Chicks",
          "The Descendants",
          "Holes",
          "12 Years a Slave",
          "Drumline",
          "Why Did I Get Married Too?",
          "Edward Scissorhands",
          "Me Before You",
          "The French Connection",
          "Bad Moms",
          "Date Movie",
          "Return to Never Land",
          "Selma",
          "The Jungle Book 2",
          "Boogeyman",
          "Premonition",
          "The Tigger Movie",
          "Orphan",
          "Max",
          "Epic Movie",
          "Spotlight",
          "Lakeview Terrace",
          "The Grudge 2",
          "How Stella Got Her Groove Back",
          "Man of the Year",
          "The Black Hole",
          "The American",
          "Selena",
          "Vampires Suck",
          "Babel",
          "This Is Where I Leave You",
          "Doubt",
          "Team America: World Police",
          "Texas Chainsaw 3D",
          "Scary Movie 5",
          "Paint Your Wagon",
          "Milk",
          "Risen",
          "Ghost Ship",
          "A Very Harold & Kumar Christmas",
          "Wild Things",
          "The Debt",
          "High Fidelity",
          "One Missed Call",
          "Eye for an Eye",
          "The Bank Job",
          "Eternal Sunshine of the Spotless Mind",
          "You Again",
          "Street Kings",
          "The World's End",
          "Daybreakers",
          "She's Out of My League",
          "Monte Carlo",
          "Stay Alive",
          "Alpha and Omega",
          "The Covenant",
          "Shorts",
          "To Die For",
          "Nerve",
          "Appaloosa",
          "Vampires",
          "Psycho",
          "My Best Friend's Girl",
          "Endless Love",
          "Georgia Rule",
          "Under the Rainbow",
          "Ladyhawke",
          "Simon Birch",
          "Reign Over Me",
          "Into the Wild",
          "School for Scoundrels",
          "Silent Hill: Revelation 3D",
          "From Dusk Till Dawn",
          "Home for the Holidays",
          "Kung Fu Hustle",
          "The Country Bears",
          "The Kite Runner",
          "21 Grams",
          "Paparazzi",
          "A Guy Thing",
          "Capitalism: A Love Story",
          "The Greatest Story Ever Told",
          "Secret in Their Eyes",
          "Disaster Movie",
          "Armored",
          "The Man Who Knew Too Little",
          "What's Your Number?",
          "Lockout",
          "Envy",
          "Crank: High Voltage",
          "One Night with the King",
          "The Quiet American",
          "The Weather Man",
          "Undisputed",
          "12 Rounds",
          "Let Me In",
          "Triple 9",
          "Deconstructing Harry",
          "Three to Tango",
          "Burnt",
          "We're No Angels",
          "Everyone Says I Love You",
          "Death Sentence",
          "Everybody's Fine",
          "Superbabies: Baby Geniuses 2",
          "The Man",
          "Code Name: The Cleaner",
          "Connie and Carla",
          "Sweet Charity",
          "Inherent Vice",
          "Battle of the Year",
          "An American Carol",
          "Machete Kills",
          "Willard",
          "Strange Wilderness",
          "Little Boy",
          "A Dangerous Method",
          "A Scanner Darkly",
          "Alone in the Dark",
          "Bandslam",
          "Birth",
          "A Most Violent Year",
          "I'm Not There.",
          "The Cold Light of Day",
          "The Brothers Bloom",
          "Synecdoche, New York",
          "Princess Mononoke",
          "The Proposition",
          "My All American",
          "Marci X",
          "Equilibrium",
          "The Children of Huang Shi",
          "By the Sea",
          "Steamboy",
          "Rapa Nui",
          "CJ7",
          "Dylan Dog: Dead of Night",
          "People I Know",
          "The Tempest",
          "Regression",
          "Butterfly on a Wheel",
          "Zambezia",
          "Hands of Stone",
          "Survivor",
          "The Frozen Ground",
          "The Painted Veil",
          "The Baader Meinhof Complex",
          "Dances with Wolves",
          "Bad Teacher",
          "Sea of Love",
          "A Cinderella Story",
          "Scream",
          "The Shining",
          "Back to the Future",
          "House on Haunted Hill",
          "Fight Valley",
          "The Switch",
          "Just Married",
          "The Devil's Double",
          "The Crazies",
          "Spirited Away",
          "The Bounty",
          "The Book Thief",
          "Sex Drive",
          "Leap Year",
          "The Fall of the Roman Empire",
          "Take Me Home Tonight",
          "Won't Back Down",
          "The Nutcracker",
          "Kansas City",
          "The Amityville Horror",
          "Adaptation.",
          "Land of the Dead",
          "Fear and Loathing in Las Vegas",
          "The Invention of Lying",
          "Neighbors",
          "The Mask",
          "Big",
          "Borat: Cultural Learnings of America for Make Benefit Glorious Nation of Kazakhstan",
          "Legally Blonde",
          "Star Trek III: The Search for Spock",
          "The Exorcism of Emily Rose",
          "Deuce Bigalow: Male Gigolo",
          "Left Behind",
          "Barbershop 2:  Back in Business",
          "Bad Santa",
          "Austin Powers: International Man of Mystery",
          "My Big Fat Greek Wedding 2",
          "Diary of a Wimpy Kid: Rodrick Rules",
          "Predator",
          "Amadeus",
          "Prom Night",
          "Mean Girls",
          "Gosford Park",
          "Peggy Sue Got Married",
          "Birdman",
          "Blue Jasmine",
          "United 93",
          "Honey",
          "Spy Hard",
          "The Fog",
          "Soul Surfer",
          "Catch-22",
          "Observe and Report",
          "Conan the Destroyer",
          "Raging Bull",
          "Love Happens",
          "Young Sherlock Holmes",
          "127 Hours",
          "Center Stage",
          "Love the Coopers",
          "Catch That Kid",
          "Life as a House",
          "Steve Jobs",
          "I Love You, Beth Cooper",
          "Youth in Revolt",
          "The Legend of the Lone Ranger",
          "The Tailor of Panama",
          "Blow Out",
          "Getaway",
          "The Ice Storm",
          "And So It Goes",
          "Nine 1/2 Weeks",
          "Dragonslayer",
          "Ed Wood",
          "Labor Day",
          "Mongol: The Rise of Genghis Khan",
          "RockNRolla",
          "Mao's Last Dancer",
          "Midnight Special",
          "The Railway Man",
          "The White Ribbon",
          "The Wraith",
          "Salton Sea",
          "Metallica: Through the Never",
          "The Informers",
          "Carlos",
          "I Come with the Rain",
          "Day of the Dead",
          "I Am Wrath",
          "Renaissance",
          "Red Sonja",
          "Red Lights",
          "Superbad",
          "Madea Goes to Jail",
          "Wolves",
          "Step Up 2: The Streets",
          "Hoodwinked!",
          "Hotel Rwanda",
          "Hitman",
          "Black Nativity",
          "The Prince",
          "Aliens",
          "My Fair Lady",
          "I Know What You Did Last Summer",
          "Let's Be Cops",
          "Sideways",
          "Beerfest",
          "Halloween",
          "Good Boy!",
          "The Best Man Holiday",
          "Smokin' Aces",
          "Saw: The Final Chapter",
          "40 Days and 40 Nights",
          "A Night at the Roxbury",
          "Beastly",
          "The Hills Have Eyes",
          "McFarland, USA",
          "ATL",
          "Pitch Perfect",
          "Summer Catch",
          "They",
          "Brooklyn's Finest",
          "55 Days at Peking",
          "Evil Dead",
          "My Life in Ruins",
          "American Dreamz",
          "Superman IV: The Quest for Peace",
          "Running Scared",
          "Shanghai Surprise",
          "The Illusionist",
          "Roar",
          "Veronica Guerin",
          "Escobar: Paradise Lost",
          "Southland Tales",
          "Dragon Hunters",
          "Damnation Alley",
          "The Apparition",
          "My Girl",
          "Fur: An Imaginary Portrait of Diane Arbus",
          "Wall Street",
          "Sense and Sensibility",
          "Becoming Jane",
          "Sydney White",
          "House of Sand and Fog",
          "Dead Poets Society",
          "Dumb and Dumber",
          "When Harry Met Sally...",
          "The Verdict",
          "Road Trip",
          "The Artist",
          "The Unborn",
          "Moonrise Kingdom",
          "The Texas Chainsaw Massacre: The Beginning",
          "The Young Messiah",
          "Pan's Labyrinth",
          "Baby Boy",
          "The Roommate",
          "Joe Dirt",
          "Double Impact",
          "Hot Fuzz",
          "The Women",
          "Vicky Cristina Barcelona",
          "Arn: The Knight Templar",
          "Boys and Girls",
          "Jennifer's Body",
          "Drowning Mona",
          "Radio Days",
          "Remember Me",
          "My Stepmother is an Alien",
          "Philadelphia",
          "The Thirteenth Floor",
          "The Cookout",
          "Hollywood Ending",
          "Detroit Rock City",
          "Highlander",
          "Things We Lost in the Fire",
          "Steel",
          "The Immigrant",
          "Trance",
          "Soul Plane",
          "Welcome to the Sticks",
          "Enter the Void",
          "Vamps",
          "Hachi: A Dog's Tale",
          "Zulu",
          "The Homesman",
          "Juwanna Mann",
          "Slow Burn",
          "Wasabi",
          "Slither",
          "Beverly Hills Cop",
          "Home Alone",
          "Tootsie",
          "Top Gun",
          "Crouching Tiger, Hidden Dragon",
          "American Beauty",
          "The King's Speech",
          "Twins",
          "The Yellow Handkerchief",
          "The Color Purple",
          "Tidal Wave",
          "The Imitation Game",
          "Coal Miner's Daughter",
          "Diary of a Wimpy Kid",
          "Mama",
          "National Lampoon's Vacation",
          "Bad Grandpa",
          "The Queen",
          "Beetlejuice",
          "Why Did I Get Married?",
          "Little Women",
          "The Woman in Black",
          "When a Stranger Calls",
          "Big Fat Liar",
          "The Deer Hunter",
          "Wag the Dog",
          "The Lizzie McGuire Movie",
          "Snitch",
          "Krampus",
          "The Faculty",
          "Cop Land",
          "Not Another Teen Movie",
          "End of Watch",
          "The Skulls",
          "The Theory of Everything",
          "Where the Heart Is",
          "Lawrence of Arabia",
          "Halloween II",
          "Wild",
          "The Last House on the Left",
          "The Wedding Date",
          "Halloween: Resurrection",
          "The Princess Bride",
          "The Great Debaters",
          "Drive",
          "Confessions of a Teenage Drama Queen",
          "The Object of My Affection",
          "28 Weeks Later",
          "When the Game Stands Tall",
          "Because of Winn-Dixie",
          "Love & Basketball",
          "Grosse Pointe Blank",
          "All About Steve",
          "The Craft",
          "Match Point",
          "The Remains of the Day",
          "Boogie Nights",
          "Flicka",
          "The Hills Have Eyes 2",
          "Urban Legends: Final Cut",
          "The Marine",
          "Keanu",
          "Country Strong",
          "Disturbing Behavior",
          "The Place Beyond the Pines",
          "The November Man",
          "Eye of the Beholder",
          "The Hurt Locker",
          "Firestarter",
          "Killing Them Softly",
          "A Most Wanted Man",
          "U2 3D",
          "Highlander: Endgame",
          "One Day",
          "Whip It",
          "Knockaround Guys",
          "De-Lovely",
          "New York Stories",
          "The Man with the Iron Fists",
          "Home Fries",
          "Brazil",
          "Raise Your Voice",
          "The Big Lebowski",
          "Black Snake Moan",
          "Dark Blue",
          "A Mighty Heart",
          "Whatever It Takes",
          "Boat Trip",
          "In Bruges",
          "Peeples",
          "The Rocker",
          "Post Grad",
          "Promised Land",
          "Whatever Works",
          "The In Crowd",
          "The Three Burials of Melquiades Estrada",
          "Kiss Kiss Bang Bang",
          "Idle Hands",
          "Mulholland Drive",
          "You Will Meet a Tall Dark Stranger",
          "Never Let Me Go",
          "Transsiberian",
          "The Clan of the Cave Bear",
          "Funny Games",
          "Metropolis",
          "District B13",
          "Things to Do in Denver When You're Dead",
          "The Assassin",
          "Buffalo Soldiers",
          "Ong Bak 2",
          "Centurion",
          "Silent Trigger",
          "The Midnight Meat Train",
          "Winnie Mandela",
          "The Son of No One",
          "All The Queen's Men",
          "The Good Night",
          "Khumba",
          "Automata",
          "Chiamatemi Francesco - Il Papa della gente",
          "Shinjuku Incident",
          "Groundhog Day",
          "Magic Mike XXL",
          "Romeo + Juliet",
          "Sarah's Key",
          "Freedom",
          "Unforgiven",
          "Manderlay",
          "Slumdog Millionaire",
          "Fatal Attraction",
          "Pretty Woman",
          "Crocodile Dundee II",
          "Born on the Fourth of July",
          "Cool Runnings",
          "My Bloody Valentine",
          "Stomp the Yard",
          "The Spy Who Loved Me",
          "Urban Legend",
          "White Fang",
          "The Iron Lady",
          "Poetic Justice",
          "All About the Benjamins",
          "Vampire in Brooklyn",
          "Exorcist II: The Heretic",
          "My Boss's Daughter",
          "A Perfect Getaway",
          "Our Family Wedding",
          "Tea with Mussolini",
          "I Think I Love My Wife",
          "Jason X",
          "Head Over Heels",
          "Fun Size",
          "The Diving Bell and the Butterfly",
          "Little Children",
          "Gossip",
          "A Walk on the Moon",
          "Catch a Fire",
          "Jefferson in Paris",
          "Mr. Turner",
          "Reign of Assassins",
          "Margaret",
          "Stan Helsing",
          "Flipped",
          "Brokeback Mountain",
          "Clueless",
          "Far from Heaven",
          "Hot Tub Time Machine 2",
          "Quills",
          "Seven Psychopaths",
          "Downfall",
          "The Sea Inside",
          "Under the Skin",
          "Good Morning, Vietnam",
          "The Last Godfather",
          "Justin Bieber: Never Say Never",
          "Black Swan",
          "The Godfather: Part II",
          "Save the Last Dance",
          "A Nightmare on Elm Street 4: The Dream Master",
          "Miracles from Heaven",
          "Dude, Where’s My Car?",
          "Young Guns",
          "St. Vincent",
          "About Last Night",
          "10 Things I Hate About You",
          "The New Guy",
          "The Shallows",
          "The Butterfly Effect",
          "This Christmas",
          "Baby Geniuses",
          "The Big Hit",
          "Harriet the Spy",
          "Child's Play 2",
          "No Good Deed",
          "The Mist",
          "Ex Machina",
          "Being John Malkovich",
          "Two Can Play That Game",
          "Earth to Echo",
          "Crazy/Beautiful",
          "Letters from Iwo Jima",
          "The Astronaut Farmer",
          "Woo",
          "Room",
          "Serial Mom",
          "Dick",
          "54",
          "Birthday Girl",
          "21 & Over",
          "Paris, je t'aime",
          "Admission",
          "Chloe",
          "Faithful",
          "Find Me Guilty",
          "The Perks of Being a Wallflower",
          "Excessive Force",
          "Infamous",
          "The Vatican Tapes",
          "Attack the Block",
          "In the Land of Blood and Honey",
          "The Call",
          "The Crocodile Hunter: Collision Course",
          "I Love You Phillip Morris",
          "Quest for Fire",
          "Antwone Fisher",
          "True Romance",
          "Womb",
          "Glengarry Glen Ross",
          "The Killer Inside Me",
          "Sorority Row",
          "Lars and the Real Girl",
          "The Boy in the Striped Pyjamas",
          "Dancer in the Dark",
          "The Funeral",
          "Solitary Man",
          "Machete",
          "Casino Jack",
          "The Land Before Time",
          "Tae Guk Gi: The Brotherhood of War",
          "The Perfect Game",
          "The Exorcist",
          "Jaws",
          "American Pie",
          "Ernest & Celestine",
          "The Golden Child",
          "Think Like a Man",
          "Barbershop",
          "Star Trek II: The Wrath of Khan",
          "Ace Ventura: Pet Detective",
          "WarGames",
          "Witness",
          "Act of Valor",
          "Step Up",
          "Beavis and Butt-Head Do America",
          "Jackie Brown",
          "Harold & Kumar Escape from Guantanamo Bay",
          "Chronicle",
          "Yentl",
          "Time Bandits",
          "Crossroads",
          "Project X",
          "Patton",
          "One Hour Photo",
          "Quarantine",
          "The Eye",
          "Johnson Family Vacation",
          "How High",
          "The Muppet Christmas Carol",
          "Frida",
          "Katy Perry: Part of Me",
          "The Fault in Our Stars",
          "Rounders",
          "Top Five",
          "Prophecy",
          "Stir of Echoes",
          "Philomena",
          "Aquamarine",
          "Paper Towns",
          "My Baby's Daddy",
          "Nebraska",
          "Max Keeble's Big Move",
          "Young Adult",
          "Crank",
          "Def Jam's How to Be a Player",
          "Living Out Loud",
          "Just Wright",
          "The Postman Always Rings Twice",
          "Girl with a Pearl Earring",
          "Das Boot",
          "Sorority Boys",
          "About Time",
          "House of Flying Daggers",
          "Arbitrage",
          "Project Almanac",
          "Cadillac Records",
          "Fortress",
          "For Your Consideration",
          "Running with Scissors",
          "From Justin to Kelly",
          "Girl 6",
          "In the Cut",
          "Two Lovers",
          "The Host",
          "Ravenous",
          "Charlie Bartlett",
          "The Great Beauty",
          "Stoker",
          "2046",
          "Married Life",
          "Duma",
          "Ondine",
          "Brother",
          "Welcome to Collinwood",
          "The Life Before Her Eyes",
          "Trade",
          "Breakfast of Champions",
          "Cypher",
          "City of Life and Death",
          "Legend of a Rabbit",
          "Space Battleship Yamato",
          "5 Days of War",
          "Triangle",
          "10 Days in a Madhouse",
          "Heaven is for Real",
          "Snatch",
          "Pet Sematary",
          "The Cry of the Owl",
          "Gremlins",
          "Star Wars",
          "Dirty Grandpa",
          "Doctor Zhivago",
          "The Fighter",
          "Jackass Number Two",
          "My Cousin Vinny",
          "If I Stay",
          "Drive Hard",
          "Major League",
          "Phone Booth",
          "A Walk to Remember",
          "Dead Man Walking",
          "Cruel Intentions",
          "Saw VI",
          "History of the World: Part I",
          "The Secret Life of Bees",
          "Corky Romano",
          "Raising Cain",
          "F.I.S.T.",
          "Invaders from Mars",
          "Brooklyn",
          "Barry Lyndon",
          "Out Cold",
          "The Ladies Man",
          "Quartet",
          "Tomcats",
          "Frailty",
          "Woman in Gold",
          "Army of Darkness",
          "Slackers",
          "What's Eating Gilbert Grape",
          "The Visual Bible: The Gospel of John",
          "Vera Drake",
          "The Perez Family",
          "Inside Llewyn Davis",
          "O",
          "Return to the Blue Lagoon",
          "The Molly Maguires",
          "Romance & Cigarettes",
          "Copying Beethoven",
          "Saw V",
          "LOL",
          "Kabhi Alvida Naa Kehna",
          "An Ideal Husband",
          "2001: A Space Odyssey",
          "E.T. the Extra-Terrestrial",
          "In the Land of Women",
          "There Goes My Baby",
          "September Dawn",
          "For Greater Glory - The True Story of Cristiada",
          "The Bélier Family",
          "Good Will Hunting",
          "Misconduct",
          "Saw III",
          "Stripes",
          "Bring It On",
          "The Purge: Election Year",
          "She's All That",
          "Saw IV",
          "White Noise",
          "Madea's Family Reunion",
          "The Color of Money",
          "The Longest Day",
          "The Mighty Ducks",
          "The Grudge",
          "Happy Gilmore",
          "Jeepers Creepers",
          "Bill & Ted's Excellent Adventure",
          "Oliver!",
          "The Best Exotic Marigold Hotel",
          "Recess: School's Out",
          "Mad Max Beyond Thunderdome",
          "Commando",
          "The Boy",
          "Devil",
          "Friday After Next",
          "Insidious: Chapter 3",
          "The Last Dragon",
          "The Lawnmower Man",
          "Nick and Norah's Infinite Playlist",
          "Dogma",
          "The Banger Sisters",
          "Twilight Zone: The Movie",
          "Road House",
          "A Low Down Dirty Shame",
          "Swimfan",
          "Employee of the Month",
          "Can't Hardly Wait",
          "The Outsiders",
          "Pete's Dragon",
          "The Dead Zone",
          "Sinister 2",
          "Sparkle",
          "The Fourth Kind",
          "A Prairie Home Companion",
          "Rushmore",
          "Skyline",
          "The Second Best Exotic Marigold Hotel",
          "Mo' Better Blues",
          "Tremors",
          "Wrong Turn",
          "The Long Riders",
          "The Corruptor",
          "Mud",
          "Reno 911!: Miami",
          "One Direction: This Is Us",
          "The Goods: Live Hard, Sell Hard",
          "My Week with Marilyn",
          "The Matador",
          "Love Jones",
          "The Gift",
          "Get Over It",
          "Office Space",
          "Drop Dead Gorgeous",
          "Big Eyes",
          "Very Bad Things",
          "Body Double",
          "MacGruber",
          "Movie 43",
          "Over Her Dead Body",
          "Seeking a Friend for the End of the World",
          "Cedar Rapids",
          "American History X",
          "The Collection",
          "Teacher's Pet",
          "The Red Violin",
          "The Straight Story",
          "Bad Words",
          "Run, Fatboy, Run",
          "Heartbeeps",
          "Black or White",
          "Rescue Dawn",
          "Danny Collins",
          "Jeff, Who Lives at Home",
          "Romeo Is Bleeding",
          "The Limey",
          "Crash",
          "The House of Mirth",
          "Bucky Larson: Born to Be a Star",
          "The Forest",
          "Sphinx",
          "While We're Young",
          "A Better Life",
          "Gun Shy",
          "The Iceman",
          "Cecil B. Demented",
          "Killer Joe",
          "The Joneses",
          "My Blueberry Nights",
          "Swept Away",
          "War, Inc.",
          "Shaolin Soccer",
          "The Brown Bunny",
          "Coriolanus",
          "Imaginary Heroes",
          "World's Greatest Dad",
          "Edmond",
          "Welcome to the Rileys",
          "Police Academy: Mission to Moscow",
          "Cinco de Mayo: La Batalla",
          "Elsa & Fred",
          "An Alan Smithee Film: Burn, Hollywood, Burn",
          "The Good Guy",
          "Free Style",
          "Strangerland",
          "Janky Promoters",
          "Blonde Ambition",
          "The Oxford Murders",
          "Beat the World",
          "Adam Resurrected",
          "Of Horses and Men",
          "The Devil's Tomb",
          "The Good, The Bad, The Weird",
          "Nurse 3-D",
          "Gunless",
          "Adventureland",
          "The Lost City",
          "Next Friday",
          "American Heist",
          "You Only Live Twice",
          "Plastic",
          "Amour",
          "Poltergeist III",
          "Re-Kill",
          "It's a Mad, Mad, Mad, Mad World",
          "Volver",
          "Heavy Metal",
          "Gentlemen Broncos",
          "Into the Grizzly Maze",
          "Melancholia",
          "Alien",
          "The Texas Chain Saw Massacre",
          "The Runaways",
          "Fiddler on the Roof",
          "Thunderball",
          "Detention",
          "Loose Cannons",
          "Set It Off",
          "The Best Man",
          "Child's Play",
          "Sicko",
          "The Purge: Anarchy",
          "Down to You",
          "Harold & Kumar Go to White Castle",
          "The Contender",
          "Boiler Room",
          "Trading Places",
          "Black Christmas",
          "Henry V",
          "Chasing Papi",
          "The Way of the Gun",
          "Igby Goes Down",
          "PCU",
          "The Ice Pirates",
          "Gracie",
          "Trust the Man",
          "Velvet Goldmine",
          "Glee: The Concert Movie",
          "Two Evil Eyes",
          "Barbecue",
          "All or Nothing",
          "Princess Kaiulani",
          "Opal Dream",
          "Flame & Citron",
          "Undiscovered",
          "Veronika Decides to Die",
          "Crocodile Dundee",
          "The I Inside",
          "Beneath Hill 60",
          "Polisse",
          "Awake",
          "Skin Trade",
          "The Lost Boys",
          "Crazy Heart",
          "The Rose",
          "Baggage Claim",
          "Barbarella",
          "The Namesake",
          "The DUFF",
          "Glitter",
          "Silmido",
          "Bright Star",
          "My Name Is Khan",
          "All Is Lost",
          "Limbo",
          "The Wind That Shakes the Barley",
          "Yeh Jawaani Hai Deewani",
          "Quo Vadis",
          "Repo! The Genetic Opera",
          "Valley of the Wolves: Iraq",
          "Pulp Fiction",
          "The Muppet Movie",
          "Nightcrawler",
          "Club Dread",
          "The Sound of Music",
          "Splash",
          "Little Miss Sunshine",
          "Stand by Me",
          "28 Days Later",
          "Escape from Alcatraz",
          "Brown Sugar",
          "50/50",
          "That Awkward Moment",
          "Much Ado About Nothing",
          "On Her Majesty's Secret Service",
          "New Nightmare",
          "Drive Me Crazy",
          "Akeelah and the Bee",
          "Half Baked",
          "New in Town",
          "American Psycho",
          "The Good Girl",
          "Bon Cop Bad Cop",
          "The Boondock Saints II: All Saints Day",
          "Enough Said",
          "Easy A",
          "The Inkwell",
          "Shadow of the Vampire",
          "Prom",
          "The Pallbearer",
          "Woman on Top",
          "Howards End",
          "Anomalisa",
          "Another Year",
          "8 Women",
          "Showdown in Little Tokyo",
          "It's Kind of a Funny Story",
          "Made in Dagenham",
          "When Did You Last See Your Father?",
          "Prefontaine",
          "Begin Again",
          "Down in the Valley",
          "Brooklyn Rules",
          "Fido",
          "Wild Target",
          "Pathology",
          "10th & Wolf",
          "Aloft",
          "Akira",
          "The Death and Life of Bobby Z",
          "The Rocket: The Legend of Rocket Richard",
          "Imagine Me & You",
          "Mr. Church",
          "Swimming Pool",
          "The Blood of Heroes",
          "Code of Honor",
          "Driving Miss Daisy",
          "Rumble in the Bronx",
          "Far from Men",
          "Thank You for Smoking",
          "Hostel: Part II",
          "An Education",
          "Shopgirl",
          "The Hotel New Hampshire",
          "Narc",
          "Men with Brooms",
          "The Work and the Glory",
          "Extract",
          "Code 46",
          "Outside Bet",
          "Albert Nobbs",
          "Black November",
          "Persepolis",
          "The Wave",
          "The Neon Demon",
          "Harry Brown",
          "The Omega Code",
          "Juno",
          "Pound of Flesh",
          "Diamonds Are Forever",
          "The Godfather",
          "Flashdance",
          "(500) Days of Summer",
          "The Piano",
          "Magic Mike",
          "Live and Let Die",
          "My Dog Skip",
          "Definitely, Maybe",
          "Jumping the Broom",
          "Good Night, and Good Luck.",
          "Capote",
          "Desperado",
          "Logan's Run",
          "The Man with the Golden Gun",
          "Action Jackson",
          "Michael Jordan to the Max",
          "Devil's Due",
          "Flirting with Disaster",
          "Dope",
          "In Too Deep",
          "House of 1000 Corpses",
          "A Serious Man",
          "Get Low",
          "Warlock",
          "Beyond the Lights",
          "A Single Man",
          "The Last Temptation of Christ",
          "Outside Providence",
          "Bride & Prejudice",
          "Split Second",
          "The Other Side of Heaven",
          "Veer-Zaara",
          "Redbelt",
          "Cyrus",
          "Auto Focus",
          "Factory Girl",
          "We Need to Talk About Kevin",
          "The Mighty Macs",
          "Losin' It",
          "Mother and Child",
          "Somewhere",
          "I Hope They Serve Beer in Hell",
          "Hesher",
          "Dom Hemingway",
          "Gerry",
          "The Heart of Me",
          "Freeheld",
          "The Extra Man",
          "Hard to Be a God",
          "Ca$h",
          "The Boondock Saints",
          "Twixt",
          "The Snow Queen",
          "Pale Rider",
          "Stargate: The Ark of Truth",
          "Dazed and Confused",
          "High School Musical 2",
          "Criminal Activities",
          "Shade",
          "House at the End of the Street",
          "Incendies",
          "Elite Squad",
          "Annabelle",
          "Bran Nue Dae",
          "Boyz n the Hood",
          "La Bamba",
          "Dressed to Kill",
          "The Adventures of Huck Finn",
          "Go",
          "Friends with Money",
          "The Andromeda Strain",
          "Bats",
          "Shame",
          "Layer Cake",
          "The Work and the Glory II: American Zion",
          "The East",
          "A Home at the End of the World",
          "The Messenger",
          "Tracker",
          "Control",
          "The Terminator",
          "Good bye, Lenin!",
          "The Damned United",
          "The Return of the Living Dead",
          "Mallrats",
          "Grease",
          "Platoon",
          "Fahrenheit 9/11",
          "Butch Cassidy and the Sundance Kid",
          "Mary Poppins",
          "Ordinary People",
          "West Side Story",
          "Caddyshack",
          "The Wood",
          "The Usual Suspects",
          "A Nightmare on Elm Street 5: The Dream Child",
          "National Lampoon’s Van Wilder",
          "The Wrestler",
          "Duel in the Sun",
          "Escape from New York",
          "Daddy Day Camp",
          "Mr. Nice Guy",
          "A Mighty Wind",
          "Sliding Doors",
          "Tales from the Hood",
          "The Last King of Scotland",
          "Halloween 5: The Revenge of Michael Myers",
          "Bernie",
          "Dolphins and Whales: Tribes of the Ocean",
          "200 Cigarettes",
          "The Words",
          "City Island",
          "The Guard",
          "College",
          "The Virgin Suicides",
          "Wish I Was Here",
          "Simply Irresistible",
          "Only the Strong",
          "Shattered Glass",
          "Novocaine",
          "The Wild Bunch",
          "The Wackness",
          "The First Great Train Robbery",
          "Beastmaster 2: Through the Portal of Time",
          "The 5th Quarter",
          "The Greatest",
          "Snow Flower and the Secret Fan",
          "Come Early Morning",
          "Surfer, Dude",
          "Lake of Fire",
          "11:14",
          "Deadfall",
          "A Shine of Rainbows",
          "The Hit List",
          "Videodrome",
          "The Spanish Apartment",
          "Song One",
          "Winter in Wartime",
          "The Train",
          "The Protector",
          "Bend It Like Beckham",
          "Crossover",
          "Khiladi 786",
          "[REC]²",
          "Standing Ovation",
          "The Sting",
          "Chariots of Fire",
          "Don Jon",
          "High Plains Drifter",
          "Ghost World",
          "Galaxina",
          "Mambo Italiano",
          "Wonderland",
          "Do the Right Thing",
          "Le Havre",
          "Irreversible",
          "R100",
          "Rang De Basanti",
          "Salvation Boulevard",
          "Headhunters",
          "Miss Julie",
          "Somewhere in Time",
          "Insidious: Chapter 2",
          "Saw II",
          "10 Cloverfield Lane",
          "Jackass: The Movie",
          "Lights Out",
          "Paranormal Activity 3",
          "Ouija",
          "A Nightmare on Elm Street 3: Dream Warriors",
          "Instructions Not Included",
          "Paranormal Activity 4",
          "The Robe",
          "The Return of the Pink Panther",
          "Freddy's Dead: The Final Nightmare",
          "Monster",
          "20,000 Leagues Under the Sea",
          "Paranormal Activity: The Marked Ones",
          "The Elephant Man",
          "Dallas Buyers Club",
          "The Lazarus Effect",
          "Memento",
          "Oculus",
          "Clerks II",
          "Billy Elliot",
          "The Way Way Back",
          "The Man from Snowy River",
          "The Apostle",
          "Our Idiot Brother",
          "Race",
          "As Above, So Below",
          "Still Alice",
          "The Egyptian",
          "Nighthawks",
          "Friday the 13th Part VIII: Jason Takes Manhattan",
          "My Big Fat Greek Wedding",
          "Spring Breakers",
          "Halloween: The Curse of Michael Myers",
          "Y Tu Mamá También",
          "Shaun of the Dead",
          "Lone Star",
          "Halloween 4: The Return of Michael Myers",
          "April Fool's Day",
          "Lone Wolf McQuade",
          "Apollo 18",
          "Sunshine Cleaning",
          "No Escape",
          "The Beastmaster",
          "Solomon and Sheba",
          "Fifty Shades of Black",
          "A Farewell to Arms",
          "Digimon: The Movie",
          "The Barbarian Invasions",
          "The Forsaken",
          "Force 10 from Navarone",
          "UHF",
          "Grandma's Boy",
          "Slums of Beverly Hills",
          "Once Upon a Time in the West",
          "Made",
          "Moon",
          "Sea Rex 3D: Journey to a Prehistoric World",
          "The Sweet Hereafter",
          "Of Gods and Men",
          "Bottle Shock",
          "Heavenly Creatures",
          "90 Minutes in Heaven",
          "Everything Must Go",
          "Zero Effect",
          "The Machinist",
          "Light Sleeper",
          "Kill the Messenger",
          "Rabbit Hole",
          "Party Monster",
          "Green Room",
          "The Oh in Ohio",
          "Atlas Shrugged Part III: Who is John Galt?",
          "Bottle Rocket",
          "Albino Alligator",
          "Tucker and Dale vs Evil",
          "Decoys",
          "The Visit",
          "Redacted",
          "Area 51",
          "Sleep Tight",
          "Rudderless",
          "Henry & Me",
          "Dying of the Light",
          "Capricorn One",
          "Yoga Hosers",
          "Soul Kitchen",
          "Sling Blade",
          "The Awakening",
          "Hostel",
          "Take Shelter",
          "Let's Kill Ward's Wife",
          "The Texas Chainsaw Massacre 2",
          "Pat Garrett & Billy the Kid",
          "Only God Forgives",
          "Without Men",
          "The Names of Love",
          "Treading Water",
          "Savage Grace",
          "Police Academy",
          "The Blue Lagoon",
          "Four Weddings and a Funeral",
          "Fast Times at Ridgemont High",
          "Moby Dick",
          "25th Hour",
          "Bound",
          "Requiem for a Dream",
          "Salvador",
          "Moms' Night Out",
          "Donnie Darko",
          "Character",
          "Spun",
          "Life During Wartime",
          "Sympathy for Lady Vengeance",
          "Exiled",
          "Blackthorn",
          "After.Life",
          "One Flew Over the Cuckoo's Nest",
          "R.L. Stine's Monsterville: The Cabinet of Souls",
          "Airlift",
          "The Sweeney",
          "Sexy Beast",
          "Whale Rider",
          "High School Musical",
          "Night Watch",
          "The Crying Game",
          "Porky's",
          "Survival of the Dead",
          "Night of the Living Dead",
          "Lost in Translation",
          "Annie Hall",
          "The Greatest Show on Earth",
          "Monster's Ball",
          "Maggie",
          "Leaving Las Vegas",
          "Hansel and Gretel Get Baked",
          "The Front Page",
          "The Boy Next Door",
          "Trapeze",
          "The Kids Are All Right",
          "They Live",
          "The Great Escape",
          "What the #$*! Do We (K)now!?",
          "The Last Exorcism Part II",
          "Boyhood",
          "Scoop",
          "The Wash",
          "3 Strikes",
          "The Cooler",
          "The Misfits",
          "The Orphanage",
          "The Rules of Attraction",
          "Topaz",
          "Let's Go to Prison",
          "Four Rooms",
          "Secretary",
          "Talk Radio",
          "You Kill Me",
          "Thumbsucker",
          "Red State",
          "Mirrormask",
          "Samsara",
          "The Art of Getting By",
          "The Loss of Sexual Innocence",
          "Holy Motors",
          "Joe",
          "Shooting Fish",
          "Prison",
          "Psycho Beach Party",
          "Guten Tag, Ramón",
          "Trust",
          "Adore",
          "The Velocity of Gary",
          "Mondays in the Sun",
          "Stake Land",
          "Another Happy Day",
          "A Lonely Place to Die",
          "The Geographer Drank His Globe Away",
          "Hell's Angels",
          "Purple Violets",
          "The Veil",
          "The Helpers",
          "How to Fall in Love",
          "A Man for All Seasons",
          "Network",
          "Gone with the Wind",
          "Major Dundee",
          "Annie Get Your Gun",
          "Four Lions",
          "Defendor",
          "The Pirate",
          "The Good Heart",
          "The History Boys",
          "Midnight Cowboy",
          "The Full Monty",
          "Airplane!",
          "Chain of Command",
          "Friday",
          "Menace II Society",
          "Creepshow 2",
          "The Ballad of Cable Hogue",
          "In Cold Blood",
          "The Nun's Story",
          "Harper",
          "Frenzy",
          "The Witch",
          "She's the One",
          "Gods and Monsters",
          "The Secret in Their Eyes",
          "Evil Dead II",
          "Sharknado",
          "Troll Hunter",
          "Winter Passing",
          "D.E.B.S.",
          "The Betrayed",
          "2:13",
          "Batman: The Dark Knight Returns, Part 2",
          "Time to Choose",
          "In the Name of the King III",
          "Wicked Blood",
          "Lords of London",
          "High Anxiety",
          "March of the Penguins",
          "Margin Call",
          "Choke",
          "Whiplash",
          "City of God",
          "Human Traffic",
          "To Write Love on Her Arms",
          "The Hunt",
          "A Christmas Story",
          "Class of 1984",
          "The Opposite Sex",
          "Dreaming of Joseph Lees",
          "The Class",
          "Rosemary's Baby",
          "The Man Who Shot Liberty Valance",
          "Adam",
          "Beginners",
          "Feast",
          "Animal House",
          "Goldfinger",
          "Antiviral",
          "It's a Wonderful Life",
          "Trainspotting",
          "Paranormal Activity 2",
          "Bowling for Columbine",
          "A Nightmare on Elm Street Part 2: Freddy's Revenge",
          "A Room with a View",
          "The Purge",
          "Sinister",
          "Martin Lawrence Live: Runteldat",
          "Cat on a Hot Tin Roof",
          "Beneath the Planet of the Apes",
          "Air Bud",
          "Pokémon: Spell of the Unknown",
          "Friday the 13th Part VI: Jason Lives",
          "The Bridge on the River Kwai",
          "Spaced Invaders",
          "Family Plot",
          "The Apartment",
          "Jason Goes to Hell: The Final Friday",
          "Torn Curtain",
          "Dave Chappelle's Block Party",
          "Slow West",
          "Krush Groove",
          "Elmer Gantry",
          "Judgment at Nuremberg",
          "Trippin'",
          "Red River",
          "Before Midnight",
          "Phantasm II",
          "Woman Thou Art Loosed",
          "Water",
          "East Is East",
          "Whipped",
          "Kama Sutra - A Tale of Love",
          "Please Give",
          "Willy Wonka & the Chocolate Factory",
          "Jawbreaker",
          "Basquiat",
          "Frances Ha",
          "Tsotsi",
          "Happiness",
          "Tusk",
          "Oldboy",
          "Hobo with a Shotgun",
          "Compadres",
          "Freeway",
          "Fish Tank",
          "Bachelorette",
          "Summer Storm",
          "Just Looking",
          "The Divide",
          "Demonic",
          "Open Road",
          "Never Back Down 2: The Beatdown",
          "Point Blank",
          "Four Single Fathers",
          "Something Wicked",
          "AWOL-72",
          "Chicago Overcoat",
          "Central Station",
          "Pocketful of Miracles",
          "Amnesiac",
          "Freakonomics",
          "Griff the Invisible",
          "Hustle & Flow",
          "Some Like It Hot",
          "Friday the 13th Part VII: The New Blood",
          "The Wizard of Oz",
          "Young Frankenstein",
          "Diary of the Dead",
          "The Black Stallion",
          "Donovan's Reef",
          "A Guy Named Joe",
          "Blazing Saddles",
          "Friday the 13th: The Final Chapter",
          "Ida",
          "Riding Giants",
          "Timecrimes",
          "Timber Falls",
          "Singin' in the Rain",
          "A Haunted House",
          "2016: Obama's America",
          "That Thing You Do!",
          "Halloween III: Season of the Witch",
          "Escape from the Planet of the Apes",
          "Hud",
          "Kevin Hart: Let Me Explain",
          "My Own Private Idaho",
          "Garden State",
          "Before Sunrise",
          "Robot & Frank",
          "My Life Without Me",
          "The Spectacular Now",
          "Eye of the Dolphin",
          "The Other End of the Line",
          "Sleep Dealer",
          "Super",
          "Stung",
          "Antibirth",
          "Get on the Bus",
          "Idiocracy",
          "The Rise of the Krays",
          "This Is England",
          "U.F.O.",
          "Bathing Beauty",
          "Go for It!",
          "Dancer, Texas Pop. 81",
          "Show Boat",
          "The Brave Little Toaster",
          "Fantasia",
          "Friday the 13th Part III",
          "Friday the 13th: A New Beginning",
          "The Valley of Decision",
          "Eden",
          "The Best Years of Our Lives",
          "Bully",
          "Mi America",
          "[REC]",
          "From Russia with Love",
          "Sleeper",
          "It Follows",
          "Everything You Always Wanted to Know About Sex *But Were Afraid to Ask",
          "To Kill a Mockingbird",
          "Mad Max 2: The Road Warrior",
          "Boys Don't Cry",
          "Silent House",
          "The Lives of Others",
          "Courageous",
          "The Hustler",
          "Boom Town",
          "The Triplets of Belleville",
          "American Splendor",
          "Before Sunset",
          "Amores perros",
          "Thirteen",
          "Gentleman's Agreement",
          "Winter's Bone",
          "Touching the Void",
          "Alexander's Ragtime Band",
          "Inside Job",
          "We Are Your Friends",
          "Harsh Times",
          "Captive",
          "Full Frontal",
          "Shortbus",
          "Waltz with Bashir",
          "No End in Sight",
          "The Diary of a Teenage Girl",
          "In the Shadow of the Moon",
          "Meek's Cutoff",
          "Inside Deep Throat",
          "The Virginity Hit",
          "Subway",
          "Six-String Samurai",
          "It's All Gone Pete Tong",
          "Saint John of Las Vegas",
          "Stonewall",
          "Return of the Living Dead 3",
          "Sherrybaby",
          "Eden Lake",
          "Grave Encounters",
          "Stitches",
          "Nine Dead",
          "To Be Frank, Sinatra at 100",
          "Bananas",
          "The Lady from Shanghai",
          "No Man's Land: The Rise of Reeker",
          "Highway",
          "Small Apartments",
          "Straight A's",
          "The Curse of Downers Grove",
          "Shark Lake",
          "River's Edge",
          "The Marine 4: Moving Target",
          "Buried",
          "Submarine",
          "ABCD (Any Body Can Dance)",
          "Man on Wire",
          "Brotherly Love",
          "The Last Exorcism",
          "A Streetcar Named Desire",
          "Dr. Strangelove or: How I Learned to Stop Worrying and Love the Bomb",
          "The Crime of Padre Amaro",
          "Beasts of the Southern Wild",
          "Battle for the Planet of the Apes",
          "Higher Ground",
          "The Greatest Movie Ever Sold",
          "Hang 'em High",
          "Independence Daysaster",
          "Dysfunctional Friends",
          "Run Lola Run",
          "May",
          "Against the Wild",
          "Under the Same Moon",
          "Conquest of the Planet of the Apes",
          "In the Bedroom",
          "I Spit on Your Grave",
          "Happy, Texas",
          "The Lunchbox",
          "You Can't Take It With You",
          "From Here to Eternity",
          "She Wore a Yellow Ribbon",
          "Foolish",
          "N-Secure",
          "The Conversation",
          "Waitress",
          "Bloodsport",
          "Mr. Smith Goes to Washington",
          "Kids",
          "The Squid and the Whale",
          "Kissing Jessica Stein",
          "Kickboxer: Vengeance",
          "Spellbound",
          "Buffalo '66",
          "Insidious",
          "Repo Man",
          "Nine Queens",
          "The Ballad of Jack and Rose",
          "The To Do List",
          "Killing Zoe",
          "The Believer",
          "Snow Angels",
          "Session 9",
          "Mooz-lum",
          "Modern Times",
          "My Name Is Bruce",
          "The Salon",
          "Road Hard",
          "Forty Shades of Blue",
          "Amigo",
          "Pontypool",
          "Trucker",
          "The Lords of Salem",
          "Fetching Cody",
          "Closer to the Moon",
          "Mutant World",
          "#Horror",
          "Snow White and the Seven Dwarfs",
          "The Holy Girl",
          "Shalako",
          "Incident at Loch Ness",
          "The Dog Lover",
          "GirlHouse",
          "Batman",
          "Lock, Stock and Two Smoking Barrels",
          "The Celebration",
          "Journey from the Fall",
          "The Basket",
          "Eddie: The Sleepwalking Cannibal",
          "The Hebrew Hammer",
          "Rebecca",
          "Friday the 13th Part 2",
          "The Lost Weekend",
          "C.H.U.D.",
          "The Lion of Judah",
          "Niagara",
          "How Green Was My Valley",
          "Sex, Lies, and Videotape",
          "Saw",
          "Super Troopers",
          "The Amazing Catfish",
          "The Trouble with Harry",
          "Home Run",
          "Reservoir Dogs",
          "The Good, the Bad and the Ugly",
          "Blue Like Jazz",
          "Pink Ribbons, Inc.",
          "Certifiably Jonathan",
          "Desire",
          "The Charge of the Light Brigade",
          "Airborne",
          "Cotton Comes to Harlem",
          "Waiting...",
          "From a Whisper to a Scream",
          "Dracula: Pages from a Virgin's Diary",
          "Beyond the Black Rainbow",
          "The Raid",
          "Casablanca",
          "Rocket Singh: Salesman of the Year",
          "Silent Running",
          "Rocky",
          "Tom Jones",
          "Unfriended",
          "Taxi Driver",
          "The Howling",
          "Dr. No",
          "Chernobyl Diaries",
          "Hellraiser",
          "God's Not Dead 2",
          "Cry_Wolf",
          "Godzilla 2000",
          "Blue Valentine",
          "Transamerica",
          "The Devil Inside",
          "Beyond the Valley of the Dolls",
          "Love Me Tender",
          "An Inconvenient Truth",
          "Sands of Iwo Jima",
          "The Green Inferno",
          "The Sessions",
          "October Baby",
          "The Skeleton Twins",
          "Martha Marcy May Marlene",
          "Obvious Child",
          "20 Feet from Stardom",
          "Two Girls and a Guy",
          "Who Killed the Electric Car?",
          "The Broken Hearts Club: A Romantic Comedy",
          "Bubba Ho-tep",
          "Slam",
          "Brigham City",
          "Fiza",
          "Orgazmo",
          "Blue Car",
          "I Origins",
          "The Battle of Shaker Heights",
          "The Act of Killing",
          "Taxi to the Dark Side",
          "Once in a Lifetime: The Extraordinary Story of the New York Cosmos",
          "Antarctica: A Year on Ice",
          "A LEGO Brickumentary",
          "Hardflip",
          "The Perfect Host",
          "Speedway Junky",
          "Alone With Her",
          "Creative Control",
          "Special",
          "Heli",
          "Loving Annabelle",
          "Hits",
          "Snow White: A Deadly Summer",
          "My Last Day Without You",
          "Doc Holliday's Revenge",
          "Bang Bang Baby",
          "Fear Clinic",
          "Charly",
          "Banshee Chapter",
          "Ask Me Anything",
          "Food Chains",
          "On the Waterfront",
          "L!fe Happens",
          "4 Months, 3 Weeks and 2 Days",
          "Hard Candy",
          "The Quiet",
          "Fruitvale Station",
          "Bambi",
          "Latter Days",
          "1982",
          "For a Good Time, Call...",
          "Celeste & Jesse Forever",
          "A Separation",
          "Ruby in Paradise",
          "Raising Victor Vargas",
          "The Mudge Boy",
          "Dead Snow",
          "Saints and Soldiers",
          "American Graffiti",
          "Safety Not Guaranteed",
          "Kill List",
          "The Innkeepers",
          "The Conformist",
          "Interview with the Assassin",
          "All the Boys Love Mandy Lane",
          "High Noon",
          "Hoop Dreams",
          "L.I.E.",
          "Half Nelson",
          "Naturally Native",
          "Adulterers",
          "Escape from Tomorrow",
          "Treachery",
          "Walter",
          "Top Hat",
          "The Blair Witch Project",
          "Woodstock",
          "The Kentucky Fried Movie",
          "They Will Have to Kill Us First",
          "A Hard Day's Night",
          "The Harvest (La Cosecha)",
          "Love Letters",
          "Fireproof",
          "Faith Connections",
          "Open Water",
          "Kingdom of the Spiders",
          "The Station Agent",
          "Beyond the Mat",
          "Osama",
          "Sholem Aleichem: Laughing In The Darkness",
          "Mean Creek",
          "Drinking Buddies",
          "Deceptive Practice: The Mysteries and Mentors of Ricky Jay",
          "Seven Samurai",
          "Johnny Suede",
          "Rubber",
          "Monsters",
          "Detention of the Dead",
          "Everything Put Together",
          "Good Kill",
          "Girls Gone Dead",
          "El Rey de Najayo",
          "Bloody Sunday",
          "Conversations with Other Women",
          "42nd Street",
          "Metropolitan",
          "Napoleon Dynamite",
          "Blue Ruin",
          "Paranormal Activity",
          "Monty Python and the Holy Grail",
          "Tarnation",
          "What Happens in Vegas",
          "The Dark Hours",
          "My Beautiful Laundrette",
          "Intolerance",
          "The Broadway Melody",
          "The Evil Dead",
          "Maniac",
          "Murderball",
          "Rotor DR1",
          "12 Angry Men",
          "My Dog Tulip",
          "It Happened One Night",
          "Dogtooth",
          "Tupac: Resurrection",
          "Tumbleweeds",
          "The Prophecy",
          "Pieces of April",
          "Old Joy",
          "Wendy and Lucy",
          "Pierrot le Fou",
          "Ayurveda: Art of Being",
          "First Love, Last Rites",
          "Death Race 2000",
          "Anderson's Cross",
          "Some Guy Who Kills People",
          "Compliance",
          "Chasing Amy",
          "Lovely & Amazing",
          "American Desi",
          "Cube",
          "I Married a Strange Person!",
          "Like Crazy",
          "The Canyons",
          "The Sticky Fingers of Time",
          "Ink",
          "The Christmas Bunny",
          "The Big Parade",
          "Along the Roadside",
          "Bronson",
          "Burn",
          "The Stewardesses",
          "The Beast from 20,000 Fathoms",
          "Mad Max",
          "Swingers",
          "A Fistful of Dollars",
          "She Done Him Wrong",
          "The Grace Card",
          "Three",
          "The Business of Fancydancing",
          "Malevolence",
          "Super Hybrid",
          "Children of Heaven",
          "Weekend",
          "Another Earth",
          "Sweet Sweetback's Baadasssss Song",
          "Perfect Cowboy",
          "Tadpole",
          "Once",
          "Roger & Me",
          "Your Sister's Sister",
          "A Dog's Breakfast",
          "The Married Woman",
          "The Birth of a Nation",
          "Facing the Giants",
          "The Gallows",
          "Eraserhead",
          "The Past Is a Grotesque Animal",
          "Pi",
          "Queen Crab",
          "Super Size Me",
          "The Brain That Wouldn't Die",
          "Absentia",
          "Tiny Furniture",
          "Hayride",
          "Counting",
          "The Call of Cthulhu",
          "The Signal",
          "The Image Revolution",
          "The Last Waltz",
          "Run, Hide, Die",
          "Mutual Appreciation",
          "Down Terrace",
          "Clerks",
          "Pink Narcissus",
          "Funny Ha Ha",
          "Dry Spell",
          "Pink Flamingos",
          "Tin Can Man",
          "Cure",
          "Primer",
          "El Mariachi",
          "Newlyweds"
         ],
         "legendgroup": "",
         "marker": {
          "color": "#636efa"
         },
         "name": "",
         "notched": false,
         "offsetgroup": "",
         "orientation": "h",
         "showlegend": false,
         "type": "box",
         "x": [
          2787965087,
          961000000,
          880674609,
          1084939099,
          284139100,
          890871626,
          591794936,
          1405403694,
          933959197,
          873260194,
          391081192,
          586090727,
          1065659812,
          89289910,
          662845518,
          419651413,
          1519557910,
          1045713802,
          624026776,
          956019788,
          752215857,
          310669540,
          958400000,
          372234864,
          550000000,
          1845034188,
          1153304495,
          303025485,
          1513528810,
          1108561013,
          783766341,
          1215439994,
          1025491110,
          459359555,
          743559607,
          836297228,
          1091405097,
          491868548,
          705717432,
          400062763,
          559852396,
          219851172,
          1066969703,
          371353001,
          1506249360,
          531865000,
          747862775,
          467365246,
          197687603,
          351040419,
          335154643,
          407602906,
          1123746996,
          786636033,
          331926147,
          538983207,
          343471816,
          521311860,
          258022233,
          769653595,
          325233863,
          183987723,
          356743061,
          748806957,
          543934787,
          1004558444,
          735099082,
          381509870,
          585174222,
          185770160,
          222104681,
          401128639,
          745000000,
          173000000,
          370541256,
          264218220,
          302469017,
          857611174,
          966550600,
          623933331,
          396600000,
          758539785,
          710644566,
          0,
          150962475,
          714766572,
          752600867,
          209154322,
          652105443,
          471222889,
          305875730,
          389681935,
          494878759,
          435000000,
          773328629,
          675120017,
          825532764,
          77000000,
          1021103568,
          207283925,
          333932083,
          353624124,
          653428261,
          215283742,
          181674817,
          299370084,
          798958165,
          433677183,
          440603537,
          415686217,
          449220945,
          709709780,
          167298192,
          938212738,
          895921036,
          624029371,
          585349010,
          474968763,
          623722818,
          374218673,
          603900354,
          413106170,
          373062864,
          424988211,
          1274219009,
          738599701,
          644571402,
          378858340,
          356613439,
          449326618,
          309979994,
          292817841,
          301000000,
          245527149,
          682330139,
          0,
          287594577,
          665692281,
          318502923,
          397850012,
          205366737,
          38992758,
          64459316,
          128388320,
          272912430,
          497409852,
          746921274,
          431971116,
          229147509,
          553799566,
          441818803,
          195735876,
          521170825,
          694713380,
          306941670,
          202026112,
          456758981,
          268031828,
          385680446,
          821708551,
          609123048,
          150680864,
          76932943,
          185258983,
          285444603,
          245360480,
          371876278,
          119269486,
          85131830,
          370569774,
          361832400,
          212011111,
          829000000,
          150406466,
          163712074,
          183345589,
          532950503,
          282570682,
          245724603,
          373552094,
          442824138,
          631744560,
          519311965,
          847423452,
          368871007,
          591739379,
          273339556,
          554987477,
          293329073,
          362637473,
          371940071,
          789804554,
          49554002,
          243843127,
          354248063,
          349424282,
          321887208,
          976475550,
          61648500,
          655011224,
          752100229,
          767820459,
          500188435,
          407711549,
          626137675,
          334615000,
          232713139,
          261317921,
          61698899,
          276572938,
          238207122,
          345141403,
          544272402,
          546388105,
          325756637,
          289047763,
          609016565,
          228738393,
          415484914,
          259175788,
          403170142,
          169956806,
          286140700,
          115772733,
          242688965,
          93945766,
          48668907,
          261930431,
          286168572,
          850000000,
          649398328,
          562816256,
          415440673,
          924317558,
          585178928,
          132900000,
          77628265,
          164602163,
          477200000,
          716392705,
          178127760,
          245623848,
          167977596,
          574480841,
          470490832,
          333011068,
          215294342,
          362744280,
          478207520,
          295238201,
          102000000,
          237382724,
          227817248,
          337580051,
          563749323,
          103951461,
          179246868,
          299268508,
          347434178,
          164508066,
          125537191,
          383531464,
          871368364,
          72178895,
          87713825,
          347234916,
          211643158,
          300135367,
          267045765,
          630161890,
          162949164,
          10372291,
          237202299,
          457640427,
          358372926,
          876688482,
          599045960,
          362211740,
          520000000,
          214104620,
          266465037,
          378882411,
          150166126,
          310650585,
          170432927,
          242295562,
          425368238,
          100138851,
          169327687,
          312573423,
          347451894,
          249288105,
          100086793,
          268426634,
          278731369,
          211989043,
          170877916,
          392000694,
          336529144,
          121214377,
          130482868,
          140073390,
          82102379,
          243400000,
          109578115,
          68688831,
          206172544,
          133718711,
          0,
          93820758,
          7103973,
          94882889,
          246233113,
          13835130,
          433013274,
          193772504,
          95311434,
          149044513,
          102000000,
          172989651,
          104907746,
          263920180,
          288347692,
          76432727,
          877244782,
          543514353,
          93525586,
          940335536,
          1118888979,
          926287400,
          114178613,
          274703340,
          103039258,
          368780809,
          482860185,
          162839667,
          304654182,
          25819961,
          631442092,
          10017322,
          226497209,
          589390539,
          497366869,
          167805466,
          347325802,
          155464351,
          242988466,
          886686817,
          188133322,
          264105545,
          289847354,
          304320254,
          188072649,
          232617430,
          366101666,
          524028679,
          94061311,
          186053725,
          233755553,
          200276000,
          201596308,
          243637091,
          235926552,
          182290266,
          171120329,
          190213455,
          162944923,
          174578751,
          156505388,
          334901337,
          118063304,
          143049560,
          60874615,
          484635760,
          93700000,
          0,
          140807547,
          35168966,
          79114085,
          108539911,
          16178959,
          148336445,
          494471524,
          429632142,
          384335608,
          288500217,
          315156409,
          450717150,
          132274484,
          358375603,
          340487652,
          208076205,
          183611771,
          152930623,
          194168700,
          250649836,
          219103655,
          311312624,
          197309027,
          288747895,
          96976270,
          80916492,
          137298489,
          162242962,
          158468292,
          142940100,
          78382433,
          37823676,
          183018522,
          47664559,
          74208267,
          123307945,
          275650703,
          41037742,
          237681299,
          21028755,
          112483764,
          222231186,
          160388063,
          84785914,
          96085477,
          484572835,
          274470394,
          457696359,
          691210692,
          254455986,
          280000000,
          343397247,
          145771527,
          144000000,
          140464664,
          0,
          190320568,
          342695435,
          246984278,
          230685453,
          266728738,
          294804195,
          163733697,
          260696994,
          245676146,
          212874442,
          181001478,
          214918407,
          224012234,
          178066569,
          173013509,
          157107755,
          177977226,
          91188905,
          250200000,
          233093859,
          136982834,
          211817906,
          164000000,
          201584141,
          122563539,
          169852759,
          136159423,
          96105964,
          473226958,
          90874570,
          123729176,
          0,
          147080413,
          142400065,
          71485043,
          0,
          105316267,
          101371017,
          43312294,
          122444772,
          34566746,
          159212469,
          126546518,
          21400000,
          68514844,
          53825515,
          19480739,
          17626234,
          69131860,
          146936910,
          33463969,
          107944236,
          19406406,
          5989640,
          117831631,
          0,
          313542341,
          788241776,
          355692760,
          248384621,
          209196298,
          108103450,
          149673788,
          236350661,
          97571250,
          15071514,
          35134820,
          875958308,
          179265204,
          970761885,
          816969268,
          229074524,
          532680671,
          69959751,
          296339527,
          258270008,
          335062621,
          660940780,
          196482882,
          90450008,
          78000586,
          0,
          117698894,
          271430189,
          219417255,
          73034460,
          215663859,
          119000410,
          367275019,
          154937680,
          95226116,
          130358911,
          85632458,
          98159963,
          108145109,
          55041367,
          140175006,
          67631903,
          127600435,
          0,
          226904017,
          77944725,
          36754634,
          51142659,
          14567883,
          5802422,
          5409517,
          21009180,
          248118121,
          1156730962,
          89792502,
          103891409,
          13100000,
          349779543,
          111231041,
          61458982,
          86658558,
          162966177,
          176104344,
          210000000,
          96889998,
          527068851,
          37317558,
          54744738,
          62172050,
          256697520,
          294456605,
          408247917,
          919838758,
          461983149,
          309457509,
          277448382,
          311594032,
          309492681,
          319131050,
          300854823,
          240031094,
          116643346,
          203388341,
          42285169,
          171183863,
          443140005,
          114660784,
          161025640,
          118000000,
          202466756,
          122919055,
          177584879,
          154984035,
          90000098,
          134748021,
          215529201,
          116672912,
          135560026,
          131457682,
          67112664,
          65977295,
          55987321,
          33561137,
          160112671,
          59418613,
          32287044,
          57777106,
          19924033,
          19870567,
          13596911,
          18662027,
          17752940,
          57958696,
          38629478,
          122915111,
          61279452,
          193000000,
          698491347,
          71069884,
          543513985,
          35431113,
          217022588,
          39041505,
          29762011,
          83160734,
          60289912,
          52099090,
          113280098,
          86387857,
          112265139,
          212404396,
          189198313,
          25303038,
          481840909,
          203277636,
          374111707,
          383257136,
          75715436,
          275293450,
          463517383,
          355237933,
          172855065,
          441809770,
          250821495,
          128107642,
          250288523,
          211780824,
          163442937,
          128884132,
          255000211,
          150270147,
          69700000,
          162945894,
          0,
          179379533,
          162091208,
          133821816,
          153962963,
          156974557,
          128905366,
          38376497,
          0,
          240159255,
          73762516,
          89456761,
          0,
          64321501,
          100853753,
          43545364,
          17218080,
          0,
          71154592,
          42093706,
          56681566,
          39407616,
          74608570,
          203427584,
          132180323,
          296655431,
          44091067,
          920100000,
          25052000,
          215887717,
          121545703,
          101595121,
          127666415,
          107879496,
          41819064,
          18720175,
          155760117,
          0,
          183953723,
          422610419,
          516642939,
          244082376,
          284600000,
          253625427,
          314432665,
          369330363,
          214034224,
          352194034,
          149705852,
          264118201,
          218613188,
          164433867,
          131940411,
          93375151,
          176070171,
          93354918,
          171757863,
          171844840,
          157920733,
          129181830,
          311256926,
          204594016,
          0,
          71664962,
          100230832,
          186883563,
          217764291,
          165333180,
          74541707,
          218340595,
          73648228,
          0,
          137551594,
          124596398,
          163403799,
          130293714,
          61112916,
          170268750,
          129832389,
          99318987,
          56702901,
          107139399,
          159330280,
          96269812,
          0,
          50877145,
          104324083,
          50549107,
          101134059,
          205754447,
          162000000,
          95696996,
          108255770,
          46683377,
          469160692,
          43061982,
          105200903,
          62357900,
          122233971,
          87784194,
          60000000,
          36850101,
          77920346,
          104945765,
          67312826,
          119940815,
          74901339,
          33956608,
          55003135,
          73174566,
          0,
          31720158,
          39459427,
          47383689,
          141702264,
          71073932,
          78309131,
          26288320,
          26673242,
          52322400,
          49111202,
          17800000,
          27642707,
          14828081,
          30800231,
          90565421,
          50650079,
          25473093,
          0,
          57490374,
          39031337,
          30418560,
          0,
          0,
          193677158,
          10166502,
          783112979,
          0,
          542307423,
          158162788,
          102854431,
          59468275,
          189015611,
          41299492,
          0,
          85280250,
          44000000,
          300228084,
          50365377,
          152944660,
          58058367,
          115267375,
          61347797,
          149217355,
          62112895,
          113006880,
          57223890,
          677945399,
          361366633,
          330444045,
          346079773,
          300218018,
          128769345,
          368100420,
          0,
          231449203,
          95000000,
          152263880,
          287928194,
          192330738,
          154906693,
          157387195,
          307077295,
          223387299,
          214015089,
          198685114,
          180949000,
          0,
          152159461,
          63408614,
          149022650,
          56932305,
          121969216,
          187361754,
          127906624,
          110000000,
          159773545,
          141047179,
          41610884,
          75000000,
          259207227,
          68267862,
          34234008,
          0,
          33828318,
          33472850,
          118338361,
          113020255,
          60209334,
          18626419,
          154648887,
          74237563,
          52304001,
          12923936,
          11466088,
          0,
          80383290,
          28283637,
          89519773,
          0,
          9250000,
          6416302,
          155010032,
          168167691,
          9489829,
          136766062,
          52034889,
          130431368,
          190458706,
          7266209,
          9450897,
          107196498,
          139804348,
          179213434,
          54249294,
          98837872,
          65900249,
          126690726,
          25037897,
          5761917,
          352114312,
          132820716,
          204999686,
          609841637,
          216485654,
          110803676,
          98126565,
          75450437,
          47434430,
          116112375,
          52826594,
          0,
          149270999,
          72779000,
          47231070,
          709827462,
          484409218,
          127869379,
          390493908,
          273552592,
          549368315,
          314178011,
          202292902,
          173649015,
          171269535,
          260095987,
          256271286,
          177371441,
          188441614,
          223664608,
          225990978,
          216972543,
          242786137,
          212902372,
          184376254,
          161626121,
          152022101,
          120081841,
          155446362,
          88715192,
          161451538,
          142851197,
          200804534,
          0,
          110206216,
          189859560,
          222809600,
          106303988,
          132511035,
          88323487,
          69834815,
          66002004,
          100020092,
          224803475,
          119137784,
          144492830,
          94000000,
          69411370,
          97437106,
          82800000,
          50068310,
          48169156,
          109423648,
          97607453,
          234989584,
          44547681,
          160602194,
          119208989,
          41482207,
          83719388,
          0,
          129394835,
          40203020,
          55495563,
          49000000,
          69425966,
          144056873,
          49718611,
          60462347,
          0,
          113309743,
          83761844,
          105197635,
          56714147,
          30303072,
          82169884,
          58900031,
          63327201,
          42792561,
          26199517,
          60161391,
          42277365,
          23159305,
          34808403,
          25035950,
          38955598,
          0,
          71561644,
          55112356,
          44434439,
          66976317,
          26121638,
          38502340,
          10541523,
          16671505,
          10382407,
          24188922,
          22944502,
          9851610,
          40828540,
          60052138,
          0,
          55969000,
          6808550,
          0,
          28931401,
          12764201,
          72700000,
          20423389,
          36348784,
          207515725,
          474171806,
          68929150,
          104399548,
          151493655,
          196397415,
          108000000,
          3324330,
          85498534,
          50315140,
          90383208,
          25928721,
          70016220,
          325771424,
          77745568,
          102825796,
          528972,
          103738726,
          124305181,
          35743308,
          125212904,
          38085778,
          12379402,
          299288605,
          113714830,
          150000000,
          10539000,
          100860818,
          181000000,
          15436808,
          5200000,
          341631208,
          376141306,
          220673217,
          212000000,
          101702060,
          95149435,
          195268056,
          117615211,
          175372502,
          178051587,
          154749918,
          122126687,
          104876233,
          90683916,
          141220678,
          165184237,
          131183530,
          76669806,
          94935764,
          136885767,
          113916474,
          244931766,
          363258859,
          74558115,
          170362582,
          53854588,
          56070433,
          104478416,
          148412065,
          123494610,
          38399961,
          0,
          0,
          82966152,
          56422687,
          160583018,
          55181129,
          30925690,
          75225693,
          65664721,
          72108608,
          0,
          0,
          57881056,
          29400000,
          38058335,
          17300889,
          0,
          13681765,
          60222298,
          11203026,
          9323833,
          0,
          42487390,
          8493890,
          4607608,
          2154540,
          160078586,
          73706,
          232324128,
          368875760,
          136000000,
          165615285,
          300400432,
          0,
          84300000,
          3484331,
          111340801,
          34227298,
          80049764,
          0,
          50871113,
          68696770,
          270248367,
          48190704,
          51070807,
          201585328,
          363889678,
          224834564,
          171963386,
          70100000,
          158674180,
          71000000,
          73100172,
          63781810,
          0,
          55157539,
          0,
          156167015,
          89162162,
          56359980,
          20915465,
          24127895,
          177394432,
          36893721,
          12342632,
          11087569,
          14000000,
          215000000,
          117487473,
          0,
          672806292,
          46221189,
          7448385,
          90815558,
          251171807,
          317375031,
          177841558,
          332000000,
          126546825,
          571006128,
          197011982,
          152266007,
          190212113,
          149295601,
          107458785,
          320170008,
          224920315,
          177259441,
          178262620,
          161834276,
          244527583,
          111811453,
          215862692,
          129540499,
          95020213,
          128798265,
          169837010,
          120455994,
          194564672,
          124827316,
          75505856,
          124731534,
          158733820,
          151161491,
          91636986,
          141069860,
          205405498,
          138259062,
          147845033,
          136267476,
          196781193,
          186167139,
          165478348,
          91753202,
          90029656,
          170128460,
          54682547,
          87840042,
          75395048,
          85412898,
          130786397,
          109676311,
          107670357,
          74597643,
          120175290,
          191185897,
          126248813,
          92913171,
          114830111,
          91974818,
          51854875,
          84601681,
          67347013,
          45916769,
          141591324,
          74000000,
          0,
          41797066,
          0,
          0,
          145896422,
          97552050,
          41863726,
          97138686,
          96618699,
          34416893,
          126069509,
          36037909,
          157887643,
          55707411,
          50451307,
          0,
          48063435,
          55247881,
          58785180,
          46442528,
          30199105,
          31670620,
          0,
          29000000,
          49627779,
          27053815,
          0,
          65754228,
          62771059,
          3000000,
          24332324,
          60965854,
          38172500,
          22433915,
          46546197,
          20350754,
          60474340,
          0,
          19412993,
          180274123,
          14375181,
          46471023,
          16872671,
          14358033,
          173921954,
          13395939,
          24719215,
          28121100,
          18902015,
          28169671,
          19322135,
          10667893,
          20645327,
          0,
          10959475,
          32017803,
          22044277,
          0,
          13644292,
          23937870,
          117760134,
          7563728,
          0,
          0,
          0,
          86758912,
          0,
          94000000,
          100000000,
          101229792,
          69485490,
          35287788,
          38869464,
          6614280,
          75850624,
          44907260,
          127814609,
          180622424,
          205298907,
          119723358,
          120000000,
          64076736,
          114156230,
          0,
          73956241,
          51801187,
          0,
          107597242,
          29700000,
          0,
          58401898,
          17380126,
          16991902,
          47536959,
          10300000,
          19629760,
          98337295,
          6482195,
          17869048,
          28258060,
          5410749,
          9793496,
          109906372,
          173567581,
          154026136,
          79700000,
          163720069,
          100076342,
          90247624,
          48451803,
          55583804,
          112343513,
          95404397,
          392616625,
          102244770,
          117758500,
          269994119,
          21834845,
          50159144,
          160000000,
          64572262,
          52424533,
          32168970,
          44350926,
          26250020,
          96047633,
          12532777,
          3003296,
          63800345,
          459270619,
          156844753,
          310940086,
          411348924,
          321731527,
          309208309,
          147934180,
          117000000,
          252276927,
          326551094,
          139000000,
          173965010,
          182300000,
          69823199,
          140795793,
          68915888,
          231976425,
          126216940,
          86369815,
          0,
          113374103,
          25504513,
          104155843,
          60251371,
          95608995,
          52277485,
          150483765,
          108758521,
          112544580,
          48169908,
          88058786,
          92219310,
          91353501,
          69307224,
          58405313,
          41954997,
          102984862,
          122200000,
          85416905,
          173930596,
          77477008,
          59901913,
          35323292,
          99423521,
          120072577,
          0,
          68766121,
          115505027,
          84606030,
          72436439,
          45479110,
          57120318,
          32483410,
          40263020,
          27107960,
          36098382,
          30353232,
          25105255,
          4100000,
          93246388,
          0,
          68369434,
          27388767,
          50363790,
          82087155,
          19478106,
          0,
          25871834,
          19701164,
          19294901,
          31083599,
          51680201,
          29882645,
          46216641,
          41512007,
          39340177,
          0,
          16519460,
          63215872,
          0,
          18317151,
          13678913,
          27409889,
          12206028,
          54674226,
          0,
          17508518,
          11560806,
          10089373,
          12506188,
          61181942,
          42064105,
          4651977,
          0,
          0,
          16838910,
          0,
          15000000,
          635096,
          25147786,
          10496317,
          348319861,
          14431253,
          32255440,
          15304890,
          11263966,
          2106557,
          187479518,
          63013281,
          19598588,
          0,
          0,
          27330000,
          40382659,
          243240178,
          79958599,
          173959438,
          0,
          64626786,
          140470746,
          62022014,
          0,
          54700105,
          27610873,
          40346186,
          0,
          572700000,
          22211426,
          113019290,
          24159934,
          173398518,
          152036382,
          0,
          60328000,
          80197993,
          288383523,
          126041322,
          50041732,
          48814909,
          69055695,
          21819348,
          83615414,
          147332697,
          36733909,
          77566815,
          9494789,
          31755742,
          60740827,
          85167639,
          18552460,
          30016165,
          0,
          18409891,
          53587404,
          0,
          27437881,
          3566637,
          5914908,
          0,
          89460381,
          42045846,
          106269971,
          14708696,
          128499205,
          161772375,
          210308099,
          174600318,
          24185781,
          53208180,
          68106245,
          104384188,
          115101622,
          306776732,
          234801895,
          287553595,
          373554033,
          350448145,
          196114570,
          15134293,
          136706683,
          199200000,
          115922175,
          167722310,
          191502426,
          212385533,
          165335153,
          116400000,
          327311859,
          210819611,
          140161792,
          156822020,
          216763646,
          176885658,
          115603229,
          160259319,
          155545279,
          103,
          74787599,
          160638883,
          163670000,
          105834556,
          116980662,
          47042000,
          254134910,
          114281051,
          105173115,
          92374674,
          63833449,
          114663461,
          69631118,
          96455697,
          151119219,
          83282296,
          118880016,
          70200000,
          0,
          51132598,
          152427960,
          192452832,
          156835339,
          93772522,
          129266061,
          0,
          45892212,
          54819301,
          117195061,
          42647449,
          84025816,
          91709827,
          90810892,
          65663276,
          159291809,
          51842679,
          53653224,
          75505973,
          66486080,
          84646831,
          38413606,
          38122105,
          38748395,
          63782078,
          51376861,
          36160375,
          82394288,
          34742066,
          41480851,
          0,
          48428063,
          63372757,
          14460000,
          39267515,
          29202884,
          31911598,
          24048000,
          60896147,
          0,
          108609310,
          22034832,
          53909751,
          21800302,
          51148651,
          31070211,
          35294470,
          19204929,
          17193231,
          102820008,
          16930884,
          25224242,
          26155781,
          0,
          37962774,
          31148328,
          15007991,
          15368897,
          13001257,
          24922237,
          30536013,
          0,
          0,
          0,
          30114487,
          12,
          13521829,
          18618284,
          64352607,
          8454301,
          62616646,
          18195610,
          26828365,
          0,
          18074539,
          3102550,
          35078241,
          480314,
          14711793,
          108348,
          0,
          2527904,
          0,
          0,
          0,
          0,
          0,
          140752617,
          287506194,
          186438883,
          37036004,
          0,
          33013805,
          16930185,
          78636257,
          24829644,
          21126225,
          504050219,
          201634991,
          333000000,
          100491683,
          105178561,
          48902953,
          98185582,
          140767956,
          92380927,
          133346506,
          64445708,
          102356381,
          94728529,
          17137302,
          71441250,
          90259536,
          134402450,
          195312802,
          77516304,
          101646581,
          60780981,
          97594140,
          39514713,
          92601050,
          96188903,
          40547440,
          33000337,
          100654149,
          121147947,
          33139618,
          31596911,
          52597999,
          54926886,
          20217080,
          38159905,
          8888143,
          45236543,
          8345056,
          14010832,
          7002261,
          16374328,
          5684789,
          17286299,
          60700000,
          23321954,
          68896829,
          187500000,
          219076518,
          95714875,
          43650785,
          27187653,
          49469904,
          24748670,
          96900000,
          0,
          60527873,
          115229890,
          44352417,
          129000000,
          56870414,
          56308881,
          21500000,
          15395087,
          20158808,
          27200316,
          11137801,
          76000000,
          29000000,
          13000000,
          85564310,
          93282604,
          14,
          4488529,
          21148829,
          6673422,
          183293131,
          110230332,
          109449237,
          289317794,
          53181600,
          201957688,
          101624843,
          65705772,
          68296293,
          61489265,
          50750000,
          57891803,
          90426405,
          71868327,
          67918658,
          86175291,
          38793283,
          0,
          43318349,
          28818995,
          142044638,
          35402320,
          29657751,
          14000000,
          36800000,
          0,
          0,
          0,
          20080020,
          30523226,
          82466670,
          611899420,
          441286195,
          412800000,
          269958228,
          29506464,
          226830568,
          35926213,
          411006740,
          321365567,
          124272124,
          8555008,
          181466833,
          0,
          114908830,
          80936232,
          170764026,
          78000000,
          76270454,
          171600000,
          153997819,
          281929795,
          152500343,
          124914842,
          119772232,
          147780440,
          56505065,
          91036760,
          60922980,
          117719158,
          99357138,
          137587063,
          116766556,
          77278331,
          122644820,
          90574188,
          46836394,
          58795814,
          122489822,
          65884703,
          0,
          43984230,
          63100000,
          77208711,
          0,
          41604473,
          39053061,
          64437847,
          70442940,
          36351350,
          38307627,
          66980456,
          63102666,
          59192128,
          56489558,
          41597830,
          33889159,
          229736344,
          70992898,
          2415472,
          66122026,
          82150642,
          50671850,
          29548291,
          100000000,
          34942188,
          28341469,
          39438674,
          25023434,
          39171130,
          74188937,
          27645491,
          42886719,
          46152800,
          21567853,
          22200000,
          114977104,
          23580000,
          36993168,
          40452643,
          17000000,
          20796847,
          0,
          0,
          15431177,
          33333531,
          0,
          24362772,
          19829957,
          30411183,
          51702483,
          42972994,
          14334401,
          10126458,
          13,
          28831145,
          0,
          15478800,
          13411957,
          24902723,
          11000000,
          23057115,
          16900000,
          25000000,
          11207130,
          10719357,
          13000000,
          85446075,
          10070000,
          10324441,
          11772461,
          27635305,
          5778353,
          0,
          0,
          4064495,
          19844979,
          2405420,
          27603069,
          0,
          34153101,
          777423,
          2336172,
          19255873,
          10589102,
          48531470,
          6500000,
          71009334,
          0,
          3052000,
          0,
          0,
          34670720,
          8784318,
          133000000,
          155721132,
          172363301,
          1397284,
          70181428,
          106371651,
          80035402,
          87055349,
          41895491,
          40002112,
          36609995,
          42105111,
          0,
          68729358,
          0,
          16980098,
          16290976,
          21049053,
          12372410,
          8434146,
          30551495,
          83188165,
          0,
          4562146,
          669276,
          23081726,
          234710455,
          102391382,
          185991646,
          538400000,
          141407024,
          86930411,
          53302314,
          75993061,
          53187659,
          0,
          47351251,
          36642838,
          6399,
          18653615,
          33372606,
          51881013,
          10827816,
          7434726,
          29541790,
          0,
          9366227,
          16123851,
          5837674,
          94679598,
          38119483,
          15520023,
          505000000,
          369884651,
          189833357,
          75597042,
          147880543,
          182016617,
          84772742,
          77737889,
          88880821,
          110627965,
          92542418,
          67800064,
          95708457,
          57479076,
          35424826,
          0,
          22400154,
          51164106,
          9930095,
          19351569,
          77112176,
          33788161,
          23619609,
          63647656,
          0,
          43058898,
          13555988,
          0,
          10696210,
          0,
          72629670,
          26193068,
          17709155,
          14400000,
          15447154,
          12000000,
          9479718,
          15400000,
          92991835,
          0,
          24000000,
          73244881,
          70687344,
          0,
          46,
          42000000,
          40222729,
          205738714,
          41170784,
          37000000,
          43928932,
          41627431,
          17762705,
          14899417,
          17600000,
          10011050,
          0,
          970816,
          69701637,
          2856712,
          389925971,
          358991681,
          303788635,
          29907685,
          299965036,
          132675402,
          272742922,
          121697323,
          117224271,
          187884007,
          149281606,
          318000141,
          97918663,
          100525432,
          131282949,
          122195920,
          113086475,
          177243185,
          0,
          187000000,
          57588485,
          60072596,
          53000000,
          207945075,
          41158757,
          183936074,
          48548426,
          109862682,
          66787908,
          135680000,
          67192859,
          84146832,
          45554533,
          41596251,
          43967255,
          86865564,
          88346473,
          27640028,
          39143839,
          37672350,
          41237648,
          35841901,
          65464324,
          60000000,
          80547866,
          135330182,
          41296320,
          50907234,
          50907422,
          47241945,
          78378744,
          31678778,
          54586584,
          46069568,
          68349884,
          35387212,
          67200000,
          45636368,
          47126295,
          0,
          0,
          64822796,
          72258126,
          32005248,
          65569869,
          46089287,
          51416464,
          49779728,
          17425000,
          27105095,
          39300000,
          37597471,
          28972508,
          21284514,
          83707310,
          20211394,
          0,
          32000000,
          36620508,
          34077920,
          0,
          2297493,
          18432000,
          18253415,
          22222308,
          56255142,
          17807569,
          52302796,
          25836616,
          17519169,
          100914445,
          0,
          73276047,
          60427839,
          16605763,
          17432163,
          17436509,
          15473333,
          34854990,
          14109284,
          22942221,
          13801755,
          30426096,
          32204030,
          0,
          34560577,
          13391174,
          27674124,
          12482775,
          12398628,
          17280326,
          24145613,
          12639297,
          10686841,
          0,
          36606743,
          0,
          0,
          16974459,
          0,
          9109322,
          12382362,
          10337477,
          11341016,
          20000000,
          11110975,
          16549477,
          7000000,
          15008161,
          0,
          6575282,
          6420319,
          27462041,
          7659918,
          10442808,
          5210988,
          0,
          12007070,
          4001121,
          16863583,
          5530764,
          0,
          159375308,
          5048693,
          0,
          1675706,
          5359645,
          7400000,
          3727746,
          0,
          305070,
          47301471,
          4634062,
          0,
          346594,
          17671101,
          0,
          0,
          0,
          0,
          5496951,
          0,
          0,
          424208848,
          216197492,
          110879513,
          70067909,
          173046663,
          44017374,
          381109762,
          40846082,
          0,
          49830607,
          101564935,
          5728213,
          54956140,
          274925095,
          8613462,
          76586316,
          18755936,
          29922472,
          4750000,
          6928068,
          5310554,
          2119994,
          0,
          108047131,
          32801173,
          46770602,
          10680275,
          31912793,
          268157400,
          351583407,
          151668774,
          261572744,
          141774679,
          87000000,
          144216468,
          65535067,
          19682924,
          65070412,
          76488889,
          67683989,
          88923251,
          72417394,
          98235548,
          51973029,
          14796236,
          129042871,
          87754044,
          41382841,
          103215094,
          99206215,
          76286096,
          62646763,
          0,
          21378361,
          47088990,
          24911670,
          24007324,
          100000000,
          23000000,
          36133014,
          0,
          35692920,
          17200925,
          24000000,
          16702864,
          0,
          34441873,
          0,
          0,
          2945600,
          28008462,
          12000000,
          10501938,
          8038061,
          25312387,
          6735922,
          14110013,
          5887457,
          20275812,
          26527510,
          25739015,
          20719451,
          6212282,
          22309223,
          0,
          3500000,
          676698,
          7972967,
          382174,
          871279,
          0,
          34000000,
          0,
          1831348,
          6948633,
          13551174,
          121463226,
          90508336,
          0,
          150816700,
          51053787,
          38000000,
          99965753,
          7018189,
          266586800,
          183316455,
          72070731,
          125586134,
          136621271,
          109502303,
          19179969,
          70000000,
          0,
          71625195,
          57103895,
          136150434,
          0,
          30331165,
          43165571,
          69623713,
          45710059,
          21170563,
          115350426,
          19693891,
          0,
          29536299,
          10000000,
          97542952,
          20455276,
          7314027,
          19300000,
          9500000,
          0,
          86915017,
          2000000,
          1569918,
          3758328,
          374743,
          0,
          8720000,
          9627492,
          0,
          2281089,
          43848069,
          135000000,
          37311672,
          13620075,
          16942795,
          235860116,
          247275374,
          92823546,
          53977250,
          119754278,
          133432856,
          76514050,
          68263166,
          0,
          6490401,
          83258226,
          29381649,
          40492759,
          30987695,
          30102717,
          80573774,
          50007546,
          96408652,
          0,
          20627372,
          31556061,
          15427192,
          0,
          0,
          13854000,
          206678440,
          18564088,
          12,
          0,
          4217115,
          5900000,
          2849142,
          1686429,
          5867686,
          24261569,
          14822346,
          53191886,
          754249,
          0,
          47801389,
          0,
          3442853,
          0,
          1237615,
          0,
          0,
          316360478,
          476684675,
          177200000,
          356830601,
          213525736,
          356296601,
          414211549,
          216614388,
          317000,
          146292009,
          11301649,
          233555708,
          67182787,
          75700498,
          146497771,
          61399552,
          151831537,
          123384128,
          73326666,
          55184721,
          0,
          127730736,
          66966987,
          52970014,
          50000000,
          64256513,
          55534455,
          42930462,
          61548707,
          40283321,
          44862187,
          66468332,
          48126384,
          35007180,
          123726688,
          33771174,
          69995385,
          39421467,
          52501541,
          32721635,
          47175038,
          37664855,
          30857814,
          30226144,
          78054825,
          29331068,
          46905889,
          64238440,
          30127963,
          32645546,
          27728118,
          28084357,
          40105542,
          24769466,
          85306374,
          23237911,
          43101594,
          21000000,
          0,
          38574362,
          22165608,
          20566327,
          20529194,
          17507368,
          35485608,
          32556119,
          0,
          42000000,
          17080167,
          37930465,
          31554855,
          22730842,
          15843608,
          59389433,
          16633035,
          12000000,
          0,
          0,
          15608545,
          10443316,
          0,
          14867514,
          46189568,
          10903846,
          9237470,
          18928871,
          9902115,
          8586376,
          34533783,
          0,
          8762890,
          6405245,
          8138788,
          35097815,
          5217498,
          12036149,
          15785148,
          4152230,
          20117339,
          0,
          9455232,
          5926410,
          0,
          7938872,
          650422,
          9584131,
          529766,
          632542,
          0,
          8936663,
          6814789,
          76382,
          3533227,
          0,
          0,
          23000,
          20380,
          27187375,
          0,
          0,
          0,
          70906973,
          122513057,
          147298761,
          17511906,
          0,
          159157447,
          674918,
          377910544,
          320145693,
          463000000,
          239606210,
          161001698,
          154864401,
          100734718,
          75511123,
          185438673,
          72527595,
          34793160,
          114956699,
          27515786,
          25482931,
          19800000,
          30749142,
          0,
          22852638,
          21409028,
          21001563,
          13196245,
          16951798,
          10424470,
          11417362,
          19777647,
          14821658,
          5108820,
          0,
          4291965,
          2474000,
          5405500,
          0,
          46495,
          0,
          1755212,
          178043761,
          0,
          29027914,
          12314651,
          7060876,
          19422261,
          92180910,
          38535221,
          5380251,
          123922370,
          16700000,
          98441954,
          327803731,
          47542841,
          91038276,
          72500000,
          77000000,
          73180723,
          44726644,
          54837234,
          49002684,
          53478166,
          0,
          119100758,
          96060858,
          0,
          36450736,
          27007143,
          0,
          35763605,
          53830415,
          57096190,
          36869414,
          22863596,
          0,
          45300000,
          16929123,
          68673228,
          11130889,
          8026971,
          35401758,
          7820688,
          27500000,
          16757163,
          0,
          48065672,
          4857367,
          18000000,
          8459458,
          9789900,
          2636637,
          33400000,
          1200000,
          1151330,
          1784763,
          3964682,
          303877,
          68572378,
          33082548,
          10652035,
          55260558,
          23367586,
          12281551,
          0,
          10725228,
          0,
          27206120,
          11293663,
          20416563,
          40031879,
          1227324,
          5024782,
          31327899,
          1083683,
          84460846,
          15,
          3878993,
          441306145,
          470654000,
          235483004,
          8109160,
          79817939,
          96070507,
          75781642,
          96800000,
          107217396,
          79567667,
          68706993,
          81272766,
          114194847,
          0,
          39673162,
          43493123,
          145000000,
          30400000,
          42365581,
          61141030,
          100000000,
          89800000,
          52223306,
          40855419,
          56309766,
          31179516,
          31155435,
          27281507,
          56298474,
          32726956,
          307166834,
          22921898,
          25434291,
          54000000,
          21133087,
          100129872,
          23006849,
          85512300,
          51,
          17654912,
          17292381,
          22939027,
          42931041,
          13960203,
          12902790,
          21520719,
          0,
          31466789,
          85000000,
          0,
          87100449,
          92863945,
          35485056,
          32248241,
          0,
          6739141,
          5542025,
          6754898,
          4922166,
          4939939,
          23,
          3148182,
          88489643,
          0,
          0,
          8371085,
          12077441,
          19271312,
          0,
          0,
          1644755,
          15250000,
          0,
          0,
          0,
          0,
          0,
          10652498,
          2570000,
          11212294,
          17479,
          0,
          0,
          101332962,
          83557872,
          57469467,
          0,
          153083102,
          775398007,
          94073028,
          111858363,
          93617009,
          72778712,
          64088552,
          78874843,
          0,
          49797148,
          97837138,
          41227069,
          39363635,
          75902208,
          68233629,
          31672907,
          38105395,
          23978402,
          37170057,
          11,
          4884663,
          62076141,
          20000000,
          14782676,
          13700000,
          59520298,
          23430766,
          13110448,
          61619773,
          0,
          6413915,
          30000000,
          4069090,
          0,
          2832826,
          32935319,
          16017403,
          2807854,
          2200000,
          2945242,
          0,
          113857533,
          0,
          17000000,
          18535191,
          68700000,
          792910554,
          17500000,
          123509,
          0,
          9622846,
          0,
          225933435,
          0,
          163876815,
          85300000,
          90449929,
          118587880,
          103166989,
          139352633,
          91196419,
          57231524,
          52293982,
          50100000,
          50752337,
          183474602,
          41205099,
          59217789,
          40485039,
          37402877,
          136836156,
          44460850,
          36230219,
          57500000,
          64188367,
          33583175,
          33526835,
          104303851,
          25754284,
          32101000,
          32973937,
          30652890,
          0,
          29450919,
          30050028,
          29392418,
          34411240,
          38368909,
          25605015,
          33697647,
          143695338,
          20766616,
          52882018,
          24637469,
          42333295,
          0,
          17096053,
          66821036,
          85978266,
          16153593,
          48572000,
          28650575,
          15795189,
          15156200,
          21587700,
          20342161,
          0,
          0,
          35057696,
          17297244,
          0,
          58978653,
          0,
          12827813,
          10571408,
          28883511,
          9898412,
          8801940,
          6110000,
          32438988,
          0,
          9636289,
          6861102,
          23875127,
          6842058,
          0,
          9495408,
          0,
          7800000,
          33000000,
          2154696,
          21571189,
          7177143,
          10835752,
          4417580,
          3275585,
          3193102,
          98410061,
          5164404,
          0,
          40055439,
          439564,
          7587485,
          1759252,
          1631839,
          1969193,
          0,
          3665069,
          7022728,
          21786738,
          598645,
          1296184,
          42776760,
          0,
          1072602,
          0,
          295750,
          0,
          42145,
          126247,
          0,
          0,
          45779,
          0,
          140987,
          17472,
          9069,
          0,
          0,
          0,
          0,
          11,
          0,
          0,
          10000000,
          0,
          17164377,
          4386236,
          59827328,
          0,
          111584787,
          0,
          19839492,
          14144000,
          0,
          60000000,
          85582407,
          0,
          0,
          0,
          21817298,
          104931801,
          30859000,
          2995811,
          83304330,
          141195658,
          0,
          8220215,
          41590886,
          34573780,
          44196684,
          24538513,
          108782847,
          0,
          23936908,
          0,
          28780255,
          90400000,
          21510851,
          0,
          6126237,
          19125401,
          4777465,
          4350774,
          0,
          2955039,
          0,
          1053788,
          18663238,
          0,
          14348529,
          0,
          771499,
          140666,
          0,
          1046166,
          0,
          328203506,
          0,
          0,
          20374201,
          14373825,
          0,
          32222567,
          39462438,
          29174648,
          22456509,
          2500000,
          20138836,
          43528634,
          5271666,
          0,
          4440055,
          42345360,
          6108720,
          1997807,
          22889018,
          46000000,
          30000000,
          188126,
          0,
          213928762,
          76657000,
          38697217,
          5001655,
          286214286,
          69821334,
          100523181,
          52287414,
          82719885,
          43000000,
          27362712,
          39187783,
          26049082,
          0,
          81974493,
          18090181,
          22593409,
          18948425,
          17460020,
          29010817,
          34266564,
          16856124,
          12671300,
          10629321,
          25288872,
          74952305,
          8880705,
          8279017,
          10130000,
          0,
          0,
          25966555,
          5659286,
          18124262,
          0,
          2275557,
          6491240,
          0,
          92,
          589304,
          63464861,
          852872,
          458232,
          426224,
          3453043,
          0,
          143451,
          53086,
          553171,
          413454,
          2019009,
          2455831,
          0,
          22441323,
          882290,
          0,
          145793296,
          32392047,
          0,
          24793509,
          35619521,
          26096852,
          11588205,
          0,
          12633747,
          4245870,
          3347647,
          10848783,
          0,
          0,
          5634828,
          0,
          0,
          19000000,
          1333124,
          10329747,
          2400000,
          231411584,
          0,
          116019547,
          245066411,
          92921203,
          60722734,
          116700000,
          167221571,
          161777836,
          0,
          55447968,
          37710610,
          54600000,
          49084830,
          25405445,
          25000000,
          97572000,
          20256975,
          21268532,
          36433975,
          14702438,
          17986781,
          14011454,
          16829545,
          31430334,
          0,
          0,
          14618727,
          0,
          8373585,
          7292175,
          0,
          5,
          4720371,
          29385320,
          0,
          0,
          2062066,
          0,
          6038942,
          0,
          1246141,
          0,
          0,
          1429299,
          382946,
          523511,
          0,
          0,
          573335,
          453079,
          1310673,
          46488,
          30471,
          0,
          12400000,
          41410568,
          8900000,
          7993039,
          7000000,
          0,
          0,
          44287131,
          7103838,
          0,
          255273813,
          7,
          57504069,
          54215416,
          31899000,
          0,
          28451622,
          13368437,
          12376563,
          10,
          17693675,
          11850214,
          2025032,
          2401510,
          1548955,
          1521261,
          0,
          8159508,
          78371200,
          79384880,
          0,
          14237000,
          2122561,
          181813770,
          138530565,
          119114517,
          102308889,
          102272727,
          0,
          43656822,
          39846344,
          25059640,
          23341568,
          22168359,
          38275483,
          44703995,
          20400000,
          50244700,
          18197398,
          18814720,
          18750246,
          58000000,
          12000000,
          48027970,
          11642254,
          9206470,
          7518876,
          6852450,
          13231461,
          6670712,
          19560274,
          6230276,
          10409377,
          5483299,
          4398989,
          3283371,
          2944752,
          2025238,
          638641,
          2899975,
          0,
          869325,
          399611,
          0,
          1332231,
          0,
          69497,
          25,
          0,
          66351,
          0,
          0,
          2120439,
          3897799,
          32251,
          530048,
          6800000,
          27165581,
          76578641,
          7000000,
          126,
          18469680,
          531826,
          159616327,
          58972904,
          0,
          15700000,
          0,
          4865000,
          3031801,
          2466444,
          37295445,
          0,
          792,
          0,
          11502151,
          0,
          15699707,
          5000000,
          0,
          0,
          152925093,
          108286421,
          64282312,
          44107032,
          205703818,
          103590271,
          44793222,
          99067206,
          142817992,
          36000000,
          41833347,
          34872033,
          60378584,
          28200000,
          86362372,
          26010864,
          55198285,
          64110728,
          39723096,
          44030246,
          26888376,
          110000000,
          23198652,
          20659423,
          0,
          17273593,
          24804129,
          40100000,
          43884652,
          15000000,
          19905359,
          14000000,
          368744044,
          31724284,
          15116634,
          33616692,
          30039392,
          13269963,
          17768757,
          0,
          12232628,
          25562924,
          16174377,
          54418872,
          14056528,
          12200000,
          21164799,
          25,
          0,
          3432342,
          0,
          7230000,
          0,
          6538177,
          0,
          5321508,
          5476060,
          9760104,
          4074023,
          3263585,
          41424067,
          4040588,
          3049135,
          4842699,
          2614773,
          1980338,
          8203235,
          0,
          2450846,
          5129058,
          742898,
          3220371,
          0,
          846704,
          560069,
          0,
          5476793,
          0,
          98450062,
          782102,
          0,
          0,
          0,
          0,
          0,
          0,
          0,
          17872796,
          24475416,
          209696,
          80578934,
          3099314,
          0,
          8025872,
          11000000,
          10337387,
          0,
          0,
          0,
          0,
          146198896,
          58853106,
          254700832,
          27092880,
          10400000,
          13060843,
          7011317,
          7390108,
          0,
          10429707,
          1270522,
          0,
          0,
          744816,
          23803308,
          0,
          623528,
          3606395,
          108981275,
          0,
          32000000,
          6294161,
          0,
          41400000,
          0,
          32000000,
          62548947,
          125728258,
          0,
          30000000,
          119723856,
          38251425,
          36000000,
          44909486,
          187112,
          49800000,
          0,
          0,
          52425855,
          14400000,
          34705850,
          13008928,
          11744471,
          10000000,
          15179302,
          44349000,
          31584901,
          10229331,
          9000000,
          0,
          8200000,
          44000000,
          0,
          6000000,
          4630045,
          4300000,
          9304609,
          3468572,
          2426851,
          1919197,
          1104682,
          866999,
          0,
          1406224,
          0,
          641100,
          2365467,
          302204,
          354704,
          0,
          0,
          120000,
          318982,
          0,
          146402,
          33245,
          355688,
          25345000,
          4037782,
          8000000,
          0,
          0,
          0,
          0,
          28350000,
          23689877,
          400176459,
          14873,
          8000000,
          4270000,
          44462,
          2956000,
          0,
          13401952,
          44785053,
          257850122,
          83453539,
          0,
          28215918,
          27900000,
          14000000,
          5000000,
          13007551,
          12800000,
          12000000,
          12600000,
          40423945,
          9482579,
          6451628,
          33965843,
          5923044,
          0,
          4159678,
          113783,
          0,
          0,
          0,
          0,
          0,
          0,
          0,
          0,
          31063038,
          127392239,
          19504039,
          3830137,
          13092000,
          30641770,
          4000000,
          0,
          16800000,
          19294144,
          0,
          45000,
          7,
          28814580,
          33395426,
          8000000,
          2277396,
          5332926,
          658573,
          141000000,
          124881062,
          0,
          9644124,
          16491080,
          177512032,
          35564473,
          29999213,
          20966644,
          89328627,
          77712439,
          19184015,
          17570324,
          18999718,
          23144499,
          68411275,
          19472057,
          33300000,
          15369573,
          7900000,
          25000000,
          15938065,
          13000000,
          11718595,
          229094,
          0,
          10400000,
          10000000,
          9016377,
          9012000,
          11176469,
          7282851,
          6804016,
          10422387,
          28200000,
          0,
          4109095,
          0,
          4000000,
          3076820,
          3011195,
          4069826,
          9879971,
          2807390,
          1826705,
          14980005,
          748453,
          0,
          0,
          2357852,
          11947954,
          0,
          0,
          22000,
          3387000,
          0,
          0,
          3200000,
          0,
          0,
          0,
          0,
          5596708,
          5000000,
          0,
          103735,
          0,
          23563727,
          25000000,
          19170001,
          33754967,
          86273333,
          5364858,
          37799643,
          6600000,
          5363000,
          119500000,
          32980880,
          10700000,
          3166000,
          553198,
          0,
          7200000,
          60141683,
          33400000,
          34585416,
          14400000,
          12348905,
          10000000,
          32230907,
          0,
          26781723,
          5535405,
          3325038,
          9726954,
          6854611,
          71904,
          0,
          107559,
          324138,
          0,
          0,
          5731103,
          495303,
          0,
          8176544,
          0,
          6892000,
          0,
          565592,
          11000000,
          0,
          83320000,
          36690067,
          21930418,
          9132000,
          0,
          23650000,
          480811,
          3330,
          30448000,
          78898765,
          18344729,
          14674076,
          18016290,
          13129846,
          24600832,
          11540607,
          13101672,
          70000000,
          34522221,
          7600000,
          9172000,
          1477676,
          6003587,
          15992615,
          20908467,
          4601043,
          7800000,
          13831503,
          13885802,
          4000000,
          7871522,
          11122090,
          5967038,
          2801508,
          2506446,
          5179037,
          11125849,
          1431623,
          1477002,
          0,
          876302,
          653621,
          563706,
          390659,
          124494,
          120620,
          111731,
          187674,
          54207,
          622806,
          3983997,
          0,
          95000,
          0,
          0,
          11833696,
          0,
          0,
          0,
          0,
          0,
          0,
          0,
          0,
          0,
          19152480,
          864659,
          222000,
          2957978,
          0,
          67738090,
          8000000,
          9440272,
          0,
          21107746,
          8844595,
          841733,
          621951,
          6800000,
          0,
          0,
          7267585,
          150277,
          0,
          23311391,
          9700000,
          0,
          572809,
          1943649,
          4235151,
          7433101,
          30500000,
          5400000,
          6033999,
          2592808,
          4420000,
          22179430,
          11806119,
          9600000,
          7412216,
          11098131,
          10013424,
          0,
          7000000,
          2375097,
          97009150,
          2300000,
          0,
          712294,
          3566225,
          418961,
          416925,
          414404,
          373967,
          330048,
          8500000,
          173066,
          0,
          0,
          0,
          0,
          32000,
          0,
          1165882,
          0,
          0,
          1500000,
          0,
          184925486,
          0,
          2620000,
          0,
          0,
          0,
          0,
          3897569,
          0,
          639000,
          619042,
          1632,
          0,
          6000000,
          21722776,
          11000000,
          3412497,
          0,
          8500000,
          6000000,
          0,
          103911669,
          18492362,
          0,
          7000000,
          2861020,
          14661007,
          6000000,
          0,
          25000,
          0,
          0,
          2736000,
          2850263,
          0,
          18637690,
          1400000,
          0,
          0,
          4105187,
          10462500,
          0,
          0,
          117235147,
          37600000,
          62882090,
          28262574,
          17985893,
          59600000,
          18112929,
          14564027,
          23507567,
          10047674,
          10037390,
          16566240,
          13350369,
          101758490,
          40000000,
          9000000,
          46243000,
          7800000,
          6833445,
          9138338,
          5355847,
          5284309,
          3538446,
          3123963,
          0,
          2057193,
          1678874,
          1744858,
          0,
          0,
          852206,
          623791,
          0,
          464000,
          336472,
          0,
          444575,
          274661,
          0,
          0,
          0,
          0,
          14870,
          0,
          10018,
          0,
          7202,
          0,
          0,
          0,
          0,
          0,
          0,
          0,
          0,
          814666,
          0,
          0,
          0,
          9600000,
          30905,
          1185783,
          7022209,
          381420,
          17385830,
          267447150,
          819939,
          0,
          1243961,
          3094813,
          0,
          1001437,
          2816116,
          62852,
          1984662,
          0,
          140000000,
          4007792,
          171760,
          78396,
          0,
          0,
          0,
          8000000,
          7830611,
          1667192,
          4911725,
          10508,
          0,
          0,
          0,
          0,
          3202000,
          248000000,
          34505110,
          0,
          0,
          12299668,
          0,
          0,
          33456317,
          0,
          54667954,
          17000000,
          8679814,
          500000,
          0,
          845188,
          603943,
          343341,
          0,
          271841,
          0,
          98017,
          4242978,
          0,
          0,
          316472,
          0,
          0,
          773228,
          973525,
          2281000,
          0,
          46118097,
          258384,
          193355800,
          5028948,
          1162014,
          170000000,
          0,
          2451545,
          8394751,
          4358000,
          29400000,
          31081,
          1750211,
          0,
          1000000,
          246574,
          4500000,
          110197,
          7808524,
          1281176,
          16,
          0,
          0,
          0,
          0,
          2074000,
          40542,
          8000000,
          0,
          0,
          319285,
          12021272,
          4186931,
          0,
          501818,
          203,
          3542353,
          56825,
          0,
          0,
          0,
          22000000,
          0,
          2260712,
          111300,
          27000000,
          5000000,
          100000000,
          4505922,
          14500000,
          2200000,
          2295733,
          2611555,
          0,
          0,
          0,
          900000,
          469947,
          1776935,
          15200000,
          0,
          2891288,
          20710513,
          6706368,
          3200000,
          0,
          0,
          15861566,
          10178331,
          42664410,
          7000000,
          0,
          3221152,
          0,
          28575078,
          0,
          0,
          416498,
          0,
          0,
          0,
          600896,
          0,
          321952,
          0,
          0,
          10000,
          3151130,
          0,
          76901,
          0,
          6000000,
          0,
          99000,
          424760,
          2040920,
          0
         ],
         "x0": " ",
         "xaxis": "x",
         "y": [
          "Action",
          "Adventure",
          "Action",
          "Action",
          "Action",
          "Fantasy",
          "Animation",
          "Action",
          "Adventure",
          "Action",
          "Adventure",
          "Adventure",
          "Adventure",
          "Action",
          "Action",
          "Adventure",
          "Science Fiction",
          "Adventure",
          "Action",
          "Action",
          "Action",
          "Action",
          "Adventure",
          "Adventure",
          "Adventure",
          "Drama",
          "Adventure",
          "Thriller",
          "Action",
          "Action",
          "Action",
          "Action",
          "Family",
          "Adventure",
          "Animation",
          "Science Fiction",
          "Science Fiction",
          "Fantasy",
          "Action",
          "Adventure",
          "Animation",
          "Adventure",
          "Animation",
          "Action",
          "Action",
          "Action",
          "Action",
          "Action",
          "Action",
          "Drama",
          "Adventure",
          "Action",
          "Action",
          "Adventure",
          "Adventure",
          "Animation",
          "Action",
          "Animation",
          "Action",
          "Action",
          "Animation",
          "Science Fiction",
          "Action",
          "Adventure",
          "Science Fiction",
          "Drama",
          "Animation",
          "Animation",
          "Action",
          "Adventure",
          "Action",
          "Adventure",
          "Action",
          "Fantasy",
          "Action",
          "Adventure",
          "Adventure",
          "Drama",
          "Family",
          "Adventure",
          "Adventure",
          "Fantasy",
          "Science Fiction",
          "Action",
          "Drama",
          "Action",
          "Comedy",
          "Adventure",
          "Adventure",
          "Family",
          "Adventure",
          "Action",
          "Fantasy",
          "Action",
          "Action",
          "Adventure",
          "Action",
          "Action",
          "Adventure",
          "Action",
          "Fantasy",
          "Action",
          "Action",
          "Fantasy",
          "Adventure",
          "Fantasy",
          "Fantasy",
          "Action",
          "Science Fiction",
          "Adventure",
          "History",
          "Adventure",
          "War",
          "Adventure",
          "Adventure",
          "Fantasy",
          "Drama",
          "Adventure",
          "Animation",
          "Action",
          "Family",
          "Adventure",
          "Adventure",
          "Adventure",
          "Animation",
          "Adventure",
          "Action",
          "Action",
          "Thriller",
          "Adventure",
          "Animation",
          "Fantasy",
          "Adventure",
          "Comedy",
          "Action",
          "Drama",
          "Family",
          "Animation",
          "Action",
          "Adventure",
          "Action",
          "Adventure",
          "Adventure",
          "Adventure",
          "Animation",
          "Adventure",
          "Animation",
          "Adventure",
          "Action",
          "Action",
          "Action",
          "Adventure",
          "Action",
          "Action",
          "Fantasy",
          "Comedy",
          "Drama",
          "Adventure",
          "Science Fiction",
          "Fantasy",
          "Fantasy",
          "Fantasy",
          "Action",
          "Action",
          "Action",
          "Drama",
          "Adventure",
          "Action",
          "Adventure",
          "Action",
          "Adventure",
          "Adventure",
          "Adventure",
          "Animation",
          "Science Fiction",
          "Adventure",
          "Western",
          "Animation",
          "Animation",
          "Family",
          "Action",
          "Adventure",
          "Science Fiction",
          "Adventure",
          "Fantasy",
          "Adventure",
          "Adventure",
          "Action",
          "Action",
          "Drama",
          "Adventure",
          "Adventure",
          "Drama",
          "Science Fiction",
          "Animation",
          "Adventure",
          "Animation",
          "Adventure",
          "Fantasy",
          "Adventure",
          "Science Fiction",
          "Thriller",
          "Animation",
          "Adventure",
          "Action",
          "Adventure",
          "Adventure",
          "Action",
          "Adventure",
          "Action",
          "Action",
          "Family",
          "Action",
          "Adventure",
          "Drama",
          "Adventure",
          "Adventure",
          "Thriller",
          "Action",
          "Action",
          "Science Fiction",
          "Family",
          "Science Fiction",
          "Action",
          "Action",
          "Action",
          "Comedy",
          "Action",
          "Action",
          "Science Fiction",
          "Adventure",
          "Animation",
          "Action",
          "Adventure",
          "Adventure",
          "Fantasy",
          "Drama",
          "Action",
          "Science Fiction",
          "Science Fiction",
          "Action",
          "Fantasy",
          "Action",
          "Action",
          "Action",
          "Adventure",
          "Drama",
          "Thriller",
          "Action",
          "Adventure",
          "Drama",
          "Comedy",
          "Action",
          "Action",
          "Animation",
          "Animation",
          "Adventure",
          "Action",
          "Fantasy",
          "Action",
          "Science Fiction",
          "Action",
          "Adventure",
          "Action",
          "Drama",
          "Action",
          "Drama",
          "Animation",
          "Romance",
          "Drama",
          "Action",
          "Comedy",
          "Action",
          "Action",
          "Action",
          "Adventure",
          "Adventure",
          "Thriller",
          "Action",
          "History",
          "Drama",
          "Action",
          "Thriller",
          "Comedy",
          "Action",
          "Action",
          "Drama",
          "Drama",
          "Adventure",
          "Action",
          "Adventure",
          "Fantasy",
          "Family",
          "Animation",
          "Action",
          "Action",
          "Drama",
          "Crime",
          "Action",
          "Adventure",
          "Drama",
          "Animation",
          "Action",
          "Action",
          "Adventure",
          "Adventure",
          "Action",
          "Action",
          "Fantasy",
          "Thriller",
          "Action",
          "War",
          "Animation",
          "Crime",
          "Adventure",
          "Drama",
          "Drama",
          "Animation",
          "Action",
          "Action",
          "Comedy",
          "Adventure",
          "Comedy",
          "Adventure",
          "Animation",
          "Romance",
          "Fantasy",
          "Animation",
          "Adventure",
          "Adventure",
          "Adventure",
          "Adventure",
          "Thriller",
          "Adventure",
          "Thriller",
          "Adventure",
          "Action",
          "Western",
          "Action",
          "Action",
          "Adventure",
          "Action",
          "Animation",
          "Action",
          "Action",
          "Drama",
          "Animation",
          "Animation",
          "Adventure",
          "Action",
          "Drama",
          "Animation",
          "Action",
          "Thriller",
          "Action",
          "Action",
          "Drama",
          "Animation",
          "Adventure",
          "Drama",
          "Comedy",
          "Action",
          "Drama",
          "Thriller",
          "Drama",
          "Action",
          "Crime",
          "Adventure",
          "Action",
          "Action",
          "Thriller",
          "Action",
          "Science Fiction",
          "Animation",
          "Comedy",
          "Science Fiction",
          "Crime",
          "Drama",
          "Adventure",
          "Romance",
          "Fantasy",
          "Drama",
          "Action",
          "Adventure",
          "Animation",
          "Action",
          "Action",
          "Thriller",
          "Adventure",
          "Animation",
          "Comedy",
          "Action",
          "Comedy",
          "Action",
          "Comedy",
          "Action",
          "Comedy",
          "Crime",
          "Adventure",
          "Adventure",
          "War",
          "Adventure",
          "Adventure",
          "Drama",
          "Action",
          "Fantasy",
          "Action",
          "Drama",
          "Adventure",
          "Action",
          "Action",
          "Fantasy",
          "Mystery",
          "Action",
          "Comedy",
          "Horror",
          "Comedy",
          "Adventure",
          "Adventure",
          "Crime",
          "Science Fiction",
          "Fantasy",
          "Thriller",
          "Adventure",
          "Science Fiction",
          "Comedy",
          "Action",
          "Comedy",
          "Animation",
          "Comedy",
          "Action",
          "Action",
          "Comedy",
          "Comedy",
          "Comedy",
          "Action",
          "Drama",
          "Drama",
          "Comedy",
          "Animation",
          "Action",
          "Fantasy",
          "Thriller",
          "Romance",
          "Action",
          "Mystery",
          "Drama",
          "Action",
          "Comedy",
          "Horror",
          "Animation",
          "Drama",
          "Action",
          "War",
          "Action",
          "Comedy",
          "Western",
          "Comedy",
          "Adventure",
          "Drama",
          "Animation",
          "Animation",
          "Science Fiction",
          "Action",
          "Action",
          "Action",
          "Drama",
          "Comedy",
          "Adventure",
          "Comedy",
          "Action",
          "Action",
          "Drama",
          "Action",
          "Animation",
          "Action",
          "Animation",
          "Drama",
          "Action",
          "Drama",
          "Adventure",
          "Fantasy",
          "Thriller",
          "Adventure",
          "Documentary",
          "Thriller",
          "Action",
          "Comedy",
          "Drama",
          "Family",
          "Adventure",
          "Animation",
          "Crime",
          "Western",
          "Comedy",
          "Action",
          "Adventure",
          "Science Fiction",
          "Action",
          "Animation",
          "Fantasy",
          "Animation",
          "Action",
          "Adventure",
          "Family",
          "Drama",
          "Adventure",
          "Action",
          "Action",
          "Animation",
          "Comedy",
          "Family",
          "Horror",
          "Action",
          "Thriller",
          "Comedy",
          "Comedy",
          "Comedy",
          "Action",
          "Comedy",
          "Animation",
          "Drama",
          "Comedy",
          "Drama",
          "Action",
          "Action",
          "Comedy",
          "Comedy",
          "Animation",
          "Action",
          "Action",
          "Drama",
          "Fantasy",
          "Mystery",
          "Animation",
          "Action",
          "Action",
          "Action",
          "Adventure",
          "Action",
          "Science Fiction",
          "Family",
          "Action",
          "Crime",
          "Science Fiction",
          "Family",
          "Romance",
          "Comedy",
          "Thriller",
          "Comedy",
          "Comedy",
          "Action",
          "Drama",
          "Animation",
          "Drama",
          "Action",
          "Adventure",
          "Drama",
          "Comedy",
          "Drama",
          "Adventure",
          "Animation",
          "Comedy",
          "Action",
          "Animation",
          "Action",
          "Drama",
          "Adventure",
          "Action",
          "Action",
          "Drama",
          "Drama",
          "Adventure",
          "Comedy",
          "Action",
          "Action",
          "Science Fiction",
          "Action",
          "Adventure",
          "Drama",
          "War",
          "Adventure",
          "Drama",
          "Horror",
          "Drama",
          "Adventure",
          "Adventure",
          "Comedy",
          "Action",
          "Adventure",
          "Action",
          "Fantasy",
          "Comedy",
          "Drama",
          "Action",
          "Action",
          "Thriller",
          "Adventure",
          "Animation",
          "Crime",
          "Mystery",
          "Crime",
          "Action",
          "Action",
          "Thriller",
          "Adventure",
          "Action",
          "Animation",
          "Action",
          "Comedy",
          "Adventure",
          "Adventure",
          "Comedy",
          "Drama",
          "Action",
          "Action",
          "Comedy",
          "Action",
          "Romance",
          "Mystery",
          "Action",
          "Drama",
          "Action",
          "Comedy",
          "Animation",
          "Drama",
          "History",
          "Action",
          "Drama",
          "Fantasy",
          "Drama",
          "Comedy",
          "Comedy",
          "Action",
          "Comedy",
          "Drama",
          "Action",
          "Action",
          "Action",
          "Fantasy",
          "Drama",
          "Drama",
          "Comedy",
          "Mystery",
          "Comedy",
          "Romance",
          "Action",
          "Science Fiction",
          "Action",
          "Comedy",
          "Action",
          "Action",
          "Crime",
          "Action",
          "Family",
          "Drama",
          "Drama",
          "Action",
          "Action",
          "Horror",
          "Crime",
          "Action",
          "Crime",
          "Drama",
          "Adventure",
          "Crime",
          "Comedy",
          "Animation",
          "Adventure",
          "Drama",
          "Action",
          "Action",
          "Comedy",
          "Action",
          "Comedy",
          "Comedy",
          "Action",
          "Crime",
          "Action",
          "Animation",
          "Action",
          "Comedy",
          "Comedy",
          "Fantasy",
          "Action",
          "Animation",
          "Mystery",
          "Action",
          "Adventure",
          "Crime",
          "Comedy",
          "Adventure",
          "Comedy",
          "Action",
          "Comedy",
          "Action",
          "Romance",
          "Adventure",
          "Comedy",
          "Adventure",
          "Comedy",
          "Action",
          "Drama",
          "Comedy",
          "Action",
          "Drama",
          "Drama",
          "Drama",
          "Action",
          "Drama",
          "Crime",
          "Action",
          "Music",
          "Drama",
          "Animation",
          "Thriller",
          "Action",
          "Comedy",
          "Comedy",
          "Family",
          "Fantasy",
          "Drama",
          "Family",
          "Action",
          "Action",
          "Drama",
          "Adventure",
          "Action",
          "Action",
          "Drama",
          "Action",
          "Science Fiction",
          "Action",
          "Animation",
          "Drama",
          "Adventure",
          "Adventure",
          "Crime",
          "Comedy",
          "Drama",
          "Action",
          "Romance",
          "Comedy",
          "Action",
          "Science Fiction",
          "Science Fiction",
          "Crime",
          "Crime",
          "Horror",
          "Comedy",
          "Action",
          "Action",
          "Drama",
          "Fantasy",
          "Drama",
          "Animation",
          "Action",
          "Action",
          "Family",
          "Horror",
          "Drama",
          "Drama",
          "Action",
          "Action",
          "Horror",
          "Drama",
          "Action",
          "Comedy",
          "Drama",
          "Comedy",
          "Adventure",
          "Action",
          "Comedy",
          "Adventure",
          "Drama",
          "Action",
          "Action",
          "Action",
          "Drama",
          "War",
          "Adventure",
          "Comedy",
          "Science Fiction",
          "Action",
          "Comedy",
          "Comedy",
          "Comedy",
          "Comedy",
          "Action",
          "Drama",
          "Drama",
          "Comedy",
          "Fantasy",
          "Action",
          "Action",
          "Drama",
          "Action",
          "Adventure",
          "Comedy",
          "Comedy",
          "Comedy",
          "Adventure",
          "Action",
          "Fantasy",
          "Comedy",
          "Adventure",
          "Comedy",
          "Action",
          "Comedy",
          "Fantasy",
          "Thriller",
          "Comedy",
          "Action",
          "Drama",
          "Thriller",
          "Drama",
          "Drama",
          "Action",
          "Comedy",
          "Action",
          "Action",
          "Fantasy",
          "Adventure",
          "Action",
          "Comedy",
          "Action",
          "Animation",
          "Science Fiction",
          "History",
          "Action",
          "Adventure",
          "Family",
          "Comedy",
          "Drama",
          "Drama",
          "Comedy",
          "Comedy",
          "Animation",
          "Crime",
          "Action",
          "Drama",
          "Thriller",
          "Drama",
          "Action",
          "Drama",
          "Action",
          "Comedy",
          "Comedy",
          "Action",
          "Drama",
          "Drama",
          "Drama",
          "Action",
          "Fantasy",
          "Drama",
          "Action",
          "Crime",
          "Comedy",
          "Comedy",
          "Action",
          "Drama",
          "Drama",
          "Action",
          "Animation",
          "Drama",
          "Mystery",
          "Crime",
          "War",
          "Drama",
          "Thriller",
          "Drama",
          "Drama",
          "Thriller",
          "Romance",
          "Comedy",
          "Comedy",
          "Action",
          "Drama",
          "Comedy",
          "Comedy",
          "Drama",
          "Action",
          "Action",
          "Comedy",
          "Animation",
          "Comedy",
          "Adventure",
          "Adventure",
          "Science Fiction",
          "Adventure",
          "Comedy",
          "Comedy",
          "Comedy",
          "Comedy",
          "Comedy",
          "Comedy",
          "Thriller",
          "Drama",
          "Comedy",
          "Crime",
          "Horror",
          "Comedy",
          "Action",
          "Comedy",
          "Fantasy",
          "Crime",
          "Drama",
          "Action",
          "Drama",
          "Action",
          "Comedy",
          "Drama",
          "Comedy",
          "Animation",
          "Comedy",
          "Drama",
          "Action",
          "Action",
          "Adventure",
          "Action",
          "Action",
          "Adventure",
          "Comedy",
          "Thriller",
          "Fantasy",
          "Thriller",
          "Action",
          "Drama",
          "Action",
          "Romance",
          "Thriller",
          "Crime",
          "Action",
          "Drama",
          "Horror",
          "Comedy",
          "Action",
          "Action",
          "Action",
          "Comedy",
          "Drama",
          "Action",
          "Horror",
          "Comedy",
          "Thriller",
          "Action",
          "Adventure",
          "Drama",
          "Drama",
          "Action",
          "Drama",
          "Drama",
          "Family",
          "Drama",
          "Crime",
          "Action",
          "Crime",
          "Comedy",
          "Action",
          "Action",
          "Crime",
          "Drama",
          "Action",
          "Adventure",
          "Adventure",
          "War",
          "Drama",
          "Comedy",
          "Action",
          "Thriller",
          "Action",
          "Adventure",
          "Comedy",
          "Drama",
          "Action",
          "Action",
          "Drama",
          "Drama",
          "Action",
          "Action",
          "Action",
          "Fantasy",
          "Comedy",
          "Comedy",
          "Comedy",
          "Comedy",
          "Fantasy",
          "Action",
          "Action",
          "Action",
          "Drama",
          "Thriller",
          "Adventure",
          "Drama",
          "Crime",
          "Drama",
          "Crime",
          "Action",
          "Crime",
          "Adventure",
          "Drama",
          "Fantasy",
          "Music",
          "Western",
          "Thriller",
          "Romance",
          "Comedy",
          "Drama",
          "Adventure",
          "Drama",
          "Comedy",
          "Action",
          "Animation",
          "Drama",
          "Comedy",
          "Crime",
          "Science Fiction",
          "Action",
          "Drama",
          "Comedy",
          "Crime",
          "Drama",
          "Fantasy",
          "Action",
          "Comedy",
          "Comedy",
          "Action",
          "Comedy",
          "Drama",
          "Drama",
          "Drama",
          "Drama",
          "Romance",
          "Drama",
          "Action",
          "Comedy",
          "Comedy",
          "Comedy",
          "Horror",
          "Drama",
          "Action",
          "Adventure",
          "Comedy",
          "Comedy",
          "Adventure",
          "Horror",
          "Action",
          "Comedy",
          "Romance",
          "Adventure",
          "Horror",
          "Comedy",
          "Adventure",
          "Action",
          "Adventure",
          "Crime",
          "Action",
          "Adventure",
          "Fantasy",
          "Action",
          "Drama",
          "Action",
          "Action",
          "Action",
          "Comedy",
          "Adventure",
          "Crime",
          "Comedy",
          "Adventure",
          "Drama",
          "History",
          "Thriller",
          "Adventure",
          "Drama",
          "Action",
          "Action",
          "Action",
          "Drama",
          "Action",
          "Crime",
          "Animation",
          "Drama",
          "Adventure",
          "Action",
          "Crime",
          "Action",
          "Drama",
          "Animation",
          "Action",
          "Fantasy",
          "Drama",
          "Drama",
          "Comedy",
          "Action",
          "Romance",
          "Drama",
          "Drama",
          "Action",
          "Action",
          "Romance",
          "Animation",
          "Comedy",
          "Comedy",
          "Action",
          "Drama",
          "Comedy",
          "Drama",
          "Comedy",
          "Drama",
          "Comedy",
          "Adventure",
          "Fantasy",
          "Action",
          "Adventure",
          "Crime",
          "Drama",
          "Action",
          "Action",
          "Adventure",
          "Action",
          "Drama",
          "Adventure",
          "Thriller",
          "Mystery",
          "Action",
          "Comedy",
          "Drama",
          "Drama",
          "Comedy",
          "Crime",
          "Adventure",
          "Action",
          "Drama",
          "Action",
          "Crime",
          "Comedy",
          "Action",
          "Comedy",
          "Horror",
          "Drama",
          "Comedy",
          "Comedy",
          "Horror",
          "Adventure",
          "Comedy",
          "Romance",
          "Romance",
          "Drama",
          "Thriller",
          "Comedy",
          "Adventure",
          "Comedy",
          "Action",
          "Action",
          "Drama",
          "Action",
          "Drama",
          "Comedy",
          "Comedy",
          "Drama",
          "Comedy",
          "Action",
          "Comedy",
          "Comedy",
          "Horror",
          "Thriller",
          "Action",
          "Comedy",
          "Drama",
          "Comedy",
          "Action",
          "Action",
          "Crime",
          "Action",
          "Drama",
          "Comedy",
          "Animation",
          "Action",
          "Action",
          "Action",
          "Thriller",
          "Romance",
          "Drama",
          "Fantasy",
          "Comedy",
          "Music",
          "Drama",
          "Horror",
          "Drama",
          "Adventure",
          "Fantasy",
          "Comedy",
          "Drama",
          "Comedy",
          "Adventure",
          "Comedy",
          "Horror",
          "Thriller",
          "Drama",
          "Comedy",
          "Comedy",
          "Horror",
          "Drama",
          "Comedy",
          "Comedy",
          "Adventure",
          "Drama",
          "Comedy",
          "Drama",
          "Crime",
          "Drama",
          "Drama",
          "Comedy",
          "Fantasy",
          "Action",
          "Drama",
          "Drama",
          "Horror",
          "Drama",
          "Comedy",
          "Action",
          "Fantasy",
          "Crime",
          "Action",
          "Drama",
          "Drama",
          "Action",
          "Action",
          "Thriller",
          "Action",
          "Adventure",
          "Comedy",
          "Comedy",
          "Comedy",
          "Comedy",
          "Adventure",
          "Drama",
          "Horror",
          "Adventure",
          "Action",
          "Action",
          "Action",
          "Action",
          "Action",
          "Science Fiction",
          "Drama",
          "Adventure",
          "Action",
          "Adventure",
          "Thriller",
          "Action",
          "Comedy",
          "Action",
          "Action",
          "Action",
          "Adventure",
          "Fantasy",
          "Action",
          "Drama",
          "Comedy",
          "Animation",
          "Science Fiction",
          "Romance",
          "Comedy",
          "Comedy",
          "Adventure",
          "Comedy",
          "Comedy",
          "Action",
          "Science Fiction",
          "Action",
          "Drama",
          "Adventure",
          "Drama",
          "Drama",
          "Crime",
          "Action",
          "Drama",
          "Comedy",
          "Horror",
          "Drama",
          "Music",
          "Drama",
          "Action",
          "Horror",
          "Science Fiction",
          "Action",
          "Adventure",
          "Drama",
          "Adventure",
          "Drama",
          "Adventure",
          "Drama",
          "Crime",
          "Romance",
          "Comedy",
          "Adventure",
          "Drama",
          "Drama",
          "Action",
          "Comedy",
          "Drama",
          "Adventure",
          "Drama",
          "Action",
          "Comedy",
          "Action",
          "Drama",
          "Adventure",
          "Science Fiction",
          "Family",
          "Thriller",
          "Action",
          "Drama",
          "Drama",
          "Thriller",
          "Drama",
          "Animation",
          "Comedy",
          "Action",
          "Adventure",
          "Fantasy",
          "Adventure",
          "Drama",
          "Action",
          "Comedy",
          "Drama",
          "Comedy",
          "Science Fiction",
          "Comedy",
          "Crime",
          "Drama",
          "Comedy",
          "Comedy",
          "Drama",
          "Crime",
          "Adventure",
          "Comedy",
          "Science Fiction",
          "Horror",
          "Horror",
          "Drama",
          "Adventure",
          "Drama",
          "Romance",
          "Comedy",
          "Comedy",
          "Drama",
          "Comedy",
          "Comedy",
          "Fantasy",
          "Comedy",
          "Comedy",
          "Crime",
          "Horror",
          "Horror",
          "Action",
          "Action",
          "Comedy",
          "Comedy",
          "Comedy",
          "Action",
          "Drama",
          "Drama",
          "Horror",
          "Drama",
          "Drama",
          "Horror",
          "Drama",
          "Science Fiction",
          "Drama",
          "Comedy",
          "Science Fiction",
          "Comedy",
          "Action",
          "Crime",
          "Crime",
          "Comedy",
          "Crime",
          "Drama",
          "Family",
          "Drama",
          "Thriller",
          "Animation",
          "Comedy",
          "Action",
          "Thriller",
          "Horror",
          "Crime",
          "Action",
          "War",
          "Action",
          "Comedy",
          "Comedy",
          "Action",
          "Fantasy",
          "Action",
          "Action",
          "Comedy",
          "Action",
          "Drama",
          "Action",
          "Drama",
          "Action",
          "Action",
          "Drama",
          "Action",
          "Family",
          "Adventure",
          "Comedy",
          "Drama",
          "Action",
          "Action",
          "Thriller",
          "Action",
          "War",
          "Drama",
          "Drama",
          "Action",
          "Action",
          "Comedy",
          "Drama",
          "Drama",
          "Action",
          "Action",
          "Animation",
          "Drama",
          "Drama",
          "Romance",
          "Comedy",
          "Drama",
          "Drama",
          "Drama",
          "Action",
          "Crime",
          "Family",
          "Horror",
          "Music",
          "Action",
          "Mystery",
          "Action",
          "Drama",
          "Action",
          "Comedy",
          "Adventure",
          "Action",
          "Drama",
          "Comedy",
          "Comedy",
          "Drama",
          "Adventure",
          "Fantasy",
          "Comedy",
          "Comedy",
          "Action",
          "Horror",
          "Drama",
          "Action",
          "Comedy",
          "Crime",
          "Thriller",
          "Action",
          "Thriller",
          "Adventure",
          "Action",
          "Drama",
          "Action",
          "Action",
          "Action",
          "Drama",
          "Action",
          "Fantasy",
          "Fantasy",
          "Comedy",
          "Animation",
          "War",
          "Adventure",
          "Drama",
          "Comedy",
          "Music",
          "Action",
          "Drama",
          "Drama",
          "Action",
          "Comedy",
          "Drama",
          "Comedy",
          "Crime",
          "Comedy",
          "Comedy",
          "Action",
          "Comedy",
          "Comedy",
          "Animation",
          "Action",
          "Drama",
          "Drama",
          "Drama",
          "Action",
          "Drama",
          "Comedy",
          "Horror",
          "Crime",
          "Comedy",
          "Comedy",
          "Crime",
          "Science Fiction",
          "Animation",
          "Thriller",
          "Drama",
          "Comedy",
          "Romance",
          "Comedy",
          "Comedy",
          "Adventure",
          "Drama",
          "Adventure",
          "Drama",
          "Drama",
          "Horror",
          "Action",
          "Fantasy",
          "Drama",
          "Comedy",
          "Action",
          "Comedy",
          "Comedy",
          "Action",
          "Comedy",
          "Fantasy",
          "Crime",
          "Romance",
          "Science Fiction",
          "Comedy",
          "Comedy",
          "Adventure",
          "Adventure",
          "Drama",
          "Comedy",
          "Drama",
          "Comedy",
          "Action",
          "Comedy",
          "Romance",
          "Drama",
          "Action",
          "Action",
          "Horror",
          "Fantasy",
          "Drama",
          "Adventure",
          "Comedy",
          "Horror",
          "Horror",
          "Comedy",
          "Adventure",
          "Action",
          "Horror",
          "Action",
          "Action",
          "Comedy",
          "Drama",
          "Music",
          "Action",
          "Action",
          "Action",
          "Thriller",
          "Animation",
          "Comedy",
          "Comedy",
          "Drama",
          "Action",
          "Fantasy",
          "Thriller",
          "Action",
          "Comedy",
          "Comedy",
          "Comedy",
          "Romance",
          "Science Fiction",
          "Thriller",
          "Action",
          "Action",
          "Drama",
          "Crime",
          "Drama",
          "Comedy",
          "Horror",
          "Comedy",
          "Thriller",
          "Action",
          "Comedy",
          "Drama",
          "Horror",
          "Drama",
          "Action",
          "Action",
          "Action",
          "Drama",
          "Comedy",
          "Comedy",
          "Drama",
          "Adventure",
          "Comedy",
          "Crime",
          "Action",
          "War",
          "Drama",
          "Thriller",
          "Action",
          "Drama",
          "Adventure",
          "Action",
          "Adventure",
          "Thriller",
          "Action",
          "History",
          "Drama",
          "Romance",
          "Fantasy",
          "Crime",
          "Adventure",
          "Comedy",
          "Drama",
          "Comedy",
          "Adventure",
          "Comedy",
          "Comedy",
          "Comedy",
          "Drama",
          "Drama",
          "Animation",
          "Drama",
          "Adventure",
          "Animation",
          "Crime",
          "Comedy",
          "Action",
          "Action",
          "Comedy",
          "Comedy",
          "Drama",
          "Fantasy",
          "Comedy",
          "Animation",
          "Comedy",
          "Mystery",
          "Comedy",
          "Adventure",
          "Comedy",
          "Thriller",
          "Comedy",
          "Romance",
          "Comedy",
          "Comedy",
          "Action",
          "Action",
          "Thriller",
          "Family",
          "Drama",
          "Science Fiction",
          "Adventure",
          "Action",
          "Drama",
          "Documentary",
          "Comedy",
          "Drama",
          "Action",
          "Adventure",
          "Action",
          "Comedy",
          "Romance",
          "Drama",
          "Comedy",
          "Action",
          "Action",
          "Action",
          "Adventure",
          "Comedy",
          "Drama",
          "Comedy",
          "Drama",
          "Drama",
          "Drama",
          "Science Fiction",
          "Comedy",
          "Drama",
          "Music",
          "Adventure",
          "Drama",
          "Horror",
          "Drama",
          "Drama",
          "Drama",
          "Drama",
          "Mystery",
          "Adventure",
          "Crime",
          "Horror",
          "Crime",
          "Family",
          "Thriller",
          "Thriller",
          "Comedy",
          "Mystery",
          "Comedy",
          "Action",
          "Comedy",
          "Comedy",
          "Romance",
          "Crime",
          "Comedy",
          "Action",
          "Drama",
          "Western",
          "Drama",
          "Drama",
          "Horror",
          "Horror",
          "Action",
          "Horror",
          "Thriller",
          "Adventure",
          "Action",
          "Drama",
          "Comedy",
          "Comedy",
          "Drama",
          "Crime",
          "Comedy",
          "Action",
          "Crime",
          "Fantasy",
          "Romance",
          "Adventure",
          "Science Fiction",
          "Drama",
          "Drama",
          "Comedy",
          "Drama",
          "Drama",
          "Drama",
          "Action",
          "Drama",
          "Thriller",
          "Drama",
          "Drama",
          "Drama",
          "Mystery",
          "Thriller",
          "Horror",
          "Action",
          "Action",
          "Science Fiction",
          "Crime",
          "Crime",
          "Action",
          "Comedy",
          "Comedy",
          "Comedy",
          "Comedy",
          "Comedy",
          "Action",
          "Action",
          "Horror",
          "Horror",
          "Drama",
          "Adventure",
          "Drama",
          "Action",
          "Horror",
          "Comedy",
          "Drama",
          "Action",
          "Fantasy",
          "Action",
          "Action",
          "Drama",
          "Thriller",
          "Drama",
          "Animation",
          "Action",
          "Drama",
          "Action",
          "Romance",
          "Comedy",
          "Drama",
          "Drama",
          "Horror",
          "Comedy",
          "Action",
          "Drama",
          "Comedy",
          "Family",
          "Adventure",
          "Thriller",
          "Drama",
          "Drama",
          "Horror",
          "History",
          "Adventure",
          "Comedy",
          "Drama",
          "Adventure",
          "Comedy",
          "Thriller",
          "Comedy",
          "Drama",
          "Comedy",
          "Comedy",
          "Drama",
          "Romance",
          "Drama",
          "Action",
          "Fantasy",
          "Action",
          "Comedy",
          "Comedy",
          "Crime",
          "Comedy",
          "Drama",
          "Thriller",
          "Drama",
          "Comedy",
          "Drama",
          "Comedy",
          "Action",
          "Crime",
          "Action",
          "Horror",
          "Drama",
          "Drama",
          "Fantasy",
          "Crime",
          "Drama",
          "Drama",
          "Action",
          "Action",
          "Drama",
          "War",
          "Drama",
          "Drama",
          "Drama",
          "Horror",
          "Comedy",
          "Drama",
          "Comedy",
          "Adventure",
          "Action",
          "Comedy",
          "Drama",
          "Action",
          "Drama",
          "Action",
          "Comedy",
          "Drama",
          "Fantasy",
          "Drama",
          "Comedy",
          "Drama",
          "Drama",
          "Comedy",
          "Family",
          "Thriller",
          "Romance",
          "History",
          "Crime",
          "Action",
          "Drama",
          "Adventure",
          "Science Fiction",
          "Drama",
          "Horror",
          "Action",
          "Comedy",
          "Comedy",
          "Drama",
          "Comedy",
          "Comedy",
          "Horror",
          "Romance",
          "Comedy",
          "Comedy",
          "Comedy",
          "Drama",
          "Comedy",
          "Fantasy",
          "Adventure",
          "Action",
          "Comedy",
          "Romance",
          "Comedy",
          "Drama",
          "Animation",
          "Adventure",
          "Crime",
          "Fantasy",
          "Comedy",
          "Comedy",
          "Adventure",
          "Action",
          "Comedy",
          "Horror",
          "Drama",
          "Thriller",
          "Comedy",
          "Romance",
          "Mystery",
          "Fantasy",
          "Drama",
          "Action",
          "Adventure",
          "Drama",
          "Action",
          "History",
          "Western",
          "Drama",
          "Drama",
          "Drama",
          "Horror",
          "Comedy",
          "War",
          "Fantasy",
          "Romance",
          "Fantasy",
          "Drama",
          "Comedy",
          "Drama",
          "Action",
          "Drama",
          "Drama",
          "Crime",
          "Drama",
          "Drama",
          "Fantasy",
          "Drama",
          "Drama",
          "Drama",
          "Comedy",
          "Comedy",
          "Thriller",
          "Comedy",
          "Comedy",
          "Comedy",
          "Drama",
          "Comedy",
          "Comedy",
          "Action",
          "Family",
          "Comedy",
          "Action",
          "Comedy",
          "Thriller",
          "Drama",
          "Romance",
          "Action",
          "Mystery",
          "Action",
          "Drama",
          "Thriller",
          "Drama",
          "Drama",
          "Animation",
          "Romance",
          "Science Fiction",
          "Animation",
          "Comedy",
          "Action",
          "Comedy",
          "Drama",
          "Crime",
          "Drama",
          "Action",
          "Drama",
          "Horror",
          "Drama",
          "Drama",
          "Romance",
          "Drama",
          "Drama",
          "Comedy",
          "Action",
          "Adventure",
          "Comedy",
          "Science Fiction",
          "Horror",
          "Action",
          "Comedy",
          "Crime",
          "Music",
          "Comedy",
          "Horror",
          "Adventure",
          "Horror",
          "Adventure",
          "Comedy",
          "Comedy",
          "Action",
          "Comedy",
          "Comedy",
          "Adventure",
          "Drama",
          "Drama",
          "Comedy",
          "Fantasy",
          "Drama",
          "Action",
          "Comedy",
          "Comedy",
          "Adventure",
          "History",
          "Family",
          "Thriller",
          "Thriller",
          "Animation",
          "Horror",
          "Adventure",
          "Action",
          "Drama",
          "Drama",
          "Horror",
          "Comedy",
          "Comedy",
          "Adventure",
          "Crime",
          "Drama",
          "Horror",
          "Drama",
          "Drama",
          "Drama",
          "Music",
          "Horror",
          "Comedy",
          "Drama",
          "History",
          "Action",
          "Horror",
          "Comedy",
          "Crime",
          "Drama",
          "Comedy",
          "Horror",
          "Drama",
          "Thriller",
          "Science Fiction",
          "Comedy",
          "Action",
          "Comedy",
          "Fantasy",
          "Comedy",
          "Adventure",
          "Horror",
          "Family",
          "Action",
          "Comedy",
          "Fantasy",
          "Mystery",
          "Drama",
          "Action",
          "Drama",
          "Romance",
          "Drama",
          "Comedy",
          "Comedy",
          "Adventure",
          "Comedy",
          "Drama",
          "Adventure",
          "Comedy",
          "Thriller",
          "Horror",
          "Comedy",
          "Action",
          "Adventure",
          "Drama",
          "Drama",
          "Action",
          "Comedy",
          "Documentary",
          "Drama",
          "Crime",
          "Action",
          "Action",
          "Comedy",
          "Comedy",
          "Action",
          "Comedy",
          "Action",
          "Drama",
          "Drama",
          "Comedy",
          "Action",
          "Action",
          "Drama",
          "Action",
          "Comedy",
          "Comedy",
          "Drama",
          "Comedy",
          "Music",
          "Action",
          "Drama",
          "Comedy",
          "Action",
          "Action",
          "Comedy",
          "Comedy",
          "Comedy",
          "Music",
          "Comedy",
          "Action",
          "Horror",
          "Comedy",
          "Comedy",
          "Drama",
          "Animation",
          "Action",
          "Comedy",
          "Drama",
          "Crime",
          "Drama",
          "Action",
          "Adventure",
          "Drama",
          "Adventure",
          "Action",
          "Drama",
          "Comedy",
          "Action",
          "Drama",
          "Drama",
          "Animation",
          "Adventure",
          "Comedy",
          "Action",
          "Drama",
          "Drama",
          "Horror",
          "Crime",
          "Comedy",
          "Drama",
          "Thriller",
          "Thriller",
          "Drama",
          "Action",
          "Adventure",
          "Comedy",
          "Drama",
          "Comedy",
          "Crime",
          "Horror",
          "Adventure",
          "Horror",
          "Action",
          "Comedy",
          "Comedy",
          "Drama",
          "Mystery",
          "Fantasy",
          "Action",
          "Drama",
          "Comedy",
          "Romance",
          "Drama",
          "Comedy",
          "Drama",
          "Family",
          "Thriller",
          "Horror",
          "Comedy",
          "Horror",
          "Adventure",
          "Comedy",
          "Comedy",
          "Romance",
          "Fantasy",
          "Comedy",
          "Comedy",
          "Science Fiction",
          "Crime",
          "Comedy",
          "Thriller",
          "Comedy",
          "Drama",
          "Science Fiction",
          "Romance",
          "Family",
          "Science Fiction",
          "Drama",
          "Crime",
          "Comedy",
          "Drama",
          "Comedy",
          "Drama",
          "Comedy",
          "Drama",
          "Romance",
          "Action",
          "Horror",
          "Action",
          "War",
          "Comedy",
          "Adventure",
          "Drama",
          "Drama",
          "Action",
          "Adventure",
          "Drama",
          "Comedy",
          "Family",
          "Drama",
          "Drama",
          "Comedy",
          "Drama",
          "Action",
          "Drama",
          "Drama",
          "Action",
          "Drama",
          "Comedy",
          "Drama",
          "Fantasy",
          "Comedy",
          "Drama",
          "History",
          "Action",
          "Drama",
          "Adventure",
          "Drama",
          "Crime",
          "Romance",
          "Drama",
          "Music",
          "Drama",
          "Crime",
          "Thriller",
          "Horror",
          "Action",
          "Action",
          "Adventure",
          "Thriller",
          "Comedy",
          "Comedy",
          "Horror",
          "Music",
          "Animation",
          "Drama",
          "Action",
          "Drama",
          "Thriller",
          "Horror",
          "Drama",
          "Horror",
          "Comedy",
          "Comedy",
          "Comedy",
          "Horror",
          "Comedy",
          "Comedy",
          "Action",
          "Horror",
          "Comedy",
          "Comedy",
          "Drama",
          "Horror",
          "Drama",
          "Drama",
          "Comedy",
          "Drama",
          "Horror",
          "Crime",
          "Action",
          "Horror",
          "Comedy",
          "Comedy",
          "Action",
          "Action",
          "Adventure",
          "Fantasy",
          "Adventure",
          "Drama",
          "Thriller",
          "Action",
          "Animation",
          "Action",
          "Horror",
          "Comedy",
          "Drama",
          "Crime",
          "Drama",
          "Drama",
          "Comedy",
          "Drama",
          "Drama",
          "Comedy",
          "Comedy",
          "Drama",
          "Comedy",
          "Drama",
          "Horror",
          "Comedy",
          "Horror",
          "Drama",
          "Fantasy",
          "Crime",
          "Thriller",
          "Mystery",
          "Thriller",
          "Crime",
          "Comedy",
          "Drama",
          "Action",
          "Comedy",
          "Comedy",
          "Comedy",
          "Comedy",
          "Drama",
          "Comedy",
          "Drama",
          "Thriller",
          "Comedy",
          "Comedy",
          "Comedy",
          "Adventure",
          "Drama",
          "Science Fiction",
          "Drama",
          "Thriller",
          "Romance",
          "Comedy",
          "Fantasy",
          "Comedy",
          "Drama",
          "Crime",
          "Western",
          "Comedy",
          "Mystery",
          "Drama",
          "Comedy",
          "Action",
          "Comedy",
          "Comedy",
          "Action",
          "Adventure",
          "Drama",
          "Drama",
          "Comedy",
          "Drama",
          "Drama",
          "Action",
          "History",
          "Drama",
          "Comedy",
          "Horror",
          "Comedy",
          "Comedy",
          "Drama",
          "Fantasy",
          "Comedy",
          "Drama",
          "Drama",
          "Horror",
          "Comedy",
          "Drama",
          "Comedy",
          "Family",
          "Thriller",
          "Horror",
          "Horror",
          "Action",
          "Comedy",
          "Crime",
          "Crime",
          "Drama",
          "Comedy",
          "Adventure",
          "Horror",
          "Drama",
          "Crime",
          "Comedy",
          "Horror",
          "Adventure",
          "Drama",
          "Drama",
          "Comedy",
          "Comedy",
          "Horror",
          "Drama",
          "Comedy",
          "Action",
          "Action",
          "Comedy",
          "Drama",
          "Drama",
          "Drama",
          "Drama",
          "Drama",
          "Horror",
          "Horror",
          "Action",
          "Action",
          "Drama",
          "Mystery",
          "Drama",
          "Crime",
          "Drama",
          "Drama",
          "Fantasy",
          "Crime",
          "Thriller",
          "Music",
          "Action",
          "Drama",
          "Drama",
          "Crime",
          "Drama",
          "Comedy",
          "Action",
          "Drama",
          "Comedy",
          "Music",
          "Comedy",
          "Drama",
          "Action",
          "Drama",
          "Drama",
          "Comedy",
          "Comedy",
          "Comedy",
          "Comedy",
          "Comedy",
          "Drama",
          "Comedy",
          "Thriller",
          "Adventure",
          "Action",
          "Thriller",
          "Thriller",
          "Comedy",
          "Drama",
          "Thriller",
          "Adventure",
          "Horror",
          "Drama",
          "Action",
          "Drama",
          "Action",
          "Drama",
          "Adventure",
          "Adventure",
          "Drama",
          "Mystery",
          "Drama",
          "Drama",
          "Action",
          "Comedy",
          "Animation",
          "Thriller",
          "Drama",
          "Drama",
          "Romance",
          "Comedy",
          "Drama",
          "Drama",
          "Drama",
          "Western",
          "Drama",
          "Drama",
          "Drama",
          "Romance",
          "Adventure",
          "Drama",
          "Comedy",
          "Mystery",
          "Drama",
          "Adventure",
          "Horror",
          "Action",
          "History",
          "Drama",
          "Action",
          "Comedy",
          "Horror",
          "Comedy",
          "Thriller",
          "Comedy",
          "Comedy",
          "Comedy",
          "Horror",
          "Comedy",
          "Comedy",
          "Drama",
          "Romance",
          "Drama",
          "Drama",
          "Action",
          "Drama",
          "History",
          "History",
          "Drama",
          "Comedy",
          "Romance",
          "Drama",
          "Comedy",
          "Drama",
          "Comedy",
          "Drama",
          "Comedy",
          "Drama",
          "Drama",
          "Thriller",
          "Comedy",
          "Action",
          "Documentary",
          "Drama",
          "Drama",
          "Drama",
          "Horror",
          "Drama",
          "Comedy",
          "Crime",
          "Comedy",
          "Comedy",
          "Comedy",
          "Comedy",
          "Horror",
          "Science Fiction",
          "Comedy",
          "Science Fiction",
          "Action",
          "Comedy",
          "Drama",
          "Crime",
          "Science Fiction",
          "Drama",
          "Fantasy",
          "Comedy",
          "Family",
          "Drama",
          "Action",
          "Adventure",
          "Comedy",
          "Drama",
          "Comedy",
          "Comedy",
          "Music",
          "Comedy",
          "Comedy",
          "Drama",
          "Comedy",
          "Drama",
          "Comedy",
          "Drama",
          "Drama",
          "Action",
          "Drama",
          "Thriller",
          "Action",
          "Drama",
          "Crime",
          "Family",
          "Comedy",
          "Adventure",
          "Drama",
          "Action",
          "Romance",
          "Crime",
          "Crime",
          "Horror",
          "Comedy",
          "War",
          "Drama",
          "Crime",
          "Comedy",
          "Action",
          "Crime",
          "Animation",
          "Action",
          "Drama",
          "Drama",
          "Horror",
          "Comedy",
          "Animation",
          "Action",
          "Comedy",
          "Comedy",
          "Action",
          "Comedy",
          "Thriller",
          "Crime",
          "Action",
          "Music",
          "Animation",
          "Comedy",
          "Comedy",
          "Science Fiction",
          "Music",
          "Family",
          "Action",
          "Comedy",
          "Drama",
          "Horror",
          "Horror",
          "Drama",
          "Comedy",
          "Comedy",
          "Comedy",
          "Drama",
          "Documentary",
          "Romance",
          "Drama",
          "Drama",
          "Horror",
          "Horror",
          "Drama",
          "Fantasy",
          "Drama",
          "Comedy",
          "Drama",
          "Comedy",
          "Comedy",
          "Action",
          "Comedy",
          "Comedy",
          "Comedy",
          "Romance",
          "Drama",
          "Action",
          "Comedy",
          "Comedy",
          "Adventure",
          "Drama",
          "Science Fiction",
          "Drama",
          "Action",
          "Comedy",
          "Drama",
          "Comedy",
          "Comedy",
          "Mystery",
          "Drama",
          "Horror",
          "Comedy",
          "Comedy",
          "Comedy",
          "Drama",
          "Fantasy",
          "Crime",
          "Adventure",
          "Drama",
          "Crime",
          "Comedy",
          "Thriller",
          "Drama",
          "Comedy",
          "Thriller",
          "Drama",
          "Animation",
          "Science Fiction",
          "War",
          "Horror",
          "Drama",
          "Drama",
          "Thriller",
          "Drama",
          "Drama",
          "Fantasy",
          "Adventure",
          "Comedy",
          "Drama",
          "Drama",
          "Action",
          "Comedy",
          "Drama",
          "Action",
          "Comedy",
          "Thriller",
          "Drama",
          "Drama",
          "Drama",
          "Horror",
          "Comedy",
          "Adventure",
          "Action",
          "Drama",
          "Drama",
          "Science Fiction",
          "Drama",
          "Drama",
          "Comedy",
          "Comedy",
          "Drama",
          "Comedy",
          "Drama",
          "Drama",
          "Fantasy",
          "Comedy",
          "Romance",
          "Drama",
          "Crime",
          "Comedy",
          "Drama",
          "Drama",
          "Drama",
          "Drama",
          "Comedy",
          "Drama",
          "Horror",
          "Drama",
          "Drama",
          "Drama",
          "Science Fiction",
          "Science Fiction",
          "Romance",
          "Drama",
          "Drama",
          "History",
          "Comedy",
          "Drama",
          "Drama",
          "Horror",
          "Action",
          "Comedy",
          "Action",
          "Comedy",
          "Horror",
          "Drama",
          "Drama",
          "Drama",
          "Action",
          "Comedy",
          "Horror",
          "Comedy",
          "Horror",
          "Adventure",
          "Drama",
          "Drama",
          "Science Fiction",
          "Action",
          "Action",
          "Horror",
          "Horror",
          "Comedy",
          "Drama",
          "Action",
          "Horror",
          "Comedy",
          "Fantasy",
          "Comedy",
          "Drama",
          "Action",
          "Action",
          "Drama",
          "Comedy",
          "Comedy",
          "Crime",
          "Adventure",
          "Horror",
          "Horror",
          "Drama",
          "Mystery",
          "Drama",
          "Comedy",
          "Science Fiction",
          "Drama",
          "Drama",
          "Action",
          "Horror",
          "Western",
          "Action",
          "Drama",
          "Action",
          "Documentary",
          "Comedy",
          "Drama",
          "Action",
          "Comedy",
          "Thriller",
          "Comedy",
          "Comedy",
          "Comedy",
          "Drama",
          "Comedy",
          "Crime",
          "Action",
          "Comedy",
          "Comedy",
          "Comedy",
          "Comedy",
          "Drama",
          "Horror",
          "Animation",
          "Drama",
          "Drama",
          "Comedy",
          "Comedy",
          "Comedy",
          "Drama",
          "Adventure",
          "Comedy",
          "Drama",
          "Action",
          "Action",
          "Drama",
          "Drama",
          "Comedy",
          "Horror",
          "Adventure",
          "Comedy",
          "Drama",
          "Action",
          "Thriller",
          "Thriller",
          "Crime",
          "Comedy",
          "Drama",
          "Comedy",
          "Action",
          "Action",
          "Drama",
          "Drama",
          "Comedy",
          "Comedy",
          "Drama",
          "Drama",
          "Comedy",
          "War",
          "Comedy",
          "Comedy",
          "Comedy",
          "Drama",
          "Drama",
          "Comedy",
          "Comedy",
          "Crime",
          "Music",
          "Drama",
          "Drama",
          "Action",
          "Action",
          "Horror",
          "Drama",
          "Comedy",
          "Drama",
          "Comedy",
          "Action",
          "Action",
          "Drama",
          "Drama",
          "Horror",
          "Horror",
          "Action",
          "Comedy",
          "Animation",
          "Action",
          "Action",
          "Drama",
          "Horror",
          "Horror",
          "Drama",
          "Drama",
          "Adventure",
          "Horror",
          "Comedy",
          "Drama",
          "Drama",
          "Horror",
          "Documentary",
          "Horror",
          "Comedy",
          "Comedy",
          "Drama",
          "Crime",
          "Comedy",
          "Horror",
          "War",
          "Comedy",
          "Action",
          "Comedy",
          "Comedy",
          "Action",
          "Drama",
          "Comedy",
          "Drama",
          "Documentary",
          "Horror",
          "Comedy",
          "Comedy",
          "Drama",
          "Drama",
          "Crime",
          "Comedy",
          "Drama",
          "Adventure",
          "Thriller",
          "Drama",
          "Drama",
          "Thriller",
          "Thriller",
          "Horror",
          "Drama",
          "Drama",
          "Comedy",
          "Science Fiction",
          "Drama",
          "Romance",
          "Drama",
          "Action",
          "Drama",
          "Drama",
          "Action",
          "Adventure",
          "Drama",
          "Romance",
          "Drama",
          "Horror",
          "Adventure",
          "Thriller",
          "Adventure",
          "Crime",
          "Comedy",
          "Drama",
          "Comedy",
          "Comedy",
          "Crime",
          "Horror",
          "Crime",
          "Comedy",
          "Comedy",
          "Comedy",
          "Drama",
          "Adventure",
          "Horror",
          "Drama",
          "Drama",
          "Comedy",
          "Comedy",
          "Thriller",
          "Drama",
          "Action",
          "Action",
          "Comedy",
          "Comedy",
          "Comedy",
          "Drama",
          "Comedy",
          "Comedy",
          "Comedy",
          "Drama",
          "Animation",
          "Comedy",
          "Comedy",
          "Action",
          "Comedy",
          "Comedy",
          "Drama",
          "Drama",
          "Comedy",
          "Drama",
          "Drama",
          "Romance",
          "Action",
          "Crime",
          "Action",
          "Drama",
          "Science Fiction",
          "Drama",
          "Drama",
          "Drama",
          "Drama",
          "Thriller",
          "Action",
          "Action",
          "Comedy",
          "Crime",
          "Drama",
          "Comedy",
          "Horror",
          "Drama",
          "Comedy",
          "Comedy",
          "Action",
          "Comedy",
          "Drama",
          "Comedy",
          "Drama",
          "Comedy",
          "Drama",
          "Drama",
          "Animation",
          "Drama",
          "Thriller",
          "Thriller",
          "Horror",
          "Comedy",
          "Action",
          "Adventure",
          "Drama",
          "Drama",
          "Comedy",
          "Drama",
          "Drama",
          "Adventure",
          "Comedy",
          "Comedy",
          "Comedy",
          "Drama",
          "Crime",
          "Thriller",
          "Adventure",
          "Adventure",
          "Action",
          "Documentary",
          "Horror",
          "Comedy",
          "Crime",
          "Drama",
          "Horror",
          "Comedy",
          "Comedy",
          "Adventure",
          "Romance",
          "Drama",
          "Drama",
          "Romance",
          "Drama",
          "Thriller",
          "Action",
          "Drama",
          "Drama",
          "Comedy",
          "Drama",
          "Drama",
          "Drama",
          "Action",
          "Comedy",
          "Drama",
          "Comedy",
          "Comedy",
          "Drama",
          "Comedy",
          "Mystery",
          "Drama",
          "Romance",
          "Comedy",
          "Drama",
          "Crime",
          "Action",
          "Horror",
          "Animation",
          "Romance",
          "Adventure",
          "Comedy",
          "Comedy",
          "Thriller",
          "Action",
          "Horror",
          "Drama",
          "Drama",
          "Horror",
          "Comedy",
          "Crime",
          "Drama",
          "Horror",
          "Action",
          "Crime",
          "Comedy",
          "Science Fiction",
          "Horror",
          "Drama",
          "Drama",
          "Drama",
          "Drama",
          "Romance",
          "Drama",
          "Action",
          "Drama",
          "Action",
          "Comedy",
          "Drama",
          "Comedy",
          "Romance",
          "Romance",
          "Drama",
          "Documentary",
          "History",
          "Comedy",
          "Drama",
          "Crime",
          "Comedy",
          "Comedy",
          "Drama",
          "Horror",
          "Comedy",
          "Drama",
          "Western",
          "Science Fiction",
          "Comedy",
          "Crime",
          "Comedy",
          "Comedy",
          "Crime",
          "Drama",
          "Horror",
          "Comedy",
          "Documentary",
          "Comedy",
          "Drama",
          "Drama",
          "Action",
          "Comedy",
          "Drama",
          "Drama",
          "Comedy",
          "Action",
          "Drama",
          "Comedy",
          "Adventure",
          "Drama",
          "Thriller",
          "Action",
          "Drama",
          "Drama",
          "Drama",
          "Drama",
          "Comedy",
          "Documentary",
          "Crime",
          "Crime",
          "Drama",
          "Action",
          "Horror",
          "Drama",
          "Drama",
          "Drama",
          "Action",
          "Action",
          "Comedy",
          "Action",
          "Action",
          "Thriller",
          "Comedy",
          "Comedy",
          "Drama",
          "Romance",
          "Western",
          "Comedy",
          "Comedy",
          "Comedy",
          "Crime",
          "Drama",
          "Drama",
          "Drama",
          "Comedy",
          "Drama",
          "Comedy",
          "Thriller",
          "Drama",
          "Science Fiction",
          "Horror",
          "Horror",
          "Thriller",
          "Documentary",
          "Horror",
          "Horror",
          "Horror",
          "Horror",
          "Comedy",
          "Horror",
          "Drama",
          "Comedy",
          "Horror",
          "Crime",
          "Adventure",
          "Horror",
          "Drama",
          "Drama",
          "Thriller",
          "Mystery",
          "Horror",
          "Comedy",
          "Drama",
          "Comedy",
          "Family",
          "Drama",
          "Comedy",
          "Action",
          "Horror",
          "Drama",
          "History",
          "Action",
          "Horror",
          "Comedy",
          "Drama",
          "Horror",
          "Drama",
          "Horror",
          "Drama",
          "Horror",
          "Horror",
          "Action",
          "Horror",
          "Comedy",
          "Action",
          "Action",
          "Drama",
          "Romance",
          "Drama",
          "Fantasy",
          "Comedy",
          "Action",
          "Action",
          "Comedy",
          "Comedy",
          "Comedy",
          "Western",
          "Action",
          "Science Fiction",
          "Documentary",
          "Drama",
          "Drama",
          "Comedy",
          "Drama",
          "Drama",
          "Comedy",
          "Comedy",
          "Thriller",
          "Drama",
          "Thriller",
          "Drama",
          "Comedy",
          "Horror",
          "Comedy",
          "Drama",
          "Comedy",
          "Crime",
          "Comedy",
          "Horror",
          "Horror",
          "Drama",
          "Horror",
          "Thriller",
          "Music",
          "Family",
          "Thriller",
          "Drama",
          "Comedy",
          "Drama",
          "Drama",
          "Horror",
          "Horror",
          "Thriller",
          "Comedy",
          "Horror",
          "Western",
          "Drama",
          "Comedy",
          "Drama",
          "Drama",
          "Drama",
          "Comedy",
          "Romance",
          "Comedy",
          "Comedy",
          "Adventure",
          "Crime",
          "Crime",
          "Crime",
          "Drama",
          "Comedy",
          "Fantasy",
          "Drama",
          "Comedy",
          "Comedy",
          "Drama",
          "Action",
          "Adventure",
          "Drama",
          "Drama",
          "Comedy",
          "Thriller",
          "Action",
          "Crime",
          "Drama",
          "Comedy",
          "Fantasy",
          "Romance",
          "Comedy",
          "Horror",
          "Horror",
          "Drama",
          "Comedy",
          "Action",
          "Drama",
          "Horror",
          "Drama",
          "Horror",
          "Romance",
          "Thriller",
          "Drama",
          "Comedy",
          "Action",
          "Adventure",
          "Documentary",
          "Horror",
          "Drama",
          "Comedy",
          "Action",
          "Action",
          "Drama",
          "Drama",
          "Horror",
          "Comedy",
          "Action",
          "Comedy",
          "Crime",
          "Comedy",
          "Drama",
          "Comedy",
          "Comedy",
          "Horror",
          "Fantasy",
          "Drama",
          "Drama",
          "Drama",
          "Drama",
          "Drama",
          "Crime",
          "Crime",
          "Comedy",
          "Drama",
          "Crime",
          "Drama",
          "Drama",
          "Drama",
          "Drama",
          "Comedy",
          "Adventure",
          "Drama",
          "Action",
          "Comedy",
          "Horror",
          "Horror",
          "Comedy",
          "Drama",
          "Drama",
          "Drama",
          "War",
          "Action",
          "Comedy",
          "Drama",
          "Music",
          "Drama",
          "Comedy",
          "Drama",
          "Comedy",
          "Comedy",
          "Thriller",
          "Comedy",
          "Drama",
          "Horror",
          "Action",
          "Crime",
          "Drama",
          "Action",
          "Crime",
          "Mystery",
          "Comedy",
          "Drama",
          "Crime",
          "Horror",
          "TV Movie",
          "Fantasy",
          "Comedy",
          "Action",
          "Crime",
          "Horror",
          "Action",
          "Documentary",
          "Action",
          "Action",
          "Crime",
          "Comedy",
          "Documentary",
          "Thriller",
          "Comedy",
          "Drama",
          "Drama",
          "Comedy",
          "Drama",
          "Drama",
          "Comedy",
          "Action",
          "Comedy",
          "Romance",
          "Drama",
          "Horror",
          "Western",
          "Drama",
          "Drama",
          "Action",
          "Comedy",
          "Adventure",
          "Science Fiction",
          "Drama",
          "Drama",
          "Horror",
          "Documentary",
          "Horror",
          "Drama",
          "Science Fiction",
          "Horror",
          "Comedy",
          "Drama",
          "Adventure",
          "Comedy",
          "Adventure",
          "Horror",
          "Drama",
          "Comedy",
          "Comedy",
          "Comedy",
          "Fantasy",
          "Mystery",
          "Comedy",
          "Romance",
          "Drama",
          "Drama",
          "Drama",
          "Comedy",
          "Western",
          "Romance",
          "Action",
          "Drama",
          "Drama",
          "Comedy",
          "Comedy",
          "Drama",
          "Comedy",
          "Family",
          "Comedy",
          "Drama",
          "Comedy",
          "Crime",
          "Comedy",
          "Comedy",
          "Drama",
          "Action",
          "Action",
          "Comedy",
          "Drama",
          "Comedy",
          "Comedy",
          "Drama",
          "Science Fiction",
          "Thriller",
          "Action",
          "Drama",
          "Action",
          "Drama",
          "Mystery",
          "Thriller",
          "Action",
          "Drama",
          "Comedy",
          "Thriller",
          "Documentary",
          "Romance",
          "Drama",
          "Comedy",
          "Horror",
          "Adventure",
          "Comedy",
          "Horror",
          "Adventure",
          "Adventure",
          "Drama",
          "Western",
          "Horror",
          "Drama",
          "Documentary",
          "Science Fiction",
          "Horror",
          "Comedy",
          "Comedy",
          "Documentary",
          "Comedy",
          "Horror",
          "Action",
          "Action",
          "Comedy",
          "Drama",
          "Comedy",
          "Drama",
          "Science Fiction",
          "Drama",
          "Comedy",
          "Drama",
          "Comedy",
          "Drama",
          "Comedy",
          "Comedy",
          "Horror",
          "Drama",
          "Adventure",
          "Crime",
          "Drama",
          "Action",
          "Comedy",
          "Drama",
          "Comedy",
          "Music",
          "Fantasy",
          "Animation",
          "Horror",
          "Horror",
          "Drama",
          "Thriller",
          "Drama",
          "Crime",
          "Drama",
          "Horror",
          "Action",
          "Comedy",
          "Horror",
          "Comedy",
          "Crime",
          "Adventure",
          "Crime",
          "Horror",
          "Drama",
          "Drama",
          "Drama",
          "Adventure",
          "Adventure",
          "Comedy",
          "Drama",
          "Drama",
          "Crime",
          "Drama",
          "Drama",
          "Documentary",
          "Drama",
          "Documentary",
          "Drama",
          "Crime",
          "Crime",
          "Comedy",
          "Romance",
          "Drama",
          "Documentary",
          "Drama",
          "Documentary",
          "Drama",
          "History",
          "Comedy",
          "Action",
          "Action",
          "Drama",
          "Comedy",
          "Drama",
          "Comedy",
          "Drama",
          "Horror",
          "Thriller",
          "Horror",
          "Crime",
          "Documentary",
          "Comedy",
          "Crime",
          "Horror",
          "Action",
          "Comedy",
          "Comedy",
          "Thriller",
          "Thriller",
          "Crime",
          "Thriller",
          "Drama",
          "Drama",
          "Drama",
          "Thriller",
          "Drama",
          "Horror",
          "Drama",
          "Drama",
          "Drama",
          "Drama",
          "Action",
          "Drama",
          "Comedy",
          "Western",
          "Action",
          "Comedy",
          "Action",
          "Drama",
          "Adventure",
          "Drama",
          "Action",
          "Drama",
          "Thriller",
          "Comedy",
          "Drama",
          "Comedy",
          "War",
          "Western",
          "Comedy",
          "Drama",
          "Crime",
          "Comedy",
          "Action",
          "Comedy",
          "Drama",
          "Comedy",
          "Comedy",
          "Action",
          "Drama",
          "Romance",
          "Horror",
          "Comedy",
          "Crime",
          "Drama",
          "Comedy",
          "Action",
          "Drama",
          "Drama",
          "Horror",
          "Drama",
          "Drama",
          "Comedy",
          "Comedy",
          "Comedy",
          "Drama",
          "Drama",
          "Horror",
          "Drama",
          "Horror",
          "Comedy",
          "Comedy",
          "Science Fiction",
          "Drama",
          "Fantasy",
          "Drama",
          "Western",
          "Adventure",
          "Drama",
          "Horror",
          "Family",
          "Comedy",
          "Drama",
          "Drama",
          "Drama",
          "Horror",
          "Action",
          "Drama",
          "Horror",
          "Drama",
          "Horror",
          "Adventure",
          "Crime",
          "Drama",
          "Drama",
          "Horror",
          "Comedy",
          "Comedy",
          "Comedy",
          "Drama",
          "Crime",
          "Western",
          "Drama",
          "Documentary",
          "Comedy",
          "Drama",
          "Action",
          "Action",
          "Action",
          "Comedy",
          "Comedy",
          "Horror",
          "Fantasy",
          "Action",
          "Drama",
          "Drama",
          "Adventure",
          "Drama",
          "Adventure",
          "Horror",
          "Crime",
          "Drama",
          "Adventure",
          "Horror",
          "Horror",
          "Drama",
          "Horror",
          "Adventure",
          "Drama",
          "Drama",
          "Thriller",
          "Comedy",
          "Drama",
          "Documentary",
          "Action",
          "Action",
          "Drama",
          "Drama",
          "Drama",
          "Drama",
          "Comedy",
          "Documentary",
          "Drama",
          "Documentary",
          "Comedy",
          "Comedy",
          "Drama",
          "Crime",
          "Drama",
          "Comedy",
          "Drama",
          "Science Fiction",
          "Comedy",
          "Documentary",
          "Documentary",
          "Documentary",
          "Drama",
          "Documentary",
          "Drama",
          "Comedy",
          "Romance",
          "Crime",
          "Drama",
          "Drama",
          "Crime",
          "Drama",
          "Drama",
          "Horror",
          "Comedy",
          "Western",
          "Science Fiction",
          "Horror",
          "Drama",
          "Horror",
          "Drama",
          "Documentary",
          "Crime",
          "Comedy",
          "Drama",
          "Drama",
          "Drama",
          "Drama",
          "Animation",
          "Drama",
          "Drama",
          "Comedy",
          "Comedy",
          "Drama",
          "Drama",
          "Drama",
          "Drama",
          "Horror",
          "Action",
          "Comedy",
          "Comedy",
          "Horror",
          "Horror",
          "Drama",
          "Drama",
          "Horror",
          "Western",
          "Documentary",
          "Drama",
          "Drama",
          "Drama",
          "Thriller",
          "Horror",
          "Drama",
          "Drama",
          "Comedy",
          "Horror",
          "History",
          "Comedy",
          "Music",
          "Comedy",
          "Documentary",
          "Drama",
          "Drama",
          "Documentary",
          "Drama",
          "Horror",
          "Drama",
          "Documentary",
          "Drama",
          "Documentary",
          "Crime",
          "Romance",
          "Documentary",
          "Action",
          "Comedy",
          "Comedy",
          "Drama",
          "Comedy",
          "Drama",
          "Action",
          "Horror",
          "Crime",
          "Action",
          "Drama",
          "Music",
          "Comedy",
          "Comedy",
          "Crime",
          "Horror",
          "Adventure",
          "Documentary",
          "Comedy",
          "Horror",
          "Romance",
          "Drama",
          "Drama",
          "Horror",
          "Horror",
          "Documentary",
          "Science Fiction",
          "Drama",
          "Animation",
          "Comedy",
          "Drama",
          "Music",
          "Comedy",
          "Fantasy",
          "Comedy",
          "Drama",
          "Drama",
          "Drama",
          "Documentary",
          "Drama",
          "Action",
          "Romance",
          "Comedy",
          "Drama",
          "Comedy",
          "Comedy",
          "Drama",
          "Thriller",
          "Drama",
          "Drama",
          "Thriller",
          "Science Fiction",
          "Action",
          "Drama",
          "Drama",
          "Romance",
          "Drama",
          "Foreign",
          "Comedy",
          "Adventure",
          "Adventure",
          "Comedy",
          "Western",
          "Comedy",
          "Drama",
          "Romance",
          "Music",
          "Crime",
          "Horror",
          "Drama",
          "Drama",
          "Drama",
          "Action",
          "Drama",
          "Comedy",
          "Drama",
          "Documentary",
          "Drama",
          "Comedy",
          "Drama",
          "Drama",
          "Drama",
          "Horror",
          "Drama",
          "Documentary",
          "Mystery",
          "Science Fiction",
          "Documentary",
          "Horror",
          "Mystery",
          "Romance",
          "Thriller",
          "Documentary",
          "Horror",
          "Thriller",
          "Documentary",
          "Documentary",
          "Thriller",
          "Drama",
          "Drama",
          "Comedy",
          "Drama",
          "Drama",
          "Comedy",
          "Horror",
          "Horror",
          "Crime",
          "Science Fiction",
          "Action",
          "Comedy"
         ],
         "y0": " ",
         "yaxis": "y"
        }
       ],
       "layout": {
        "boxmode": "group",
        "legend": {
         "tracegroupgap": 0
        },
        "margin": {
         "t": 60
        },
        "template": {
         "data": {
          "bar": [
           {
            "error_x": {
             "color": "#2a3f5f"
            },
            "error_y": {
             "color": "#2a3f5f"
            },
            "marker": {
             "line": {
              "color": "#E5ECF6",
              "width": 0.5
             },
             "pattern": {
              "fillmode": "overlay",
              "size": 10,
              "solidity": 0.2
             }
            },
            "type": "bar"
           }
          ],
          "barpolar": [
           {
            "marker": {
             "line": {
              "color": "#E5ECF6",
              "width": 0.5
             },
             "pattern": {
              "fillmode": "overlay",
              "size": 10,
              "solidity": 0.2
             }
            },
            "type": "barpolar"
           }
          ],
          "carpet": [
           {
            "aaxis": {
             "endlinecolor": "#2a3f5f",
             "gridcolor": "white",
             "linecolor": "white",
             "minorgridcolor": "white",
             "startlinecolor": "#2a3f5f"
            },
            "baxis": {
             "endlinecolor": "#2a3f5f",
             "gridcolor": "white",
             "linecolor": "white",
             "minorgridcolor": "white",
             "startlinecolor": "#2a3f5f"
            },
            "type": "carpet"
           }
          ],
          "choropleth": [
           {
            "colorbar": {
             "outlinewidth": 0,
             "ticks": ""
            },
            "type": "choropleth"
           }
          ],
          "contour": [
           {
            "colorbar": {
             "outlinewidth": 0,
             "ticks": ""
            },
            "colorscale": [
             [
              0,
              "#0d0887"
             ],
             [
              0.1111111111111111,
              "#46039f"
             ],
             [
              0.2222222222222222,
              "#7201a8"
             ],
             [
              0.3333333333333333,
              "#9c179e"
             ],
             [
              0.4444444444444444,
              "#bd3786"
             ],
             [
              0.5555555555555556,
              "#d8576b"
             ],
             [
              0.6666666666666666,
              "#ed7953"
             ],
             [
              0.7777777777777778,
              "#fb9f3a"
             ],
             [
              0.8888888888888888,
              "#fdca26"
             ],
             [
              1,
              "#f0f921"
             ]
            ],
            "type": "contour"
           }
          ],
          "contourcarpet": [
           {
            "colorbar": {
             "outlinewidth": 0,
             "ticks": ""
            },
            "type": "contourcarpet"
           }
          ],
          "heatmap": [
           {
            "colorbar": {
             "outlinewidth": 0,
             "ticks": ""
            },
            "colorscale": [
             [
              0,
              "#0d0887"
             ],
             [
              0.1111111111111111,
              "#46039f"
             ],
             [
              0.2222222222222222,
              "#7201a8"
             ],
             [
              0.3333333333333333,
              "#9c179e"
             ],
             [
              0.4444444444444444,
              "#bd3786"
             ],
             [
              0.5555555555555556,
              "#d8576b"
             ],
             [
              0.6666666666666666,
              "#ed7953"
             ],
             [
              0.7777777777777778,
              "#fb9f3a"
             ],
             [
              0.8888888888888888,
              "#fdca26"
             ],
             [
              1,
              "#f0f921"
             ]
            ],
            "type": "heatmap"
           }
          ],
          "heatmapgl": [
           {
            "colorbar": {
             "outlinewidth": 0,
             "ticks": ""
            },
            "colorscale": [
             [
              0,
              "#0d0887"
             ],
             [
              0.1111111111111111,
              "#46039f"
             ],
             [
              0.2222222222222222,
              "#7201a8"
             ],
             [
              0.3333333333333333,
              "#9c179e"
             ],
             [
              0.4444444444444444,
              "#bd3786"
             ],
             [
              0.5555555555555556,
              "#d8576b"
             ],
             [
              0.6666666666666666,
              "#ed7953"
             ],
             [
              0.7777777777777778,
              "#fb9f3a"
             ],
             [
              0.8888888888888888,
              "#fdca26"
             ],
             [
              1,
              "#f0f921"
             ]
            ],
            "type": "heatmapgl"
           }
          ],
          "histogram": [
           {
            "marker": {
             "pattern": {
              "fillmode": "overlay",
              "size": 10,
              "solidity": 0.2
             }
            },
            "type": "histogram"
           }
          ],
          "histogram2d": [
           {
            "colorbar": {
             "outlinewidth": 0,
             "ticks": ""
            },
            "colorscale": [
             [
              0,
              "#0d0887"
             ],
             [
              0.1111111111111111,
              "#46039f"
             ],
             [
              0.2222222222222222,
              "#7201a8"
             ],
             [
              0.3333333333333333,
              "#9c179e"
             ],
             [
              0.4444444444444444,
              "#bd3786"
             ],
             [
              0.5555555555555556,
              "#d8576b"
             ],
             [
              0.6666666666666666,
              "#ed7953"
             ],
             [
              0.7777777777777778,
              "#fb9f3a"
             ],
             [
              0.8888888888888888,
              "#fdca26"
             ],
             [
              1,
              "#f0f921"
             ]
            ],
            "type": "histogram2d"
           }
          ],
          "histogram2dcontour": [
           {
            "colorbar": {
             "outlinewidth": 0,
             "ticks": ""
            },
            "colorscale": [
             [
              0,
              "#0d0887"
             ],
             [
              0.1111111111111111,
              "#46039f"
             ],
             [
              0.2222222222222222,
              "#7201a8"
             ],
             [
              0.3333333333333333,
              "#9c179e"
             ],
             [
              0.4444444444444444,
              "#bd3786"
             ],
             [
              0.5555555555555556,
              "#d8576b"
             ],
             [
              0.6666666666666666,
              "#ed7953"
             ],
             [
              0.7777777777777778,
              "#fb9f3a"
             ],
             [
              0.8888888888888888,
              "#fdca26"
             ],
             [
              1,
              "#f0f921"
             ]
            ],
            "type": "histogram2dcontour"
           }
          ],
          "mesh3d": [
           {
            "colorbar": {
             "outlinewidth": 0,
             "ticks": ""
            },
            "type": "mesh3d"
           }
          ],
          "parcoords": [
           {
            "line": {
             "colorbar": {
              "outlinewidth": 0,
              "ticks": ""
             }
            },
            "type": "parcoords"
           }
          ],
          "pie": [
           {
            "automargin": true,
            "type": "pie"
           }
          ],
          "scatter": [
           {
            "fillpattern": {
             "fillmode": "overlay",
             "size": 10,
             "solidity": 0.2
            },
            "type": "scatter"
           }
          ],
          "scatter3d": [
           {
            "line": {
             "colorbar": {
              "outlinewidth": 0,
              "ticks": ""
             }
            },
            "marker": {
             "colorbar": {
              "outlinewidth": 0,
              "ticks": ""
             }
            },
            "type": "scatter3d"
           }
          ],
          "scattercarpet": [
           {
            "marker": {
             "colorbar": {
              "outlinewidth": 0,
              "ticks": ""
             }
            },
            "type": "scattercarpet"
           }
          ],
          "scattergeo": [
           {
            "marker": {
             "colorbar": {
              "outlinewidth": 0,
              "ticks": ""
             }
            },
            "type": "scattergeo"
           }
          ],
          "scattergl": [
           {
            "marker": {
             "colorbar": {
              "outlinewidth": 0,
              "ticks": ""
             }
            },
            "type": "scattergl"
           }
          ],
          "scattermapbox": [
           {
            "marker": {
             "colorbar": {
              "outlinewidth": 0,
              "ticks": ""
             }
            },
            "type": "scattermapbox"
           }
          ],
          "scatterpolar": [
           {
            "marker": {
             "colorbar": {
              "outlinewidth": 0,
              "ticks": ""
             }
            },
            "type": "scatterpolar"
           }
          ],
          "scatterpolargl": [
           {
            "marker": {
             "colorbar": {
              "outlinewidth": 0,
              "ticks": ""
             }
            },
            "type": "scatterpolargl"
           }
          ],
          "scatterternary": [
           {
            "marker": {
             "colorbar": {
              "outlinewidth": 0,
              "ticks": ""
             }
            },
            "type": "scatterternary"
           }
          ],
          "surface": [
           {
            "colorbar": {
             "outlinewidth": 0,
             "ticks": ""
            },
            "colorscale": [
             [
              0,
              "#0d0887"
             ],
             [
              0.1111111111111111,
              "#46039f"
             ],
             [
              0.2222222222222222,
              "#7201a8"
             ],
             [
              0.3333333333333333,
              "#9c179e"
             ],
             [
              0.4444444444444444,
              "#bd3786"
             ],
             [
              0.5555555555555556,
              "#d8576b"
             ],
             [
              0.6666666666666666,
              "#ed7953"
             ],
             [
              0.7777777777777778,
              "#fb9f3a"
             ],
             [
              0.8888888888888888,
              "#fdca26"
             ],
             [
              1,
              "#f0f921"
             ]
            ],
            "type": "surface"
           }
          ],
          "table": [
           {
            "cells": {
             "fill": {
              "color": "#EBF0F8"
             },
             "line": {
              "color": "white"
             }
            },
            "header": {
             "fill": {
              "color": "#C8D4E3"
             },
             "line": {
              "color": "white"
             }
            },
            "type": "table"
           }
          ]
         },
         "layout": {
          "annotationdefaults": {
           "arrowcolor": "#2a3f5f",
           "arrowhead": 0,
           "arrowwidth": 1
          },
          "autotypenumbers": "strict",
          "coloraxis": {
           "colorbar": {
            "outlinewidth": 0,
            "ticks": ""
           }
          },
          "colorscale": {
           "diverging": [
            [
             0,
             "#8e0152"
            ],
            [
             0.1,
             "#c51b7d"
            ],
            [
             0.2,
             "#de77ae"
            ],
            [
             0.3,
             "#f1b6da"
            ],
            [
             0.4,
             "#fde0ef"
            ],
            [
             0.5,
             "#f7f7f7"
            ],
            [
             0.6,
             "#e6f5d0"
            ],
            [
             0.7,
             "#b8e186"
            ],
            [
             0.8,
             "#7fbc41"
            ],
            [
             0.9,
             "#4d9221"
            ],
            [
             1,
             "#276419"
            ]
           ],
           "sequential": [
            [
             0,
             "#0d0887"
            ],
            [
             0.1111111111111111,
             "#46039f"
            ],
            [
             0.2222222222222222,
             "#7201a8"
            ],
            [
             0.3333333333333333,
             "#9c179e"
            ],
            [
             0.4444444444444444,
             "#bd3786"
            ],
            [
             0.5555555555555556,
             "#d8576b"
            ],
            [
             0.6666666666666666,
             "#ed7953"
            ],
            [
             0.7777777777777778,
             "#fb9f3a"
            ],
            [
             0.8888888888888888,
             "#fdca26"
            ],
            [
             1,
             "#f0f921"
            ]
           ],
           "sequentialminus": [
            [
             0,
             "#0d0887"
            ],
            [
             0.1111111111111111,
             "#46039f"
            ],
            [
             0.2222222222222222,
             "#7201a8"
            ],
            [
             0.3333333333333333,
             "#9c179e"
            ],
            [
             0.4444444444444444,
             "#bd3786"
            ],
            [
             0.5555555555555556,
             "#d8576b"
            ],
            [
             0.6666666666666666,
             "#ed7953"
            ],
            [
             0.7777777777777778,
             "#fb9f3a"
            ],
            [
             0.8888888888888888,
             "#fdca26"
            ],
            [
             1,
             "#f0f921"
            ]
           ]
          },
          "colorway": [
           "#636efa",
           "#EF553B",
           "#00cc96",
           "#ab63fa",
           "#FFA15A",
           "#19d3f3",
           "#FF6692",
           "#B6E880",
           "#FF97FF",
           "#FECB52"
          ],
          "font": {
           "color": "#2a3f5f"
          },
          "geo": {
           "bgcolor": "white",
           "lakecolor": "white",
           "landcolor": "#E5ECF6",
           "showlakes": true,
           "showland": true,
           "subunitcolor": "white"
          },
          "hoverlabel": {
           "align": "left"
          },
          "hovermode": "closest",
          "mapbox": {
           "style": "light"
          },
          "paper_bgcolor": "white",
          "plot_bgcolor": "#E5ECF6",
          "polar": {
           "angularaxis": {
            "gridcolor": "white",
            "linecolor": "white",
            "ticks": ""
           },
           "bgcolor": "#E5ECF6",
           "radialaxis": {
            "gridcolor": "white",
            "linecolor": "white",
            "ticks": ""
           }
          },
          "scene": {
           "xaxis": {
            "backgroundcolor": "#E5ECF6",
            "gridcolor": "white",
            "gridwidth": 2,
            "linecolor": "white",
            "showbackground": true,
            "ticks": "",
            "zerolinecolor": "white"
           },
           "yaxis": {
            "backgroundcolor": "#E5ECF6",
            "gridcolor": "white",
            "gridwidth": 2,
            "linecolor": "white",
            "showbackground": true,
            "ticks": "",
            "zerolinecolor": "white"
           },
           "zaxis": {
            "backgroundcolor": "#E5ECF6",
            "gridcolor": "white",
            "gridwidth": 2,
            "linecolor": "white",
            "showbackground": true,
            "ticks": "",
            "zerolinecolor": "white"
           }
          },
          "shapedefaults": {
           "line": {
            "color": "#2a3f5f"
           }
          },
          "ternary": {
           "aaxis": {
            "gridcolor": "white",
            "linecolor": "white",
            "ticks": ""
           },
           "baxis": {
            "gridcolor": "white",
            "linecolor": "white",
            "ticks": ""
           },
           "bgcolor": "#E5ECF6",
           "caxis": {
            "gridcolor": "white",
            "linecolor": "white",
            "ticks": ""
           }
          },
          "title": {
           "x": 0.05
          },
          "xaxis": {
           "automargin": true,
           "gridcolor": "white",
           "linecolor": "white",
           "ticks": "",
           "title": {
            "standoff": 15
           },
           "zerolinecolor": "white",
           "zerolinewidth": 2
          },
          "yaxis": {
           "automargin": true,
           "gridcolor": "white",
           "linecolor": "white",
           "ticks": "",
           "title": {
            "standoff": 15
           },
           "zerolinecolor": "white",
           "zerolinewidth": 2
          }
         }
        },
        "xaxis": {
         "anchor": "y",
         "domain": [
          0,
          1
         ],
         "title": {
          "text": "revenue"
         }
        },
        "yaxis": {
         "anchor": "x",
         "domain": [
          0,
          1
         ],
         "title": {
          "text": "main_genre"
         }
        }
       }
      }
     },
     "metadata": {},
     "output_type": "display_data"
    }
   ],
   "source": [
    "# 영화의 장르가 흥행 수익과 관련이 있다고 생각되므로 흥행 수익이 좋은 장르를 확인해 보겠습니다.\n",
    "fig = px.box(data_frame=df, x='revenue', y='main_genre', hover_name='title')\n",
    "fig.show()"
   ]
  },
  {
   "cell_type": "markdown",
   "metadata": {},
   "source": [
    "###### 액션, 드라마 등 장르의 히트작이 눈에 띄지만 중앙값이나 Q1~Q3구간이 특별이 높아 보이지는 않습니다. "
   ]
  },
  {
   "cell_type": "code",
   "execution_count": 87,
   "metadata": {},
   "outputs": [],
   "source": [
    "# 장르별 흥행 수익의 평균과 합계를를 확인해 보겠습니다. \n",
    "genre_avg_revenue = df.groupby('main_genre')[['revenue']].mean().reset_index()\n",
    "genre_sum_revenue = df.groupby('main_genre')[['revenue']].sum().reset_index()"
   ]
  },
  {
   "cell_type": "code",
   "execution_count": 88,
   "metadata": {},
   "outputs": [
    {
     "data": {
      "application/vnd.plotly.v1+json": {
       "config": {
        "plotlyServerURL": "https://plot.ly"
       },
       "data": [
        {
         "name": "avg",
         "type": "bar",
         "x": [
          "Action",
          "Adventure",
          "Animation",
          "Comedy",
          "Crime",
          "Documentary",
          "Drama",
          "Family",
          "Fantasy",
          "Foreign",
          "History",
          "Horror",
          "Music",
          "Mystery",
          "Romance",
          "Science Fiction",
          "TV Movie",
          "Thriller",
          "War",
          "Western"
         ],
         "xaxis": "x",
         "y": [
          136325649.7908012,
          227757396.31528664,
          275333982.6574074,
          66776649.78094059,
          54791465.843023255,
          15578717.34,
          58434000.598719314,
          212557685.80952382,
          162871983.86792454,
          111300,
          86638115,
          54918909.38271605,
          39922966.222222224,
          88775851.65625,
          81041450.75581396,
          183842570.17045453,
          0,
          78224720.90666667,
          73962354.28571428,
          55766623.458333336
         ],
         "yaxis": "y"
        },
        {
         "name": "sum",
         "type": "bar",
         "x": [
          "Action",
          "Adventure",
          "Animation",
          "Comedy",
          "Crime",
          "Documentary",
          "Drama",
          "Family",
          "Fantasy",
          "Foreign",
          "History",
          "Horror",
          "Music",
          "Mystery",
          "Romance",
          "Science Fiction",
          "TV Movie",
          "Thriller",
          "War",
          "Western"
         ],
         "xaxis": "x2",
         "y": [
          91883487959,
          71515822443,
          29736070127,
          53955533023,
          9424132125,
          778935867,
          54752658561,
          8927422804,
          17264430290,
          111300,
          1819400415,
          13345294980,
          1077920088,
          2840827253,
          6969564765,
          16178146175,
          0,
          11733708136,
          1553209440,
          1338398963
         ],
         "yaxis": "y2"
        }
       ],
       "layout": {
        "annotations": [
         {
          "font": {
           "size": 16
          },
          "showarrow": false,
          "text": "장르별 흥행 수익 평균",
          "x": 0.225,
          "xanchor": "center",
          "xref": "paper",
          "y": 1,
          "yanchor": "bottom",
          "yref": "paper"
         },
         {
          "font": {
           "size": 16
          },
          "showarrow": false,
          "text": "장르별 흥행 수익 합계",
          "x": 0.775,
          "xanchor": "center",
          "xref": "paper",
          "y": 1,
          "yanchor": "bottom",
          "yref": "paper"
         }
        ],
        "template": {
         "data": {
          "bar": [
           {
            "error_x": {
             "color": "#2a3f5f"
            },
            "error_y": {
             "color": "#2a3f5f"
            },
            "marker": {
             "line": {
              "color": "#E5ECF6",
              "width": 0.5
             },
             "pattern": {
              "fillmode": "overlay",
              "size": 10,
              "solidity": 0.2
             }
            },
            "type": "bar"
           }
          ],
          "barpolar": [
           {
            "marker": {
             "line": {
              "color": "#E5ECF6",
              "width": 0.5
             },
             "pattern": {
              "fillmode": "overlay",
              "size": 10,
              "solidity": 0.2
             }
            },
            "type": "barpolar"
           }
          ],
          "carpet": [
           {
            "aaxis": {
             "endlinecolor": "#2a3f5f",
             "gridcolor": "white",
             "linecolor": "white",
             "minorgridcolor": "white",
             "startlinecolor": "#2a3f5f"
            },
            "baxis": {
             "endlinecolor": "#2a3f5f",
             "gridcolor": "white",
             "linecolor": "white",
             "minorgridcolor": "white",
             "startlinecolor": "#2a3f5f"
            },
            "type": "carpet"
           }
          ],
          "choropleth": [
           {
            "colorbar": {
             "outlinewidth": 0,
             "ticks": ""
            },
            "type": "choropleth"
           }
          ],
          "contour": [
           {
            "colorbar": {
             "outlinewidth": 0,
             "ticks": ""
            },
            "colorscale": [
             [
              0,
              "#0d0887"
             ],
             [
              0.1111111111111111,
              "#46039f"
             ],
             [
              0.2222222222222222,
              "#7201a8"
             ],
             [
              0.3333333333333333,
              "#9c179e"
             ],
             [
              0.4444444444444444,
              "#bd3786"
             ],
             [
              0.5555555555555556,
              "#d8576b"
             ],
             [
              0.6666666666666666,
              "#ed7953"
             ],
             [
              0.7777777777777778,
              "#fb9f3a"
             ],
             [
              0.8888888888888888,
              "#fdca26"
             ],
             [
              1,
              "#f0f921"
             ]
            ],
            "type": "contour"
           }
          ],
          "contourcarpet": [
           {
            "colorbar": {
             "outlinewidth": 0,
             "ticks": ""
            },
            "type": "contourcarpet"
           }
          ],
          "heatmap": [
           {
            "colorbar": {
             "outlinewidth": 0,
             "ticks": ""
            },
            "colorscale": [
             [
              0,
              "#0d0887"
             ],
             [
              0.1111111111111111,
              "#46039f"
             ],
             [
              0.2222222222222222,
              "#7201a8"
             ],
             [
              0.3333333333333333,
              "#9c179e"
             ],
             [
              0.4444444444444444,
              "#bd3786"
             ],
             [
              0.5555555555555556,
              "#d8576b"
             ],
             [
              0.6666666666666666,
              "#ed7953"
             ],
             [
              0.7777777777777778,
              "#fb9f3a"
             ],
             [
              0.8888888888888888,
              "#fdca26"
             ],
             [
              1,
              "#f0f921"
             ]
            ],
            "type": "heatmap"
           }
          ],
          "heatmapgl": [
           {
            "colorbar": {
             "outlinewidth": 0,
             "ticks": ""
            },
            "colorscale": [
             [
              0,
              "#0d0887"
             ],
             [
              0.1111111111111111,
              "#46039f"
             ],
             [
              0.2222222222222222,
              "#7201a8"
             ],
             [
              0.3333333333333333,
              "#9c179e"
             ],
             [
              0.4444444444444444,
              "#bd3786"
             ],
             [
              0.5555555555555556,
              "#d8576b"
             ],
             [
              0.6666666666666666,
              "#ed7953"
             ],
             [
              0.7777777777777778,
              "#fb9f3a"
             ],
             [
              0.8888888888888888,
              "#fdca26"
             ],
             [
              1,
              "#f0f921"
             ]
            ],
            "type": "heatmapgl"
           }
          ],
          "histogram": [
           {
            "marker": {
             "pattern": {
              "fillmode": "overlay",
              "size": 10,
              "solidity": 0.2
             }
            },
            "type": "histogram"
           }
          ],
          "histogram2d": [
           {
            "colorbar": {
             "outlinewidth": 0,
             "ticks": ""
            },
            "colorscale": [
             [
              0,
              "#0d0887"
             ],
             [
              0.1111111111111111,
              "#46039f"
             ],
             [
              0.2222222222222222,
              "#7201a8"
             ],
             [
              0.3333333333333333,
              "#9c179e"
             ],
             [
              0.4444444444444444,
              "#bd3786"
             ],
             [
              0.5555555555555556,
              "#d8576b"
             ],
             [
              0.6666666666666666,
              "#ed7953"
             ],
             [
              0.7777777777777778,
              "#fb9f3a"
             ],
             [
              0.8888888888888888,
              "#fdca26"
             ],
             [
              1,
              "#f0f921"
             ]
            ],
            "type": "histogram2d"
           }
          ],
          "histogram2dcontour": [
           {
            "colorbar": {
             "outlinewidth": 0,
             "ticks": ""
            },
            "colorscale": [
             [
              0,
              "#0d0887"
             ],
             [
              0.1111111111111111,
              "#46039f"
             ],
             [
              0.2222222222222222,
              "#7201a8"
             ],
             [
              0.3333333333333333,
              "#9c179e"
             ],
             [
              0.4444444444444444,
              "#bd3786"
             ],
             [
              0.5555555555555556,
              "#d8576b"
             ],
             [
              0.6666666666666666,
              "#ed7953"
             ],
             [
              0.7777777777777778,
              "#fb9f3a"
             ],
             [
              0.8888888888888888,
              "#fdca26"
             ],
             [
              1,
              "#f0f921"
             ]
            ],
            "type": "histogram2dcontour"
           }
          ],
          "mesh3d": [
           {
            "colorbar": {
             "outlinewidth": 0,
             "ticks": ""
            },
            "type": "mesh3d"
           }
          ],
          "parcoords": [
           {
            "line": {
             "colorbar": {
              "outlinewidth": 0,
              "ticks": ""
             }
            },
            "type": "parcoords"
           }
          ],
          "pie": [
           {
            "automargin": true,
            "type": "pie"
           }
          ],
          "scatter": [
           {
            "fillpattern": {
             "fillmode": "overlay",
             "size": 10,
             "solidity": 0.2
            },
            "type": "scatter"
           }
          ],
          "scatter3d": [
           {
            "line": {
             "colorbar": {
              "outlinewidth": 0,
              "ticks": ""
             }
            },
            "marker": {
             "colorbar": {
              "outlinewidth": 0,
              "ticks": ""
             }
            },
            "type": "scatter3d"
           }
          ],
          "scattercarpet": [
           {
            "marker": {
             "colorbar": {
              "outlinewidth": 0,
              "ticks": ""
             }
            },
            "type": "scattercarpet"
           }
          ],
          "scattergeo": [
           {
            "marker": {
             "colorbar": {
              "outlinewidth": 0,
              "ticks": ""
             }
            },
            "type": "scattergeo"
           }
          ],
          "scattergl": [
           {
            "marker": {
             "colorbar": {
              "outlinewidth": 0,
              "ticks": ""
             }
            },
            "type": "scattergl"
           }
          ],
          "scattermapbox": [
           {
            "marker": {
             "colorbar": {
              "outlinewidth": 0,
              "ticks": ""
             }
            },
            "type": "scattermapbox"
           }
          ],
          "scatterpolar": [
           {
            "marker": {
             "colorbar": {
              "outlinewidth": 0,
              "ticks": ""
             }
            },
            "type": "scatterpolar"
           }
          ],
          "scatterpolargl": [
           {
            "marker": {
             "colorbar": {
              "outlinewidth": 0,
              "ticks": ""
             }
            },
            "type": "scatterpolargl"
           }
          ],
          "scatterternary": [
           {
            "marker": {
             "colorbar": {
              "outlinewidth": 0,
              "ticks": ""
             }
            },
            "type": "scatterternary"
           }
          ],
          "surface": [
           {
            "colorbar": {
             "outlinewidth": 0,
             "ticks": ""
            },
            "colorscale": [
             [
              0,
              "#0d0887"
             ],
             [
              0.1111111111111111,
              "#46039f"
             ],
             [
              0.2222222222222222,
              "#7201a8"
             ],
             [
              0.3333333333333333,
              "#9c179e"
             ],
             [
              0.4444444444444444,
              "#bd3786"
             ],
             [
              0.5555555555555556,
              "#d8576b"
             ],
             [
              0.6666666666666666,
              "#ed7953"
             ],
             [
              0.7777777777777778,
              "#fb9f3a"
             ],
             [
              0.8888888888888888,
              "#fdca26"
             ],
             [
              1,
              "#f0f921"
             ]
            ],
            "type": "surface"
           }
          ],
          "table": [
           {
            "cells": {
             "fill": {
              "color": "#EBF0F8"
             },
             "line": {
              "color": "white"
             }
            },
            "header": {
             "fill": {
              "color": "#C8D4E3"
             },
             "line": {
              "color": "white"
             }
            },
            "type": "table"
           }
          ]
         },
         "layout": {
          "annotationdefaults": {
           "arrowcolor": "#2a3f5f",
           "arrowhead": 0,
           "arrowwidth": 1
          },
          "autotypenumbers": "strict",
          "coloraxis": {
           "colorbar": {
            "outlinewidth": 0,
            "ticks": ""
           }
          },
          "colorscale": {
           "diverging": [
            [
             0,
             "#8e0152"
            ],
            [
             0.1,
             "#c51b7d"
            ],
            [
             0.2,
             "#de77ae"
            ],
            [
             0.3,
             "#f1b6da"
            ],
            [
             0.4,
             "#fde0ef"
            ],
            [
             0.5,
             "#f7f7f7"
            ],
            [
             0.6,
             "#e6f5d0"
            ],
            [
             0.7,
             "#b8e186"
            ],
            [
             0.8,
             "#7fbc41"
            ],
            [
             0.9,
             "#4d9221"
            ],
            [
             1,
             "#276419"
            ]
           ],
           "sequential": [
            [
             0,
             "#0d0887"
            ],
            [
             0.1111111111111111,
             "#46039f"
            ],
            [
             0.2222222222222222,
             "#7201a8"
            ],
            [
             0.3333333333333333,
             "#9c179e"
            ],
            [
             0.4444444444444444,
             "#bd3786"
            ],
            [
             0.5555555555555556,
             "#d8576b"
            ],
            [
             0.6666666666666666,
             "#ed7953"
            ],
            [
             0.7777777777777778,
             "#fb9f3a"
            ],
            [
             0.8888888888888888,
             "#fdca26"
            ],
            [
             1,
             "#f0f921"
            ]
           ],
           "sequentialminus": [
            [
             0,
             "#0d0887"
            ],
            [
             0.1111111111111111,
             "#46039f"
            ],
            [
             0.2222222222222222,
             "#7201a8"
            ],
            [
             0.3333333333333333,
             "#9c179e"
            ],
            [
             0.4444444444444444,
             "#bd3786"
            ],
            [
             0.5555555555555556,
             "#d8576b"
            ],
            [
             0.6666666666666666,
             "#ed7953"
            ],
            [
             0.7777777777777778,
             "#fb9f3a"
            ],
            [
             0.8888888888888888,
             "#fdca26"
            ],
            [
             1,
             "#f0f921"
            ]
           ]
          },
          "colorway": [
           "#636efa",
           "#EF553B",
           "#00cc96",
           "#ab63fa",
           "#FFA15A",
           "#19d3f3",
           "#FF6692",
           "#B6E880",
           "#FF97FF",
           "#FECB52"
          ],
          "font": {
           "color": "#2a3f5f"
          },
          "geo": {
           "bgcolor": "white",
           "lakecolor": "white",
           "landcolor": "#E5ECF6",
           "showlakes": true,
           "showland": true,
           "subunitcolor": "white"
          },
          "hoverlabel": {
           "align": "left"
          },
          "hovermode": "closest",
          "mapbox": {
           "style": "light"
          },
          "paper_bgcolor": "white",
          "plot_bgcolor": "#E5ECF6",
          "polar": {
           "angularaxis": {
            "gridcolor": "white",
            "linecolor": "white",
            "ticks": ""
           },
           "bgcolor": "#E5ECF6",
           "radialaxis": {
            "gridcolor": "white",
            "linecolor": "white",
            "ticks": ""
           }
          },
          "scene": {
           "xaxis": {
            "backgroundcolor": "#E5ECF6",
            "gridcolor": "white",
            "gridwidth": 2,
            "linecolor": "white",
            "showbackground": true,
            "ticks": "",
            "zerolinecolor": "white"
           },
           "yaxis": {
            "backgroundcolor": "#E5ECF6",
            "gridcolor": "white",
            "gridwidth": 2,
            "linecolor": "white",
            "showbackground": true,
            "ticks": "",
            "zerolinecolor": "white"
           },
           "zaxis": {
            "backgroundcolor": "#E5ECF6",
            "gridcolor": "white",
            "gridwidth": 2,
            "linecolor": "white",
            "showbackground": true,
            "ticks": "",
            "zerolinecolor": "white"
           }
          },
          "shapedefaults": {
           "line": {
            "color": "#2a3f5f"
           }
          },
          "ternary": {
           "aaxis": {
            "gridcolor": "white",
            "linecolor": "white",
            "ticks": ""
           },
           "baxis": {
            "gridcolor": "white",
            "linecolor": "white",
            "ticks": ""
           },
           "bgcolor": "#E5ECF6",
           "caxis": {
            "gridcolor": "white",
            "linecolor": "white",
            "ticks": ""
           }
          },
          "title": {
           "x": 0.05
          },
          "xaxis": {
           "automargin": true,
           "gridcolor": "white",
           "linecolor": "white",
           "ticks": "",
           "title": {
            "standoff": 15
           },
           "zerolinecolor": "white",
           "zerolinewidth": 2
          },
          "yaxis": {
           "automargin": true,
           "gridcolor": "white",
           "linecolor": "white",
           "ticks": "",
           "title": {
            "standoff": 15
           },
           "zerolinecolor": "white",
           "zerolinewidth": 2
          }
         }
        },
        "xaxis": {
         "anchor": "y",
         "domain": [
          0,
          0.45
         ]
        },
        "xaxis2": {
         "anchor": "y2",
         "domain": [
          0.55,
          1
         ]
        },
        "yaxis": {
         "anchor": "x",
         "domain": [
          0,
          1
         ]
        },
        "yaxis2": {
         "anchor": "x2",
         "domain": [
          0,
          1
         ]
        }
       }
      }
     },
     "metadata": {},
     "output_type": "display_data"
    }
   ],
   "source": [
    "from plotly.subplots import make_subplots\n",
    "import plotly.graph_objects as go\n",
    "\n",
    "fig = make_subplots(rows=1, cols=2, subplot_titles=['장르별 흥행 수익 평균', '장르별 흥행 수익 합계'])\n",
    "fig.add_trace(go.Bar(x=genre_avg_revenue['main_genre'], y=genre_avg_revenue['revenue'], name='avg'), row=1, col=1)\n",
    "fig.add_trace(go.Bar(x=genre_sum_revenue['main_genre'], y=genre_sum_revenue['revenue'], name='sum'), row=1, col=2)\n",
    "fig.show()"
   ]
  },
  {
   "cell_type": "markdown",
   "metadata": {},
   "source": [
    "###### 장르별 수익 평균은 애니메이션 > 어드벤처 > 가족 > SF > 판타지 > 액션 순\n",
    "###### 장르별 수익 합계는 액션 > 어드벤처 > 드라마 > 코미디 > 애니메이션 순으로 나타납니다. "
   ]
  },
  {
   "cell_type": "markdown",
   "metadata": {},
   "source": [
    "#### 분석 5: 예산/투표수/평점과 흥행 수익의 관계"
   ]
  },
  {
   "cell_type": "markdown",
   "metadata": {},
   "source": [
    "#### 분석 6: ROI 관점에서 흥행이 성공한 영화의 특징"
   ]
  },
  {
   "cell_type": "markdown",
   "metadata": {},
   "source": [
    "## Analyse in Progress (24.12.13.)"
   ]
  },
  {
   "cell_type": "markdown",
   "metadata": {},
   "source": []
  }
 ],
 "metadata": {
  "kernelspec": {
   "display_name": "base",
   "language": "python",
   "name": "python3"
  },
  "language_info": {
   "codemirror_mode": {
    "name": "ipython",
    "version": 3
   },
   "file_extension": ".py",
   "mimetype": "text/x-python",
   "name": "python",
   "nbconvert_exporter": "python",
   "pygments_lexer": "ipython3",
   "version": "3.12.3"
  }
 },
 "nbformat": 4,
 "nbformat_minor": 2
}
